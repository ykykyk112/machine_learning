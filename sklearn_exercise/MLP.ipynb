{
  "nbformat": 4,
  "nbformat_minor": 0,
  "metadata": {
    "colab": {
      "name": "MLP.ipynb",
      "provenance": [],
      "authorship_tag": "ABX9TyMlrmaVkERtaLuSOQFFwmmN",
      "include_colab_link": true
    },
    "kernelspec": {
      "name": "python3",
      "display_name": "Python 3"
    },
    "accelerator": "GPU"
  },
  "cells": [
    {
      "cell_type": "markdown",
      "metadata": {
        "id": "view-in-github",
        "colab_type": "text"
      },
      "source": [
        "<a href=\"https://colab.research.google.com/github/ykykyk112/machine_learning/blob/main/sklearn_exercise/MLP.ipynb\" target=\"_parent\"><img src=\"https://colab.research.google.com/assets/colab-badge.svg\" alt=\"Open In Colab\"/></a>"
      ]
    },
    {
      "cell_type": "code",
      "metadata": {
        "id": "N1bGbl_N3RoX"
      },
      "source": [
        "import torch\r\n",
        "from torch import nn, optim\r\n",
        "from torch.nn import functional as F\r\n",
        "import matplotlib.pyplot as plt\r\n",
        "import numpy as np\r\n",
        "from torch.utils.data import DataLoader, random_split\r\n",
        "from torchvision import datasets, transforms\r\n",
        "from tqdm import tqdm"
      ],
      "execution_count": 21,
      "outputs": []
    },
    {
      "cell_type": "code",
      "metadata": {
        "colab": {
          "base_uri": "https://localhost:8080/"
        },
        "id": "wVoOcy1k4eAX",
        "outputId": "15b228fa-de03-44a4-ea2a-03f4037bdfce"
      },
      "source": [
        "torch.cuda.is_available()"
      ],
      "execution_count": 6,
      "outputs": [
        {
          "output_type": "execute_result",
          "data": {
            "text/plain": [
              "True"
            ]
          },
          "metadata": {
            "tags": []
          },
          "execution_count": 6
        }
      ]
    },
    {
      "cell_type": "code",
      "metadata": {
        "id": "sCr6BQv445wN"
      },
      "source": [
        "mean = 0.5\r\n",
        "sigma = 0.5\r\n",
        "transform = transforms.Compose([transforms.ToTensor(), transforms.Normalize([mean], [sigma])])"
      ],
      "execution_count": 7,
      "outputs": []
    },
    {
      "cell_type": "code",
      "metadata": {
        "id": "SiKJqCCZ5tXc"
      },
      "source": [
        "train_set = datasets.MNIST(root='./data', download=True, train=True, transform=transform)\r\n",
        "test_set = datasets.MNIST(root='./data', download=True, train=False, transform=transform)"
      ],
      "execution_count": 61,
      "outputs": []
    },
    {
      "cell_type": "code",
      "metadata": {
        "colab": {
          "base_uri": "https://localhost:8080/"
        },
        "id": "5jaMtV-R5-eN",
        "outputId": "a8e7a7bf-d394-40c8-9aae-9f9c09c1001e"
      },
      "source": [
        "print('number of training set :', len(train_set))\r\n",
        "print('number of test set :', len(test_set))"
      ],
      "execution_count": 65,
      "outputs": [
        {
          "output_type": "stream",
          "text": [
            "number of training set : 60000\n",
            "number of test set : 10000\n"
          ],
          "name": "stdout"
        }
      ]
    },
    {
      "cell_type": "code",
      "metadata": {
        "id": "w38TNbjG6AZ1"
      },
      "source": [
        "train_loader = DataLoader(dataset = train_set, batch_size=100, shuffle=True, num_workers=2)\r\n",
        "test_loader = DataLoader(dataset = test_set, batch_size=100, shuffle=True, num_workers=2)"
      ],
      "execution_count": 64,
      "outputs": []
    },
    {
      "cell_type": "code",
      "metadata": {
        "id": "SXCgF-Go6hq-"
      },
      "source": [
        "class NewModel(nn.Module):\r\n",
        "    def __init__(self, D_in, H_1, H_2, D_out):\r\n",
        "        super(NewModel, self).__init__()\r\n",
        "        self.layer1 = nn.Linear(D_in, H_1)\r\n",
        "        self.layer2 = nn.Linear(H_1, H_2)\r\n",
        "        self.layer3 = nn.Linear(H_2, D_out)\r\n",
        "\r\n",
        "    def forward(self, x):\r\n",
        "        x = F.relu(self.layer1(x))\r\n",
        "        x = F.relu(self.layer2(x))\r\n",
        "        x = self.layer3(x)\r\n",
        "        return x"
      ],
      "execution_count": 66,
      "outputs": []
    },
    {
      "cell_type": "code",
      "metadata": {
        "colab": {
          "base_uri": "https://localhost:8080/"
        },
        "id": "WEy2wt9N6oaE",
        "outputId": "6b42edd7-ebc4-4d0f-8247-84fefffa00ce"
      },
      "source": [
        "train_iter = iter(train_loader)\r\n",
        "image, label = train_iter.next()\r\n",
        "image.shape"
      ],
      "execution_count": 40,
      "outputs": [
        {
          "output_type": "execute_result",
          "data": {
            "text/plain": [
              "torch.Size([100, 1, 28, 28])"
            ]
          },
          "metadata": {
            "tags": []
          },
          "execution_count": 40
        }
      ]
    },
    {
      "cell_type": "code",
      "metadata": {
        "id": "WVDPqH8m7wJM"
      },
      "source": [
        "model = NewModel(784, 125, 64, 10)"
      ],
      "execution_count": 67,
      "outputs": []
    },
    {
      "cell_type": "code",
      "metadata": {
        "id": "O3FvGTFz79Zs"
      },
      "source": [
        "running_loss_history = []\r\n",
        "running_correct_history = []\r\n",
        "valid_loss_history = []\r\n",
        "valid_correct_history = []"
      ],
      "execution_count": 89,
      "outputs": []
    },
    {
      "cell_type": "code",
      "metadata": {
        "id": "REI4N89Y8bKl"
      },
      "source": [
        "criterion = nn.CrossEntropyLoss()"
      ],
      "execution_count": 78,
      "outputs": []
    },
    {
      "cell_type": "code",
      "metadata": {
        "id": "Arwbqjzu8j9S"
      },
      "source": [
        "optimizer = optim.Adam(params=model.parameters(), lr = 0.0005)"
      ],
      "execution_count": 91,
      "outputs": []
    },
    {
      "cell_type": "code",
      "metadata": {
        "colab": {
          "base_uri": "https://localhost:8080/"
        },
        "id": "VOnLg3sI8HkE",
        "outputId": "5befa27c-12e8-461d-b5d2-2eaa857eb061"
      },
      "source": [
        "epoch = 12\r\n",
        "for i in tqdm(range(epoch)):\r\n",
        "    \r\n",
        "    running_loss, valid_loss = 0.0, 0.0\r\n",
        "    running_correct, valid_correct = 0.0, 0.0\r\n",
        "\r\n",
        "    for train_input, train_label in train_loader:\r\n",
        "        train_input = train_input.view(train_input.shape[0], -1)\r\n",
        "        train_output = model.forward(train_input)\r\n",
        "        # caculating loss\r\n",
        "        loss = criterion(train_output, train_label)\r\n",
        "        # initialize gradient\r\n",
        "        optimizer.zero_grad()\r\n",
        "        # backpropagation\r\n",
        "        loss.backward()\r\n",
        "        # update weight\r\n",
        "        optimizer.step()\r\n",
        "        _, running_pred = torch.max(train_output, 1)\r\n",
        "        # get total loss, total correction in one epoch\r\n",
        "        running_loss += loss.item()\r\n",
        "        running_correct += torch.sum(running_pred == train_label.data)\r\n",
        "    \r\n",
        "    avg_running_loss = running_loss/len(train_loader)\r\n",
        "    running_loss_history.append(avg_running_loss)\r\n",
        "\r\n",
        "    avg_running_correct = running_correct/len(train_loader)\r\n",
        "    running_correct_history.append(avg_running_correct)\r\n",
        "\r\n",
        "    with torch.no_grad():\r\n",
        "        for valid_input, valid_label in test_loader:\r\n",
        "            valid_input = valid_input.view(valid_input.shape[0], -1)\r\n",
        "            valid_output = model(valid_input)\r\n",
        "            v_loss = criterion(valid_output, valid_label)\r\n",
        "            _, valid_pred = torch.max(valid_output, 1)\r\n",
        "\r\n",
        "            valid_loss += v_loss.item()\r\n",
        "            valid_correct += torch.sum(valid_pred == valid_label.data)\r\n",
        "\r\n",
        "        avg_valid_loss = valid_loss/len(test_loader)\r\n",
        "        valid_loss_history.append(avg_valid_loss)\r\n",
        "\r\n",
        "        avg_valid_correct = valid_correct/len(test_loader)\r\n",
        "        valid_correct_history.append(avg_valid_correct)\r\n",
        "    \r\n",
        "    print('{0} epoch / train_loss : {1:.7f}, train_score : {2:.7f}, valid_loss : {3:.7f}, valid_score : {4:.7f}'.format(i+1, avg_running_loss, avg_running_correct, avg_valid_loss, avg_valid_correct))"
      ],
      "execution_count": 92,
      "outputs": [
        {
          "output_type": "stream",
          "text": [
            "\n",
            "\n",
            "  0%|          | 0/12 [00:00<?, ?it/s]\u001b[A\u001b[A\n",
            "\n",
            "  8%|▊         | 1/12 [00:12<02:18, 12.62s/it]\u001b[A\u001b[A"
          ],
          "name": "stderr"
        },
        {
          "output_type": "stream",
          "text": [
            "1 epoch / train_loss : 0.0150848, train_score : 99.4950027, valid_loss : 0.0913767, valid_score : 97.8300018\n"
          ],
          "name": "stdout"
        },
        {
          "output_type": "stream",
          "text": [
            "\n",
            "\n",
            " 17%|█▋        | 2/12 [00:25<02:06, 12.60s/it]\u001b[A\u001b[A"
          ],
          "name": "stderr"
        },
        {
          "output_type": "stream",
          "text": [
            "2 epoch / train_loss : 0.0149306, train_score : 99.5016632, valid_loss : 0.0991672, valid_score : 97.9100037\n"
          ],
          "name": "stdout"
        },
        {
          "output_type": "stream",
          "text": [
            "\n",
            "\n",
            " 25%|██▌       | 3/12 [00:37<01:53, 12.60s/it]\u001b[A\u001b[A"
          ],
          "name": "stderr"
        },
        {
          "output_type": "stream",
          "text": [
            "3 epoch / train_loss : 0.0098302, train_score : 99.6783371, valid_loss : 0.0991900, valid_score : 97.8499985\n"
          ],
          "name": "stdout"
        },
        {
          "output_type": "stream",
          "text": [
            "\n",
            "\n",
            " 33%|███▎      | 4/12 [00:50<01:40, 12.62s/it]\u001b[A\u001b[A"
          ],
          "name": "stderr"
        },
        {
          "output_type": "stream",
          "text": [
            "4 epoch / train_loss : 0.0092563, train_score : 99.6900024, valid_loss : 0.1062496, valid_score : 97.7600021\n"
          ],
          "name": "stdout"
        },
        {
          "output_type": "stream",
          "text": [
            "\n",
            "\n",
            " 42%|████▏     | 5/12 [01:03<01:28, 12.66s/it]\u001b[A\u001b[A"
          ],
          "name": "stderr"
        },
        {
          "output_type": "stream",
          "text": [
            "5 epoch / train_loss : 0.0098064, train_score : 99.6733322, valid_loss : 0.1072091, valid_score : 97.7799988\n"
          ],
          "name": "stdout"
        },
        {
          "output_type": "stream",
          "text": [
            "\n",
            "\n",
            " 50%|█████     | 6/12 [01:15<01:16, 12.68s/it]\u001b[A\u001b[A"
          ],
          "name": "stderr"
        },
        {
          "output_type": "stream",
          "text": [
            "6 epoch / train_loss : 0.0105316, train_score : 99.6366653, valid_loss : 0.1035426, valid_score : 97.8899994\n"
          ],
          "name": "stdout"
        },
        {
          "output_type": "stream",
          "text": [
            "\n",
            "\n",
            " 58%|█████▊    | 7/12 [01:28<01:03, 12.66s/it]\u001b[A\u001b[A"
          ],
          "name": "stderr"
        },
        {
          "output_type": "stream",
          "text": [
            "7 epoch / train_loss : 0.0118325, train_score : 99.5983353, valid_loss : 0.1054160, valid_score : 97.7799988\n"
          ],
          "name": "stdout"
        },
        {
          "output_type": "stream",
          "text": [
            "\n",
            "\n",
            " 67%|██████▋   | 8/12 [01:41<00:50, 12.66s/it]\u001b[A\u001b[A"
          ],
          "name": "stderr"
        },
        {
          "output_type": "stream",
          "text": [
            "8 epoch / train_loss : 0.0099228, train_score : 99.6699982, valid_loss : 0.1177280, valid_score : 97.5699997\n"
          ],
          "name": "stdout"
        },
        {
          "output_type": "stream",
          "text": [
            "\n",
            "\n",
            " 75%|███████▌  | 9/12 [01:53<00:37, 12.65s/it]\u001b[A\u001b[A"
          ],
          "name": "stderr"
        },
        {
          "output_type": "stream",
          "text": [
            "9 epoch / train_loss : 0.0110487, train_score : 99.6133347, valid_loss : 0.1121552, valid_score : 97.6699982\n"
          ],
          "name": "stdout"
        },
        {
          "output_type": "stream",
          "text": [
            "\n",
            "\n",
            " 83%|████████▎ | 10/12 [02:06<00:25, 12.64s/it]\u001b[A\u001b[A"
          ],
          "name": "stderr"
        },
        {
          "output_type": "stream",
          "text": [
            "10 epoch / train_loss : 0.0065697, train_score : 99.7816696, valid_loss : 0.1078132, valid_score : 97.9100037\n"
          ],
          "name": "stdout"
        },
        {
          "output_type": "stream",
          "text": [
            "\n",
            "\n",
            " 92%|█████████▏| 11/12 [02:18<00:12, 12.60s/it]\u001b[A\u001b[A"
          ],
          "name": "stderr"
        },
        {
          "output_type": "stream",
          "text": [
            "11 epoch / train_loss : 0.0128356, train_score : 99.5483322, valid_loss : 0.1097379, valid_score : 97.8799973\n"
          ],
          "name": "stdout"
        },
        {
          "output_type": "stream",
          "text": [
            "\n",
            "\n",
            "100%|██████████| 12/12 [02:31<00:00, 12.62s/it]"
          ],
          "name": "stderr"
        },
        {
          "output_type": "stream",
          "text": [
            "12 epoch / train_loss : 0.0067579, train_score : 99.7733307, valid_loss : 0.1215448, valid_score : 97.6800003\n"
          ],
          "name": "stdout"
        },
        {
          "output_type": "stream",
          "text": [
            "\n"
          ],
          "name": "stderr"
        }
      ]
    },
    {
      "cell_type": "code",
      "metadata": {
        "colab": {
          "base_uri": "https://localhost:8080/",
          "height": 283
        },
        "id": "ov0vNOyvAScO",
        "outputId": "570c2d62-cbe0-4369-8413-1858863e69f2"
      },
      "source": [
        "plt.plot(running_loss_history, label = 'training loss')\r\n",
        "plt.plot(valid_loss_history, label = 'validation loss')\r\n",
        "plt.legend()"
      ],
      "execution_count": 93,
      "outputs": [
        {
          "output_type": "execute_result",
          "data": {
            "text/plain": [
              "<matplotlib.legend.Legend at 0x7f9e80aadb50>"
            ]
          },
          "metadata": {
            "tags": []
          },
          "execution_count": 93
        },
        {
          "output_type": "display_data",
          "data": {
            "image/png": "[encoded data removed]",
            "text/plain": [
              "<Figure size 432x288 with 1 Axes>"
            ]
          },
          "metadata": {
            "tags": [],
            "needs_background": "light"
          }
        }
      ]
    },
    {
      "cell_type": "code",
      "metadata": {
        "colab": {
          "base_uri": "https://localhost:8080/",
          "height": 283
        },
        "id": "36tG0ZIaBDK2",
        "outputId": "1a8a47d5-f139-4940-f1e7-a5b4dd26458e"
      },
      "source": [
        "plt.plot(running_correct_history, label = 'training score')\r\n",
        "plt.plot(valid_correct_history, label = 'validation score')\r\n",
        "plt.legend()"
      ],
      "execution_count": 94,
      "outputs": [
        {
          "output_type": "execute_result",
          "data": {
            "text/plain": [
              "<matplotlib.legend.Legend at 0x7f9e83a63a50>"
            ]
          },
          "metadata": {
            "tags": []
          },
          "execution_count": 94
        },
        {
          "output_type": "display_data",
          "data": {
            "image/png": "[encoded data removed]",
            "text/plain": [
              "<Figure size 432x288 with 1 Axes>"
            ]
          },
          "metadata": {
            "tags": [],
            "needs_background": "light"
          }
        }
      ]
    },
    {
      "cell_type": "code",
      "metadata": {
        "id": "2pwsSVkNMTIf"
      },
      "source": [
        "is_cuda = torch.cuda.is_available()\r\n",
        "device = torch.device('cuda' if is_cuda else 'cpu')"
      ],
      "execution_count": 96,
      "outputs": []
    },
    {
      "cell_type": "code",
      "metadata": {
        "colab": {
          "base_uri": "https://localhost:8080/"
        },
        "id": "IZGpsUNUMkQ7",
        "outputId": "31d789f3-6259-4d69-f586-751e55b1dd6e"
      },
      "source": [
        "is_cuda"
      ],
      "execution_count": 97,
      "outputs": [
        {
          "output_type": "execute_result",
          "data": {
            "text/plain": [
              "True"
            ]
          },
          "metadata": {
            "tags": []
          },
          "execution_count": 97
        }
      ]
    },
    {
      "cell_type": "code",
      "metadata": {
        "colab": {
          "base_uri": "https://localhost:8080/"
        },
        "id": "sFpUUQqaMnZq",
        "outputId": "77da75e8-3573-4ebe-90a9-c366b932cefb"
      },
      "source": [
        "device"
      ],
      "execution_count": 98,
      "outputs": [
        {
          "output_type": "execute_result",
          "data": {
            "text/plain": [
              "device(type='cuda')"
            ]
          },
          "metadata": {
            "tags": []
          },
          "execution_count": 98
        }
      ]
    },
    {
      "cell_type": "code",
      "metadata": {
        "id": "MI2tlp57M-5i"
      },
      "source": [
        "model = model.to(device)"
      ],
      "execution_count": 100,
      "outputs": []
    },
    {
      "cell_type": "code",
      "metadata": {
        "id": "BmpVlek1QaW_"
      },
      "source": [
        "optimizer2 = optim.Adam(model.parameters(), lr = 0.001)\r\n",
        "criterion = nn.CrossEntropyLoss()"
      ],
      "execution_count": 107,
      "outputs": []
    },
    {
      "cell_type": "code",
      "metadata": {
        "colab": {
          "base_uri": "https://localhost:8080/"
        },
        "id": "TNmJ35ewO528",
        "outputId": "65c8bc82-007c-48ba-8006-c0a3cf22ebca"
      },
      "source": [
        "epoch = 12\r\n",
        "for i in tqdm(range(epoch)):\r\n",
        "    \r\n",
        "    running_loss, valid_loss = 0.0, 0.0\r\n",
        "    running_correct, valid_correct = 0.0, 0.0\r\n",
        "\r\n",
        "    for train_input, train_label in train_loader:\r\n",
        "        train_input, train_label = train_input.to(device), train_label.to(device)\r\n",
        "        train_input = train_input.view(train_input.shape[0], -1)\r\n",
        "        train_output = model.forward(train_input)\r\n",
        "        # caculating loss\r\n",
        "        loss = criterion(train_output, train_label)\r\n",
        "        # initialize gradient\r\n",
        "        optimizer2.zero_grad()\r\n",
        "        # backpropagation\r\n",
        "        loss.backward()\r\n",
        "        # update weight\r\n",
        "        optimizer2.step()\r\n",
        "        _, running_pred = torch.max(train_output, 1)\r\n",
        "        # get total loss, total correction in one epoch\r\n",
        "        running_loss += loss.item()\r\n",
        "        running_correct += torch.sum(running_pred == train_label.data)\r\n",
        "    \r\n",
        "    avg_running_loss = running_loss/len(train_loader)\r\n",
        "    running_loss_history.append(avg_running_loss)\r\n",
        "\r\n",
        "    avg_running_correct = running_correct/len(train_loader)\r\n",
        "    running_correct_history.append(avg_running_correct)\r\n",
        "\r\n",
        "    with torch.no_grad():\r\n",
        "        for valid_input, valid_label in test_loader:\r\n",
        "            valid_input, valid_label = valid_input.to(device), valid_label.to(device)\r\n",
        "            valid_input = valid_input.view(valid_input.shape[0], -1)\r\n",
        "            valid_output = model(valid_input)\r\n",
        "            v_loss = criterion(valid_output, valid_label)\r\n",
        "            _, valid_pred = torch.max(valid_output, 1)\r\n",
        "\r\n",
        "            valid_loss += v_loss.item()\r\n",
        "            valid_correct += torch.sum(valid_pred == valid_label.data)\r\n",
        "\r\n",
        "        avg_valid_loss = valid_loss/len(test_loader)\r\n",
        "        valid_loss_history.append(avg_valid_loss)\r\n",
        "\r\n",
        "        avg_valid_correct = valid_correct/len(test_loader)\r\n",
        "        valid_correct_history.append(avg_valid_correct)\r\n",
        "    \r\n",
        "    print('{0} epoch / train_loss : {1:.7f}, train_score : {2:.7f}, valid_loss : {3:.7f}, valid_score : {4:.7f}'.format(i+1, avg_running_loss, avg_running_correct, avg_valid_loss, avg_valid_correct))"
      ],
      "execution_count": 108,
      "outputs": [
        {
          "output_type": "stream",
          "text": [
            "\n",
            "\n",
            "  0%|          | 0/12 [00:00<?, ?it/s]\u001b[A\u001b[A\n",
            "\n",
            "  8%|▊         | 1/12 [00:11<02:11, 11.91s/it]\u001b[A\u001b[A"
          ],
          "name": "stderr"
        },
        {
          "output_type": "stream",
          "text": [
            "1 epoch / train_loss : 0.0290086, train_score : 99.0166702, valid_loss : 0.1273483, valid_score : 97.5000000\n"
          ],
          "name": "stdout"
        },
        {
          "output_type": "stream",
          "text": [
            "\n",
            "\n",
            " 17%|█▋        | 2/12 [00:23<01:59, 11.90s/it]\u001b[A\u001b[A"
          ],
          "name": "stderr"
        },
        {
          "output_type": "stream",
          "text": [
            "2 epoch / train_loss : 0.0250473, train_score : 99.1650009, valid_loss : 0.1461701, valid_score : 97.2999954\n"
          ],
          "name": "stdout"
        },
        {
          "output_type": "stream",
          "text": [
            "\n",
            "\n",
            " 25%|██▌       | 3/12 [00:35<01:46, 11.88s/it]\u001b[A\u001b[A"
          ],
          "name": "stderr"
        },
        {
          "output_type": "stream",
          "text": [
            "3 epoch / train_loss : 0.0238507, train_score : 99.1633377, valid_loss : 0.1265801, valid_score : 97.6699982\n"
          ],
          "name": "stdout"
        },
        {
          "output_type": "stream",
          "text": [
            "\n",
            "\n",
            " 33%|███▎      | 4/12 [00:47<01:34, 11.82s/it]\u001b[A\u001b[A"
          ],
          "name": "stderr"
        },
        {
          "output_type": "stream",
          "text": [
            "4 epoch / train_loss : 0.0297715, train_score : 98.9816666, valid_loss : 0.1160636, valid_score : 97.9399948\n"
          ],
          "name": "stdout"
        },
        {
          "output_type": "stream",
          "text": [
            "\n",
            "\n",
            " 42%|████▏     | 5/12 [00:59<01:22, 11.82s/it]\u001b[A\u001b[A"
          ],
          "name": "stderr"
        },
        {
          "output_type": "stream",
          "text": [
            "5 epoch / train_loss : 0.0226930, train_score : 99.2500000, valid_loss : 0.1335653, valid_score : 97.2500000\n"
          ],
          "name": "stdout"
        },
        {
          "output_type": "stream",
          "text": [
            "\n",
            "\n",
            " 50%|█████     | 6/12 [01:10<01:10, 11.82s/it]\u001b[A\u001b[A"
          ],
          "name": "stderr"
        },
        {
          "output_type": "stream",
          "text": [
            "6 epoch / train_loss : 0.0262312, train_score : 99.1066666, valid_loss : 0.1277186, valid_score : 97.4899979\n"
          ],
          "name": "stdout"
        },
        {
          "output_type": "stream",
          "text": [
            "\n",
            "\n",
            " 58%|█████▊    | 7/12 [01:22<00:59, 11.84s/it]\u001b[A\u001b[A"
          ],
          "name": "stderr"
        },
        {
          "output_type": "stream",
          "text": [
            "7 epoch / train_loss : 0.0213928, train_score : 99.2866669, valid_loss : 0.1303673, valid_score : 97.5000000\n"
          ],
          "name": "stdout"
        },
        {
          "output_type": "stream",
          "text": [
            "\n",
            "\n",
            " 67%|██████▋   | 8/12 [01:34<00:47, 11.82s/it]\u001b[A\u001b[A"
          ],
          "name": "stderr"
        },
        {
          "output_type": "stream",
          "text": [
            "8 epoch / train_loss : 0.0285677, train_score : 99.0500031, valid_loss : 0.1198552, valid_score : 97.6599960\n"
          ],
          "name": "stdout"
        },
        {
          "output_type": "stream",
          "text": [
            "\n",
            "\n",
            " 75%|███████▌  | 9/12 [01:46<00:35, 11.85s/it]\u001b[A\u001b[A"
          ],
          "name": "stderr"
        },
        {
          "output_type": "stream",
          "text": [
            "9 epoch / train_loss : 0.0188127, train_score : 99.3283386, valid_loss : 0.1277688, valid_score : 97.4599991\n"
          ],
          "name": "stdout"
        },
        {
          "output_type": "stream",
          "text": [
            "\n",
            "\n",
            " 83%|████████▎ | 10/12 [01:58<00:23, 11.84s/it]\u001b[A\u001b[A"
          ],
          "name": "stderr"
        },
        {
          "output_type": "stream",
          "text": [
            "10 epoch / train_loss : 0.0237248, train_score : 99.2166672, valid_loss : 0.1319293, valid_score : 97.5400009\n"
          ],
          "name": "stdout"
        },
        {
          "output_type": "stream",
          "text": [
            "\n",
            "\n",
            " 92%|█████████▏| 11/12 [02:10<00:11, 11.84s/it]\u001b[A\u001b[A"
          ],
          "name": "stderr"
        },
        {
          "output_type": "stream",
          "text": [
            "11 epoch / train_loss : 0.0204952, train_score : 99.3033371, valid_loss : 0.1246201, valid_score : 97.8399963\n"
          ],
          "name": "stdout"
        },
        {
          "output_type": "stream",
          "text": [
            "\n",
            "\n",
            "100%|██████████| 12/12 [02:21<00:00, 11.83s/it]"
          ],
          "name": "stderr"
        },
        {
          "output_type": "stream",
          "text": [
            "12 epoch / train_loss : 0.0238423, train_score : 99.1733322, valid_loss : 0.1462346, valid_score : 97.2099991\n"
          ],
          "name": "stdout"
        },
        {
          "output_type": "stream",
          "text": [
            "\n"
          ],
          "name": "stderr"
        }
      ]
    },
    {
      "cell_type": "code",
      "metadata": {
        "colab": {
          "base_uri": "https://localhost:8080/",
          "height": 283
        },
        "id": "PbTqj8_IPRzN",
        "outputId": "00eaa531-7630-4628-ffa7-1d8fe833f76e"
      },
      "source": [
        "plt.plot(running_loss_history, label = 'training loss')\r\n",
        "plt.plot(valid_loss_history, label = 'validation loss')\r\n",
        "plt.legend()"
      ],
      "execution_count": 109,
      "outputs": [
        {
          "output_type": "execute_result",
          "data": {
            "text/plain": [
              "<matplotlib.legend.Legend at 0x7f9e8055b6d0>"
            ]
          },
          "metadata": {
            "tags": []
          },
          "execution_count": 109
        },
        {
          "output_type": "display_data",
          "data": {
            "image/png": "[encoded data removed]",
            "text/plain": [
              "<Figure size 432x288 with 1 Axes>"
            ]
          },
          "metadata": {
            "tags": [],
            "needs_background": "light"
          }
        }
      ]
    },
    {
      "cell_type": "code",
      "metadata": {
        "colab": {
          "base_uri": "https://localhost:8080/",
          "height": 283
        },
        "id": "q2lkVggyWaOY",
        "outputId": "4ed7f37e-84d2-497d-9aad-97d47445e558"
      },
      "source": [
        "plt.plot(running_correct_history, label = 'training score')\r\n",
        "plt.plot(valid_correct_history, label = 'validation score')\r\n",
        "plt.legend()"
      ],
      "execution_count": 110,
      "outputs": [
        {
          "output_type": "execute_result",
          "data": {
            "text/plain": [
              "<matplotlib.legend.Legend at 0x7f9e8055a890>"
            ]
          },
          "metadata": {
            "tags": []
          },
          "execution_count": 110
        },
        {
          "output_type": "display_data",
          "data": {
            "image/png": "[encoded data removed]",
            "text/plain": [
              "<Figure size 432x288 with 1 Axes>"
            ]
          },
          "metadata": {
            "tags": [],
            "needs_background": "light"
          }
        }
      ]
    },
    {
      "cell_type": "code",
      "metadata": {
        "colab": {
          "base_uri": "https://localhost:8080/"
        },
        "id": "qQOPLhlRWcrn",
        "outputId": "d1ceadd0-f99d-4d85-a497-96639af1962c"
      },
      "source": [
        "torch.cuda.current_device()"
      ],
      "execution_count": 113,
      "outputs": [
        {
          "output_type": "execute_result",
          "data": {
            "text/plain": [
              "0"
            ]
          },
          "metadata": {
            "tags": []
          },
          "execution_count": 113
        }
      ]
    },
    {
      "cell_type": "code",
      "metadata": {
        "colab": {
          "base_uri": "https://localhost:8080/"
        },
        "id": "Y3LwYMCPWoum",
        "outputId": "5db94f0b-d681-4b55-bb57-c7c75ef4ce1d"
      },
      "source": [
        "torch.cuda.device_count()"
      ],
      "execution_count": 114,
      "outputs": [
        {
          "output_type": "execute_result",
          "data": {
            "text/plain": [
              "1"
            ]
          },
          "metadata": {
            "tags": []
          },
          "execution_count": 114
        }
      ]
    },
    {
      "cell_type": "code",
      "metadata": {
        "colab": {
          "base_uri": "https://localhost:8080/",
          "height": 35
        },
        "id": "W8JyvjGuWtqn",
        "outputId": "78b1a9b9-b36c-4021-8950-863d1582c04b"
      },
      "source": [
        "torch.cuda.get_device_name(0)"
      ],
      "execution_count": 117,
      "outputs": [
        {
          "output_type": "execute_result",
          "data": {
            "application/vnd.google.colaboratory.intrinsic+json": {
              "type": "string"
            },
            "text/plain": [
              "'Tesla T4'"
            ]
          },
          "metadata": {
            "tags": []
          },
          "execution_count": 117
        }
      ]
    },
    {
      "cell_type": "code",
      "metadata": {
        "colab": {
          "base_uri": "https://localhost:8080/"
        },
        "id": "4DVN9CotWyF2",
        "outputId": "f9e049d5-1dc4-434a-c9b0-e03d703de411"
      },
      "source": [
        "torch.cuda.get_device_capability(0)"
      ],
      "execution_count": 118,
      "outputs": [
        {
          "output_type": "execute_result",
          "data": {
            "text/plain": [
              "(7, 5)"
            ]
          },
          "metadata": {
            "tags": []
          },
          "execution_count": 118
        }
      ]
    }
  ]
}