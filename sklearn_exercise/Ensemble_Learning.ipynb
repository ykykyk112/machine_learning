{
  "nbformat": 4,
  "nbformat_minor": 0,
  "metadata": {
    "colab": {
      "name": "Ensemble_Learning.ipynb",
      "private_outputs": true,
      "provenance": [],
      "collapsed_sections": [],
      "mount_file_id": "1O9St566GcvKFKuH_dvgb4nO4pz_Emyxh",
      "authorship_tag": "ABX9TyPW96TWWT2UXT7Y23mulNWw",
      "include_colab_link": true
    },
    "kernelspec": {
      "name": "python3",
      "display_name": "Python 3"
    }
  },
  "cells": [
    {
      "cell_type": "markdown",
      "metadata": {
        "id": "view-in-github",
        "colab_type": "text"
      },
      "source": [
        "<a href=\"https://colab.research.google.com/github/ykykyk112/machine_learning/blob/main/sklearn_exercise/Ensemble_Learning.ipynb\" target=\"_parent\"><img src=\"https://colab.research.google.com/assets/colab-badge.svg\" alt=\"Open In Colab\"/></a>"
      ]
    },
    {
      "cell_type": "code",
      "metadata": {
        "id": "r6e-Zb42JG_v"
      },
      "source": [
        "import cv2 as cv\r\n",
        "import numpy as np\r\n",
        "import matplotlib.pyplot as plt\r\n",
        "\r\n",
        "test = np.load('/content/drive/MyDrive/Colab_Notebooks/quickdraw/bird.npy')\r\n",
        "print(test.shape)"
      ],
      "execution_count": null,
      "outputs": []
    },
    {
      "cell_type": "code",
      "metadata": {
        "id": "WOzdyATSJwQ_"
      },
      "source": [
        "idx = np.arange(test.shape[0])\r\n",
        "rnd_idx = np.random.choice(idx, 10000, replace=False)\r\n",
        "t = test[rnd_idx]\r\n",
        "t[0:10000].shape\r\n",
        "del idx"
      ],
      "execution_count": null,
      "outputs": []
    },
    {
      "cell_type": "code",
      "metadata": {
        "id": "gb68342uLkn-"
      },
      "source": [
        "def make_ndarray(target_list, each_size) :\r\n",
        "    # 784 means bitmap size\r\n",
        "    data = np.empty((len(target_list)*each_size, 784))\r\n",
        "    target = np.empty((len(target_list)*each_size))\r\n",
        "    for label, filename in enumerate(target_list) :\r\n",
        "        npy = np.load('/content/drive/MyDrive/Colab_Notebooks/quickdraw/{}.npy'.format(filename))\r\n",
        "        tmp = np.arange(npy.shape[0])\r\n",
        "        idx = np.random.choice(tmp, each_size, replace=False)\r\n",
        "        data[label*each_size:(label+1)*each_size] = npy[idx]\r\n",
        "        target[label*each_size:(label+1)*each_size] = label\r\n",
        "        print('{} is Complete'.format(filename))\r\n",
        "    s_idx = np.arange(target.shape[0])\r\n",
        "    np.random.shuffle(s_idx)\r\n",
        "    data = data[s_idx]\r\n",
        "    target = target[s_idx]\r\n",
        "    print('result shape : {0} & {1}'.format(data.shape, target.shape))\r\n",
        "    return data, target\r\n",
        "\r\n",
        "target_list = ['ant', 'bicycle', 'bird', 'butterfly', 'camel', 'clock', 'cow', 'diamond']\r\n",
        "data, target = make_ndarray(target_list=target_list, each_size=10000)"
      ],
      "execution_count": null,
      "outputs": []
    },
    {
      "cell_type": "code",
      "metadata": {
        "id": "YO8QQn-LRRpG"
      },
      "source": [
        "def show_image(index) :\r\n",
        "    plt.imshow(data[index].reshape(28, 28), cmap='binary')\r\n",
        "    plt.title(target[index])\r\n",
        "show_image(21)"
      ],
      "execution_count": null,
      "outputs": []
    },
    {
      "cell_type": "code",
      "metadata": {
        "id": "Elb5hfDuTmyR"
      },
      "source": [
        "from sklearn import model_selection\r\n",
        "X_train, X_test, y_train, y_test = model_selection.train_test_split(data, target, test_size = 0.2, random_state=42)"
      ],
      "execution_count": null,
      "outputs": []
    },
    {
      "cell_type": "code",
      "metadata": {
        "id": "uWq987lJY1hw"
      },
      "source": [
        "from sklearn import tree\r\n",
        "from sklearn.ensemble import RandomForestClassifier, ExtraTreesClassifier\r\n",
        "from sklearn.svm import LinearSVC\r\n",
        "from sklearn.neural_network import MLPClassifier # Neural network"
      ],
      "execution_count": null,
      "outputs": []
    },
    {
      "cell_type": "code",
      "metadata": {
        "id": "Me1FmaVQZ8e_"
      },
      "source": [
        "# classifier generation\r\n",
        "dt_clf = tree.DecisionTreeClassifier(random_state=42)\r\n",
        "random_clf = RandomForestClassifier(random_state=42)\r\n",
        "mlp_clf = MLPClassifier(random_state=42)\r\n",
        "ext_clf = ExtraTreesClassifier(random_state=42)"
      ],
      "execution_count": null,
      "outputs": []
    },
    {
      "cell_type": "code",
      "metadata": {
        "id": "Ig4oky-YZ83A"
      },
      "source": [
        "# Training  classifiers\r\n",
        "dt_clf.fit(X_train, y_train)\r\n",
        "random_clf.fit(X_train, y_train)\r\n",
        "mlp_clf.fit(X_train, y_train)\r\n",
        "ext_clf.fit(X_train, y_train)"
      ],
      "execution_count": null,
      "outputs": []
    },
    {
      "cell_type": "code",
      "metadata": {
        "id": "UxY9-txIdbin"
      },
      "source": [
        "print(dt_clf.score(X_test, y_test))\r\n",
        "print(random_clf.score(X_test, y_test))\r\n",
        "print(mlp_clf.score(X_test, y_test))\r\n",
        "print(ext_clf.score(X_test, y_test))"
      ],
      "execution_count": null,
      "outputs": []
    },
    {
      "cell_type": "code",
      "metadata": {
        "id": "2AZRYB1adkc-"
      },
      "source": [
        "from sklearn.ensemble import VotingClassifier\r\n",
        "named_estimators = [('rf', random_clf),\r\n",
        "                    ('mlp', mlp_clf),\r\n",
        "                    ('ext', ext_clf),\r\n",
        "                    ('dt', dt_clf)]"
      ],
      "execution_count": null,
      "outputs": []
    },
    {
      "cell_type": "code",
      "metadata": {
        "id": "xqmqfkrad7r2"
      },
      "source": [
        "voting_clf = VotingClassifier(estimators=named_estimators, voting='hard')\r\n",
        "voting_clf.fit(X_train, y_train)"
      ],
      "execution_count": null,
      "outputs": []
    },
    {
      "cell_type": "code",
      "metadata": {
        "id": "FQvqbV3Mli0Q"
      },
      "source": [
        "voting_score = voting_clf.score(X_test, y_test)\r\n",
        "voting_score"
      ],
      "execution_count": null,
      "outputs": []
    },
    {
      "cell_type": "code",
      "metadata": {
        "id": "cadHMeTDV7Jc"
      },
      "source": [
        "voting_clf.estimators_"
      ],
      "execution_count": null,
      "outputs": []
    },
    {
      "cell_type": "code",
      "metadata": {
        "id": "D3qnbSe1WWZ5"
      },
      "source": [
        "voting_clf.voting = 'soft'\r\n",
        "new_voting_score = voting_clf.score(X_test, y_test)\r\n",
        "print('old score : {0}, new score : {1}'.format(voting_score, new_voting_score))"
      ],
      "execution_count": null,
      "outputs": []
    },
    {
      "cell_type": "markdown",
      "metadata": {
        "id": "5nMzdtCVXJVJ"
      },
      "source": [
        "In this case, hard voting method shows better performance"
      ]
    },
    {
      "cell_type": "code",
      "metadata": {
        "id": "WCapJRIzXUjX"
      },
      "source": [
        "from sklearn.ensemble import BaggingClassifier\r\n",
        "bagging_clf = BaggingClassifier(bootstrap = True, oob_score = True, random_state = 42)\r\n",
        "bagging_clf.fit(X_train, y_train)\r\n",
        "bagging_score = bagging_clf.score(X_test, y_test)\r\n",
        "bagging_score_oob = bagging_clf.oob_score_"
      ],
      "execution_count": null,
      "outputs": []
    },
    {
      "cell_type": "code",
      "metadata": {
        "id": "mk_QQHQjZnYp"
      },
      "source": [
        "print('bagging score :', bagging_score, 'oob_score :', bagging_score_oob)"
      ],
      "execution_count": null,
      "outputs": []
    },
    {
      "cell_type": "code",
      "metadata": {
        "id": "-vrOzgY9aCDY"
      },
      "source": [
        "params = {'n_estimators' : 100, 'max_samples' : 0.3, 'n_jobs' : -1}\r\n",
        "bagging_clf.set_params(**params)"
      ],
      "execution_count": null,
      "outputs": []
    },
    {
      "cell_type": "code",
      "metadata": {
        "id": "_U5Yx61cbx-w"
      },
      "source": [
        "bagging_clf.fit(X_train, y_train)\r\n",
        "print('bagging score :', bagging_clf.score(X_test, y_test), 'oob_score :', bagging_clf.oob_score_)"
      ],
      "execution_count": null,
      "outputs": []
    },
    {
      "cell_type": "code",
      "metadata": {
        "id": "5B2lXkTQeJZh"
      },
      "source": [
        "rnd_clf = RandomForestClassifier(oob_score = True, random_state=42)\r\n",
        "rnd_clf.fit(X_train, y_train)\r\n",
        "print('method score :', rnd_clf.score(X_test, y_test), 'oob_score :', rnd_clf.oob_score_)"
      ],
      "execution_count": null,
      "outputs": []
    },
    {
      "cell_type": "code",
      "metadata": {
        "id": "4QkQw0XmiNry"
      },
      "source": [
        "from sklearn.model_selection import GridSearchCV\r\n",
        "grid_param = {'n_estimators' : [10, 100, 200], 'max_depth' : [None, 3, 5], 'criterion' : ['gini', 'entropy']}\r\n",
        "grid_search = GridSearchCV(rnd_clf, param_grid= grid_param, n_jobs = -1, verbose = 2)"
      ],
      "execution_count": null,
      "outputs": []
    },
    {
      "cell_type": "code",
      "metadata": {
        "id": "GIOZYBTxofUq"
      },
      "source": [
        "grid_search.fit(X_train, y_train)"
      ],
      "execution_count": null,
      "outputs": []
    }
  ]
}