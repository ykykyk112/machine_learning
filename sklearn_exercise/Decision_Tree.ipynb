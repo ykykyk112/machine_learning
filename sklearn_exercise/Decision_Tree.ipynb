{
  "nbformat": 4,
  "nbformat_minor": 0,
  "metadata": {
    "colab": {
      "name": "Decision_Tree.ipynb",
      "private_outputs": true,
      "provenance": [],
      "authorship_tag": "ABX9TyP0kSqqO4Sgb1egtygMmac/",
      "include_colab_link": true
    },
    "kernelspec": {
      "name": "python3",
      "display_name": "Python 3"
    }
  },
  "cells": [
    {
      "cell_type": "markdown",
      "metadata": {
        "id": "view-in-github",
        "colab_type": "text"
      },
      "source": [
        "<a href=\"https://colab.research.google.com/github/ykykyk112/machine_learning/blob/main/sklearn_exercise/Decision_Tree.ipynb\" target=\"_parent\"><img src=\"https://colab.research.google.com/assets/colab-badge.svg\" alt=\"Open In Colab\"/></a>"
      ]
    },
    {
      "cell_type": "code",
      "metadata": {
        "id": "M-Y6DQqo9bNH"
      },
      "source": [
        "from sklearn.tree import DecisionTreeClassifier, DecisionTreeRegressor\r\n",
        "from sklearn.model_selection import train_test_split\r\n",
        "from sklearn.datasets import load_iris\r\n",
        "import numpy as np\r\n",
        "import matplotlib.pyplot as plt"
      ],
      "execution_count": null,
      "outputs": []
    },
    {
      "cell_type": "code",
      "metadata": {
        "id": "dsS5VakQ9qQU"
      },
      "source": [
        "iris = load_iris()\r\n",
        "print(iris.DESCR)"
      ],
      "execution_count": null,
      "outputs": []
    },
    {
      "cell_type": "code",
      "metadata": {
        "id": "yo_g3W1A9vts"
      },
      "source": [
        "X = iris.data[:, 2:]\r\n",
        "y = iris.target\r\n",
        "print(X.shape, y.shape)"
      ],
      "execution_count": null,
      "outputs": []
    },
    {
      "cell_type": "code",
      "metadata": {
        "id": "Hql7kwfG93Fl"
      },
      "source": [
        "X_train, X_test, y_train, y_test = train_test_split(X, y, test_size = 0.2, random_state = 42)\r\n",
        "print(X_train.shape, y_train.shape)"
      ],
      "execution_count": null,
      "outputs": []
    },
    {
      "cell_type": "code",
      "metadata": {
        "id": "p7hDMGII-J8d"
      },
      "source": [
        "dt_clf = DecisionTreeClassifier(max_depth=3, random_state=42)\r\n",
        "dt_clf.fit(X_train, y_train)\r\n",
        "print(dt_clf.score(X_test, y_test))"
      ],
      "execution_count": null,
      "outputs": []
    },
    {
      "cell_type": "code",
      "metadata": {
        "id": "ErDMX6Vj-Umu"
      },
      "source": [
        "print(dt_clf.tree_.feature)\r\n",
        "# feature 값이 -2가 나오는 경우는 leaf_node인 경우로 (TREE_UNDEFINED = -2)의 dummy value를 의미한다.\r\n",
        "# index 순서는 DFS에 따라 tree를 탐색하는 순서와 동일하다."
      ],
      "execution_count": null,
      "outputs": []
    },
    {
      "cell_type": "code",
      "metadata": {
        "id": "9pq_yUQR-l0G"
      },
      "source": [
        "print(dt_clf.tree_.threshold)\r\n",
        "# threshold 값이 -2가 나오는 경우는 leaf_node인 경우로 (TREE_UNDEFINED = -2)의 dummy value를 의미한다.\r\n",
        "# index 순서는 DFS에 따라 tree를 탐색하는 순서와 동일하다."
      ],
      "execution_count": null,
      "outputs": []
    },
    {
      "cell_type": "code",
      "metadata": {
        "id": "IOEe8jwy-rSx"
      },
      "source": [
        "print(dt_clf.tree_.impurity)\r\n",
        "# index 순서는 DFS에 따라 tree를 탐색하는 순서와 동일하다."
      ],
      "execution_count": null,
      "outputs": []
    },
    {
      "cell_type": "code",
      "metadata": {
        "id": "kuH3dqMw-vJY"
      },
      "source": [
        "print(dt_clf.tree_.value)"
      ],
      "execution_count": null,
      "outputs": []
    },
    {
      "cell_type": "code",
      "metadata": {
        "id": "3vT2vP8M-zeH"
      },
      "source": [
        "from sklearn.tree import export_graphviz\r\n",
        "\r\n",
        "export_graphviz(dt_clf, out_file = 'tree.dot', class_names = iris.target_names,\r\n",
        "                feature_names = iris.feature_names[2:], impurity = True, filled = True)"
      ],
      "execution_count": null,
      "outputs": []
    },
    {
      "cell_type": "code",
      "metadata": {
        "id": "Iopvlz0j_SrP"
      },
      "source": [
        "import graphviz\r\n",
        "\r\n",
        "with open('tree.dot') as f:\r\n",
        "    dot_graph = f.read()\r\n",
        "graphviz.Source(dot_graph)"
      ],
      "execution_count": null,
      "outputs": []
    },
    {
      "cell_type": "code",
      "metadata": {
        "id": "-cwvWZCEBbBP"
      },
      "source": [
        "np.random.seed(42)\r\n",
        "m = 200\r\n",
        "A = np.random.rand(m, 1)\r\n",
        "b = 4 * (A - 0.5) ** 2\r\n",
        "b = b + np.random.randn(m, 1) / 10\r\n",
        "plt.plot(A, b, \"b.\")"
      ],
      "execution_count": null,
      "outputs": []
    },
    {
      "cell_type": "code",
      "metadata": {
        "id": "TtiTylNCCuHS"
      },
      "source": [
        "dt_reg = DecisionTreeRegressor(max_depth=3, random_state = 42)\r\n",
        "dt_reg.fit(A, b)"
      ],
      "execution_count": null,
      "outputs": []
    },
    {
      "cell_type": "code",
      "metadata": {
        "id": "7LBuhX56C6Yg"
      },
      "source": [
        "X_new = np.linspace(0, 1, 500).reshape(-1, 1)\r\n",
        "y_pred = dt_reg.predict(X_new)\r\n",
        "plt.plot(A, b, 'b.')\r\n",
        "plt.plot(X_new, y_pred, 'r.-')"
      ],
      "execution_count": null,
      "outputs": []
    },
    {
      "cell_type": "code",
      "metadata": {
        "id": "EtAzYQfiE8B7"
      },
      "source": [
        "export_graphviz(dt_reg, out_file = 'tree.dot', impurity = True, filled = True)\r\n",
        "\r\n",
        "with open('tree.dot') as f:\r\n",
        "    dot_graph = f.read()\r\n",
        "graphviz.Source(dot_graph)"
      ],
      "execution_count": null,
      "outputs": []
    },
    {
      "cell_type": "code",
      "metadata": {
        "id": "uHgXqC9dEx34"
      },
      "source": [
        "print(dt_reg.tree_.feature)"
      ],
      "execution_count": null,
      "outputs": []
    },
    {
      "cell_type": "code",
      "metadata": {
        "id": "M64urpBcGfZ5"
      },
      "source": [
        "print(dt_reg.tree_.threshold)"
      ],
      "execution_count": null,
      "outputs": []
    },
    {
      "cell_type": "code",
      "metadata": {
        "id": "6sG0GRLeGl4B"
      },
      "source": [
        "print(dt_reg.tree_.impurity)"
      ],
      "execution_count": null,
      "outputs": []
    },
    {
      "cell_type": "code",
      "metadata": {
        "id": "c_U0kL_RGoht"
      },
      "source": [
        "print(dt_reg.tree_.value)"
      ],
      "execution_count": null,
      "outputs": []
    }
  ]
}