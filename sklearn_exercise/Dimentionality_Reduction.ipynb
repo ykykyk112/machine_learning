{
  "nbformat": 4,
  "nbformat_minor": 0,
  "metadata": {
    "colab": {
      "name": "Dimentionality_Reduction.ipynb",
      "provenance": [],
      "collapsed_sections": [],
      "mount_file_id": "1d9g7wMSe_Bh9ZjaqCXFP7aI31jgmqiVV",
      "authorship_tag": "ABX9TyO7ypbchGT3XYD2/liLCL6k",
      "include_colab_link": true
    },
    "kernelspec": {
      "name": "python3",
      "display_name": "Python 3"
    }
  },
  "cells": [
    {
      "cell_type": "markdown",
      "metadata": {
        "id": "view-in-github",
        "colab_type": "text"
      },
      "source": [
        "<a href=\"https://colab.research.google.com/github/ykykyk112/machine_learning/blob/main/sklearn_exercise/Dimentionality_Reduction.ipynb\" target=\"_parent\"><img src=\"https://colab.research.google.com/assets/colab-badge.svg\" alt=\"Open In Colab\"/></a>"
      ]
    },
    {
      "cell_type": "code",
      "metadata": {
        "id": "_KczYFwirZcS"
      },
      "source": [
        "from sklearn.decomposition import PCA\r\n",
        "import numpy as np\r\n",
        "import matplotlib.pyplot as plt"
      ],
      "execution_count": 3,
      "outputs": []
    },
    {
      "cell_type": "code",
      "metadata": {
        "id": "7Gyr-eASr96L",
        "colab": {
          "base_uri": "https://localhost:8080/"
        },
        "outputId": "2fd09821-3320-4458-b573-835a185fe59b"
      },
      "source": [
        "def make_ndarray(target_list, each_size) :\r\n",
        "    # 784 means bitmap size\r\n",
        "    data = np.empty((len(target_list)*each_size, 784))\r\n",
        "    target = np.empty((len(target_list)*each_size))\r\n",
        "    for label, filename in enumerate(target_list) :\r\n",
        "        npy = np.load('/content/drive/MyDrive/Colab_Notebooks/quickdraw/{}.npy'.format(filename))\r\n",
        "        tmp = np.arange(npy.shape[0])\r\n",
        "        idx = np.random.choice(tmp, each_size, replace=False)\r\n",
        "        data[label*each_size:(label+1)*each_size] = npy[idx]\r\n",
        "        target[label*each_size:(label+1)*each_size] = label\r\n",
        "        print('{} is Complete'.format(filename))\r\n",
        "    s_idx = np.arange(target.shape[0])\r\n",
        "    np.random.shuffle(s_idx)\r\n",
        "    data = data[s_idx]\r\n",
        "    target = target[s_idx]\r\n",
        "    print('result shape : {0} & {1}'.format(data.shape, target.shape))\r\n",
        "    return data, target\r\n",
        "\r\n",
        "target_list = ['ant', 'bicycle', 'bird', 'butterfly', 'camel', 'clock', 'cow', 'diamond']\r\n",
        "data, target = make_ndarray(target_list=target_list, each_size=10000)"
      ],
      "execution_count": 4,
      "outputs": [
        {
          "output_type": "stream",
          "text": [
            "ant is Complete\n",
            "bicycle is Complete\n",
            "bird is Complete\n",
            "butterfly is Complete\n",
            "camel is Complete\n",
            "clock is Complete\n",
            "cow is Complete\n",
            "diamond is Complete\n",
            "result shape : (80000, 784) & (80000,)\n"
          ],
          "name": "stdout"
        }
      ]
    },
    {
      "cell_type": "code",
      "metadata": {
        "id": "Z2jIZ7FdsY4A"
      },
      "source": [
        "X = data\r\n",
        "y = target"
      ],
      "execution_count": 5,
      "outputs": []
    },
    {
      "cell_type": "code",
      "metadata": {
        "colab": {
          "base_uri": "https://localhost:8080/"
        },
        "id": "ZotgiXXYslEA",
        "outputId": "9e3252bf-5e51-457a-be01-ce15ce7a1fc0"
      },
      "source": [
        "X.shape"
      ],
      "execution_count": 6,
      "outputs": [
        {
          "output_type": "execute_result",
          "data": {
            "text/plain": [
              "(80000, 784)"
            ]
          },
          "metadata": {
            "tags": []
          },
          "execution_count": 6
        }
      ]
    },
    {
      "cell_type": "code",
      "metadata": {
        "id": "TJzMZduFsp7E"
      },
      "source": [
        "pca = PCA(n_components=0.95, random_state=42)"
      ],
      "execution_count": 7,
      "outputs": []
    },
    {
      "cell_type": "code",
      "metadata": {
        "id": "oXE9x1g8szPT"
      },
      "source": [
        "sample = X[0].reshape(28, 28)"
      ],
      "execution_count": 8,
      "outputs": []
    },
    {
      "cell_type": "code",
      "metadata": {
        "colab": {
          "base_uri": "https://localhost:8080/",
          "height": 283
        },
        "id": "MkZ_M5TMt1xs",
        "outputId": "78e85b9e-52b0-4a5e-86f9-5df5148b6c28"
      },
      "source": [
        "plt.imshow(sample, cmap = 'binary')"
      ],
      "execution_count": 9,
      "outputs": [
        {
          "output_type": "execute_result",
          "data": {
            "text/plain": [
              "<matplotlib.image.AxesImage at 0x7fea6ed3cba8>"
            ]
          },
          "metadata": {
            "tags": []
          },
          "execution_count": 9
        },
        {
          "output_type": "display_data",
          "data": {
            "image/png": "[encoded data removed]",
            "text/plain": [
              "<Figure size 432x288 with 1 Axes>"
            ]
          },
          "metadata": {
            "tags": [],
            "needs_background": "light"
          }
        }
      ]
    },
    {
      "cell_type": "code",
      "metadata": {
        "id": "VHC0MCiXt9rd"
      },
      "source": [
        "X_reduced = pca.fit_transform(X)"
      ],
      "execution_count": 10,
      "outputs": []
    },
    {
      "cell_type": "code",
      "metadata": {
        "colab": {
          "base_uri": "https://localhost:8080/"
        },
        "id": "s0l1HylLuRSK",
        "outputId": "7c5f385e-937a-4152-8fec-fc8d59d0d773"
      },
      "source": [
        "X_reduced.shape"
      ],
      "execution_count": 11,
      "outputs": [
        {
          "output_type": "execute_result",
          "data": {
            "text/plain": [
              "(80000, 275)"
            ]
          },
          "metadata": {
            "tags": []
          },
          "execution_count": 11
        }
      ]
    },
    {
      "cell_type": "code",
      "metadata": {
        "colab": {
          "base_uri": "https://localhost:8080/"
        },
        "id": "Lrx4JCwHtEXr",
        "outputId": "de489126-b1c5-43f8-a2e1-77944ae104cf"
      },
      "source": [
        "pca.explained_variance_ratio_"
      ],
      "execution_count": 12,
      "outputs": [
        {
          "output_type": "execute_result",
          "data": {
            "text/plain": [
              "array([0.07424511, 0.03790804, 0.03214149, 0.0275626 , 0.02586783,\n",
              "       0.02220671, 0.01841027, 0.01682793, 0.01474773, 0.01455514,\n",
              "       0.01320896, 0.01277281, 0.01185022, 0.01149188, 0.01131681,\n",
              "       0.01057391, 0.01039742, 0.00999683, 0.00904976, 0.00903741,\n",
              "       0.00883888, 0.00853433, 0.00838458, 0.0079335 , 0.00782814,\n",
              "       0.00765222, 0.00755006, 0.00730024, 0.00720608, 0.00690041,\n",
              "       0.00680935, 0.00676251, 0.00642224, 0.0063705 , 0.00622042,\n",
              "       0.00619908, 0.0061103 , 0.00599201, 0.00580654, 0.00576341,\n",
              "       0.00559992, 0.00550672, 0.0054462 , 0.00534801, 0.00529241,\n",
              "       0.00522316, 0.00511057, 0.00494541, 0.00486019, 0.00480941,\n",
              "       0.00466674, 0.00457141, 0.00453177, 0.00443146, 0.00440803,\n",
              "       0.00437676, 0.00432298, 0.00424081, 0.00412684, 0.00409695,\n",
              "       0.00403141, 0.00392754, 0.00389031, 0.00382767, 0.00378516,\n",
              "       0.00372303, 0.00369223, 0.00361923, 0.00360294, 0.00351381,\n",
              "       0.00348723, 0.00342687, 0.00339741, 0.00336334, 0.00329297,\n",
              "       0.00326565, 0.00325883, 0.00317661, 0.00314095, 0.00313282,\n",
              "       0.00308293, 0.00303761, 0.0029889 , 0.0029545 , 0.00289872,\n",
              "       0.0028608 , 0.00285704, 0.0028268 , 0.00277728, 0.00272611,\n",
              "       0.00271361, 0.00269221, 0.00264768, 0.00260241, 0.00258248,\n",
              "       0.00248636, 0.00247295, 0.00246608, 0.00245784, 0.00241667,\n",
              "       0.00240193, 0.00237247, 0.00235868, 0.00233204, 0.00229209,\n",
              "       0.00227184, 0.00223829, 0.00220963, 0.00218005, 0.00216025,\n",
              "       0.00213649, 0.00210597, 0.00208439, 0.00204386, 0.00202335,\n",
              "       0.00201219, 0.00198161, 0.00196781, 0.00194888, 0.00193117,\n",
              "       0.0019256 , 0.0018994 , 0.00185446, 0.00183852, 0.00182647,\n",
              "       0.00181679, 0.00178329, 0.00176227, 0.00174001, 0.00172878,\n",
              "       0.00171825, 0.0016989 , 0.00168781, 0.00167792, 0.00165104,\n",
              "       0.00162949, 0.00161196, 0.00160361, 0.00156653, 0.0015476 ,\n",
              "       0.00152828, 0.00150503, 0.00150178, 0.00147472, 0.00146711,\n",
              "       0.00145774, 0.00142931, 0.00141704, 0.00141597, 0.00139567,\n",
              "       0.00139276, 0.00138111, 0.00136244, 0.00134588, 0.00134031,\n",
              "       0.0013298 , 0.00130752, 0.00129981, 0.00128843, 0.00126164,\n",
              "       0.00125049, 0.00124125, 0.00123134, 0.0012131 , 0.00120428,\n",
              "       0.00119775, 0.00119259, 0.00117936, 0.00116628, 0.00115217,\n",
              "       0.00113747, 0.00111936, 0.00110709, 0.00110046, 0.00109012,\n",
              "       0.00107737, 0.00106567, 0.00106125, 0.00104721, 0.00103772,\n",
              "       0.00102901, 0.00102246, 0.00100701, 0.00099727, 0.0009902 ,\n",
              "       0.00098922, 0.00098251, 0.00096483, 0.00096125, 0.00094609,\n",
              "       0.00093923, 0.00092238, 0.00091771, 0.00091422, 0.00090297,\n",
              "       0.00089517, 0.00089016, 0.00088302, 0.00087088, 0.00086461,\n",
              "       0.00085506, 0.00084731, 0.0008437 , 0.00083144, 0.00082041,\n",
              "       0.0008166 , 0.00081283, 0.00080484, 0.00080051, 0.00079177,\n",
              "       0.00078451, 0.0007773 , 0.00076303, 0.00075777, 0.00074964,\n",
              "       0.00074462, 0.00073996, 0.00073831, 0.00072743, 0.00071819,\n",
              "       0.00071538, 0.00071244, 0.00070443, 0.00069589, 0.00069228,\n",
              "       0.00068792, 0.00068018, 0.00067771, 0.00067201, 0.00066963,\n",
              "       0.00066527, 0.0006573 , 0.00064873, 0.00064552, 0.00063732,\n",
              "       0.00063376, 0.00062529, 0.00062222, 0.00061933, 0.00060225,\n",
              "       0.00060065, 0.00059727, 0.00059166, 0.00058798, 0.00057535,\n",
              "       0.00056751, 0.00056585, 0.00055959, 0.00055863, 0.00055323,\n",
              "       0.00054678, 0.00054219, 0.00054001, 0.00053597, 0.00053244,\n",
              "       0.00052949, 0.00052778, 0.00052368, 0.0005156 , 0.00051475,\n",
              "       0.00051193, 0.00050547, 0.00050142, 0.0004979 , 0.00049345,\n",
              "       0.00048978, 0.00048686, 0.00048498, 0.00048288, 0.00047525,\n",
              "       0.00047196, 0.00047157, 0.00045978, 0.00045835, 0.00045445])"
            ]
          },
          "metadata": {
            "tags": []
          },
          "execution_count": 12
        }
      ]
    },
    {
      "cell_type": "code",
      "metadata": {
        "colab": {
          "base_uri": "https://localhost:8080/"
        },
        "id": "wFFVkMzYuQVl",
        "outputId": "b6009aa2-f999-49f5-d60c-bcfcd6a83c4e"
      },
      "source": [
        "pca.explained_variance_ratio_.shape"
      ],
      "execution_count": 13,
      "outputs": [
        {
          "output_type": "execute_result",
          "data": {
            "text/plain": [
              "(275,)"
            ]
          },
          "metadata": {
            "tags": []
          },
          "execution_count": 13
        }
      ]
    },
    {
      "cell_type": "code",
      "metadata": {
        "colab": {
          "base_uri": "https://localhost:8080/"
        },
        "id": "oUy0eMPxvFrr",
        "outputId": "b074d7e6-f460-45a5-b275-b6076f4ce3d8"
      },
      "source": [
        "cumsum = np.cumsum(pca.explained_variance_ratio_)\r\n",
        "cumsum"
      ],
      "execution_count": 14,
      "outputs": [
        {
          "output_type": "execute_result",
          "data": {
            "text/plain": [
              "array([0.07424511, 0.11215315, 0.14429464, 0.17185724, 0.19772507,\n",
              "       0.21993178, 0.23834205, 0.25516999, 0.26991772, 0.28447286,\n",
              "       0.29768182, 0.31045464, 0.32230486, 0.33379674, 0.34511355,\n",
              "       0.35568745, 0.36608488, 0.3760817 , 0.38513146, 0.39416888,\n",
              "       0.40300776, 0.41154209, 0.41992667, 0.42786017, 0.43568831,\n",
              "       0.44334053, 0.4508906 , 0.45819083, 0.46539691, 0.47229732,\n",
              "       0.47910668, 0.48586919, 0.49229142, 0.49866192, 0.50488234,\n",
              "       0.51108143, 0.51719173, 0.52318374, 0.52899028, 0.53475369,\n",
              "       0.54035362, 0.54586033, 0.55130653, 0.55665454, 0.56194695,\n",
              "       0.56717011, 0.57228068, 0.57722609, 0.58208628, 0.58689568,\n",
              "       0.59156243, 0.59613383, 0.6006656 , 0.60509706, 0.60950509,\n",
              "       0.61388185, 0.61820483, 0.62244564, 0.62657249, 0.63066943,\n",
              "       0.63470085, 0.63862839, 0.6425187 , 0.64634637, 0.65013153,\n",
              "       0.65385456, 0.65754679, 0.66116602, 0.66476896, 0.66828277,\n",
              "       0.67177001, 0.67519688, 0.67859429, 0.68195763, 0.6852506 ,\n",
              "       0.68851625, 0.69177508, 0.69495169, 0.69809264, 0.70122547,\n",
              "       0.7043084 , 0.70734601, 0.71033491, 0.71328941, 0.71618813,\n",
              "       0.71904893, 0.72190597, 0.72473276, 0.72751005, 0.73023616,\n",
              "       0.73294977, 0.73564198, 0.73828966, 0.74089207, 0.74347456,\n",
              "       0.74596091, 0.74843386, 0.75089995, 0.75335779, 0.75577445,\n",
              "       0.75817638, 0.76054885, 0.76290753, 0.76523957, 0.76753166,\n",
              "       0.76980351, 0.77204179, 0.77425142, 0.77643147, 0.77859172,\n",
              "       0.78072821, 0.78283419, 0.78491857, 0.78696244, 0.78898579,\n",
              "       0.79099798, 0.79297959, 0.7949474 , 0.79689628, 0.79882745,\n",
              "       0.80075304, 0.80265245, 0.8045069 , 0.80634542, 0.8081719 ,\n",
              "       0.80998869, 0.81177197, 0.81353424, 0.81527425, 0.81700303,\n",
              "       0.81872128, 0.82042017, 0.82210798, 0.8237859 , 0.82543694,\n",
              "       0.82706643, 0.82867839, 0.830282  , 0.83184853, 0.83339613,\n",
              "       0.8349244 , 0.83642943, 0.83793122, 0.83940594, 0.84087304,\n",
              "       0.84233078, 0.84376009, 0.84517713, 0.8465931 , 0.84798877,\n",
              "       0.84938154, 0.85076265, 0.85212509, 0.85347097, 0.85481128,\n",
              "       0.85614108, 0.8574486 , 0.85874841, 0.86003684, 0.86129847,\n",
              "       0.86254896, 0.86379022, 0.86502155, 0.86623465, 0.86743893,\n",
              "       0.86863668, 0.86982927, 0.87100862, 0.8721749 , 0.87332707,\n",
              "       0.87446454, 0.87558389, 0.87669098, 0.87779144, 0.87888156,\n",
              "       0.87995893, 0.8810246 , 0.88208585, 0.88313307, 0.88417079,\n",
              "       0.8851998 , 0.88622226, 0.88722927, 0.88822653, 0.88921674,\n",
              "       0.89020596, 0.89118847, 0.89215331, 0.89311456, 0.89406065,\n",
              "       0.89499987, 0.89592225, 0.89683996, 0.89775418, 0.89865715,\n",
              "       0.89955232, 0.90044248, 0.9013255 , 0.90219639, 0.903061  ,\n",
              "       0.90391606, 0.90476337, 0.90560707, 0.90643852, 0.90725892,\n",
              "       0.90807552, 0.90888835, 0.90969319, 0.91049371, 0.91128548,\n",
              "       0.91206999, 0.91284729, 0.91361032, 0.91436809, 0.91511773,\n",
              "       0.91586235, 0.91660231, 0.91734062, 0.91806805, 0.91878624,\n",
              "       0.91950162, 0.92021407, 0.9209185 , 0.92161439, 0.92230667,\n",
              "       0.92299459, 0.92367477, 0.92435248, 0.92502449, 0.92569412,\n",
              "       0.9263594 , 0.92701669, 0.92766542, 0.92831094, 0.92894826,\n",
              "       0.92958202, 0.9302073 , 0.93082952, 0.93144885, 0.9320511 ,\n",
              "       0.93265175, 0.93324903, 0.93384069, 0.93442867, 0.93500402,\n",
              "       0.93557154, 0.93613738, 0.93669697, 0.9372556 , 0.93780883,\n",
              "       0.93835561, 0.9388978 , 0.9394378 , 0.93997378, 0.94050622,\n",
              "       0.94103571, 0.94156348, 0.94208716, 0.94260276, 0.94311751,\n",
              "       0.94362944, 0.94413491, 0.94463633, 0.94513422, 0.94562767,\n",
              "       0.94611745, 0.94660431, 0.9470893 , 0.94757217, 0.94804742,\n",
              "       0.94851938, 0.94899095, 0.94945073, 0.94990907, 0.95036352])"
            ]
          },
          "metadata": {
            "tags": []
          },
          "execution_count": 14
        }
      ]
    },
    {
      "cell_type": "code",
      "metadata": {
        "colab": {
          "base_uri": "https://localhost:8080/"
        },
        "id": "f_rHsrMktL6T",
        "outputId": "f135502a-524d-4880-e5b5-b490d4d24b58"
      },
      "source": [
        "x_axis = np.linspace(0, cumsum.shape[0], cumsum.shape[0])\r\n",
        "y_axis = cumsum\r\n",
        "x_axis.shape"
      ],
      "execution_count": 15,
      "outputs": [
        {
          "output_type": "execute_result",
          "data": {
            "text/plain": [
              "(275,)"
            ]
          },
          "metadata": {
            "tags": []
          },
          "execution_count": 15
        }
      ]
    },
    {
      "cell_type": "code",
      "metadata": {
        "colab": {
          "base_uri": "https://localhost:8080/",
          "height": 314
        },
        "id": "vaDeql6KuqHC",
        "outputId": "f79a054e-c1de-4c94-a554-8810eb3f524f"
      },
      "source": [
        "plt.plot(x_axis, y_axis)\r\n",
        "plt.xlabel('n_dimention')\r\n",
        "plt.ylabel('variance')\r\n",
        "plt.title('Variance change trend')"
      ],
      "execution_count": 16,
      "outputs": [
        {
          "output_type": "execute_result",
          "data": {
            "text/plain": [
              "Text(0.5, 1.0, 'Variance change trend')"
            ]
          },
          "metadata": {
            "tags": []
          },
          "execution_count": 16
        },
        {
          "output_type": "display_data",
          "data": {
            "image/png": "[encoded data removed]",
            "text/plain": [
              "<Figure size 432x288 with 1 Axes>"
            ]
          },
          "metadata": {
            "tags": [],
            "needs_background": "light"
          }
        }
      ]
    },
    {
      "cell_type": "code",
      "metadata": {
        "colab": {
          "base_uri": "https://localhost:8080/"
        },
        "id": "LXsrzeh4PP7s",
        "outputId": "32886aaa-ebe0-4d5a-b435-ee3fa44d038b"
      },
      "source": [
        "pca.singular_values_"
      ],
      "execution_count": 17,
      "outputs": [
        {
          "output_type": "execute_result",
          "data": {
            "text/plain": [
              "array([166963.00290055, 119303.1624381 , 109854.86741067, 101729.38539148,\n",
              "        98552.19250901,  91312.12298714,  83141.21967209,  79488.02328044,\n",
              "        74413.01413081,  73925.55118066,  70423.99227714,  69251.56363496,\n",
              "        66703.64403162,  65687.35425534,  65185.09814932,  63009.21486801,\n",
              "        62481.16851058,  61265.69836511,  58291.45093593,  58251.66881843,\n",
              "        57608.29007246,  56607.1272236 ,  56108.27260939,  54578.1532272 ,\n",
              "        54214.50667433,  53601.89071614,  53242.88270092,  52354.58650678,\n",
              "        52015.8577086 ,  50900.71564791,  50563.74959056,  50389.52049488,\n",
              "        49105.42737649,  48907.21491952,  48327.71987134,  48244.75443258,\n",
              "        47898.01711369,  47432.12154836,  46692.28515073,  46518.55465555,\n",
              "        45854.01760555,  45470.80668165,  45220.25694774,  44810.77151949,\n",
              "        44577.2265259 ,  44284.61132923,  43804.73852074,  43091.08026811,\n",
              "        42718.18520859,  42494.43875844,  41859.416191  ,  41429.65039431,\n",
              "        41249.62735352,  40790.57676133,  40682.57550461,  40538.03496721,\n",
              "        40288.20745096,  39903.48542654,  39363.64419237,  39220.80600705,\n",
              "        38905.85482534,  38401.38252886,  38218.89808848,  37910.00358989,\n",
              "        37698.87293245,  37388.21143393,  37233.23286282,  36863.31534075,\n",
              "        36780.26254246,  36322.48449741,  36184.84213344,  35870.33403573,\n",
              "        35715.78572517,  35536.27554299,  35162.5158596 ,  35016.36368753,\n",
              "        34979.78481226,  34535.71667685,  34341.3169837 ,  34296.85700846,\n",
              "        34022.64645262,  33771.65405947,  33499.80557188,  33306.43497502,\n",
              "        32990.54557469,  32774.04577197,  32752.48274487,  32578.70231739,\n",
              "        32292.11331515,  31993.22968228,  31919.81768912,  31793.6643844 ,\n",
              "        31529.62796329,  31258.95994866,  31139.03646985,  30553.99344826,\n",
              "        30471.50925393,  30429.17280297,  30378.28202092,  30122.74465939,\n",
              "        30030.75190987,  29846.01000616,  29759.17081115,  29590.66017332,\n",
              "        29336.10965276,  29206.21499374,  28989.72661567,  28803.56953714,\n",
              "        28610.10916074,  28479.8680812 ,  28322.86442191,  28119.82660608,\n",
              "        27975.34642091,  27702.06952552,  27562.71402551,  27486.59098157,\n",
              "        27276.9222248 ,  27181.77200198,  27050.72113353,  26927.5289205 ,\n",
              "        26888.6495714 ,  26705.15225173,  26387.2779282 ,  26273.64585371,\n",
              "        26187.44398382,  26117.92059455,  25875.97836879,  25723.02584514,\n",
              "        25560.08022596,  25477.44032238,  25399.76020563,  25256.29986508,\n",
              "        25173.7315763 ,  25099.88978446,  24898.03007278,  24735.04247726,\n",
              "        24601.56812765,  24537.82377515,  24252.48408656,  24105.43667168,\n",
              "        23954.49746579,  23771.63037442,  23745.98166547,  23531.00430622,\n",
              "        23470.23589332,  23395.14093822,  23165.891277  ,  23066.28897439,\n",
              "        23057.59286514,  22891.6840348 ,  22867.84130848,  22771.97208939,\n",
              "        22617.53061454,  22479.65806448,  22433.0551792 ,  22344.99377749,\n",
              "        22156.93389012,  22091.52822274,  21994.64955948,  21764.73119034,\n",
              "        21668.3759584 ,  21588.20858129,  21501.78796579,  21341.94507664,\n",
              "        21264.26917885,  21206.50871416,  21160.75772726,  21043.06221725,\n",
              "        20926.04435354,  20799.10763349,  20665.94908017,  20500.81017389,\n",
              "        20388.13624739,  20327.00638257,  20231.28651886,  20112.62892815,\n",
              "        20003.09611096,  19961.59836212,  19829.13694086,  19739.07746999,\n",
              "        19656.07034751,  19593.35107306,  19444.77940573,  19350.4969816 ,\n",
              "        19281.85403835,  19272.27523419,  19206.82081127,  19033.22776189,\n",
              "        18997.86311387,  18847.44997542,  18778.96088112,  18609.76195441,\n",
              "        18562.61182853,  18527.23488961,  18412.92146624,  18333.26868489,\n",
              "        18281.88583352,  18208.38797305,  18082.83524098,  18017.61864416,\n",
              "        17917.79019292,  17836.41429625,  17798.39752897,  17668.61261988,\n",
              "        17550.96304414,  17510.20155571,  17469.71812462,  17383.67336518,\n",
              "        17336.88391635,  17241.89580767,  17162.72597168,  17083.65718376,\n",
              "        16926.12377757,  16867.62622414,  16776.92466405,  16720.67344163,\n",
              "        16668.31533467,  16649.68824703,  16526.52896438,  16421.19539261,\n",
              "        16389.13468739,  16355.42455313,  16263.22332269,  16164.28260119,\n",
              "        16122.32493096,  16071.44137793,  15980.76804351,  15951.78340311,\n",
              "        15884.52097838,  15856.37997995,  15804.70182243,  15709.6594753 ,\n",
              "        15606.98139597,  15568.27269287,  15469.10052324,  15425.79682186,\n",
              "        15322.34995858,  15284.77279634,  15249.21558744,  15037.41792372,\n",
              "        15017.52946515,  14975.1811845 ,  14904.71505199,  14858.25340987,\n",
              "        14697.85342921,  14597.34270639,  14575.89351811,  14495.10091829,\n",
              "        14482.60147357,  14412.50742691,  14328.25516279,  14267.94810698,\n",
              "        14239.19398734,  14185.92563487,  14139.16142262,  14099.83575701,\n",
              "        14077.04001186,  14022.30308241,  13913.6903866 ,  13902.1848562 ,\n",
              "        13864.08247741,  13776.38181562,  13720.97613377,  13672.74033811,\n",
              "        13611.56807968,  13560.83003198,  13520.36889047,  13494.27019659,\n",
              "        13464.91864146,  13358.15951648,  13311.83013896,  13306.42785427,\n",
              "        13138.90558578,  13118.49000687,  13062.58340616])"
            ]
          },
          "metadata": {
            "tags": []
          },
          "execution_count": 17
        }
      ]
    },
    {
      "cell_type": "code",
      "metadata": {
        "id": "oVTzQJAJPst9"
      },
      "source": [
        "X_recovered = pca.inverse_transform(X_reduced)"
      ],
      "execution_count": 18,
      "outputs": []
    },
    {
      "cell_type": "code",
      "metadata": {
        "id": "ps9VUqsvTgWY"
      },
      "source": [
        "sample_origin = X[:4].reshape(-1, 28, 28)\r\n",
        "sample_recovered = X_recovered[:4].reshape(-1, 28, 28)"
      ],
      "execution_count": 19,
      "outputs": []
    },
    {
      "cell_type": "code",
      "metadata": {
        "colab": {
          "base_uri": "https://localhost:8080/",
          "height": 242
        },
        "id": "wJhOtiTWTwEE",
        "outputId": "f4c197ee-5875-4604-d718-b5252dfd2540"
      },
      "source": [
        "def plot_origin_recovered(origin, recovered) :\r\n",
        "    plot_image = np.append(origin, recovered, axis=0)\r\n",
        "    row = 2\r\n",
        "    col = 4\r\n",
        "    fig = plt.figure()\r\n",
        "    for i in range(row*col) :\r\n",
        "        sub = fig.add_subplot(row, col, i+1)\r\n",
        "        sub.set_xticklabels('off')\r\n",
        "        sub.set_yticklabels('off')\r\n",
        "        sub.imshow(plot_image[i], cmap='binary')\r\n",
        "    fig.show()\r\n",
        "\r\n",
        "plot_origin_recovered(sample_origin, sample_recovered)"
      ],
      "execution_count": 20,
      "outputs": [
        {
          "output_type": "display_data",
          "data": {
            "image/png": "[encoded data removed]",
            "text/plain": [
              "<Figure size 432x288 with 8 Axes>"
            ]
          },
          "metadata": {
            "tags": [],
            "needs_background": "light"
          }
        }
      ]
    },
    {
      "cell_type": "code",
      "metadata": {
        "id": "2wcM9Z9YYwZX"
      },
      "source": [
        "from sklearn.model_selection import train_test_split\r\n",
        "X_train, X_test, y_train, y_test = train_test_split(X, y, test_size = 0.2, random_state = 42)\r\n",
        "X_train_reduced, X_test_reduced, y_train, y_test = train_test_split(X_reduced, y, test_size = 0.2, random_state = 42)\r\n",
        "X_train_recovered, X_test_recovered, y_train, y_test = train_test_split(X_recovered, y, test_size = 0.2, random_state = 42)"
      ],
      "execution_count": null,
      "outputs": []
    },
    {
      "cell_type": "code",
      "metadata": {
        "colab": {
          "base_uri": "https://localhost:8080/"
        },
        "id": "s0bZSJHYbBCc",
        "outputId": "0a913c68-0012-4aca-9faa-3d6d1e7f101f"
      },
      "source": [
        "print(X.shape)\r\n",
        "print(X_reduced.shape)\r\n",
        "print(X_recovered.shape)"
      ],
      "execution_count": null,
      "outputs": [
        {
          "output_type": "stream",
          "text": [
            "(80000, 784)\n",
            "(80000, 275)\n",
            "(80000, 784)\n"
          ],
          "name": "stdout"
        }
      ]
    },
    {
      "cell_type": "code",
      "metadata": {
        "colab": {
          "base_uri": "https://localhost:8080/"
        },
        "id": "dPlKEfdnYiy6",
        "outputId": "c598add6-3a25-4523-f130-13c7b6f03d23"
      },
      "source": [
        "from sklearn.ensemble import RandomForestClassifier\r\n",
        "origin_clf = RandomForestClassifier(random_state = 42, verbose = 2)\r\n",
        "origin_clf.fit(X_train, y_train)\r\n",
        "origin_clf.score(X_test, y_test)"
      ],
      "execution_count": null,
      "outputs": [
        {
          "output_type": "stream",
          "text": [
            "[Parallel(n_jobs=1)]: Using backend SequentialBackend with 1 concurrent workers.\n"
          ],
          "name": "stderr"
        },
        {
          "output_type": "stream",
          "text": [
            "building tree 1 of 100\n"
          ],
          "name": "stdout"
        },
        {
          "output_type": "stream",
          "text": [
            "[Parallel(n_jobs=1)]: Done   1 out of   1 | elapsed:    0.7s remaining:    0.0s\n"
          ],
          "name": "stderr"
        },
        {
          "output_type": "stream",
          "text": [
            "building tree 2 of 100\n",
            "building tree 3 of 100\n",
            "building tree 4 of 100\n",
            "building tree 5 of 100\n",
            "building tree 6 of 100\n",
            "building tree 7 of 100\n",
            "building tree 8 of 100\n",
            "building tree 9 of 100\n",
            "building tree 10 of 100\n",
            "building tree 11 of 100\n",
            "building tree 12 of 100\n",
            "building tree 13 of 100\n",
            "building tree 14 of 100\n",
            "building tree 15 of 100\n",
            "building tree 16 of 100\n",
            "building tree 17 of 100\n",
            "building tree 18 of 100\n",
            "building tree 19 of 100\n",
            "building tree 20 of 100\n",
            "building tree 21 of 100\n",
            "building tree 22 of 100\n",
            "building tree 23 of 100\n",
            "building tree 24 of 100\n",
            "building tree 25 of 100\n",
            "building tree 26 of 100\n",
            "building tree 27 of 100\n",
            "building tree 28 of 100\n",
            "building tree 29 of 100\n",
            "building tree 30 of 100\n",
            "building tree 31 of 100\n",
            "building tree 32 of 100\n",
            "building tree 33 of 100\n",
            "building tree 34 of 100\n",
            "building tree 35 of 100\n",
            "building tree 36 of 100\n",
            "building tree 37 of 100\n",
            "building tree 38 of 100\n",
            "building tree 39 of 100\n",
            "building tree 40 of 100\n",
            "building tree 41 of 100\n",
            "building tree 42 of 100\n",
            "building tree 43 of 100\n",
            "building tree 44 of 100\n",
            "building tree 45 of 100\n",
            "building tree 46 of 100\n",
            "building tree 47 of 100\n",
            "building tree 48 of 100\n",
            "building tree 49 of 100\n",
            "building tree 50 of 100\n",
            "building tree 51 of 100\n",
            "building tree 52 of 100\n",
            "building tree 53 of 100\n",
            "building tree 54 of 100\n",
            "building tree 55 of 100\n",
            "building tree 56 of 100\n",
            "building tree 57 of 100\n",
            "building tree 58 of 100\n",
            "building tree 59 of 100\n",
            "building tree 60 of 100\n",
            "building tree 61 of 100\n",
            "building tree 62 of 100\n",
            "building tree 63 of 100\n",
            "building tree 64 of 100\n",
            "building tree 65 of 100\n",
            "building tree 66 of 100\n",
            "building tree 67 of 100\n",
            "building tree 68 of 100\n",
            "building tree 69 of 100\n",
            "building tree 70 of 100\n",
            "building tree 71 of 100\n",
            "building tree 72 of 100\n",
            "building tree 73 of 100\n",
            "building tree 74 of 100\n",
            "building tree 75 of 100\n",
            "building tree 76 of 100\n",
            "building tree 77 of 100\n",
            "building tree 78 of 100\n",
            "building tree 79 of 100\n",
            "building tree 80 of 100\n",
            "building tree 81 of 100\n",
            "building tree 82 of 100\n",
            "building tree 83 of 100\n",
            "building tree 84 of 100\n",
            "building tree 85 of 100\n",
            "building tree 86 of 100\n",
            "building tree 87 of 100\n",
            "building tree 88 of 100\n",
            "building tree 89 of 100\n",
            "building tree 90 of 100\n",
            "building tree 91 of 100\n",
            "building tree 92 of 100\n",
            "building tree 93 of 100\n",
            "building tree 94 of 100\n",
            "building tree 95 of 100\n",
            "building tree 96 of 100\n",
            "building tree 97 of 100\n",
            "building tree 98 of 100\n",
            "building tree 99 of 100\n",
            "building tree 100 of 100\n"
          ],
          "name": "stdout"
        },
        {
          "output_type": "stream",
          "text": [
            "[Parallel(n_jobs=1)]: Done 100 out of 100 | elapsed:  1.2min finished\n",
            "[Parallel(n_jobs=1)]: Using backend SequentialBackend with 1 concurrent workers.\n",
            "[Parallel(n_jobs=1)]: Done   1 out of   1 | elapsed:    0.0s remaining:    0.0s\n",
            "[Parallel(n_jobs=1)]: Done 100 out of 100 | elapsed:    0.8s finished\n"
          ],
          "name": "stderr"
        },
        {
          "output_type": "execute_result",
          "data": {
            "text/plain": [
              "0.7926875"
            ]
          },
          "metadata": {
            "tags": []
          },
          "execution_count": 21
        }
      ]
    },
    {
      "cell_type": "code",
      "metadata": {
        "colab": {
          "base_uri": "https://localhost:8080/"
        },
        "id": "58oeu3GsZmRx",
        "outputId": "af67a925-058e-420f-b5bc-4e3d8036e31a"
      },
      "source": [
        "reduct_clf = RandomForestClassifier(random_state=42, verbose=2)\r\n",
        "reduct_clf.fit(X_train_reduced, y_train)\r\n",
        "reduct_clf.score(X_test_reduced, y_test)"
      ],
      "execution_count": null,
      "outputs": [
        {
          "output_type": "stream",
          "text": [
            "[Parallel(n_jobs=1)]: Using backend SequentialBackend with 1 concurrent workers.\n"
          ],
          "name": "stderr"
        },
        {
          "output_type": "stream",
          "text": [
            "building tree 1 of 100\n"
          ],
          "name": "stdout"
        },
        {
          "output_type": "stream",
          "text": [
            "[Parallel(n_jobs=1)]: Done   1 out of   1 | elapsed:    1.8s remaining:    0.0s\n"
          ],
          "name": "stderr"
        },
        {
          "output_type": "stream",
          "text": [
            "building tree 2 of 100\n",
            "building tree 3 of 100\n",
            "building tree 4 of 100\n",
            "building tree 5 of 100\n",
            "building tree 6 of 100\n",
            "building tree 7 of 100\n",
            "building tree 8 of 100\n",
            "building tree 9 of 100\n",
            "building tree 10 of 100\n",
            "building tree 11 of 100\n",
            "building tree 12 of 100\n",
            "building tree 13 of 100\n",
            "building tree 14 of 100\n",
            "building tree 15 of 100\n",
            "building tree 16 of 100\n",
            "building tree 17 of 100\n",
            "building tree 18 of 100\n",
            "building tree 19 of 100\n",
            "building tree 20 of 100\n",
            "building tree 21 of 100\n",
            "building tree 22 of 100\n",
            "building tree 23 of 100\n",
            "building tree 24 of 100\n",
            "building tree 25 of 100\n",
            "building tree 26 of 100\n",
            "building tree 27 of 100\n",
            "building tree 28 of 100\n",
            "building tree 29 of 100\n",
            "building tree 30 of 100\n",
            "building tree 31 of 100\n",
            "building tree 32 of 100\n",
            "building tree 33 of 100\n",
            "building tree 34 of 100\n",
            "building tree 35 of 100\n",
            "building tree 36 of 100\n",
            "building tree 37 of 100\n",
            "building tree 38 of 100\n",
            "building tree 39 of 100\n",
            "building tree 40 of 100\n",
            "building tree 41 of 100\n",
            "building tree 42 of 100\n",
            "building tree 43 of 100\n",
            "building tree 44 of 100\n",
            "building tree 45 of 100\n",
            "building tree 46 of 100\n",
            "building tree 47 of 100\n",
            "building tree 48 of 100\n",
            "building tree 49 of 100\n",
            "building tree 50 of 100\n",
            "building tree 51 of 100\n",
            "building tree 52 of 100\n",
            "building tree 53 of 100\n",
            "building tree 54 of 100\n",
            "building tree 55 of 100\n",
            "building tree 56 of 100\n",
            "building tree 57 of 100\n",
            "building tree 58 of 100\n",
            "building tree 59 of 100\n",
            "building tree 60 of 100\n",
            "building tree 61 of 100\n",
            "building tree 62 of 100\n",
            "building tree 63 of 100\n",
            "building tree 64 of 100\n",
            "building tree 65 of 100\n",
            "building tree 66 of 100\n",
            "building tree 67 of 100\n",
            "building tree 68 of 100\n",
            "building tree 69 of 100\n",
            "building tree 70 of 100\n",
            "building tree 71 of 100\n",
            "building tree 72 of 100\n",
            "building tree 73 of 100\n",
            "building tree 74 of 100\n",
            "building tree 75 of 100\n",
            "building tree 76 of 100\n",
            "building tree 77 of 100\n",
            "building tree 78 of 100\n",
            "building tree 79 of 100\n",
            "building tree 80 of 100\n",
            "building tree 81 of 100\n",
            "building tree 82 of 100\n",
            "building tree 83 of 100\n",
            "building tree 84 of 100\n",
            "building tree 85 of 100\n",
            "building tree 86 of 100\n",
            "building tree 87 of 100\n",
            "building tree 88 of 100\n",
            "building tree 89 of 100\n",
            "building tree 90 of 100\n",
            "building tree 91 of 100\n",
            "building tree 92 of 100\n",
            "building tree 93 of 100\n",
            "building tree 94 of 100\n",
            "building tree 95 of 100\n",
            "building tree 96 of 100\n",
            "building tree 97 of 100\n",
            "building tree 98 of 100\n",
            "building tree 99 of 100\n",
            "building tree 100 of 100\n"
          ],
          "name": "stdout"
        },
        {
          "output_type": "stream",
          "text": [
            "[Parallel(n_jobs=1)]: Done 100 out of 100 | elapsed:  2.9min finished\n",
            "[Parallel(n_jobs=1)]: Using backend SequentialBackend with 1 concurrent workers.\n",
            "[Parallel(n_jobs=1)]: Done   1 out of   1 | elapsed:    0.0s remaining:    0.0s\n",
            "[Parallel(n_jobs=1)]: Done 100 out of 100 | elapsed:    0.7s finished\n"
          ],
          "name": "stderr"
        },
        {
          "output_type": "execute_result",
          "data": {
            "text/plain": [
              "0.7645625"
            ]
          },
          "metadata": {
            "tags": []
          },
          "execution_count": 22
        }
      ]
    },
    {
      "cell_type": "code",
      "metadata": {
        "colab": {
          "base_uri": "https://localhost:8080/"
        },
        "id": "FhEJomM_dzQ8",
        "outputId": "768dd7bd-33d4-4144-c5a2-0885fc88d1db"
      },
      "source": [
        "recover_clf = RandomForestClassifier(random_state=42, verbose=2)\r\n",
        "recover_clf.fit(X_train_recovered, y_train)\r\n",
        "recover_clf.score(X_test_recovered, y_test)"
      ],
      "execution_count": null,
      "outputs": [
        {
          "output_type": "stream",
          "text": [
            "[Parallel(n_jobs=1)]: Using backend SequentialBackend with 1 concurrent workers.\n"
          ],
          "name": "stderr"
        },
        {
          "output_type": "stream",
          "text": [
            "building tree 1 of 100\n"
          ],
          "name": "stdout"
        },
        {
          "output_type": "stream",
          "text": [
            "[Parallel(n_jobs=1)]: Done   1 out of   1 | elapsed:    2.5s remaining:    0.0s\n"
          ],
          "name": "stderr"
        },
        {
          "output_type": "stream",
          "text": [
            "building tree 2 of 100\n",
            "building tree 3 of 100\n",
            "building tree 4 of 100\n",
            "building tree 5 of 100\n",
            "building tree 6 of 100\n",
            "building tree 7 of 100\n",
            "building tree 8 of 100\n",
            "building tree 9 of 100\n",
            "building tree 10 of 100\n",
            "building tree 11 of 100\n",
            "building tree 12 of 100\n",
            "building tree 13 of 100\n",
            "building tree 14 of 100\n",
            "building tree 15 of 100\n",
            "building tree 16 of 100\n",
            "building tree 17 of 100\n",
            "building tree 18 of 100\n",
            "building tree 19 of 100\n",
            "building tree 20 of 100\n",
            "building tree 21 of 100\n",
            "building tree 22 of 100\n",
            "building tree 23 of 100\n",
            "building tree 24 of 100\n",
            "building tree 25 of 100\n",
            "building tree 26 of 100\n",
            "building tree 27 of 100\n",
            "building tree 28 of 100\n",
            "building tree 29 of 100\n",
            "building tree 30 of 100\n",
            "building tree 31 of 100\n",
            "building tree 32 of 100\n",
            "building tree 33 of 100\n",
            "building tree 34 of 100\n",
            "building tree 35 of 100\n",
            "building tree 36 of 100\n",
            "building tree 37 of 100\n",
            "building tree 38 of 100\n",
            "building tree 39 of 100\n",
            "building tree 40 of 100\n",
            "building tree 41 of 100\n",
            "building tree 42 of 100\n",
            "building tree 43 of 100\n",
            "building tree 44 of 100\n",
            "building tree 45 of 100\n",
            "building tree 46 of 100\n",
            "building tree 47 of 100\n",
            "building tree 48 of 100\n",
            "building tree 49 of 100\n",
            "building tree 50 of 100\n",
            "building tree 51 of 100\n",
            "building tree 52 of 100\n",
            "building tree 53 of 100\n",
            "building tree 54 of 100\n",
            "building tree 55 of 100\n",
            "building tree 56 of 100\n",
            "building tree 57 of 100\n",
            "building tree 58 of 100\n",
            "building tree 59 of 100\n",
            "building tree 60 of 100\n",
            "building tree 61 of 100\n",
            "building tree 62 of 100\n",
            "building tree 63 of 100\n",
            "building tree 64 of 100\n",
            "building tree 65 of 100\n",
            "building tree 66 of 100\n",
            "building tree 67 of 100\n",
            "building tree 68 of 100\n",
            "building tree 69 of 100\n",
            "building tree 70 of 100\n",
            "building tree 71 of 100\n",
            "building tree 72 of 100\n",
            "building tree 73 of 100\n",
            "building tree 74 of 100\n",
            "building tree 75 of 100\n",
            "building tree 76 of 100\n",
            "building tree 77 of 100\n",
            "building tree 78 of 100\n",
            "building tree 79 of 100\n",
            "building tree 80 of 100\n",
            "building tree 81 of 100\n",
            "building tree 82 of 100\n",
            "building tree 83 of 100\n",
            "building tree 84 of 100\n",
            "building tree 85 of 100\n",
            "building tree 86 of 100\n",
            "building tree 87 of 100\n",
            "building tree 88 of 100\n",
            "building tree 89 of 100\n",
            "building tree 90 of 100\n",
            "building tree 91 of 100\n",
            "building tree 92 of 100\n",
            "building tree 93 of 100\n",
            "building tree 94 of 100\n",
            "building tree 95 of 100\n",
            "building tree 96 of 100\n",
            "building tree 97 of 100\n",
            "building tree 98 of 100\n",
            "building tree 99 of 100\n",
            "building tree 100 of 100\n"
          ],
          "name": "stdout"
        },
        {
          "output_type": "stream",
          "text": [
            "[Parallel(n_jobs=1)]: Done 100 out of 100 | elapsed:  4.4min finished\n",
            "[Parallel(n_jobs=1)]: Using backend SequentialBackend with 1 concurrent workers.\n",
            "[Parallel(n_jobs=1)]: Done   1 out of   1 | elapsed:    0.0s remaining:    0.0s\n",
            "[Parallel(n_jobs=1)]: Done 100 out of 100 | elapsed:    0.9s finished\n"
          ],
          "name": "stderr"
        },
        {
          "output_type": "execute_result",
          "data": {
            "text/plain": [
              "0.771"
            ]
          },
          "metadata": {
            "tags": []
          },
          "execution_count": 23
        }
      ]
    },
    {
      "cell_type": "code",
      "metadata": {
        "colab": {
          "base_uri": "https://localhost:8080/"
        },
        "id": "7Zjgq9lKmygH",
        "outputId": "b5bf0de5-1ca0-477f-db87-8e91ac13db5a"
      },
      "source": [
        "np.empty((100,)).shape"
      ],
      "execution_count": null,
      "outputs": [
        {
          "output_type": "execute_result",
          "data": {
            "text/plain": [
              "(100,)"
            ]
          },
          "metadata": {
            "tags": []
          },
          "execution_count": 30
        }
      ]
    },
    {
      "cell_type": "code",
      "metadata": {
        "id": "_pwemqpUi7MR"
      },
      "source": [
        "from sklearn.model_selection import train_test_split\r\n",
        "from sklearn.tree import DecisionTreeClassifier\r\n",
        "from sklearn.ensemble import RandomForestClassifier\r\n",
        "from sklearn.ensemble import ExtraTreesClassifier\r\n",
        "from sklearn.svm import SVC\r\n",
        "\r\n",
        "# estimators = [rnd, dt, kernel_svc, ext]\r\n",
        "def score_prepare_variance(X, y, estimators) :\r\n",
        "    n_variance = np.linspace(0.1, 1, 100)\r\n",
        "    score_p_variance = np.empty((100, len(estimators)))\r\n",
        "    n_class = np.empty((100, ), dtype=int)\r\n",
        "    for i, variance in enumerate(n_variance) :\r\n",
        "        pca_v = PCA(n_components=variance)\r\n",
        "        X_reduced = pca_v.fit_transform(X)\r\n",
        "        n_class[i] = pca_v.n_components_\r\n",
        "        X_train, X_test, y_train, y_test = train_test_split(X_reduced, y, test_size = 0.2, random_state = 42)\r\n",
        "        print('{0}/{1} epoch, dimention reduced to {2}'.format(i+1, len(n_variance), n_class[i]))\r\n",
        "        for j, clf in enumerate(estimators) :\r\n",
        "            clf.fit(X_train, y_train)\r\n",
        "            score_p_variance[i][j] = clf.score(X_test, y_test)\r\n",
        "            print('{0}/{1} fitting'.format(j+1, len(estimators)))\r\n",
        "    return score_p_variance, n_class\r\n",
        "\r\n",
        "rnd_clf = RandomForestClassifier(n_estimators=50, random_state=42)\r\n",
        "dt_clf = DecisionTreeClassifier(random_state=42)\r\n",
        "svm_clf = SVC(kernel = 'linear', random_state=42)\r\n",
        "ext_clf = ExtraTreesClassifier(n_estimators = 50, random_state=42)\r\n",
        "\r\n",
        "estimators = [rnd_clf, dt_clf, svm_clf, ext_clf]\r\n",
        "\r\n",
        "score_each_clf, n_class = score_prepare_variance(X, y, estimators=estimators)"
      ],
      "execution_count": null,
      "outputs": []
    },
    {
      "cell_type": "code",
      "metadata": {
        "colab": {
          "base_uri": "https://localhost:8080/"
        },
        "id": "eEslB_HPhoYN",
        "outputId": "4837b3ec-05d7-4b45-dda9-3cc5fa513f46"
      },
      "source": [
        "import time\r\n",
        "\r\n",
        "from sklearn.model_selection import train_test_split\r\n",
        "from sklearn.tree import DecisionTreeClassifier\r\n",
        "from sklearn.ensemble import RandomForestClassifier\r\n",
        "from sklearn.ensemble import ExtraTreesClassifier\r\n",
        "from sklearn.svm import SVC\r\n",
        "\r\n",
        "# running time prepare variance\r\n",
        "\r\n",
        "def get_time_score(X, y, clf) :\r\n",
        "    run_time = np.empty((33, ))\r\n",
        "    score = np.empty((33, ))\r\n",
        "    n_component = np.empty((33, ))\r\n",
        "    n_variance = np.linspace(0.03, 0.99, 33)\r\n",
        "    for index, variance in enumerate(n_variance) :\r\n",
        "        pca_t = PCA(n_components = variance)\r\n",
        "        X_reduced = pca_t.fit_transform(X)\r\n",
        "        n_component[index] = pca_t.n_components_\r\n",
        "        X_train, X_test, y_train, y_test = train_test_split(X_reduced, y, test_size = 0.2, random_state = 42)\r\n",
        "        start = time.time()\r\n",
        "        clf.fit(X_train, y_train)\r\n",
        "        run_time[index] = (time.time()-start)\r\n",
        "        score[index] = clf.score(X_test, y_test)\r\n",
        "        print('{0}/{1} training complete'.format(index+1, len(n_variance)))\r\n",
        "    return run_time, score, n_component\r\n",
        "\r\n",
        "time_per_variance, score_per_variance, component_per_variance = get_time_score(X, y, DecisionTreeClassifier(random_state = 42))"
      ],
      "execution_count": 41,
      "outputs": [
        {
          "output_type": "stream",
          "text": [
            "1/33 training complete\n",
            "2/33 training complete\n",
            "3/33 training complete\n",
            "4/33 training complete\n",
            "5/33 training complete\n",
            "6/33 training complete\n",
            "7/33 training complete\n",
            "8/33 training complete\n",
            "9/33 training complete\n",
            "10/33 training complete\n",
            "11/33 training complete\n",
            "12/33 training complete\n",
            "13/33 training complete\n",
            "14/33 training complete\n",
            "15/33 training complete\n",
            "16/33 training complete\n",
            "17/33 training complete\n",
            "18/33 training complete\n",
            "19/33 training complete\n",
            "20/33 training complete\n",
            "21/33 training complete\n",
            "22/33 training complete\n",
            "23/33 training complete\n",
            "24/33 training complete\n",
            "25/33 training complete\n",
            "26/33 training complete\n",
            "27/33 training complete\n",
            "28/33 training complete\n",
            "29/33 training complete\n",
            "30/33 training complete\n",
            "31/33 training complete\n",
            "32/33 training complete\n",
            "33/33 training complete\n"
          ],
          "name": "stdout"
        }
      ]
    },
    {
      "cell_type": "code",
      "metadata": {
        "colab": {
          "base_uri": "https://localhost:8080/"
        },
        "id": "R-MylQ0OxCWn",
        "outputId": "ac6036df-056a-48c4-eadc-d695dbf44d9c"
      },
      "source": [
        "time_per_variance = time_per_variance/60\r\n",
        "time_per_variance"
      ],
      "execution_count": 54,
      "outputs": [
        {
          "output_type": "execute_result",
          "data": {
            "text/plain": [
              "array([0.00462149, 0.00463045, 0.00652605, 0.00924858, 0.01203124,\n",
              "       0.01448911, 0.01704706, 0.02269825, 0.02896188, 0.03517847,\n",
              "       0.04112906, 0.05216148, 0.06366662, 0.07665238, 0.08766003,\n",
              "       0.10535075, 0.12159548, 0.13900448, 0.16766676, 0.18435257,\n",
              "       0.21665568, 0.24937445, 0.28921619, 0.33064408, 0.4379673 ,\n",
              "       0.4356438 , 0.50097172, 0.58670056, 0.68687368, 0.81462281,\n",
              "       0.98805428, 1.28359649, 1.88488047])"
            ]
          },
          "metadata": {
            "tags": []
          },
          "execution_count": 54
        }
      ]
    },
    {
      "cell_type": "code",
      "metadata": {
        "colab": {
          "base_uri": "https://localhost:8080/"
        },
        "id": "9vvhEA9vxJp7",
        "outputId": "922eb255-df36-4ef5-d6bb-46bf918a7ddb"
      },
      "source": [
        "score_per_variance"
      ],
      "execution_count": 43,
      "outputs": [
        {
          "output_type": "execute_result",
          "data": {
            "text/plain": [
              "array([0.2783125, 0.2783125, 0.3509375, 0.491375 , 0.528125 , 0.5515625,\n",
              "       0.586625 , 0.62275  , 0.6401875, 0.6513125, 0.6560625, 0.6531875,\n",
              "       0.6488125, 0.6485   , 0.648875 , 0.6485   , 0.6455625, 0.646875 ,\n",
              "       0.647    , 0.639875 , 0.63925  , 0.6391875, 0.634625 , 0.63175  ,\n",
              "       0.6293125, 0.631375 , 0.6314375, 0.6253125, 0.6226875, 0.6231875,\n",
              "       0.620875 , 0.6145625, 0.613375 ])"
            ]
          },
          "metadata": {
            "tags": []
          },
          "execution_count": 43
        }
      ]
    },
    {
      "cell_type": "code",
      "metadata": {
        "colab": {
          "base_uri": "https://localhost:8080/"
        },
        "id": "NNV6ZyUjxQ8h",
        "outputId": "ba37d8c4-06b9-44eb-bf2e-c7625658f7f6"
      },
      "source": [
        "component_per_variance"
      ],
      "execution_count": 44,
      "outputs": [
        {
          "output_type": "execute_result",
          "data": {
            "text/plain": [
              "array([  1.,   1.,   2.,   3.,   4.,   5.,   6.,   8.,  10.,  12.,  14.,\n",
              "        17.,  20.,  24.,  27.,  32.,  36.,  41.,  47.,  53.,  60.,  68.,\n",
              "        77.,  87.,  98., 111., 127., 145., 168., 197., 237., 299., 430.])"
            ]
          },
          "metadata": {
            "tags": []
          },
          "execution_count": 44
        }
      ]
    },
    {
      "cell_type": "code",
      "metadata": {
        "id": "gh42A3SlxXLJ"
      },
      "source": [
        "pca = PCA(n_components=0.95)\r\n",
        "X_b = pca.fit_transform(X)"
      ],
      "execution_count": 45,
      "outputs": []
    },
    {
      "cell_type": "code",
      "metadata": {
        "colab": {
          "base_uri": "https://localhost:8080/"
        },
        "id": "I_a2SvFDyBsW",
        "outputId": "20c67e6d-480f-4484-ce0e-db1e68ce4b21"
      },
      "source": [
        "pca.n_components"
      ],
      "execution_count": 40,
      "outputs": [
        {
          "output_type": "execute_result",
          "data": {
            "text/plain": [
              "0.95"
            ]
          },
          "metadata": {
            "tags": []
          },
          "execution_count": 40
        }
      ]
    },
    {
      "cell_type": "code",
      "metadata": {
        "colab": {
          "base_uri": "https://localhost:8080/",
          "height": 311
        },
        "id": "rihu8vqs-9Cn",
        "outputId": "01183331-41f3-4b43-db9e-d4e16123b854"
      },
      "source": [
        "def plot_score_variance(score, clf):\r\n",
        "    best_score_feature = np.argmax(score)\r\n",
        "    plt.scatter(best_score_feature, score[best_score_feature], c = 'k')\r\n",
        "    plt.text(best_score_feature+15, score[best_score_feature]-0.005, '{:.2f}'.format(score[best_score_feature]*100)+'%', color='k', horizontalalignment = 'left',verticalalignment='bottom')\r\n",
        "    plt.plot(component_per_variance, score, '-r')\r\n",
        "    plt.title('Score per n_feature\\n({})'.format(clf))\r\n",
        "    plt.xlabel('n_feature')\r\n",
        "    plt.ylabel('Score')\r\n",
        "    \r\n",
        "plot_score_variance(score_per_variance, 'DecisionTreeClassifier')"
      ],
      "execution_count": 103,
      "outputs": [
        {
          "output_type": "display_data",
          "data": {
            "image/png": "[encoded data removed]",
            "text/plain": [
              "<Figure size 432x288 with 1 Axes>"
            ]
          },
          "metadata": {
            "tags": [],
            "needs_background": "light"
          }
        }
      ]
    },
    {
      "cell_type": "code",
      "metadata": {
        "colab": {
          "base_uri": "https://localhost:8080/",
          "height": 311
        },
        "id": "5I_7oTeVGEvE",
        "outputId": "fe2c76d5-745d-4ac9-9eb5-12bd006ab737"
      },
      "source": [
        "def plot_time_variance(time_per_variance, clf) :\r\n",
        "    plt.plot(component_per_variance, time_per_variance)\r\n",
        "    plt.scatter(best_score_feature, time_per_variance[best_score_feature], c = 'g')\r\n",
        "    plt.text(best_score_feature, time_per_variance[best_score_feature]+0.1, '{:.3f}'.format(time_per_variance[best_score_feature]), color='k', horizontalalignment = 'center',verticalalignment='bottom')\r\n",
        "    plt.scatter(component_per_variance[32], time_per_variance[32], c = 'r')\r\n",
        "    plt.text(component_per_variance[32], time_per_variance[32]-0.1, '{:.3f}'.format(time_per_variance[32]), color='k', horizontalalignment = 'center',verticalalignment='top')\r\n",
        "    plt.title('Score per n_feature\\n({})'.format(clf))\r\n",
        "    plt.xlabel('n_feature')\r\n",
        "    plt.ylabel('Duration Time (min)')\r\n",
        "\r\n",
        "plot_time_variance(time_per_variance, 'DecisionTreeClassifier')"
      ],
      "execution_count": 105,
      "outputs": [
        {
          "output_type": "display_data",
          "data": {
            "image/png": "[encoded data removed]",
            "text/plain": [
              "<Figure size 432x288 with 1 Axes>"
            ]
          },
          "metadata": {
            "tags": [],
            "needs_background": "light"
          }
        }
      ]
    },
    {
      "cell_type": "code",
      "metadata": {
        "colab": {
          "base_uri": "https://localhost:8080/",
          "height": 313
        },
        "id": "Qs40VNWAKQjQ",
        "outputId": "87ef8681-2a79-437c-d806-35a1f69bed39"
      },
      "source": [
        "plt.plot(n_variance, np.flip(component_per_variance))\r\n",
        "plt.title('n_feature per variance')\r\n",
        "plt.xlabel('variance')\r\n",
        "plt.ylabel('n_feature')"
      ],
      "execution_count": 106,
      "outputs": [
        {
          "output_type": "execute_result",
          "data": {
            "text/plain": [
              "Text(0, 0.5, 'n_feature')"
            ]
          },
          "metadata": {
            "tags": []
          },
          "execution_count": 106
        },
        {
          "output_type": "display_data",
          "data": {
            "image/png": "[encoded data removed]",
            "text/plain": [
              "<Figure size 432x288 with 1 Axes>"
            ]
          },
          "metadata": {
            "tags": [],
            "needs_background": "light"
          }
        }
      ]
    },
    {
      "cell_type": "code",
      "metadata": {
        "colab": {
          "base_uri": "https://localhost:8080/"
        },
        "id": "eDL0wSV3K2ec",
        "outputId": "56d2df22-efe8-4e51-e421-7b0f68aa6618"
      },
      "source": [
        "rnd_time_per_variance, rnd_score_per_variance, rnd_component_per_variance = get_time_score(X, y, RandomForestClassifier(random_state = 42))"
      ],
      "execution_count": 107,
      "outputs": [
        {
          "output_type": "stream",
          "text": [
            "1/33 training complete\n",
            "2/33 training complete\n",
            "3/33 training complete\n",
            "4/33 training complete\n",
            "5/33 training complete\n",
            "6/33 training complete\n",
            "7/33 training complete\n",
            "8/33 training complete\n",
            "9/33 training complete\n",
            "10/33 training complete\n",
            "11/33 training complete\n",
            "12/33 training complete\n",
            "13/33 training complete\n",
            "14/33 training complete\n",
            "15/33 training complete\n",
            "16/33 training complete\n",
            "17/33 training complete\n",
            "18/33 training complete\n",
            "19/33 training complete\n",
            "20/33 training complete\n",
            "21/33 training complete\n",
            "22/33 training complete\n",
            "23/33 training complete\n",
            "24/33 training complete\n",
            "25/33 training complete\n",
            "26/33 training complete\n",
            "27/33 training complete\n",
            "28/33 training complete\n",
            "29/33 training complete\n",
            "30/33 training complete\n",
            "31/33 training complete\n",
            "32/33 training complete\n",
            "33/33 training complete\n"
          ],
          "name": "stdout"
        }
      ]
    },
    {
      "cell_type": "code",
      "metadata": {
        "colab": {
          "base_uri": "https://localhost:8080/",
          "height": 311
        },
        "id": "3deuuL2hTDsm",
        "outputId": "cf1990e2-8b51-4773-fa3e-1b82cb610039"
      },
      "source": [
        "plot_score_variance(rnd_score_per_variance, 'RandomForestClassifier')"
      ],
      "execution_count": 108,
      "outputs": [
        {
          "output_type": "display_data",
          "data": {
            "image/png": "[encoded data removed]",
            "text/plain": [
              "<Figure size 432x288 with 1 Axes>"
            ]
          },
          "metadata": {
            "tags": [],
            "needs_background": "light"
          }
        }
      ]
    },
    {
      "cell_type": "code",
      "metadata": {
        "colab": {
          "base_uri": "https://localhost:8080/",
          "height": 311
        },
        "id": "cYpp78YQTINz",
        "outputId": "e3731af1-37b7-44d0-c301-ed979ba65662"
      },
      "source": [
        "rnd_time_per_variance = rnd_time_per_variance/60\r\n",
        "plot_time_variance(rnd_time_per_variance, 'RandomForestClassifier')"
      ],
      "execution_count": 111,
      "outputs": [
        {
          "output_type": "display_data",
          "data": {
            "image/png": "[encoded data removed]",
            "text/plain": [
              "<Figure size 432x288 with 1 Axes>"
            ]
          },
          "metadata": {
            "tags": [],
            "needs_background": "light"
          }
        }
      ]
    },
    {
      "cell_type": "code",
      "metadata": {
        "colab": {
          "base_uri": "https://localhost:8080/",
          "height": 358
        },
        "id": "1ru2wlebTRXr",
        "outputId": "74c4b8f9-84d9-4294-9bdf-dfac2df103b9"
      },
      "source": [
        "from sklearn.svm import LinearSVC\r\n",
        "svm_time_per_variance, svm_score_per_variance, svm_component_per_variance = get_time_score(X, y, LinearSVC(random_state = 42))"
      ],
      "execution_count": 110,
      "outputs": [
        {
          "output_type": "error",
          "ename": "KeyboardInterrupt",
          "evalue": "ignored",
          "traceback": [
            "\u001b[0;31m---------------------------------------------------------------------------\u001b[0m",
            "\u001b[0;31mKeyboardInterrupt\u001b[0m                         Traceback (most recent call last)",
            "\u001b[0;32m<ipython-input-110-7845db6fd190>\u001b[0m in \u001b[0;36m<module>\u001b[0;34m()\u001b[0m\n\u001b[1;32m      1\u001b[0m \u001b[0;32mfrom\u001b[0m \u001b[0msklearn\u001b[0m\u001b[0;34m.\u001b[0m\u001b[0msvm\u001b[0m \u001b[0;32mimport\u001b[0m \u001b[0mLinearSVC\u001b[0m\u001b[0;34m\u001b[0m\u001b[0;34m\u001b[0m\u001b[0m\n\u001b[0;32m----> 2\u001b[0;31m \u001b[0msvm_time_per_variance\u001b[0m\u001b[0;34m,\u001b[0m \u001b[0msvm_score_per_variance\u001b[0m\u001b[0;34m,\u001b[0m \u001b[0msvm_component_per_variance\u001b[0m \u001b[0;34m=\u001b[0m \u001b[0mget_time_score\u001b[0m\u001b[0;34m(\u001b[0m\u001b[0mX\u001b[0m\u001b[0;34m,\u001b[0m \u001b[0my\u001b[0m\u001b[0;34m,\u001b[0m \u001b[0mLinearSVC\u001b[0m\u001b[0;34m(\u001b[0m\u001b[0mrandom_state\u001b[0m \u001b[0;34m=\u001b[0m \u001b[0;36m42\u001b[0m\u001b[0;34m)\u001b[0m\u001b[0;34m)\u001b[0m\u001b[0;34m\u001b[0m\u001b[0;34m\u001b[0m\u001b[0m\n\u001b[0m",
            "\u001b[0;32m<ipython-input-41-5aa9dd6d13de>\u001b[0m in \u001b[0;36mget_time_score\u001b[0;34m(X, y, clf)\u001b[0m\n\u001b[1;32m     20\u001b[0m         \u001b[0mX_train\u001b[0m\u001b[0;34m,\u001b[0m \u001b[0mX_test\u001b[0m\u001b[0;34m,\u001b[0m \u001b[0my_train\u001b[0m\u001b[0;34m,\u001b[0m \u001b[0my_test\u001b[0m \u001b[0;34m=\u001b[0m \u001b[0mtrain_test_split\u001b[0m\u001b[0;34m(\u001b[0m\u001b[0mX_reduced\u001b[0m\u001b[0;34m,\u001b[0m \u001b[0my\u001b[0m\u001b[0;34m,\u001b[0m \u001b[0mtest_size\u001b[0m \u001b[0;34m=\u001b[0m \u001b[0;36m0.2\u001b[0m\u001b[0;34m,\u001b[0m \u001b[0mrandom_state\u001b[0m \u001b[0;34m=\u001b[0m \u001b[0;36m42\u001b[0m\u001b[0;34m)\u001b[0m\u001b[0;34m\u001b[0m\u001b[0;34m\u001b[0m\u001b[0m\n\u001b[1;32m     21\u001b[0m         \u001b[0mstart\u001b[0m \u001b[0;34m=\u001b[0m \u001b[0mtime\u001b[0m\u001b[0;34m.\u001b[0m\u001b[0mtime\u001b[0m\u001b[0;34m(\u001b[0m\u001b[0;34m)\u001b[0m\u001b[0;34m\u001b[0m\u001b[0;34m\u001b[0m\u001b[0m\n\u001b[0;32m---> 22\u001b[0;31m         \u001b[0mclf\u001b[0m\u001b[0;34m.\u001b[0m\u001b[0mfit\u001b[0m\u001b[0;34m(\u001b[0m\u001b[0mX_train\u001b[0m\u001b[0;34m,\u001b[0m \u001b[0my_train\u001b[0m\u001b[0;34m)\u001b[0m\u001b[0;34m\u001b[0m\u001b[0;34m\u001b[0m\u001b[0m\n\u001b[0m\u001b[1;32m     23\u001b[0m         \u001b[0mrun_time\u001b[0m\u001b[0;34m[\u001b[0m\u001b[0mindex\u001b[0m\u001b[0;34m]\u001b[0m \u001b[0;34m=\u001b[0m \u001b[0;34m(\u001b[0m\u001b[0mtime\u001b[0m\u001b[0;34m.\u001b[0m\u001b[0mtime\u001b[0m\u001b[0;34m(\u001b[0m\u001b[0;34m)\u001b[0m\u001b[0;34m-\u001b[0m\u001b[0mstart\u001b[0m\u001b[0;34m)\u001b[0m\u001b[0;34m\u001b[0m\u001b[0;34m\u001b[0m\u001b[0m\n\u001b[1;32m     24\u001b[0m         \u001b[0mscore\u001b[0m\u001b[0;34m[\u001b[0m\u001b[0mindex\u001b[0m\u001b[0;34m]\u001b[0m \u001b[0;34m=\u001b[0m \u001b[0mclf\u001b[0m\u001b[0;34m.\u001b[0m\u001b[0mscore\u001b[0m\u001b[0;34m(\u001b[0m\u001b[0mX_test\u001b[0m\u001b[0;34m,\u001b[0m \u001b[0my_test\u001b[0m\u001b[0;34m)\u001b[0m\u001b[0;34m\u001b[0m\u001b[0;34m\u001b[0m\u001b[0m\n",
            "\u001b[0;32m/usr/local/lib/python3.6/dist-packages/sklearn/svm/_classes.py\u001b[0m in \u001b[0;36mfit\u001b[0;34m(self, X, y, sample_weight)\u001b[0m\n\u001b[1;32m    241\u001b[0m             \u001b[0mself\u001b[0m\u001b[0;34m.\u001b[0m\u001b[0mclass_weight\u001b[0m\u001b[0;34m,\u001b[0m \u001b[0mself\u001b[0m\u001b[0;34m.\u001b[0m\u001b[0mpenalty\u001b[0m\u001b[0;34m,\u001b[0m \u001b[0mself\u001b[0m\u001b[0;34m.\u001b[0m\u001b[0mdual\u001b[0m\u001b[0;34m,\u001b[0m \u001b[0mself\u001b[0m\u001b[0;34m.\u001b[0m\u001b[0mverbose\u001b[0m\u001b[0;34m,\u001b[0m\u001b[0;34m\u001b[0m\u001b[0;34m\u001b[0m\u001b[0m\n\u001b[1;32m    242\u001b[0m             \u001b[0mself\u001b[0m\u001b[0;34m.\u001b[0m\u001b[0mmax_iter\u001b[0m\u001b[0;34m,\u001b[0m \u001b[0mself\u001b[0m\u001b[0;34m.\u001b[0m\u001b[0mtol\u001b[0m\u001b[0;34m,\u001b[0m \u001b[0mself\u001b[0m\u001b[0;34m.\u001b[0m\u001b[0mrandom_state\u001b[0m\u001b[0;34m,\u001b[0m \u001b[0mself\u001b[0m\u001b[0;34m.\u001b[0m\u001b[0mmulti_class\u001b[0m\u001b[0;34m,\u001b[0m\u001b[0;34m\u001b[0m\u001b[0;34m\u001b[0m\u001b[0m\n\u001b[0;32m--> 243\u001b[0;31m             self.loss, sample_weight=sample_weight)\n\u001b[0m\u001b[1;32m    244\u001b[0m \u001b[0;34m\u001b[0m\u001b[0m\n\u001b[1;32m    245\u001b[0m         \u001b[0;32mif\u001b[0m \u001b[0mself\u001b[0m\u001b[0;34m.\u001b[0m\u001b[0mmulti_class\u001b[0m \u001b[0;34m==\u001b[0m \u001b[0;34m\"crammer_singer\"\u001b[0m \u001b[0;32mand\u001b[0m \u001b[0mlen\u001b[0m\u001b[0;34m(\u001b[0m\u001b[0mself\u001b[0m\u001b[0;34m.\u001b[0m\u001b[0mclasses_\u001b[0m\u001b[0;34m)\u001b[0m \u001b[0;34m==\u001b[0m \u001b[0;36m2\u001b[0m\u001b[0;34m:\u001b[0m\u001b[0;34m\u001b[0m\u001b[0;34m\u001b[0m\u001b[0m\n",
            "\u001b[0;32m/usr/local/lib/python3.6/dist-packages/sklearn/svm/_base.py\u001b[0m in \u001b[0;36m_fit_liblinear\u001b[0;34m(X, y, C, fit_intercept, intercept_scaling, class_weight, penalty, dual, verbose, max_iter, tol, random_state, multi_class, loss, epsilon, sample_weight)\u001b[0m\n\u001b[1;32m    937\u001b[0m         \u001b[0mX\u001b[0m\u001b[0;34m,\u001b[0m \u001b[0my_ind\u001b[0m\u001b[0;34m,\u001b[0m \u001b[0msp\u001b[0m\u001b[0;34m.\u001b[0m\u001b[0misspmatrix\u001b[0m\u001b[0;34m(\u001b[0m\u001b[0mX\u001b[0m\u001b[0;34m)\u001b[0m\u001b[0;34m,\u001b[0m \u001b[0msolver_type\u001b[0m\u001b[0;34m,\u001b[0m \u001b[0mtol\u001b[0m\u001b[0;34m,\u001b[0m \u001b[0mbias\u001b[0m\u001b[0;34m,\u001b[0m \u001b[0mC\u001b[0m\u001b[0;34m,\u001b[0m\u001b[0;34m\u001b[0m\u001b[0;34m\u001b[0m\u001b[0m\n\u001b[1;32m    938\u001b[0m         \u001b[0mclass_weight_\u001b[0m\u001b[0;34m,\u001b[0m \u001b[0mmax_iter\u001b[0m\u001b[0;34m,\u001b[0m \u001b[0mrnd\u001b[0m\u001b[0;34m.\u001b[0m\u001b[0mrandint\u001b[0m\u001b[0;34m(\u001b[0m\u001b[0mnp\u001b[0m\u001b[0;34m.\u001b[0m\u001b[0miinfo\u001b[0m\u001b[0;34m(\u001b[0m\u001b[0;34m'i'\u001b[0m\u001b[0;34m)\u001b[0m\u001b[0;34m.\u001b[0m\u001b[0mmax\u001b[0m\u001b[0;34m)\u001b[0m\u001b[0;34m,\u001b[0m\u001b[0;34m\u001b[0m\u001b[0;34m\u001b[0m\u001b[0m\n\u001b[0;32m--> 939\u001b[0;31m         epsilon, sample_weight)\n\u001b[0m\u001b[1;32m    940\u001b[0m     \u001b[0;31m# Regarding rnd.randint(..) in the above signature:\u001b[0m\u001b[0;34m\u001b[0m\u001b[0;34m\u001b[0m\u001b[0;34m\u001b[0m\u001b[0m\n\u001b[1;32m    941\u001b[0m     \u001b[0;31m# seed for srand in range [0..INT_MAX); due to limitations in Numpy\u001b[0m\u001b[0;34m\u001b[0m\u001b[0;34m\u001b[0m\u001b[0;34m\u001b[0m\u001b[0m\n",
            "\u001b[0;31mKeyboardInterrupt\u001b[0m: "
          ]
        }
      ]
    }
  ]
}