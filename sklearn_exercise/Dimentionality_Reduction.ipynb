{
  "nbformat": 4,
  "nbformat_minor": 0,
  "metadata": {
    "colab": {
      "name": "Dimentionality_Reduction.ipynb",
      "provenance": [],
      "collapsed_sections": [],
      "mount_file_id": "1d9g7wMSe_Bh9ZjaqCXFP7aI31jgmqiVV",
      "authorship_tag": "ABX9TyM9BVVibIbIw2TzA+YMSRTe",
      "include_colab_link": true
    },
    "kernelspec": {
      "name": "python3",
      "display_name": "Python 3"
    }
  },
  "cells": [
    {
      "cell_type": "markdown",
      "metadata": {
        "id": "view-in-github",
        "colab_type": "text"
      },
      "source": [
        "<a href=\"https://colab.research.google.com/github/ykykyk112/machine_learning/blob/main/sklearn_exercise/Dimentionality_Reduction.ipynb\" target=\"_parent\"><img src=\"https://colab.research.google.com/assets/colab-badge.svg\" alt=\"Open In Colab\"/></a>"
      ]
    },
    {
      "cell_type": "code",
      "metadata": {
        "id": "_KczYFwirZcS"
      },
      "source": [
        "from sklearn.decomposition import PCA\r\n",
        "import numpy as np\r\n",
        "import matplotlib.pyplot as plt"
      ],
      "execution_count": 17,
      "outputs": []
    },
    {
      "cell_type": "code",
      "metadata": {
        "id": "7Gyr-eASr96L",
        "colab": {
          "base_uri": "https://localhost:8080/"
        },
        "outputId": "2e0e5e0e-d340-4a79-a0f0-5f4aa1393c95"
      },
      "source": [
        "def make_ndarray(target_list, each_size) :\r\n",
        "    # 784 means bitmap size\r\n",
        "    data = np.empty((len(target_list)*each_size, 784))\r\n",
        "    target = np.empty((len(target_list)*each_size))\r\n",
        "    for label, filename in enumerate(target_list) :\r\n",
        "        npy = np.load('/content/drive/MyDrive/Colab_Notebooks/quickdraw/{}.npy'.format(filename))\r\n",
        "        tmp = np.arange(npy.shape[0])\r\n",
        "        idx = np.random.choice(tmp, each_size, replace=False)\r\n",
        "        data[label*each_size:(label+1)*each_size] = npy[idx]\r\n",
        "        target[label*each_size:(label+1)*each_size] = label\r\n",
        "        print('{} is Complete'.format(filename))\r\n",
        "    s_idx = np.arange(target.shape[0])\r\n",
        "    np.random.shuffle(s_idx)\r\n",
        "    data = data[s_idx]\r\n",
        "    target = target[s_idx]\r\n",
        "    print('result shape : {0} & {1}'.format(data.shape, target.shape))\r\n",
        "    return data, target\r\n",
        "\r\n",
        "target_list = ['ant', 'bicycle', 'bird', 'butterfly', 'camel', 'clock', 'cow', 'diamond']\r\n",
        "data, target = make_ndarray(target_list=target_list, each_size=10000)"
      ],
      "execution_count": 18,
      "outputs": [
        {
          "output_type": "stream",
          "text": [
            "ant is Complete\n",
            "bicycle is Complete\n",
            "bird is Complete\n",
            "butterfly is Complete\n",
            "camel is Complete\n",
            "clock is Complete\n",
            "cow is Complete\n",
            "diamond is Complete\n",
            "result shape : (80000, 784) & (80000,)\n"
          ],
          "name": "stdout"
        }
      ]
    },
    {
      "cell_type": "code",
      "metadata": {
        "id": "Z2jIZ7FdsY4A"
      },
      "source": [
        "X = data\r\n",
        "y = target"
      ],
      "execution_count": 19,
      "outputs": []
    },
    {
      "cell_type": "code",
      "metadata": {
        "colab": {
          "base_uri": "https://localhost:8080/"
        },
        "id": "ZotgiXXYslEA",
        "outputId": "5df5bafe-8e00-4bfb-9cb8-7f12886c790c"
      },
      "source": [
        "X.shape"
      ],
      "execution_count": 20,
      "outputs": [
        {
          "output_type": "execute_result",
          "data": {
            "text/plain": [
              "(80000, 784)"
            ]
          },
          "metadata": {
            "tags": []
          },
          "execution_count": 20
        }
      ]
    },
    {
      "cell_type": "code",
      "metadata": {
        "id": "TJzMZduFsp7E"
      },
      "source": [
        "pca = PCA(n_components=0.95, random_state=42)"
      ],
      "execution_count": 21,
      "outputs": []
    },
    {
      "cell_type": "code",
      "metadata": {
        "id": "oXE9x1g8szPT"
      },
      "source": [
        "sample = X[0].reshape(28, 28)"
      ],
      "execution_count": 22,
      "outputs": []
    },
    {
      "cell_type": "code",
      "metadata": {
        "colab": {
          "base_uri": "https://localhost:8080/",
          "height": 283
        },
        "id": "MkZ_M5TMt1xs",
        "outputId": "b3b93e92-c765-47d9-de9d-5ea7359faab7"
      },
      "source": [
        "plt.imshow(sample, cmap = 'binary')"
      ],
      "execution_count": 23,
      "outputs": [
        {
          "output_type": "execute_result",
          "data": {
            "text/plain": [
              "<matplotlib.image.AxesImage at 0x7f1c03f38e10>"
            ]
          },
          "metadata": {
            "tags": []
          },
          "execution_count": 23
        },
        {
          "output_type": "display_data",
          "data": {
            "image/png": "[encoded data removed]",
            "text/plain": [
              "<Figure size 432x288 with 1 Axes>"
            ]
          },
          "metadata": {
            "tags": [],
            "needs_background": "light"
          }
        }
      ]
    },
    {
      "cell_type": "code",
      "metadata": {
        "id": "VHC0MCiXt9rd"
      },
      "source": [
        "X_reduced = pca.fit_transform(X)"
      ],
      "execution_count": 24,
      "outputs": []
    },
    {
      "cell_type": "code",
      "metadata": {
        "colab": {
          "base_uri": "https://localhost:8080/"
        },
        "id": "s0l1HylLuRSK",
        "outputId": "b13b25f8-c33e-4b6f-895f-cae136cc4849"
      },
      "source": [
        "X_reduced.shape"
      ],
      "execution_count": 25,
      "outputs": [
        {
          "output_type": "execute_result",
          "data": {
            "text/plain": [
              "(80000, 275)"
            ]
          },
          "metadata": {
            "tags": []
          },
          "execution_count": 25
        }
      ]
    },
    {
      "cell_type": "code",
      "metadata": {
        "colab": {
          "base_uri": "https://localhost:8080/"
        },
        "id": "Lrx4JCwHtEXr",
        "outputId": "712f73bf-dd48-4677-dd92-93d67a66d5b9"
      },
      "source": [
        "pca.explained_variance_ratio_"
      ],
      "execution_count": 26,
      "outputs": [
        {
          "output_type": "execute_result",
          "data": {
            "text/plain": [
              "array([0.07385316, 0.03796082, 0.03230328, 0.02752429, 0.02598325,\n",
              "       0.02209847, 0.01843401, 0.01701421, 0.01477397, 0.01453384,\n",
              "       0.01325261, 0.01262214, 0.01182524, 0.01142948, 0.01130032,\n",
              "       0.0106279 , 0.01047718, 0.00997799, 0.00911901, 0.00906584,\n",
              "       0.0087728 , 0.00857714, 0.0083123 , 0.00795087, 0.0078374 ,\n",
              "       0.00778259, 0.00752237, 0.00733586, 0.00713405, 0.00689838,\n",
              "       0.00681444, 0.00676071, 0.00637802, 0.00632935, 0.00628503,\n",
              "       0.006146  , 0.00608909, 0.00604221, 0.0058223 , 0.0057297 ,\n",
              "       0.00563311, 0.00554281, 0.0054186 , 0.00534752, 0.00530233,\n",
              "       0.00523716, 0.00506284, 0.00497757, 0.00490747, 0.00479714,\n",
              "       0.00470504, 0.00458348, 0.00449622, 0.00443185, 0.00437947,\n",
              "       0.00437309, 0.00429439, 0.00420347, 0.00415174, 0.00410771,\n",
              "       0.00404176, 0.00393595, 0.00391816, 0.00387076, 0.00381324,\n",
              "       0.00374902, 0.00367596, 0.00358433, 0.00357921, 0.0035088 ,\n",
              "       0.00348012, 0.00345363, 0.00339407, 0.00335367, 0.00331677,\n",
              "       0.00328133, 0.00323189, 0.00319682, 0.00313278, 0.00310943,\n",
              "       0.00308529, 0.00304413, 0.00300632, 0.00293966, 0.00291885,\n",
              "       0.0028826 , 0.00284039, 0.00280548, 0.00277792, 0.00271361,\n",
              "       0.00270903, 0.00265819, 0.00262674, 0.00262483, 0.00258849,\n",
              "       0.00250997, 0.00247554, 0.00245705, 0.0024433 , 0.00241166,\n",
              "       0.00239498, 0.00236871, 0.00234212, 0.00232959, 0.00229518,\n",
              "       0.00225558, 0.00225024, 0.00221889, 0.002216  , 0.00217041,\n",
              "       0.00213537, 0.00212185, 0.0020994 , 0.00205038, 0.00202389,\n",
              "       0.00200628, 0.00199233, 0.00198297, 0.00194908, 0.00193538,\n",
              "       0.00189875, 0.00187239, 0.00187013, 0.00183423, 0.0018207 ,\n",
              "       0.00181016, 0.00177916, 0.00175911, 0.00175319, 0.00173529,\n",
              "       0.00171863, 0.00169211, 0.00168044, 0.00166464, 0.00163235,\n",
              "       0.00161432, 0.00159911, 0.00159189, 0.00157802, 0.001542  ,\n",
              "       0.00153343, 0.00150652, 0.00149744, 0.00148456, 0.00147181,\n",
              "       0.00146869, 0.00143448, 0.00142395, 0.00140606, 0.00139732,\n",
              "       0.0013915 , 0.00138521, 0.00136754, 0.00134487, 0.00134203,\n",
              "       0.00132408, 0.00130575, 0.0012976 , 0.00127947, 0.00125883,\n",
              "       0.00124128, 0.00123516, 0.0012255 , 0.00121644, 0.00120522,\n",
              "       0.00120426, 0.00119292, 0.00118287, 0.00116742, 0.00115963,\n",
              "       0.00112762, 0.00112025, 0.00111204, 0.00110521, 0.00109456,\n",
              "       0.00108068, 0.00107001, 0.00105971, 0.00104662, 0.00103889,\n",
              "       0.00102643, 0.00101728, 0.00101032, 0.00099366, 0.00098594,\n",
              "       0.00098248, 0.00096654, 0.00096343, 0.00095771, 0.00094124,\n",
              "       0.0009339 , 0.00093073, 0.00092061, 0.00091844, 0.00090787,\n",
              "       0.00090189, 0.00088751, 0.00088187, 0.00087076, 0.00086439,\n",
              "       0.00085883, 0.0008485 , 0.00083737, 0.00082696, 0.00082208,\n",
              "       0.0008215 , 0.00081844, 0.00080585, 0.00079872, 0.00079699,\n",
              "       0.00078673, 0.00077629, 0.00076867, 0.00076284, 0.00075103,\n",
              "       0.00074628, 0.00073693, 0.00073495, 0.00072918, 0.00072214,\n",
              "       0.00071885, 0.00070415, 0.00070222, 0.00069235, 0.000687  ,\n",
              "       0.00068487, 0.00067991, 0.00067503, 0.00067426, 0.00066783,\n",
              "       0.00066545, 0.00065483, 0.00065212, 0.00064096, 0.0006326 ,\n",
              "       0.00063139, 0.00062637, 0.00061982, 0.00061551, 0.00060562,\n",
              "       0.0006015 , 0.00059259, 0.00059207, 0.00058517, 0.00057746,\n",
              "       0.0005667 , 0.00056206, 0.00056008, 0.00055565, 0.00054935,\n",
              "       0.00054789, 0.00054483, 0.00054289, 0.00053895, 0.0005359 ,\n",
              "       0.00052946, 0.00052917, 0.00052138, 0.00051746, 0.00051412,\n",
              "       0.00051168, 0.00050431, 0.00049938, 0.00049684, 0.00049317,\n",
              "       0.00049091, 0.00048581, 0.00048469, 0.00048348, 0.00047461,\n",
              "       0.00047239, 0.00046714, 0.00046255, 0.00045993, 0.00045706])"
            ]
          },
          "metadata": {
            "tags": []
          },
          "execution_count": 26
        }
      ]
    },
    {
      "cell_type": "code",
      "metadata": {
        "colab": {
          "base_uri": "https://localhost:8080/"
        },
        "id": "wFFVkMzYuQVl",
        "outputId": "b5d734d4-7ddb-4422-d517-9a7ee8547593"
      },
      "source": [
        "pca.explained_variance_ratio_.shape"
      ],
      "execution_count": 27,
      "outputs": [
        {
          "output_type": "execute_result",
          "data": {
            "text/plain": [
              "(275,)"
            ]
          },
          "metadata": {
            "tags": []
          },
          "execution_count": 27
        }
      ]
    },
    {
      "cell_type": "code",
      "metadata": {
        "colab": {
          "base_uri": "https://localhost:8080/"
        },
        "id": "oUy0eMPxvFrr",
        "outputId": "66c76bdf-cf65-431f-d391-f01dc9f1329d"
      },
      "source": [
        "cumsum = np.cumsum(pca.explained_variance_ratio_)\r\n",
        "cumsum"
      ],
      "execution_count": 28,
      "outputs": [
        {
          "output_type": "execute_result",
          "data": {
            "text/plain": [
              "array([0.07385316, 0.11181398, 0.14411726, 0.17164155, 0.1976248 ,\n",
              "       0.21972327, 0.23815728, 0.25517149, 0.26994546, 0.2844793 ,\n",
              "       0.29773191, 0.31035406, 0.3221793 , 0.33360878, 0.3449091 ,\n",
              "       0.35553701, 0.36601419, 0.37599218, 0.38511119, 0.39417703,\n",
              "       0.40294982, 0.41152696, 0.41983927, 0.42779014, 0.43562754,\n",
              "       0.44341014, 0.45093251, 0.45826837, 0.46540242, 0.4723008 ,\n",
              "       0.47911524, 0.48587594, 0.49225397, 0.49858332, 0.50486835,\n",
              "       0.51101435, 0.51710344, 0.52314565, 0.52896795, 0.53469765,\n",
              "       0.54033076, 0.54587357, 0.55129216, 0.55663968, 0.56194201,\n",
              "       0.56717918, 0.57224202, 0.57721959, 0.58212706, 0.5869242 ,\n",
              "       0.59162924, 0.59621273, 0.60070895, 0.6051408 , 0.60952028,\n",
              "       0.61389337, 0.61818776, 0.62239122, 0.62654296, 0.63065067,\n",
              "       0.63469243, 0.63862838, 0.64254654, 0.6464173 , 0.65023054,\n",
              "       0.65397956, 0.65765552, 0.66123985, 0.66481906, 0.66832785,\n",
              "       0.67180797, 0.67526159, 0.67865566, 0.68200934, 0.6853261 ,\n",
              "       0.68860744, 0.69183933, 0.69503615, 0.69816893, 0.70127836,\n",
              "       0.70436365, 0.70740778, 0.71041409, 0.71335376, 0.71627261,\n",
              "       0.71915521, 0.7219956 , 0.72480108, 0.727579  , 0.73029261,\n",
              "       0.73300164, 0.73565983, 0.73828656, 0.74091139, 0.74349989,\n",
              "       0.74600986, 0.7484854 , 0.75094245, 0.75338575, 0.75579741,\n",
              "       0.75819239, 0.7605611 , 0.76290323, 0.76523282, 0.767528  ,\n",
              "       0.76978358, 0.77203383, 0.77425272, 0.77646873, 0.77863914,\n",
              "       0.78077451, 0.78289637, 0.78499577, 0.78704615, 0.78907004,\n",
              "       0.79107632, 0.79306865, 0.79505162, 0.7970007 , 0.79893607,\n",
              "       0.80083483, 0.80270721, 0.80457735, 0.80641158, 0.80823228,\n",
              "       0.81004244, 0.81182159, 0.8135807 , 0.8153339 , 0.81706919,\n",
              "       0.81878782, 0.82047993, 0.82216038, 0.82382502, 0.82545736,\n",
              "       0.82707168, 0.82867079, 0.83026268, 0.8318407 , 0.83338271,\n",
              "       0.83491614, 0.83642266, 0.8379201 , 0.83940466, 0.84087647,\n",
              "       0.84234516, 0.84377963, 0.84520358, 0.84660964, 0.84800696,\n",
              "       0.84939847, 0.85078368, 0.85215122, 0.85349609, 0.85483812,\n",
              "       0.8561622 , 0.85746795, 0.85876555, 0.86004502, 0.86130385,\n",
              "       0.86254514, 0.8637803 , 0.8650058 , 0.86622225, 0.86742747,\n",
              "       0.86863174, 0.86982465, 0.87100752, 0.87217494, 0.87333456,\n",
              "       0.87446218, 0.87558244, 0.87669448, 0.87779969, 0.87889425,\n",
              "       0.87997493, 0.88104494, 0.88210466, 0.88315127, 0.88419016,\n",
              "       0.88521659, 0.88623387, 0.88724419, 0.88823785, 0.88922379,\n",
              "       0.89020627, 0.89117281, 0.89213625, 0.89309396, 0.8940352 ,\n",
              "       0.8949691 , 0.89589983, 0.89682043, 0.89773887, 0.89864675,\n",
              "       0.89954863, 0.90043614, 0.90131801, 0.90218877, 0.90305316,\n",
              "       0.90391199, 0.90476049, 0.90559787, 0.90642482, 0.9072469 ,\n",
              "       0.9080684 , 0.90888685, 0.9096927 , 0.91049142, 0.91128841,\n",
              "       0.91207514, 0.91285143, 0.9136201 , 0.91438294, 0.91513397,\n",
              "       0.91588025, 0.91661718, 0.91735213, 0.91808131, 0.91880346,\n",
              "       0.9195223 , 0.92022645, 0.92092867, 0.92162103, 0.92230803,\n",
              "       0.9229929 , 0.92367281, 0.92434784, 0.92502209, 0.92568992,\n",
              "       0.92635538, 0.92701021, 0.92766233, 0.92830328, 0.92893588,\n",
              "       0.92956727, 0.93019364, 0.93081346, 0.93142896, 0.93203458,\n",
              "       0.93263608, 0.93322868, 0.93382074, 0.93440592, 0.93498337,\n",
              "       0.93555007, 0.93611213, 0.93667221, 0.93722785, 0.9377772 ,\n",
              "       0.93832509, 0.93886992, 0.93941281, 0.93995176, 0.94048766,\n",
              "       0.94101712, 0.94154629, 0.94206766, 0.94258513, 0.94309925,\n",
              "       0.94361092, 0.94411523, 0.94461461, 0.94511145, 0.94560463,\n",
              "       0.94609554, 0.94658134, 0.94706603, 0.94754952, 0.94802413,\n",
              "       0.94849652, 0.94896367, 0.94942622, 0.94988614, 0.9503432 ])"
            ]
          },
          "metadata": {
            "tags": []
          },
          "execution_count": 28
        }
      ]
    },
    {
      "cell_type": "code",
      "metadata": {
        "colab": {
          "base_uri": "https://localhost:8080/"
        },
        "id": "f_rHsrMktL6T",
        "outputId": "3650d351-970a-4d2c-a360-485de074eafa"
      },
      "source": [
        "x_axis = np.linspace(0, cumsum.shape[0], cumsum.shape[0])\r\n",
        "y_axis = cumsum\r\n",
        "x_axis.shape"
      ],
      "execution_count": 29,
      "outputs": [
        {
          "output_type": "execute_result",
          "data": {
            "text/plain": [
              "(275,)"
            ]
          },
          "metadata": {
            "tags": []
          },
          "execution_count": 29
        }
      ]
    },
    {
      "cell_type": "code",
      "metadata": {
        "colab": {
          "base_uri": "https://localhost:8080/",
          "height": 314
        },
        "id": "vaDeql6KuqHC",
        "outputId": "f2060fc6-338e-4a0c-caa5-571162208f4f"
      },
      "source": [
        "plt.plot(x_axis, y_axis)\r\n",
        "plt.xlabel('n_dimention')\r\n",
        "plt.ylabel('variance')\r\n",
        "plt.title('Variance change trend')"
      ],
      "execution_count": 30,
      "outputs": [
        {
          "output_type": "execute_result",
          "data": {
            "text/plain": [
              "Text(0.5, 1.0, 'Variance change trend')"
            ]
          },
          "metadata": {
            "tags": []
          },
          "execution_count": 30
        },
        {
          "output_type": "display_data",
          "data": {
            "image/png": "[encoded data removed]",
            "text/plain": [
              "<Figure size 432x288 with 1 Axes>"
            ]
          },
          "metadata": {
            "tags": [],
            "needs_background": "light"
          }
        }
      ]
    },
    {
      "cell_type": "code",
      "metadata": {
        "colab": {
          "base_uri": "https://localhost:8080/"
        },
        "id": "LXsrzeh4PP7s",
        "outputId": "29ba74f8-0dc0-4a4e-967b-1b06fa26115b"
      },
      "source": [
        "pca.singular_values_"
      ],
      "execution_count": 31,
      "outputs": [
        {
          "output_type": "execute_result",
          "data": {
            "text/plain": [
              "array([166426.48244172, 119317.91878573, 110068.04053511, 101600.51870791,\n",
              "        98715.34089537,  91037.23255904,  83147.23501596,  79881.05037081,\n",
              "        74436.59018828,  73829.18921699,  70499.92926242,  68802.53498923,\n",
              "        66595.20424242,  65471.32871088,  65100.34857892,  63133.7631834 ,\n",
              "        62684.49697561,  61172.95620986,  58480.57746504,  58309.84452705,\n",
              "        57359.70256757,  56716.46914522,  55833.97900261,  54606.62456966,\n",
              "        54215.56668974,  54025.65612012,  53114.76868124,  52452.16804857,\n",
              "        51725.66412617,  50864.10571353,  50553.69029878,  50353.9933333 ,\n",
              "        48908.12203815,  48721.15414462,  48550.25440428,  48010.25692372,\n",
              "        47787.49118032,  47603.16618278,  46728.86286672,  46355.77685732,\n",
              "        45963.37966336,  45593.4841369 ,  45079.73082088,  44783.08873246,\n",
              "        44593.47845796,  44318.58978859,  43574.77272709,  43206.26828829,\n",
              "        42900.92460589,  42415.92083004,  42006.81396097,  41460.61931427,\n",
              "        41064.04805961,  40769.05154946,  40527.40812798,  40497.86276461,\n",
              "        40131.80671952,  39704.68416051,  39459.62072446,  39249.82253264,\n",
              "        38933.45500041,  38420.48312519,  38333.53994951,  38100.98909179,\n",
              "        37816.79950478,  37497.00678428,  37129.86722961,  36664.1593862 ,\n",
              "        36637.97662063,  36275.79300787,  36127.24492685,  35989.47503288,\n",
              "        35677.81442081,  35464.85242851,  35269.17701102,  35080.28478571,\n",
              "        34815.00093793,  34625.58580221,  34277.00435556,  34149.00308855,\n",
              "        34016.21149144,  33788.53091744,  33578.03259497,  33203.71842423,\n",
              "        33085.98068195,  32879.88137076,  32638.25557677,  32437.03467636,\n",
              "        32277.35267238,  31901.53373648,  31874.60016103,  31574.0861432 ,\n",
              "        31386.74354464,  31375.34026104,  31157.41053783,  30681.21322606,\n",
              "        30470.03207599,  30356.04329966,  30270.9634905 ,  30074.32893902,\n",
              "        29970.14195167,  29805.33364639,  29637.57498966,  29558.19022538,\n",
              "        29339.09314005,  29084.87211094,  29050.43803675,  28847.35847449,\n",
              "        28828.57512733,  28530.47609129,  28299.24638167,  28209.51591318,\n",
              "        28059.8845238 ,  27730.3334513 ,  27550.59099002,  27430.51471608,\n",
              "        27334.9810172 ,  27270.65955437,  27036.63587548,  26941.42761695,\n",
              "        26685.3052345 ,  26499.38161729,  26483.42949754,  26227.98905667,\n",
              "        26131.06608943,  26055.31357572,  25831.21718503,  25685.2781778 ,\n",
              "        25642.06164855,  25510.81784295,  25388.03215448,  25191.41692238,\n",
              "        25104.40519134,  24986.07724623,  24742.52955689,  24605.51116031,\n",
              "        24489.31597198,  24433.98984752,  24327.34602923,  24048.09568187,\n",
              "        23981.15641894,  23769.77995916,  23698.05995291,  23595.91866423,\n",
              "        23494.34335681,  23469.44775363,  23194.48985083,  23109.20506623,\n",
              "        22963.56711604,  22892.14890667,  22844.41323124,  22792.70280853,\n",
              "        22646.8852667 ,  22458.3236622 ,  22434.64550874,  22284.12160239,\n",
              "        22129.27036969,  22060.16948413,  21905.46374493,  21728.11399763,\n",
              "        21576.13003333,  21522.87950121,  21438.54481595,  21359.15330286,\n",
              "        21260.41536492,  21251.9393965 ,  21151.58126471,  21062.30546967,\n",
              "        20924.29240838,  20854.365891  ,  20564.55430303,  20497.2790807 ,\n",
              "        20422.01677853,  20359.18637794,  20260.87660702,  20131.94738448,\n",
              "        20032.37512508,  19935.73415143,  19812.15002272,  19738.84766793,\n",
              "        19620.18713294,  19532.53607264,  19465.55302271,  19304.40158015,\n",
              "        19229.32669985,  19195.47663593,  19039.19961153,  19008.55306863,\n",
              "        18952.02151428,  18788.34183237,  18714.88142202,  18683.1137851 ,\n",
              "        18581.24388395,  18559.40658722,  18452.27323322,  18391.37506683,\n",
              "        18244.15895114,  18186.16828713,  18071.16364896,  18004.96560837,\n",
              "        17947.00480997,  17838.7446536 ,  17721.38960575,  17610.80480446,\n",
              "        17558.75629872,  17552.66030089,  17519.90804973,  17384.65142198,\n",
              "        17307.55332935,  17288.75184777,  17177.16645929,  17062.78219426,\n",
              "        16978.84145249,  16914.32545336,  16782.88778149,  16729.71843988,\n",
              "        16624.59258577,  16602.2598027 ,  16536.94325812,  16456.95988874,\n",
              "        16419.33691224,  16250.66790107,  16228.3271129 ,  16113.94315453,\n",
              "        16051.56632391,  16026.61012729,  15968.44893152,  15911.10506623,\n",
              "        15901.94455073,  15825.98487711,  15797.81636061,  15671.18277129,\n",
              "        15638.73867164,  15504.2988472 ,  15402.89158336,  15388.1598106 ,\n",
              "        15326.8473336 ,  15246.47414313,  15193.35979326,  15070.86132616,\n",
              "        15019.51714097,  14907.87423249,  14901.28045021,  14814.27869516,\n",
              "        14716.2543604 ,  14578.5299419 ,  14518.72807143,  14493.1175291 ,\n",
              "        14435.68909727,  14353.63137051,  14334.54825285,  14294.52526027,\n",
              "        14269.00026878,  14217.08727823,  14176.80913269,  14091.45578663,\n",
              "        14087.53965748,  13983.41657726,  13930.87276617,  13885.74334918,\n",
              "        13852.72001118,  13752.68653913,  13685.27781718,  13650.40564956,\n",
              "        13599.98243188,  13568.68722837,  13498.01759377,  13482.50485951,\n",
              "        13465.68864085,  13341.56906872,  13310.35406753,  13236.18300452,\n",
              "        13170.95365802,  13133.545047  ,  13092.5495813 ])"
            ]
          },
          "metadata": {
            "tags": []
          },
          "execution_count": 31
        }
      ]
    },
    {
      "cell_type": "code",
      "metadata": {
        "id": "oVTzQJAJPst9"
      },
      "source": [
        "X_recovered = pca.inverse_transform(X_reduced)"
      ],
      "execution_count": 32,
      "outputs": []
    },
    {
      "cell_type": "code",
      "metadata": {
        "id": "ps9VUqsvTgWY"
      },
      "source": [
        "sample_origin = X[:4].reshape(-1, 28, 28)\r\n",
        "sample_recovered = X_recovered[:4].reshape(-1, 28, 28)"
      ],
      "execution_count": 42,
      "outputs": []
    },
    {
      "cell_type": "code",
      "metadata": {
        "colab": {
          "base_uri": "https://localhost:8080/",
          "height": 242
        },
        "id": "wJhOtiTWTwEE",
        "outputId": "9f7ee885-c64c-4a58-9c17-23a0df0a6b9f"
      },
      "source": [
        "def plot_origin_recovered(origin, recovered) :\r\n",
        "    plot_image = np.append(origin, recovered, axis=0)\r\n",
        "    row = 2\r\n",
        "    col = 4\r\n",
        "    fig = plt.figure()\r\n",
        "    for i in range(row*col) :\r\n",
        "        sub = fig.add_subplot(row, col, i+1)\r\n",
        "        sub.set_xticklabels('off')\r\n",
        "        sub.set_yticklabels('off')\r\n",
        "        sub.imshow(plot_image[i], cmap='binary')\r\n",
        "    fig.show()\r\n",
        "\r\n",
        "plot_origin_recovered(sample_origin, sample_recovered)"
      ],
      "execution_count": 51,
      "outputs": [
        {
          "output_type": "display_data",
          "data": {
            "image/png": "[encoded data removed]",
            "text/plain": [
              "<Figure size 432x288 with 8 Axes>"
            ]
          },
          "metadata": {
            "tags": [],
            "needs_background": "light"
          }
        }
      ]
    },
    {
      "cell_type": "code",
      "metadata": {
        "id": "2wcM9Z9YYwZX"
      },
      "source": [
        "from sklearn.model_selection import train_test_split\r\n",
        "X_train, X_test, y_train, y_test = train_test_split(X, y, test_size = 0.2, random_state = 42)\r\n",
        "X_train_reduced, X_test_reduced, y_train, y_test = train_test_split(X_reduced, y, test_size = 0.2, random_state = 42)\r\n",
        "X_train_recovered, X_test_recovered, y_train, y_test = train_test_split(X_recovered, y, test_size = 0.2, random_state = 42)"
      ],
      "execution_count": 63,
      "outputs": []
    },
    {
      "cell_type": "code",
      "metadata": {
        "colab": {
          "base_uri": "https://localhost:8080/"
        },
        "id": "s0bZSJHYbBCc",
        "outputId": "907c7182-d8f7-4ae0-d857-c190cf4b715d"
      },
      "source": [
        "print(X.shape)\r\n",
        "print(X_reduced.shape)\r\n",
        "print(X_recovered.shape)"
      ],
      "execution_count": 64,
      "outputs": [
        {
          "output_type": "stream",
          "text": [
            "(80000, 784)\n",
            "(80000, 275)\n",
            "(80000, 784)\n"
          ],
          "name": "stdout"
        }
      ]
    },
    {
      "cell_type": "code",
      "metadata": {
        "colab": {
          "base_uri": "https://localhost:8080/"
        },
        "id": "dPlKEfdnYiy6",
        "outputId": "ae4f58d4-fa88-4cd3-b182-cd6663ae9420"
      },
      "source": [
        "from sklearn.ensemble import RandomForestClassifier\r\n",
        "origin_clf = RandomForestClassifier(random_state = 42, verbose = 2)\r\n",
        "origin_clf.fit(X_train, y_train)\r\n",
        "origin_clf.score(X_test, y_test)"
      ],
      "execution_count": 65,
      "outputs": [
        {
          "output_type": "stream",
          "text": [
            "[Parallel(n_jobs=1)]: Using backend SequentialBackend with 1 concurrent workers.\n"
          ],
          "name": "stderr"
        },
        {
          "output_type": "stream",
          "text": [
            "building tree 1 of 100\n"
          ],
          "name": "stdout"
        },
        {
          "output_type": "stream",
          "text": [
            "[Parallel(n_jobs=1)]: Done   1 out of   1 | elapsed:    0.8s remaining:    0.0s\n"
          ],
          "name": "stderr"
        },
        {
          "output_type": "stream",
          "text": [
            "building tree 2 of 100\n",
            "building tree 3 of 100\n",
            "building tree 4 of 100\n",
            "building tree 5 of 100\n",
            "building tree 6 of 100\n",
            "building tree 7 of 100\n",
            "building tree 8 of 100\n",
            "building tree 9 of 100\n",
            "building tree 10 of 100\n",
            "building tree 11 of 100\n",
            "building tree 12 of 100\n",
            "building tree 13 of 100\n",
            "building tree 14 of 100\n",
            "building tree 15 of 100\n",
            "building tree 16 of 100\n",
            "building tree 17 of 100\n",
            "building tree 18 of 100\n",
            "building tree 19 of 100\n",
            "building tree 20 of 100\n",
            "building tree 21 of 100\n",
            "building tree 22 of 100\n",
            "building tree 23 of 100\n",
            "building tree 24 of 100\n",
            "building tree 25 of 100\n",
            "building tree 26 of 100\n",
            "building tree 27 of 100\n",
            "building tree 28 of 100\n",
            "building tree 29 of 100\n",
            "building tree 30 of 100\n",
            "building tree 31 of 100\n",
            "building tree 32 of 100\n",
            "building tree 33 of 100\n",
            "building tree 34 of 100\n",
            "building tree 35 of 100\n",
            "building tree 36 of 100\n",
            "building tree 37 of 100\n",
            "building tree 38 of 100\n",
            "building tree 39 of 100\n",
            "building tree 40 of 100\n",
            "building tree 41 of 100\n",
            "building tree 42 of 100\n",
            "building tree 43 of 100\n",
            "building tree 44 of 100\n",
            "building tree 45 of 100\n",
            "building tree 46 of 100\n",
            "building tree 47 of 100\n",
            "building tree 48 of 100\n",
            "building tree 49 of 100\n",
            "building tree 50 of 100\n",
            "building tree 51 of 100\n",
            "building tree 52 of 100\n",
            "building tree 53 of 100\n",
            "building tree 54 of 100\n",
            "building tree 55 of 100\n",
            "building tree 56 of 100\n",
            "building tree 57 of 100\n",
            "building tree 58 of 100\n",
            "building tree 59 of 100\n",
            "building tree 60 of 100\n",
            "building tree 61 of 100\n",
            "building tree 62 of 100\n",
            "building tree 63 of 100\n",
            "building tree 64 of 100\n",
            "building tree 65 of 100\n",
            "building tree 66 of 100\n",
            "building tree 67 of 100\n",
            "building tree 68 of 100\n",
            "building tree 69 of 100\n",
            "building tree 70 of 100\n",
            "building tree 71 of 100\n",
            "building tree 72 of 100\n",
            "building tree 73 of 100\n",
            "building tree 74 of 100\n",
            "building tree 75 of 100\n",
            "building tree 76 of 100\n",
            "building tree 77 of 100\n",
            "building tree 78 of 100\n",
            "building tree 79 of 100\n",
            "building tree 80 of 100\n",
            "building tree 81 of 100\n",
            "building tree 82 of 100\n",
            "building tree 83 of 100\n",
            "building tree 84 of 100\n",
            "building tree 85 of 100\n",
            "building tree 86 of 100\n",
            "building tree 87 of 100\n",
            "building tree 88 of 100\n",
            "building tree 89 of 100\n",
            "building tree 90 of 100\n",
            "building tree 91 of 100\n",
            "building tree 92 of 100\n",
            "building tree 93 of 100\n",
            "building tree 94 of 100\n",
            "building tree 95 of 100\n",
            "building tree 96 of 100\n",
            "building tree 97 of 100\n",
            "building tree 98 of 100\n",
            "building tree 99 of 100\n",
            "building tree 100 of 100\n"
          ],
          "name": "stdout"
        },
        {
          "output_type": "stream",
          "text": [
            "[Parallel(n_jobs=1)]: Done 100 out of 100 | elapsed:  1.3min finished\n",
            "[Parallel(n_jobs=1)]: Using backend SequentialBackend with 1 concurrent workers.\n",
            "[Parallel(n_jobs=1)]: Done   1 out of   1 | elapsed:    0.0s remaining:    0.0s\n",
            "[Parallel(n_jobs=1)]: Done 100 out of 100 | elapsed:    0.8s finished\n"
          ],
          "name": "stderr"
        },
        {
          "output_type": "execute_result",
          "data": {
            "text/plain": [
              "0.7923125"
            ]
          },
          "metadata": {
            "tags": []
          },
          "execution_count": 65
        }
      ]
    },
    {
      "cell_type": "code",
      "metadata": {
        "colab": {
          "base_uri": "https://localhost:8080/"
        },
        "id": "58oeu3GsZmRx",
        "outputId": "3bf39cf4-bc18-4cd1-bcd5-f18ce45b331a"
      },
      "source": [
        "reduct_clf = RandomForestClassifier(random_state=42, verbose=2)\r\n",
        "reduct_clf.fit(X_train_reduced, y_train)\r\n",
        "reduct_clf.score(X_test_reduced, y_test)"
      ],
      "execution_count": 66,
      "outputs": [
        {
          "output_type": "stream",
          "text": [
            "[Parallel(n_jobs=1)]: Using backend SequentialBackend with 1 concurrent workers.\n"
          ],
          "name": "stderr"
        },
        {
          "output_type": "stream",
          "text": [
            "building tree 1 of 100\n"
          ],
          "name": "stdout"
        },
        {
          "output_type": "stream",
          "text": [
            "[Parallel(n_jobs=1)]: Done   1 out of   1 | elapsed:    1.9s remaining:    0.0s\n"
          ],
          "name": "stderr"
        },
        {
          "output_type": "stream",
          "text": [
            "building tree 2 of 100\n",
            "building tree 3 of 100\n",
            "building tree 4 of 100\n",
            "building tree 5 of 100\n",
            "building tree 6 of 100\n",
            "building tree 7 of 100\n",
            "building tree 8 of 100\n",
            "building tree 9 of 100\n",
            "building tree 10 of 100\n",
            "building tree 11 of 100\n",
            "building tree 12 of 100\n",
            "building tree 13 of 100\n",
            "building tree 14 of 100\n",
            "building tree 15 of 100\n",
            "building tree 16 of 100\n",
            "building tree 17 of 100\n",
            "building tree 18 of 100\n",
            "building tree 19 of 100\n",
            "building tree 20 of 100\n",
            "building tree 21 of 100\n",
            "building tree 22 of 100\n",
            "building tree 23 of 100\n",
            "building tree 24 of 100\n",
            "building tree 25 of 100\n",
            "building tree 26 of 100\n",
            "building tree 27 of 100\n",
            "building tree 28 of 100\n",
            "building tree 29 of 100\n",
            "building tree 30 of 100\n",
            "building tree 31 of 100\n",
            "building tree 32 of 100\n",
            "building tree 33 of 100\n",
            "building tree 34 of 100\n",
            "building tree 35 of 100\n",
            "building tree 36 of 100\n",
            "building tree 37 of 100\n",
            "building tree 38 of 100\n",
            "building tree 39 of 100\n",
            "building tree 40 of 100\n",
            "building tree 41 of 100\n",
            "building tree 42 of 100\n",
            "building tree 43 of 100\n",
            "building tree 44 of 100\n",
            "building tree 45 of 100\n",
            "building tree 46 of 100\n",
            "building tree 47 of 100\n",
            "building tree 48 of 100\n",
            "building tree 49 of 100\n",
            "building tree 50 of 100\n",
            "building tree 51 of 100\n",
            "building tree 52 of 100\n",
            "building tree 53 of 100\n",
            "building tree 54 of 100\n",
            "building tree 55 of 100\n",
            "building tree 56 of 100\n",
            "building tree 57 of 100\n",
            "building tree 58 of 100\n",
            "building tree 59 of 100\n",
            "building tree 60 of 100\n",
            "building tree 61 of 100\n",
            "building tree 62 of 100\n",
            "building tree 63 of 100\n",
            "building tree 64 of 100\n",
            "building tree 65 of 100\n",
            "building tree 66 of 100\n",
            "building tree 67 of 100\n",
            "building tree 68 of 100\n",
            "building tree 69 of 100\n",
            "building tree 70 of 100\n",
            "building tree 71 of 100\n",
            "building tree 72 of 100\n",
            "building tree 73 of 100\n",
            "building tree 74 of 100\n",
            "building tree 75 of 100\n",
            "building tree 76 of 100\n",
            "building tree 77 of 100\n",
            "building tree 78 of 100\n",
            "building tree 79 of 100\n",
            "building tree 80 of 100\n",
            "building tree 81 of 100\n",
            "building tree 82 of 100\n",
            "building tree 83 of 100\n",
            "building tree 84 of 100\n",
            "building tree 85 of 100\n",
            "building tree 86 of 100\n",
            "building tree 87 of 100\n",
            "building tree 88 of 100\n",
            "building tree 89 of 100\n",
            "building tree 90 of 100\n",
            "building tree 91 of 100\n",
            "building tree 92 of 100\n",
            "building tree 93 of 100\n",
            "building tree 94 of 100\n",
            "building tree 95 of 100\n",
            "building tree 96 of 100\n",
            "building tree 97 of 100\n",
            "building tree 98 of 100\n",
            "building tree 99 of 100\n",
            "building tree 100 of 100\n"
          ],
          "name": "stdout"
        },
        {
          "output_type": "stream",
          "text": [
            "[Parallel(n_jobs=1)]: Done 100 out of 100 | elapsed:  2.9min finished\n",
            "[Parallel(n_jobs=1)]: Using backend SequentialBackend with 1 concurrent workers.\n",
            "[Parallel(n_jobs=1)]: Done   1 out of   1 | elapsed:    0.0s remaining:    0.0s\n",
            "[Parallel(n_jobs=1)]: Done 100 out of 100 | elapsed:    0.8s finished\n"
          ],
          "name": "stderr"
        },
        {
          "output_type": "execute_result",
          "data": {
            "text/plain": [
              "0.757375"
            ]
          },
          "metadata": {
            "tags": []
          },
          "execution_count": 66
        }
      ]
    },
    {
      "cell_type": "code",
      "metadata": {
        "colab": {
          "base_uri": "https://localhost:8080/"
        },
        "id": "FhEJomM_dzQ8",
        "outputId": "f8acbe46-d079-4f46-9ab0-bf2d2a026de9"
      },
      "source": [
        "recover_clf = RandomForestClassifier(random_state=42, verbose=2)\r\n",
        "recover_clf.fit(X_train_recovered, y_train)\r\n",
        "recover_clf.score(X_test_recovered, y_test)"
      ],
      "execution_count": 67,
      "outputs": [
        {
          "output_type": "stream",
          "text": [
            "[Parallel(n_jobs=1)]: Using backend SequentialBackend with 1 concurrent workers.\n"
          ],
          "name": "stderr"
        },
        {
          "output_type": "stream",
          "text": [
            "building tree 1 of 100\n"
          ],
          "name": "stdout"
        },
        {
          "output_type": "stream",
          "text": [
            "[Parallel(n_jobs=1)]: Done   1 out of   1 | elapsed:    2.6s remaining:    0.0s\n"
          ],
          "name": "stderr"
        },
        {
          "output_type": "stream",
          "text": [
            "building tree 2 of 100\n",
            "building tree 3 of 100\n",
            "building tree 4 of 100\n",
            "building tree 5 of 100\n",
            "building tree 6 of 100\n",
            "building tree 7 of 100\n",
            "building tree 8 of 100\n",
            "building tree 9 of 100\n",
            "building tree 10 of 100\n",
            "building tree 11 of 100\n",
            "building tree 12 of 100\n",
            "building tree 13 of 100\n",
            "building tree 14 of 100\n",
            "building tree 15 of 100\n",
            "building tree 16 of 100\n",
            "building tree 17 of 100\n",
            "building tree 18 of 100\n",
            "building tree 19 of 100\n",
            "building tree 20 of 100\n",
            "building tree 21 of 100\n",
            "building tree 22 of 100\n",
            "building tree 23 of 100\n",
            "building tree 24 of 100\n",
            "building tree 25 of 100\n",
            "building tree 26 of 100\n",
            "building tree 27 of 100\n",
            "building tree 28 of 100\n",
            "building tree 29 of 100\n",
            "building tree 30 of 100\n",
            "building tree 31 of 100\n",
            "building tree 32 of 100\n",
            "building tree 33 of 100\n",
            "building tree 34 of 100\n",
            "building tree 35 of 100\n",
            "building tree 36 of 100\n",
            "building tree 37 of 100\n",
            "building tree 38 of 100\n",
            "building tree 39 of 100\n",
            "building tree 40 of 100\n",
            "building tree 41 of 100\n",
            "building tree 42 of 100\n",
            "building tree 43 of 100\n",
            "building tree 44 of 100\n",
            "building tree 45 of 100\n",
            "building tree 46 of 100\n",
            "building tree 47 of 100\n",
            "building tree 48 of 100\n",
            "building tree 49 of 100\n",
            "building tree 50 of 100\n",
            "building tree 51 of 100\n",
            "building tree 52 of 100\n",
            "building tree 53 of 100\n",
            "building tree 54 of 100\n",
            "building tree 55 of 100\n",
            "building tree 56 of 100\n",
            "building tree 57 of 100\n",
            "building tree 58 of 100\n",
            "building tree 59 of 100\n",
            "building tree 60 of 100\n",
            "building tree 61 of 100\n",
            "building tree 62 of 100\n",
            "building tree 63 of 100\n",
            "building tree 64 of 100\n",
            "building tree 65 of 100\n",
            "building tree 66 of 100\n",
            "building tree 67 of 100\n",
            "building tree 68 of 100\n",
            "building tree 69 of 100\n",
            "building tree 70 of 100\n",
            "building tree 71 of 100\n",
            "building tree 72 of 100\n",
            "building tree 73 of 100\n",
            "building tree 74 of 100\n",
            "building tree 75 of 100\n",
            "building tree 76 of 100\n",
            "building tree 77 of 100\n",
            "building tree 78 of 100\n",
            "building tree 79 of 100\n",
            "building tree 80 of 100\n",
            "building tree 81 of 100\n",
            "building tree 82 of 100\n",
            "building tree 83 of 100\n",
            "building tree 84 of 100\n",
            "building tree 85 of 100\n",
            "building tree 86 of 100\n",
            "building tree 87 of 100\n",
            "building tree 88 of 100\n",
            "building tree 89 of 100\n",
            "building tree 90 of 100\n",
            "building tree 91 of 100\n",
            "building tree 92 of 100\n",
            "building tree 93 of 100\n",
            "building tree 94 of 100\n",
            "building tree 95 of 100\n",
            "building tree 96 of 100\n",
            "building tree 97 of 100\n",
            "building tree 98 of 100\n",
            "building tree 99 of 100\n",
            "building tree 100 of 100\n"
          ],
          "name": "stdout"
        },
        {
          "output_type": "stream",
          "text": [
            "[Parallel(n_jobs=1)]: Done 100 out of 100 | elapsed:  4.5min finished\n",
            "[Parallel(n_jobs=1)]: Using backend SequentialBackend with 1 concurrent workers.\n",
            "[Parallel(n_jobs=1)]: Done   1 out of   1 | elapsed:    0.0s remaining:    0.0s\n",
            "[Parallel(n_jobs=1)]: Done 100 out of 100 | elapsed:    0.9s finished\n"
          ],
          "name": "stderr"
        },
        {
          "output_type": "execute_result",
          "data": {
            "text/plain": [
              "0.7729375"
            ]
          },
          "metadata": {
            "tags": []
          },
          "execution_count": 67
        }
      ]
    }
  ]
}