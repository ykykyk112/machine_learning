{
  "nbformat": 4,
  "nbformat_minor": 0,
  "metadata": {
    "colab": {
      "name": "Dimentionality_Reduction.ipynb",
      "provenance": [],
      "collapsed_sections": [],
      "mount_file_id": "1d9g7wMSe_Bh9ZjaqCXFP7aI31jgmqiVV",
      "authorship_tag": "ABX9TyPub6E/hMzp0KEYXYcAqVR+",
      "include_colab_link": true
    },
    "kernelspec": {
      "name": "python3",
      "display_name": "Python 3"
    }
  },
  "cells": [
    {
      "cell_type": "markdown",
      "metadata": {
        "id": "view-in-github",
        "colab_type": "text"
      },
      "source": [
        "<a href=\"https://colab.research.google.com/github/ykykyk112/machine_learning/blob/main/sklearn_exercise/Dimentionality_Reduction.ipynb\" target=\"_parent\"><img src=\"https://colab.research.google.com/assets/colab-badge.svg\" alt=\"Open In Colab\"/></a>"
      ]
    },
    {
      "cell_type": "code",
      "metadata": {
        "id": "_KczYFwirZcS"
      },
      "source": [
        "from sklearn.decomposition import PCA\r\n",
        "import numpy as np\r\n",
        "import matplotlib.pyplot as plt"
      ],
      "execution_count": null,
      "outputs": []
    },
    {
      "cell_type": "code",
      "metadata": {
        "id": "7Gyr-eASr96L",
        "colab": {
          "base_uri": "https://localhost:8080/"
        },
        "outputId": "f623f734-5532-4164-d239-e99f5340e376"
      },
      "source": [
        "def make_ndarray(target_list, each_size) :\r\n",
        "    # 784 means bitmap size\r\n",
        "    data = np.empty((len(target_list)*each_size, 784))\r\n",
        "    target = np.empty((len(target_list)*each_size))\r\n",
        "    for label, filename in enumerate(target_list) :\r\n",
        "        npy = np.load('/content/drive/MyDrive/Colab_Notebooks/quickdraw/{}.npy'.format(filename))\r\n",
        "        tmp = np.arange(npy.shape[0])\r\n",
        "        idx = np.random.choice(tmp, each_size, replace=False)\r\n",
        "        data[label*each_size:(label+1)*each_size] = npy[idx]\r\n",
        "        target[label*each_size:(label+1)*each_size] = label\r\n",
        "        print('{} is Complete'.format(filename))\r\n",
        "    s_idx = np.arange(target.shape[0])\r\n",
        "    np.random.shuffle(s_idx)\r\n",
        "    data = data[s_idx]\r\n",
        "    target = target[s_idx]\r\n",
        "    print('result shape : {0} & {1}'.format(data.shape, target.shape))\r\n",
        "    return data, target\r\n",
        "\r\n",
        "target_list = ['ant', 'bicycle', 'bird', 'butterfly', 'camel', 'clock', 'cow', 'diamond']\r\n",
        "data, target = make_ndarray(target_list=target_list, each_size=10000)"
      ],
      "execution_count": null,
      "outputs": [
        {
          "output_type": "stream",
          "text": [
            "ant is Complete\n",
            "bicycle is Complete\n",
            "bird is Complete\n",
            "butterfly is Complete\n",
            "camel is Complete\n",
            "clock is Complete\n",
            "cow is Complete\n",
            "diamond is Complete\n",
            "result shape : (80000, 784) & (80000,)\n"
          ],
          "name": "stdout"
        }
      ]
    },
    {
      "cell_type": "code",
      "metadata": {
        "id": "Z2jIZ7FdsY4A"
      },
      "source": [
        "X = data\r\n",
        "y = target"
      ],
      "execution_count": null,
      "outputs": []
    },
    {
      "cell_type": "code",
      "metadata": {
        "colab": {
          "base_uri": "https://localhost:8080/"
        },
        "id": "ZotgiXXYslEA",
        "outputId": "9e3252bf-5e51-457a-be01-ce15ce7a1fc0"
      },
      "source": [
        "X.shape"
      ],
      "execution_count": null,
      "outputs": [
        {
          "output_type": "execute_result",
          "data": {
            "text/plain": [
              "(80000, 784)"
            ]
          },
          "metadata": {
            "tags": []
          },
          "execution_count": 6
        }
      ]
    },
    {
      "cell_type": "code",
      "metadata": {
        "id": "TJzMZduFsp7E",
        "colab": {
          "base_uri": "https://localhost:8080/"
        },
        "outputId": "2a6d6eda-5e79-4c8c-a1b8-caad56305037"
      },
      "source": [
        "pca = PCA(n_components=300, random_state=42)\r\n",
        "X_reduced = pca.fit_transform(X)\r\n",
        "pca.explained_variance_ratio_.shape"
      ],
      "execution_count": null,
      "outputs": [
        {
          "output_type": "execute_result",
          "data": {
            "text/plain": [
              "(300,)"
            ]
          },
          "metadata": {
            "tags": []
          },
          "execution_count": 28
        }
      ]
    },
    {
      "cell_type": "code",
      "metadata": {
        "id": "oXE9x1g8szPT"
      },
      "source": [
        "sample = X[0].reshape(28, 28)"
      ],
      "execution_count": null,
      "outputs": []
    },
    {
      "cell_type": "code",
      "metadata": {
        "colab": {
          "base_uri": "https://localhost:8080/",
          "height": 283
        },
        "id": "MkZ_M5TMt1xs",
        "outputId": "78e85b9e-52b0-4a5e-86f9-5df5148b6c28"
      },
      "source": [
        "plt.imshow(sample, cmap = 'binary')"
      ],
      "execution_count": null,
      "outputs": [
        {
          "output_type": "execute_result",
          "data": {
            "text/plain": [
              "<matplotlib.image.AxesImage at 0x7fea6ed3cba8>"
            ]
          },
          "metadata": {
            "tags": []
          },
          "execution_count": 9
        },
        {
          "output_type": "display_data",
          "data": {
            "image/png": "[encoded data removed]",
            "text/plain": [
              "<Figure size 432x288 with 1 Axes>"
            ]
          },
          "metadata": {
            "tags": [],
            "needs_background": "light"
          }
        }
      ]
    },
    {
      "cell_type": "code",
      "metadata": {
        "id": "VHC0MCiXt9rd"
      },
      "source": [
        "X_reduced = pca.fit_transform(X)"
      ],
      "execution_count": null,
      "outputs": []
    },
    {
      "cell_type": "code",
      "metadata": {
        "id": "s0l1HylLuRSK"
      },
      "source": [
        "X_reduced.shape"
      ],
      "execution_count": null,
      "outputs": []
    },
    {
      "cell_type": "code",
      "metadata": {
        "colab": {
          "base_uri": "https://localhost:8080/"
        },
        "id": "Lrx4JCwHtEXr",
        "outputId": "de489126-b1c5-43f8-a2e1-77944ae104cf"
      },
      "source": [
        "pca.explained_variance_ratio_"
      ],
      "execution_count": null,
      "outputs": [
        {
          "output_type": "execute_result",
          "data": {
            "text/plain": [
              "array([0.07424511, 0.03790804, 0.03214149, 0.0275626 , 0.02586783,\n",
              "       0.02220671, 0.01841027, 0.01682793, 0.01474773, 0.01455514,\n",
              "       0.01320896, 0.01277281, 0.01185022, 0.01149188, 0.01131681,\n",
              "       0.01057391, 0.01039742, 0.00999683, 0.00904976, 0.00903741,\n",
              "       0.00883888, 0.00853433, 0.00838458, 0.0079335 , 0.00782814,\n",
              "       0.00765222, 0.00755006, 0.00730024, 0.00720608, 0.00690041,\n",
              "       0.00680935, 0.00676251, 0.00642224, 0.0063705 , 0.00622042,\n",
              "       0.00619908, 0.0061103 , 0.00599201, 0.00580654, 0.00576341,\n",
              "       0.00559992, 0.00550672, 0.0054462 , 0.00534801, 0.00529241,\n",
              "       0.00522316, 0.00511057, 0.00494541, 0.00486019, 0.00480941,\n",
              "       0.00466674, 0.00457141, 0.00453177, 0.00443146, 0.00440803,\n",
              "       0.00437676, 0.00432298, 0.00424081, 0.00412684, 0.00409695,\n",
              "       0.00403141, 0.00392754, 0.00389031, 0.00382767, 0.00378516,\n",
              "       0.00372303, 0.00369223, 0.00361923, 0.00360294, 0.00351381,\n",
              "       0.00348723, 0.00342687, 0.00339741, 0.00336334, 0.00329297,\n",
              "       0.00326565, 0.00325883, 0.00317661, 0.00314095, 0.00313282,\n",
              "       0.00308293, 0.00303761, 0.0029889 , 0.0029545 , 0.00289872,\n",
              "       0.0028608 , 0.00285704, 0.0028268 , 0.00277728, 0.00272611,\n",
              "       0.00271361, 0.00269221, 0.00264768, 0.00260241, 0.00258248,\n",
              "       0.00248636, 0.00247295, 0.00246608, 0.00245784, 0.00241667,\n",
              "       0.00240193, 0.00237247, 0.00235868, 0.00233204, 0.00229209,\n",
              "       0.00227184, 0.00223829, 0.00220963, 0.00218005, 0.00216025,\n",
              "       0.00213649, 0.00210597, 0.00208439, 0.00204386, 0.00202335,\n",
              "       0.00201219, 0.00198161, 0.00196781, 0.00194888, 0.00193117,\n",
              "       0.0019256 , 0.0018994 , 0.00185446, 0.00183852, 0.00182647,\n",
              "       0.00181679, 0.00178329, 0.00176227, 0.00174001, 0.00172878,\n",
              "       0.00171825, 0.0016989 , 0.00168781, 0.00167792, 0.00165104,\n",
              "       0.00162949, 0.00161196, 0.00160361, 0.00156653, 0.0015476 ,\n",
              "       0.00152828, 0.00150503, 0.00150178, 0.00147472, 0.00146711,\n",
              "       0.00145774, 0.00142931, 0.00141704, 0.00141597, 0.00139567,\n",
              "       0.00139276, 0.00138111, 0.00136244, 0.00134588, 0.00134031,\n",
              "       0.0013298 , 0.00130752, 0.00129981, 0.00128843, 0.00126164,\n",
              "       0.00125049, 0.00124125, 0.00123134, 0.0012131 , 0.00120428,\n",
              "       0.00119775, 0.00119259, 0.00117936, 0.00116628, 0.00115217,\n",
              "       0.00113747, 0.00111936, 0.00110709, 0.00110046, 0.00109012,\n",
              "       0.00107737, 0.00106567, 0.00106125, 0.00104721, 0.00103772,\n",
              "       0.00102901, 0.00102246, 0.00100701, 0.00099727, 0.0009902 ,\n",
              "       0.00098922, 0.00098251, 0.00096483, 0.00096125, 0.00094609,\n",
              "       0.00093923, 0.00092238, 0.00091771, 0.00091422, 0.00090297,\n",
              "       0.00089517, 0.00089016, 0.00088302, 0.00087088, 0.00086461,\n",
              "       0.00085506, 0.00084731, 0.0008437 , 0.00083144, 0.00082041,\n",
              "       0.0008166 , 0.00081283, 0.00080484, 0.00080051, 0.00079177,\n",
              "       0.00078451, 0.0007773 , 0.00076303, 0.00075777, 0.00074964,\n",
              "       0.00074462, 0.00073996, 0.00073831, 0.00072743, 0.00071819,\n",
              "       0.00071538, 0.00071244, 0.00070443, 0.00069589, 0.00069228,\n",
              "       0.00068792, 0.00068018, 0.00067771, 0.00067201, 0.00066963,\n",
              "       0.00066527, 0.0006573 , 0.00064873, 0.00064552, 0.00063732,\n",
              "       0.00063376, 0.00062529, 0.00062222, 0.00061933, 0.00060225,\n",
              "       0.00060065, 0.00059727, 0.00059166, 0.00058798, 0.00057535,\n",
              "       0.00056751, 0.00056585, 0.00055959, 0.00055863, 0.00055323,\n",
              "       0.00054678, 0.00054219, 0.00054001, 0.00053597, 0.00053244,\n",
              "       0.00052949, 0.00052778, 0.00052368, 0.0005156 , 0.00051475,\n",
              "       0.00051193, 0.00050547, 0.00050142, 0.0004979 , 0.00049345,\n",
              "       0.00048978, 0.00048686, 0.00048498, 0.00048288, 0.00047525,\n",
              "       0.00047196, 0.00047157, 0.00045978, 0.00045835, 0.00045445])"
            ]
          },
          "metadata": {
            "tags": []
          },
          "execution_count": 12
        }
      ]
    },
    {
      "cell_type": "code",
      "metadata": {
        "colab": {
          "base_uri": "https://localhost:8080/"
        },
        "id": "wFFVkMzYuQVl",
        "outputId": "b6009aa2-f999-49f5-d60c-bcfcd6a83c4e"
      },
      "source": [
        "pca.explained_variance_ratio_.shape"
      ],
      "execution_count": null,
      "outputs": [
        {
          "output_type": "execute_result",
          "data": {
            "text/plain": [
              "(275,)"
            ]
          },
          "metadata": {
            "tags": []
          },
          "execution_count": 13
        }
      ]
    },
    {
      "cell_type": "code",
      "metadata": {
        "colab": {
          "base_uri": "https://localhost:8080/"
        },
        "id": "oUy0eMPxvFrr",
        "outputId": "ef363cdc-7d21-42f6-e2f7-162b3f3e215b"
      },
      "source": [
        "cumsum = np.cumsum(pca.explained_variance_ratio_)\r\n",
        "cumsum"
      ],
      "execution_count": null,
      "outputs": [
        {
          "output_type": "execute_result",
          "data": {
            "text/plain": [
              "array([0.07431537, 0.11186103, 0.14414952, 0.17167647, 0.19780545,\n",
              "       0.21981386, 0.23820243, 0.25509156, 0.2697568 , 0.28421657,\n",
              "       0.29758439, 0.31025783, 0.32219183, 0.33373602, 0.34499855,\n",
              "       0.35561378, 0.36612394, 0.37609003, 0.38519748, 0.39417781,\n",
              "       0.40302605, 0.41162676, 0.41991283, 0.4278951 , 0.43580842,\n",
              "       0.44348198, 0.45099134, 0.45836342, 0.46550756, 0.47244314,\n",
              "       0.4792155 , 0.48596362, 0.49243892, 0.49876483, 0.50499874,\n",
              "       0.51118455, 0.51729819, 0.52328125, 0.52903782, 0.53476589,\n",
              "       0.5403895 , 0.54591705, 0.55138522, 0.55670818, 0.56194977,\n",
              "       0.56717642, 0.57223985, 0.57714289, 0.58197704, 0.58676015,\n",
              "       0.5914849 , 0.5960678 , 0.60058224, 0.60501325, 0.60940439,\n",
              "       0.61377812, 0.61807595, 0.62233996, 0.62649525, 0.63056277,\n",
              "       0.63458824, 0.63853443, 0.64243424, 0.64625877, 0.6500474 ,\n",
              "       0.65376764, 0.65748073, 0.66109781, 0.66467665, 0.66821109,\n",
              "       0.67168463, 0.67511604, 0.67853429, 0.68189836, 0.68519284,\n",
              "       0.68845408, 0.69169573, 0.69486215, 0.69800837, 0.70113555,\n",
              "       0.70420707, 0.70722842, 0.71023538, 0.71317061, 0.71610027,\n",
              "       0.71900804, 0.72185968, 0.72468359, 0.72746276, 0.73019816,\n",
              "       0.73292043, 0.73562895, 0.73827836, 0.740887  , 0.74344582,\n",
              "       0.74595109, 0.74841339, 0.75085717, 0.75329464, 0.75571648,\n",
              "       0.75809527, 0.76047084, 0.7628255 , 0.76515538, 0.7674548 ,\n",
              "       0.7697497 , 0.77197678, 0.77418193, 0.77635465, 0.77851736,\n",
              "       0.78063501, 0.78273921, 0.78481634, 0.78686577, 0.78888913,\n",
              "       0.79090634, 0.79288931, 0.7948627 , 0.79682213, 0.79877282,\n",
              "       0.80067872, 0.80255904, 0.80442871, 0.80627361, 0.80809868,\n",
              "       0.80991574, 0.81170068, 0.81345877, 0.81520469, 0.81693638,\n",
              "       0.81865661, 0.8203653 , 0.82205315, 0.8237379 , 0.82537809,\n",
              "       0.82700858, 0.82861817, 0.83022584, 0.83178069, 0.83332979,\n",
              "       0.83487157, 0.83638401, 0.83787384, 0.8393481 , 0.84081862,\n",
              "       0.8422644 , 0.8437041 , 0.84512902, 0.84654349, 0.84795207,\n",
              "       0.84934002, 0.85072215, 0.85208163, 0.8534363 , 0.85477967,\n",
              "       0.85610569, 0.85741207, 0.85870295, 0.85997534, 0.86124418,\n",
              "       0.86248767, 0.86372818, 0.86495665, 0.86617496, 0.86738954,\n",
              "       0.86859637, 0.86978987, 0.87096541, 0.87213713, 0.8733068 ,\n",
              "       0.87444334, 0.87556666, 0.87667959, 0.87777749, 0.87886254,\n",
              "       0.87994031, 0.88101019, 0.88207453, 0.88313587, 0.88417489,\n",
              "       0.88520495, 0.88622741, 0.88723867, 0.88824105, 0.88923677,\n",
              "       0.89022017, 0.89119815, 0.89216764, 0.89312934, 0.89407643,\n",
              "       0.89501241, 0.89593573, 0.89685476, 0.8977696 , 0.89867173,\n",
              "       0.89956622, 0.90045796, 0.90133506, 0.90220429, 0.90306973,\n",
              "       0.90392051, 0.90476226, 0.90559913, 0.90642924, 0.90725245,\n",
              "       0.90806934, 0.90887867, 0.90968627, 0.91049032, 0.91128601,\n",
              "       0.91206658, 0.91284107, 0.91360657, 0.91436603, 0.91511887,\n",
              "       0.91587048, 0.91660523, 0.91733789, 0.91806771, 0.91879003,\n",
              "       0.91950504, 0.92021685, 0.92091957, 0.92161288, 0.92230167,\n",
              "       0.92298298, 0.92366249, 0.92434076, 0.92501508, 0.92568238,\n",
              "       0.92634119, 0.92699584, 0.92764672, 0.92828968, 0.92892774,\n",
              "       0.92956402, 0.93019063, 0.93080853, 0.93142031, 0.9320262 ,\n",
              "       0.93262541, 0.93322   , 0.93381209, 0.93440019, 0.93497461,\n",
              "       0.93554461, 0.93611131, 0.93666917, 0.93722505, 0.93777765,\n",
              "       0.9383284 , 0.9388742 , 0.93941969, 0.93996176, 0.94049824,\n",
              "       0.94102869, 0.9415556 , 0.94207804, 0.94259621, 0.94311169,\n",
              "       0.94361743, 0.94412214, 0.94462256, 0.94511729, 0.9456113 ,\n",
              "       0.94609938, 0.94658496, 0.94706867, 0.94755132, 0.94802656,\n",
              "       0.94850048, 0.94896806, 0.94943198, 0.94988813, 0.95034302,\n",
              "       0.95079562, 0.95124597, 0.95169141, 0.95212937, 0.95256639,\n",
              "       0.95299566, 0.95342394, 0.95384999, 0.95427153, 0.9546898 ,\n",
              "       0.95510584, 0.95551716, 0.95592586, 0.95632774, 0.9567262 ,\n",
              "       0.95712214, 0.95751331, 0.95790265, 0.95829053, 0.95867658,\n",
              "       0.95905751, 0.95943667, 0.95981474, 0.96018785, 0.9605578 ,\n",
              "       0.96092405, 0.96128611, 0.96164738, 0.96200795, 0.96236559,\n",
              "       0.96272181, 0.96307381, 0.96342315, 0.96376968, 0.96411318,\n",
              "       0.96445193, 0.96478714, 0.96512084, 0.96545345, 0.96578005,\n",
              "       0.96610555, 0.96643046, 0.96675168, 0.96707146, 0.96739065,\n",
              "       0.96770703, 0.96801923, 0.96832861, 0.96863698, 0.96894283,\n",
              "       0.96924434, 0.96954547, 0.96984377, 0.97013779, 0.97042937,\n",
              "       0.97071992, 0.97100783, 0.97129527, 0.97158021, 0.97186295,\n",
              "       0.97214023, 0.97241545, 0.97268987, 0.97296268, 0.97323337,\n",
              "       0.97350171, 0.97376849, 0.97403264, 0.97429262, 0.97455066,\n",
              "       0.97480716, 0.97506266, 0.97531654, 0.97556732, 0.97581768,\n",
              "       0.9760652 , 0.97631024, 0.9765545 , 0.97679723, 0.97703661,\n",
              "       0.97727421, 0.97750847, 0.97773859, 0.97796829, 0.97819644,\n",
              "       0.97842404, 0.97864888, 0.97887216, 0.97909358, 0.9793109 ,\n",
              "       0.9795268 , 0.97974066, 0.97995233, 0.98016251, 0.98037171,\n",
              "       0.9805804 , 0.9807864 , 0.98099171, 0.98119653, 0.98139806,\n",
              "       0.98159846, 0.9817965 , 0.981994  , 0.98218792, 0.98238011,\n",
              "       0.98257127, 0.98276129, 0.98294995, 0.9831365 , 0.98331959,\n",
              "       0.98349895, 0.98367761, 0.98385333, 0.98402836, 0.98420265,\n",
              "       0.98437567, 0.98454831, 0.98471969, 0.98488957, 0.98505777,\n",
              "       0.98522494, 0.98539102, 0.98555419, 0.98571631, 0.98587764,\n",
              "       0.98603696, 0.98619523, 0.98635042, 0.98650342, 0.98665497,\n",
              "       0.98680575, 0.98695245, 0.98709855, 0.9872443 , 0.98738931,\n",
              "       0.98753257, 0.98767488, 0.98781636, 0.98795727, 0.9880971 ,\n",
              "       0.98823494, 0.98837096, 0.98850594, 0.98864041, 0.98877297,\n",
              "       0.98890478, 0.98903506, 0.98916209, 0.98928763, 0.98941159,\n",
              "       0.98953517, 0.98965753, 0.98977891, 0.98989951, 0.99001956,\n",
              "       0.99013658, 0.99025328, 0.99036849, 0.99048326, 0.99059699,\n",
              "       0.99071051, 0.99082285, 0.99093414, 0.99104388, 0.99115253,\n",
              "       0.99125992, 0.99136483, 0.99146874, 0.99157206, 0.99167445,\n",
              "       0.9917754 , 0.99187623, 0.99197508, 0.99207317, 0.99216999,\n",
              "       0.99226637, 0.99236175, 0.99245532, 0.99254856, 0.99264113,\n",
              "       0.99273317, 0.99282429, 0.99291364, 0.99300221, 0.99308893,\n",
              "       0.9931744 , 0.99325928, 0.9933434 , 0.99342685, 0.99350954,\n",
              "       0.99359159, 0.99367179, 0.99375141, 0.99383048, 0.99390926,\n",
              "       0.99398712, 0.9940648 , 0.99414192, 0.99421824, 0.99429424,\n",
              "       0.99436878, 0.99444271, 0.9945166 , 0.99458973, 0.99466214,\n",
              "       0.99473441, 0.99480573, 0.99487586, 0.99494516, 0.99501293,\n",
              "       0.99508053, 0.99514676, 0.99521265, 0.9952782 , 0.99534265,\n",
              "       0.99540665, 0.99547035, 0.9955334 , 0.995596  , 0.99565812,\n",
              "       0.9957192 , 0.9957799 , 0.99584028, 0.9958998 , 0.99595871,\n",
              "       0.99601668, 0.99607413, 0.99613127, 0.99618749, 0.99624342,\n",
              "       0.9962985 , 0.99635306, 0.9964075 , 0.99646092, 0.99651303,\n",
              "       0.9965646 , 0.99661563, 0.99666624, 0.99671635, 0.99676606,\n",
              "       0.99681544, 0.99686419, 0.99691253, 0.99696052, 0.99700838,\n",
              "       0.99705602, 0.99710312, 0.9971492 , 0.99719479, 0.99723986,\n",
              "       0.9972846 , 0.99732864, 0.9973719 , 0.99741503, 0.99745747,\n",
              "       0.99749942, 0.99754127, 0.99758285, 0.99762336, 0.9976635 ,\n",
              "       0.99770356, 0.99774325, 0.99778285, 0.99782184, 0.99786073,\n",
              "       0.99789929, 0.99793681, 0.99797396, 0.99801092, 0.99804744,\n",
              "       0.99808356, 0.9981194 , 0.99815463, 0.99818968, 0.99822435,\n",
              "       0.99825839, 0.99829208, 0.99832546, 0.99835805, 0.99839052,\n",
              "       0.99842182, 0.99845305, 0.99848362, 0.99851416, 0.99854443,\n",
              "       0.9985745 , 0.99860436, 0.99863402, 0.99866358, 0.99869282,\n",
              "       0.9987209 , 0.99874868, 0.99877588, 0.99880274, 0.9988295 ,\n",
              "       0.99885573, 0.9988817 , 0.9989074 , 0.99893248, 0.9989575 ,\n",
              "       0.9989823 , 0.99900679, 0.99903102, 0.99905488, 0.99907796,\n",
              "       0.99910063, 0.99912312, 0.99914515, 0.99916709, 0.99918849,\n",
              "       0.99920959, 0.99923066, 0.99925153, 0.9992717 , 0.99929157,\n",
              "       0.99931134, 0.99933049, 0.99934956, 0.99936843, 0.9993867 ,\n",
              "       0.99940455, 0.99942204, 0.99943925, 0.99945642, 0.9994735 ,\n",
              "       0.99949038, 0.99950687, 0.9995226 , 0.99953796, 0.99955324,\n",
              "       0.99956818, 0.99958298, 0.99959761, 0.99961194, 0.99962591,\n",
              "       0.99963934, 0.9996523 , 0.99966515, 0.99967788, 0.99969045,\n",
              "       0.99970279, 0.99971435, 0.9997257 , 0.99973683, 0.99974777,\n",
              "       0.99975838, 0.99976884, 0.99977908, 0.99978921, 0.99979921,\n",
              "       0.9998089 , 0.99981804, 0.99982677, 0.99983527, 0.99984367,\n",
              "       0.99985203, 0.99986028, 0.99986796, 0.99987553, 0.99988267,\n",
              "       0.99988959, 0.99989604, 0.99990244, 0.99990862, 0.99991446,\n",
              "       0.99992007, 0.9999256 , 0.99993093, 0.99993593, 0.99994089,\n",
              "       0.99994566, 0.99995008, 0.99995393, 0.99995764, 0.99996125,\n",
              "       0.99996482, 0.99996812, 0.99997109, 0.99997396, 0.99997665,\n",
              "       0.99997927, 0.99998181, 0.9999839 , 0.99998579, 0.99998754,\n",
              "       0.99998926, 0.99999094, 0.99999232, 0.99999368, 0.99999498,\n",
              "       0.99999607, 0.99999706, 0.99999783, 0.99999853, 0.99999905,\n",
              "       0.99999956, 0.99999994, 0.99999997, 0.99999998, 0.99999999,\n",
              "       1.        , 1.        , 1.        , 1.        , 1.        ,\n",
              "       1.        , 1.        , 1.        , 1.        , 1.        ,\n",
              "       1.        , 1.        , 1.        , 1.        , 1.        ,\n",
              "       1.        , 1.        , 1.        , 1.        , 1.        ,\n",
              "       1.        , 1.        , 1.        , 1.        , 1.        ,\n",
              "       1.        , 1.        , 1.        , 1.        , 1.        ,\n",
              "       1.        , 1.        , 1.        , 1.        , 1.        ,\n",
              "       1.        , 1.        , 1.        , 1.        , 1.        ,\n",
              "       1.        , 1.        , 1.        , 1.        , 1.        ,\n",
              "       1.        , 1.        , 1.        , 1.        , 1.        ,\n",
              "       1.        , 1.        , 1.        , 1.        , 1.        ,\n",
              "       1.        , 1.        , 1.        , 1.        , 1.        ,\n",
              "       1.        , 1.        , 1.        , 1.        , 1.        ,\n",
              "       1.        , 1.        , 1.        , 1.        , 1.        ,\n",
              "       1.        , 1.        , 1.        , 1.        , 1.        ,\n",
              "       1.        , 1.        , 1.        , 1.        , 1.        ,\n",
              "       1.        , 1.        , 1.        , 1.        , 1.        ,\n",
              "       1.        , 1.        , 1.        , 1.        , 1.        ,\n",
              "       1.        , 1.        , 1.        , 1.        , 1.        ,\n",
              "       1.        , 1.        , 1.        , 1.        , 1.        ,\n",
              "       1.        , 1.        , 1.        , 1.        , 1.        ,\n",
              "       1.        , 1.        , 1.        , 1.        ])"
            ]
          },
          "metadata": {
            "tags": []
          },
          "execution_count": 12
        }
      ]
    },
    {
      "cell_type": "code",
      "metadata": {
        "colab": {
          "base_uri": "https://localhost:8080/"
        },
        "id": "f_rHsrMktL6T",
        "outputId": "2ea58553-1334-4014-8e3b-a5919435753f"
      },
      "source": [
        "x_axis = np.linspace(0, cumsum.shape[0], cumsum.shape[0])\r\n",
        "y_axis = cumsum\r\n",
        "x_axis.shape"
      ],
      "execution_count": null,
      "outputs": [
        {
          "output_type": "execute_result",
          "data": {
            "text/plain": [
              "(784,)"
            ]
          },
          "metadata": {
            "tags": []
          },
          "execution_count": 13
        }
      ]
    },
    {
      "cell_type": "code",
      "metadata": {
        "colab": {
          "base_uri": "https://localhost:8080/",
          "height": 314
        },
        "id": "vaDeql6KuqHC",
        "outputId": "e79cc457-f7f1-47fe-cdac-48e6778d7e98"
      },
      "source": [
        "plt.plot(x_axis, y_axis)\r\n",
        "plt.xlabel('n_dimention')\r\n",
        "plt.ylabel('variance')\r\n",
        "plt.title('Variance change trend')\r\n",
        "plt.axvline(500, color = 'r', linestyle = '--', linewidth = 2)\r\n",
        "plt.plot(500, y_axis[500], 'g.', markersize = 10)"
      ],
      "execution_count": null,
      "outputs": [
        {
          "output_type": "execute_result",
          "data": {
            "text/plain": [
              "[<matplotlib.lines.Line2D at 0x7f496e5e2ef0>]"
            ]
          },
          "metadata": {
            "tags": []
          },
          "execution_count": 27
        },
        {
          "output_type": "display_data",
          "data": {
            "image/png": "[encoded data removed]",
            "text/plain": [
              "<Figure size 432x288 with 1 Axes>"
            ]
          },
          "metadata": {
            "tags": [],
            "needs_background": "light"
          }
        }
      ]
    },
    {
      "cell_type": "code",
      "metadata": {
        "colab": {
          "base_uri": "https://localhost:8080/"
        },
        "id": "LXsrzeh4PP7s",
        "outputId": "32886aaa-ebe0-4d5a-b435-ee3fa44d038b"
      },
      "source": [
        "pca.singular_values_"
      ],
      "execution_count": null,
      "outputs": [
        {
          "output_type": "execute_result",
          "data": {
            "text/plain": [
              "array([166963.00290055, 119303.1624381 , 109854.86741067, 101729.38539148,\n",
              "        98552.19250901,  91312.12298714,  83141.21967209,  79488.02328044,\n",
              "        74413.01413081,  73925.55118066,  70423.99227714,  69251.56363496,\n",
              "        66703.64403162,  65687.35425534,  65185.09814932,  63009.21486801,\n",
              "        62481.16851058,  61265.69836511,  58291.45093593,  58251.66881843,\n",
              "        57608.29007246,  56607.1272236 ,  56108.27260939,  54578.1532272 ,\n",
              "        54214.50667433,  53601.89071614,  53242.88270092,  52354.58650678,\n",
              "        52015.8577086 ,  50900.71564791,  50563.74959056,  50389.52049488,\n",
              "        49105.42737649,  48907.21491952,  48327.71987134,  48244.75443258,\n",
              "        47898.01711369,  47432.12154836,  46692.28515073,  46518.55465555,\n",
              "        45854.01760555,  45470.80668165,  45220.25694774,  44810.77151949,\n",
              "        44577.2265259 ,  44284.61132923,  43804.73852074,  43091.08026811,\n",
              "        42718.18520859,  42494.43875844,  41859.416191  ,  41429.65039431,\n",
              "        41249.62735352,  40790.57676133,  40682.57550461,  40538.03496721,\n",
              "        40288.20745096,  39903.48542654,  39363.64419237,  39220.80600705,\n",
              "        38905.85482534,  38401.38252886,  38218.89808848,  37910.00358989,\n",
              "        37698.87293245,  37388.21143393,  37233.23286282,  36863.31534075,\n",
              "        36780.26254246,  36322.48449741,  36184.84213344,  35870.33403573,\n",
              "        35715.78572517,  35536.27554299,  35162.5158596 ,  35016.36368753,\n",
              "        34979.78481226,  34535.71667685,  34341.3169837 ,  34296.85700846,\n",
              "        34022.64645262,  33771.65405947,  33499.80557188,  33306.43497502,\n",
              "        32990.54557469,  32774.04577197,  32752.48274487,  32578.70231739,\n",
              "        32292.11331515,  31993.22968228,  31919.81768912,  31793.6643844 ,\n",
              "        31529.62796329,  31258.95994866,  31139.03646985,  30553.99344826,\n",
              "        30471.50925393,  30429.17280297,  30378.28202092,  30122.74465939,\n",
              "        30030.75190987,  29846.01000616,  29759.17081115,  29590.66017332,\n",
              "        29336.10965276,  29206.21499374,  28989.72661567,  28803.56953714,\n",
              "        28610.10916074,  28479.8680812 ,  28322.86442191,  28119.82660608,\n",
              "        27975.34642091,  27702.06952552,  27562.71402551,  27486.59098157,\n",
              "        27276.9222248 ,  27181.77200198,  27050.72113353,  26927.5289205 ,\n",
              "        26888.6495714 ,  26705.15225173,  26387.2779282 ,  26273.64585371,\n",
              "        26187.44398382,  26117.92059455,  25875.97836879,  25723.02584514,\n",
              "        25560.08022596,  25477.44032238,  25399.76020563,  25256.29986508,\n",
              "        25173.7315763 ,  25099.88978446,  24898.03007278,  24735.04247726,\n",
              "        24601.56812765,  24537.82377515,  24252.48408656,  24105.43667168,\n",
              "        23954.49746579,  23771.63037442,  23745.98166547,  23531.00430622,\n",
              "        23470.23589332,  23395.14093822,  23165.891277  ,  23066.28897439,\n",
              "        23057.59286514,  22891.6840348 ,  22867.84130848,  22771.97208939,\n",
              "        22617.53061454,  22479.65806448,  22433.0551792 ,  22344.99377749,\n",
              "        22156.93389012,  22091.52822274,  21994.64955948,  21764.73119034,\n",
              "        21668.3759584 ,  21588.20858129,  21501.78796579,  21341.94507664,\n",
              "        21264.26917885,  21206.50871416,  21160.75772726,  21043.06221725,\n",
              "        20926.04435354,  20799.10763349,  20665.94908017,  20500.81017389,\n",
              "        20388.13624739,  20327.00638257,  20231.28651886,  20112.62892815,\n",
              "        20003.09611096,  19961.59836212,  19829.13694086,  19739.07746999,\n",
              "        19656.07034751,  19593.35107306,  19444.77940573,  19350.4969816 ,\n",
              "        19281.85403835,  19272.27523419,  19206.82081127,  19033.22776189,\n",
              "        18997.86311387,  18847.44997542,  18778.96088112,  18609.76195441,\n",
              "        18562.61182853,  18527.23488961,  18412.92146624,  18333.26868489,\n",
              "        18281.88583352,  18208.38797305,  18082.83524098,  18017.61864416,\n",
              "        17917.79019292,  17836.41429625,  17798.39752897,  17668.61261988,\n",
              "        17550.96304414,  17510.20155571,  17469.71812462,  17383.67336518,\n",
              "        17336.88391635,  17241.89580767,  17162.72597168,  17083.65718376,\n",
              "        16926.12377757,  16867.62622414,  16776.92466405,  16720.67344163,\n",
              "        16668.31533467,  16649.68824703,  16526.52896438,  16421.19539261,\n",
              "        16389.13468739,  16355.42455313,  16263.22332269,  16164.28260119,\n",
              "        16122.32493096,  16071.44137793,  15980.76804351,  15951.78340311,\n",
              "        15884.52097838,  15856.37997995,  15804.70182243,  15709.6594753 ,\n",
              "        15606.98139597,  15568.27269287,  15469.10052324,  15425.79682186,\n",
              "        15322.34995858,  15284.77279634,  15249.21558744,  15037.41792372,\n",
              "        15017.52946515,  14975.1811845 ,  14904.71505199,  14858.25340987,\n",
              "        14697.85342921,  14597.34270639,  14575.89351811,  14495.10091829,\n",
              "        14482.60147357,  14412.50742691,  14328.25516279,  14267.94810698,\n",
              "        14239.19398734,  14185.92563487,  14139.16142262,  14099.83575701,\n",
              "        14077.04001186,  14022.30308241,  13913.6903866 ,  13902.1848562 ,\n",
              "        13864.08247741,  13776.38181562,  13720.97613377,  13672.74033811,\n",
              "        13611.56807968,  13560.83003198,  13520.36889047,  13494.27019659,\n",
              "        13464.91864146,  13358.15951648,  13311.83013896,  13306.42785427,\n",
              "        13138.90558578,  13118.49000687,  13062.58340616])"
            ]
          },
          "metadata": {
            "tags": []
          },
          "execution_count": 17
        }
      ]
    },
    {
      "cell_type": "code",
      "metadata": {
        "id": "oVTzQJAJPst9"
      },
      "source": [
        "X_recovered = pca.inverse_transform(X_reduced)"
      ],
      "execution_count": null,
      "outputs": []
    },
    {
      "cell_type": "code",
      "metadata": {
        "id": "ps9VUqsvTgWY"
      },
      "source": [
        "sample_origin = X[:4].reshape(-1, 28, 28)\r\n",
        "sample_recovered = X_recovered[:4].reshape(-1, 28, 28)"
      ],
      "execution_count": null,
      "outputs": []
    },
    {
      "cell_type": "code",
      "metadata": {
        "colab": {
          "base_uri": "https://localhost:8080/",
          "height": 242
        },
        "id": "wJhOtiTWTwEE",
        "outputId": "f4c197ee-5875-4604-d718-b5252dfd2540"
      },
      "source": [
        "def plot_origin_recovered(origin, recovered) :\r\n",
        "    plot_image = np.append(origin, recovered, axis=0)\r\n",
        "    row = 2\r\n",
        "    col = 4\r\n",
        "    fig = plt.figure()\r\n",
        "    for i in range(row*col) :\r\n",
        "        sub = fig.add_subplot(row, col, i+1)\r\n",
        "        sub.set_xticklabels('off')\r\n",
        "        sub.set_yticklabels('off')\r\n",
        "        sub.imshow(plot_image[i], cmap='binary')\r\n",
        "    fig.show()\r\n",
        "\r\n",
        "plot_origin_recovered(sample_origin, sample_recovered)"
      ],
      "execution_count": null,
      "outputs": [
        {
          "output_type": "display_data",
          "data": {
            "image/png": "[encoded data removed]",
            "text/plain": [
              "<Figure size 432x288 with 8 Axes>"
            ]
          },
          "metadata": {
            "tags": [],
            "needs_background": "light"
          }
        }
      ]
    },
    {
      "cell_type": "code",
      "metadata": {
        "id": "2wcM9Z9YYwZX"
      },
      "source": [
        "from sklearn.model_selection import train_test_split\r\n",
        "X_train, X_test, y_train, y_test = train_test_split(X, y, test_size = 0.2, random_state = 42)\r\n",
        "X_train_reduced, X_test_reduced, y_train, y_test = train_test_split(X_reduced, y, test_size = 0.2, random_state = 42)\r\n",
        "X_train_recovered, X_test_recovered, y_train, y_test = train_test_split(X_recovered, y, test_size = 0.2, random_state = 42)"
      ],
      "execution_count": null,
      "outputs": []
    },
    {
      "cell_type": "code",
      "metadata": {
        "colab": {
          "base_uri": "https://localhost:8080/"
        },
        "id": "s0bZSJHYbBCc",
        "outputId": "0a913c68-0012-4aca-9faa-3d6d1e7f101f"
      },
      "source": [
        "print(X.shape)\r\n",
        "print(X_reduced.shape)\r\n",
        "print(X_recovered.shape)"
      ],
      "execution_count": null,
      "outputs": [
        {
          "output_type": "stream",
          "text": [
            "(80000, 784)\n",
            "(80000, 275)\n",
            "(80000, 784)\n"
          ],
          "name": "stdout"
        }
      ]
    },
    {
      "cell_type": "code",
      "metadata": {
        "colab": {
          "base_uri": "https://localhost:8080/"
        },
        "id": "dPlKEfdnYiy6",
        "outputId": "c598add6-3a25-4523-f130-13c7b6f03d23"
      },
      "source": [
        "from sklearn.ensemble import RandomForestClassifier\r\n",
        "origin_clf = RandomForestClassifier(random_state = 42, verbose = 2)\r\n",
        "origin_clf.fit(X_train, y_train)\r\n",
        "origin_clf.score(X_test, y_test)"
      ],
      "execution_count": null,
      "outputs": [
        {
          "output_type": "stream",
          "text": [
            "[Parallel(n_jobs=1)]: Using backend SequentialBackend with 1 concurrent workers.\n"
          ],
          "name": "stderr"
        },
        {
          "output_type": "stream",
          "text": [
            "building tree 1 of 100\n"
          ],
          "name": "stdout"
        },
        {
          "output_type": "stream",
          "text": [
            "[Parallel(n_jobs=1)]: Done   1 out of   1 | elapsed:    0.7s remaining:    0.0s\n"
          ],
          "name": "stderr"
        },
        {
          "output_type": "stream",
          "text": [
            "building tree 2 of 100\n",
            "building tree 3 of 100\n",
            "building tree 4 of 100\n",
            "building tree 5 of 100\n",
            "building tree 6 of 100\n",
            "building tree 7 of 100\n",
            "building tree 8 of 100\n",
            "building tree 9 of 100\n",
            "building tree 10 of 100\n",
            "building tree 11 of 100\n",
            "building tree 12 of 100\n",
            "building tree 13 of 100\n",
            "building tree 14 of 100\n",
            "building tree 15 of 100\n",
            "building tree 16 of 100\n",
            "building tree 17 of 100\n",
            "building tree 18 of 100\n",
            "building tree 19 of 100\n",
            "building tree 20 of 100\n",
            "building tree 21 of 100\n",
            "building tree 22 of 100\n",
            "building tree 23 of 100\n",
            "building tree 24 of 100\n",
            "building tree 25 of 100\n",
            "building tree 26 of 100\n",
            "building tree 27 of 100\n",
            "building tree 28 of 100\n",
            "building tree 29 of 100\n",
            "building tree 30 of 100\n",
            "building tree 31 of 100\n",
            "building tree 32 of 100\n",
            "building tree 33 of 100\n",
            "building tree 34 of 100\n",
            "building tree 35 of 100\n",
            "building tree 36 of 100\n",
            "building tree 37 of 100\n",
            "building tree 38 of 100\n",
            "building tree 39 of 100\n",
            "building tree 40 of 100\n",
            "building tree 41 of 100\n",
            "building tree 42 of 100\n",
            "building tree 43 of 100\n",
            "building tree 44 of 100\n",
            "building tree 45 of 100\n",
            "building tree 46 of 100\n",
            "building tree 47 of 100\n",
            "building tree 48 of 100\n",
            "building tree 49 of 100\n",
            "building tree 50 of 100\n",
            "building tree 51 of 100\n",
            "building tree 52 of 100\n",
            "building tree 53 of 100\n",
            "building tree 54 of 100\n",
            "building tree 55 of 100\n",
            "building tree 56 of 100\n",
            "building tree 57 of 100\n",
            "building tree 58 of 100\n",
            "building tree 59 of 100\n",
            "building tree 60 of 100\n",
            "building tree 61 of 100\n",
            "building tree 62 of 100\n",
            "building tree 63 of 100\n",
            "building tree 64 of 100\n",
            "building tree 65 of 100\n",
            "building tree 66 of 100\n",
            "building tree 67 of 100\n",
            "building tree 68 of 100\n",
            "building tree 69 of 100\n",
            "building tree 70 of 100\n",
            "building tree 71 of 100\n",
            "building tree 72 of 100\n",
            "building tree 73 of 100\n",
            "building tree 74 of 100\n",
            "building tree 75 of 100\n",
            "building tree 76 of 100\n",
            "building tree 77 of 100\n",
            "building tree 78 of 100\n",
            "building tree 79 of 100\n",
            "building tree 80 of 100\n",
            "building tree 81 of 100\n",
            "building tree 82 of 100\n",
            "building tree 83 of 100\n",
            "building tree 84 of 100\n",
            "building tree 85 of 100\n",
            "building tree 86 of 100\n",
            "building tree 87 of 100\n",
            "building tree 88 of 100\n",
            "building tree 89 of 100\n",
            "building tree 90 of 100\n",
            "building tree 91 of 100\n",
            "building tree 92 of 100\n",
            "building tree 93 of 100\n",
            "building tree 94 of 100\n",
            "building tree 95 of 100\n",
            "building tree 96 of 100\n",
            "building tree 97 of 100\n",
            "building tree 98 of 100\n",
            "building tree 99 of 100\n",
            "building tree 100 of 100\n"
          ],
          "name": "stdout"
        },
        {
          "output_type": "stream",
          "text": [
            "[Parallel(n_jobs=1)]: Done 100 out of 100 | elapsed:  1.2min finished\n",
            "[Parallel(n_jobs=1)]: Using backend SequentialBackend with 1 concurrent workers.\n",
            "[Parallel(n_jobs=1)]: Done   1 out of   1 | elapsed:    0.0s remaining:    0.0s\n",
            "[Parallel(n_jobs=1)]: Done 100 out of 100 | elapsed:    0.8s finished\n"
          ],
          "name": "stderr"
        },
        {
          "output_type": "execute_result",
          "data": {
            "text/plain": [
              "0.7926875"
            ]
          },
          "metadata": {
            "tags": []
          },
          "execution_count": 21
        }
      ]
    },
    {
      "cell_type": "code",
      "metadata": {
        "colab": {
          "base_uri": "https://localhost:8080/"
        },
        "id": "58oeu3GsZmRx",
        "outputId": "af67a925-058e-420f-b5bc-4e3d8036e31a"
      },
      "source": [
        "reduct_clf = RandomForestClassifier(random_state=42, verbose=2)\r\n",
        "reduct_clf.fit(X_train_reduced, y_train)\r\n",
        "reduct_clf.score(X_test_reduced, y_test)"
      ],
      "execution_count": null,
      "outputs": [
        {
          "output_type": "stream",
          "text": [
            "[Parallel(n_jobs=1)]: Using backend SequentialBackend with 1 concurrent workers.\n"
          ],
          "name": "stderr"
        },
        {
          "output_type": "stream",
          "text": [
            "building tree 1 of 100\n"
          ],
          "name": "stdout"
        },
        {
          "output_type": "stream",
          "text": [
            "[Parallel(n_jobs=1)]: Done   1 out of   1 | elapsed:    1.8s remaining:    0.0s\n"
          ],
          "name": "stderr"
        },
        {
          "output_type": "stream",
          "text": [
            "building tree 2 of 100\n",
            "building tree 3 of 100\n",
            "building tree 4 of 100\n",
            "building tree 5 of 100\n",
            "building tree 6 of 100\n",
            "building tree 7 of 100\n",
            "building tree 8 of 100\n",
            "building tree 9 of 100\n",
            "building tree 10 of 100\n",
            "building tree 11 of 100\n",
            "building tree 12 of 100\n",
            "building tree 13 of 100\n",
            "building tree 14 of 100\n",
            "building tree 15 of 100\n",
            "building tree 16 of 100\n",
            "building tree 17 of 100\n",
            "building tree 18 of 100\n",
            "building tree 19 of 100\n",
            "building tree 20 of 100\n",
            "building tree 21 of 100\n",
            "building tree 22 of 100\n",
            "building tree 23 of 100\n",
            "building tree 24 of 100\n",
            "building tree 25 of 100\n",
            "building tree 26 of 100\n",
            "building tree 27 of 100\n",
            "building tree 28 of 100\n",
            "building tree 29 of 100\n",
            "building tree 30 of 100\n",
            "building tree 31 of 100\n",
            "building tree 32 of 100\n",
            "building tree 33 of 100\n",
            "building tree 34 of 100\n",
            "building tree 35 of 100\n",
            "building tree 36 of 100\n",
            "building tree 37 of 100\n",
            "building tree 38 of 100\n",
            "building tree 39 of 100\n",
            "building tree 40 of 100\n",
            "building tree 41 of 100\n",
            "building tree 42 of 100\n",
            "building tree 43 of 100\n",
            "building tree 44 of 100\n",
            "building tree 45 of 100\n",
            "building tree 46 of 100\n",
            "building tree 47 of 100\n",
            "building tree 48 of 100\n",
            "building tree 49 of 100\n",
            "building tree 50 of 100\n",
            "building tree 51 of 100\n",
            "building tree 52 of 100\n",
            "building tree 53 of 100\n",
            "building tree 54 of 100\n",
            "building tree 55 of 100\n",
            "building tree 56 of 100\n",
            "building tree 57 of 100\n",
            "building tree 58 of 100\n",
            "building tree 59 of 100\n",
            "building tree 60 of 100\n",
            "building tree 61 of 100\n",
            "building tree 62 of 100\n",
            "building tree 63 of 100\n",
            "building tree 64 of 100\n",
            "building tree 65 of 100\n",
            "building tree 66 of 100\n",
            "building tree 67 of 100\n",
            "building tree 68 of 100\n",
            "building tree 69 of 100\n",
            "building tree 70 of 100\n",
            "building tree 71 of 100\n",
            "building tree 72 of 100\n",
            "building tree 73 of 100\n",
            "building tree 74 of 100\n",
            "building tree 75 of 100\n",
            "building tree 76 of 100\n",
            "building tree 77 of 100\n",
            "building tree 78 of 100\n",
            "building tree 79 of 100\n",
            "building tree 80 of 100\n",
            "building tree 81 of 100\n",
            "building tree 82 of 100\n",
            "building tree 83 of 100\n",
            "building tree 84 of 100\n",
            "building tree 85 of 100\n",
            "building tree 86 of 100\n",
            "building tree 87 of 100\n",
            "building tree 88 of 100\n",
            "building tree 89 of 100\n",
            "building tree 90 of 100\n",
            "building tree 91 of 100\n",
            "building tree 92 of 100\n",
            "building tree 93 of 100\n",
            "building tree 94 of 100\n",
            "building tree 95 of 100\n",
            "building tree 96 of 100\n",
            "building tree 97 of 100\n",
            "building tree 98 of 100\n",
            "building tree 99 of 100\n",
            "building tree 100 of 100\n"
          ],
          "name": "stdout"
        },
        {
          "output_type": "stream",
          "text": [
            "[Parallel(n_jobs=1)]: Done 100 out of 100 | elapsed:  2.9min finished\n",
            "[Parallel(n_jobs=1)]: Using backend SequentialBackend with 1 concurrent workers.\n",
            "[Parallel(n_jobs=1)]: Done   1 out of   1 | elapsed:    0.0s remaining:    0.0s\n",
            "[Parallel(n_jobs=1)]: Done 100 out of 100 | elapsed:    0.7s finished\n"
          ],
          "name": "stderr"
        },
        {
          "output_type": "execute_result",
          "data": {
            "text/plain": [
              "0.7645625"
            ]
          },
          "metadata": {
            "tags": []
          },
          "execution_count": 22
        }
      ]
    },
    {
      "cell_type": "code",
      "metadata": {
        "colab": {
          "base_uri": "https://localhost:8080/"
        },
        "id": "FhEJomM_dzQ8",
        "outputId": "768dd7bd-33d4-4144-c5a2-0885fc88d1db"
      },
      "source": [
        "recover_clf = RandomForestClassifier(random_state=42, verbose=2)\r\n",
        "recover_clf.fit(X_train_recovered, y_train)\r\n",
        "recover_clf.score(X_test_recovered, y_test)"
      ],
      "execution_count": null,
      "outputs": [
        {
          "output_type": "stream",
          "text": [
            "[Parallel(n_jobs=1)]: Using backend SequentialBackend with 1 concurrent workers.\n"
          ],
          "name": "stderr"
        },
        {
          "output_type": "stream",
          "text": [
            "building tree 1 of 100\n"
          ],
          "name": "stdout"
        },
        {
          "output_type": "stream",
          "text": [
            "[Parallel(n_jobs=1)]: Done   1 out of   1 | elapsed:    2.5s remaining:    0.0s\n"
          ],
          "name": "stderr"
        },
        {
          "output_type": "stream",
          "text": [
            "building tree 2 of 100\n",
            "building tree 3 of 100\n",
            "building tree 4 of 100\n",
            "building tree 5 of 100\n",
            "building tree 6 of 100\n",
            "building tree 7 of 100\n",
            "building tree 8 of 100\n",
            "building tree 9 of 100\n",
            "building tree 10 of 100\n",
            "building tree 11 of 100\n",
            "building tree 12 of 100\n",
            "building tree 13 of 100\n",
            "building tree 14 of 100\n",
            "building tree 15 of 100\n",
            "building tree 16 of 100\n",
            "building tree 17 of 100\n",
            "building tree 18 of 100\n",
            "building tree 19 of 100\n",
            "building tree 20 of 100\n",
            "building tree 21 of 100\n",
            "building tree 22 of 100\n",
            "building tree 23 of 100\n",
            "building tree 24 of 100\n",
            "building tree 25 of 100\n",
            "building tree 26 of 100\n",
            "building tree 27 of 100\n",
            "building tree 28 of 100\n",
            "building tree 29 of 100\n",
            "building tree 30 of 100\n",
            "building tree 31 of 100\n",
            "building tree 32 of 100\n",
            "building tree 33 of 100\n",
            "building tree 34 of 100\n",
            "building tree 35 of 100\n",
            "building tree 36 of 100\n",
            "building tree 37 of 100\n",
            "building tree 38 of 100\n",
            "building tree 39 of 100\n",
            "building tree 40 of 100\n",
            "building tree 41 of 100\n",
            "building tree 42 of 100\n",
            "building tree 43 of 100\n",
            "building tree 44 of 100\n",
            "building tree 45 of 100\n",
            "building tree 46 of 100\n",
            "building tree 47 of 100\n",
            "building tree 48 of 100\n",
            "building tree 49 of 100\n",
            "building tree 50 of 100\n",
            "building tree 51 of 100\n",
            "building tree 52 of 100\n",
            "building tree 53 of 100\n",
            "building tree 54 of 100\n",
            "building tree 55 of 100\n",
            "building tree 56 of 100\n",
            "building tree 57 of 100\n",
            "building tree 58 of 100\n",
            "building tree 59 of 100\n",
            "building tree 60 of 100\n",
            "building tree 61 of 100\n",
            "building tree 62 of 100\n",
            "building tree 63 of 100\n",
            "building tree 64 of 100\n",
            "building tree 65 of 100\n",
            "building tree 66 of 100\n",
            "building tree 67 of 100\n",
            "building tree 68 of 100\n",
            "building tree 69 of 100\n",
            "building tree 70 of 100\n",
            "building tree 71 of 100\n",
            "building tree 72 of 100\n",
            "building tree 73 of 100\n",
            "building tree 74 of 100\n",
            "building tree 75 of 100\n",
            "building tree 76 of 100\n",
            "building tree 77 of 100\n",
            "building tree 78 of 100\n",
            "building tree 79 of 100\n",
            "building tree 80 of 100\n",
            "building tree 81 of 100\n",
            "building tree 82 of 100\n",
            "building tree 83 of 100\n",
            "building tree 84 of 100\n",
            "building tree 85 of 100\n",
            "building tree 86 of 100\n",
            "building tree 87 of 100\n",
            "building tree 88 of 100\n",
            "building tree 89 of 100\n",
            "building tree 90 of 100\n",
            "building tree 91 of 100\n",
            "building tree 92 of 100\n",
            "building tree 93 of 100\n",
            "building tree 94 of 100\n",
            "building tree 95 of 100\n",
            "building tree 96 of 100\n",
            "building tree 97 of 100\n",
            "building tree 98 of 100\n",
            "building tree 99 of 100\n",
            "building tree 100 of 100\n"
          ],
          "name": "stdout"
        },
        {
          "output_type": "stream",
          "text": [
            "[Parallel(n_jobs=1)]: Done 100 out of 100 | elapsed:  4.4min finished\n",
            "[Parallel(n_jobs=1)]: Using backend SequentialBackend with 1 concurrent workers.\n",
            "[Parallel(n_jobs=1)]: Done   1 out of   1 | elapsed:    0.0s remaining:    0.0s\n",
            "[Parallel(n_jobs=1)]: Done 100 out of 100 | elapsed:    0.9s finished\n"
          ],
          "name": "stderr"
        },
        {
          "output_type": "execute_result",
          "data": {
            "text/plain": [
              "0.771"
            ]
          },
          "metadata": {
            "tags": []
          },
          "execution_count": 23
        }
      ]
    },
    {
      "cell_type": "code",
      "metadata": {
        "colab": {
          "base_uri": "https://localhost:8080/"
        },
        "id": "7Zjgq9lKmygH",
        "outputId": "b5bf0de5-1ca0-477f-db87-8e91ac13db5a"
      },
      "source": [
        "np.empty((100,)).shape"
      ],
      "execution_count": null,
      "outputs": [
        {
          "output_type": "execute_result",
          "data": {
            "text/plain": [
              "(100,)"
            ]
          },
          "metadata": {
            "tags": []
          },
          "execution_count": 30
        }
      ]
    },
    {
      "cell_type": "code",
      "metadata": {
        "id": "_pwemqpUi7MR"
      },
      "source": [
        "from sklearn.model_selection import train_test_split\r\n",
        "from sklearn.tree import DecisionTreeClassifier\r\n",
        "from sklearn.ensemble import RandomForestClassifier\r\n",
        "from sklearn.ensemble import ExtraTreesClassifier\r\n",
        "from sklearn.svm import SVC\r\n",
        "\r\n",
        "# estimators = [rnd, dt, kernel_svc, ext]\r\n",
        "def score_prepare_variance(X, y, estimators) :\r\n",
        "    n_variance = np.linspace(0.1, 1, 100)\r\n",
        "    score_p_variance = np.empty((100, len(estimators)))\r\n",
        "    n_class = np.empty((100, ), dtype=int)\r\n",
        "    for i, variance in enumerate(n_variance) :\r\n",
        "        pca_v = PCA(n_components=variance)\r\n",
        "        X_reduced = pca_v.fit_transform(X)\r\n",
        "        n_class[i] = pca_v.n_components_\r\n",
        "        X_train, X_test, y_train, y_test = train_test_split(X_reduced, y, test_size = 0.2, random_state = 42)\r\n",
        "        print('{0}/{1} epoch, dimention reduced to {2}'.format(i+1, len(n_variance), n_class[i]))\r\n",
        "        for j, clf in enumerate(estimators) :\r\n",
        "            clf.fit(X_train, y_train)\r\n",
        "            score_p_variance[i][j] = clf.score(X_test, y_test)\r\n",
        "            print('{0}/{1} fitting'.format(j+1, len(estimators)))\r\n",
        "    return score_p_variance, n_class\r\n",
        "\r\n",
        "rnd_clf = RandomForestClassifier(n_estimators=50, random_state=42)\r\n",
        "dt_clf = DecisionTreeClassifier(random_state=42)\r\n",
        "svm_clf = SVC(kernel = 'linear', random_state=42)\r\n",
        "ext_clf = ExtraTreesClassifier(n_estimators = 50, random_state=42)\r\n",
        "\r\n",
        "estimators = [rnd_clf, dt_clf, svm_clf, ext_clf]\r\n",
        "\r\n",
        "score_each_clf, n_class = score_prepare_variance(X, y, estimators=estimators)"
      ],
      "execution_count": null,
      "outputs": []
    },
    {
      "cell_type": "code",
      "metadata": {
        "colab": {
          "base_uri": "https://localhost:8080/"
        },
        "id": "eEslB_HPhoYN",
        "outputId": "74aa4fda-437a-452f-bed2-1ce0a02ac84b"
      },
      "source": [
        "import time\r\n",
        "\r\n",
        "from sklearn.model_selection import train_test_split\r\n",
        "from sklearn.tree import DecisionTreeClassifier\r\n",
        "from sklearn.ensemble import RandomForestClassifier\r\n",
        "from sklearn.ensemble import ExtraTreesClassifier\r\n",
        "from sklearn.svm import SVC\r\n",
        "\r\n",
        "# running time prepare variance\r\n",
        "\r\n",
        "def get_time_score(X, y, clf) :\r\n",
        "    run_time = np.empty((33, ))\r\n",
        "    score = np.empty((33, ))\r\n",
        "    n_component = np.empty((33, ))\r\n",
        "    n_variance = np.linspace(0.03, 0.99, 33)\r\n",
        "    for index, variance in enumerate(n_variance) :\r\n",
        "        pca_t = PCA(n_components = variance)\r\n",
        "        X_reduced = pca_t.fit_transform(X)\r\n",
        "        n_component[index] = pca_t.n_components_\r\n",
        "        X_train, X_test, y_train, y_test = train_test_split(X_reduced, y, test_size = 0.2, shuffle = False, random_state = 42)\r\n",
        "        start = time.time()\r\n",
        "        clf.fit(X_train, y_train)\r\n",
        "        run_time[index] = (time.time()-start)\r\n",
        "        score[index] = clf.score(X_test, y_test)\r\n",
        "        print('{0}/{1} training complete'.format(index+1, len(n_variance)))\r\n",
        "    return run_time, score, n_component\r\n",
        "\r\n",
        "time_per_variance, score_per_variance, component_per_variance = get_time_score(X, y, DecisionTreeClassifier(random_state = 42))"
      ],
      "execution_count": null,
      "outputs": [
        {
          "output_type": "stream",
          "text": [
            "1/33 training complete\n",
            "2/33 training complete\n",
            "3/33 training complete\n",
            "4/33 training complete\n",
            "5/33 training complete\n",
            "6/33 training complete\n",
            "7/33 training complete\n",
            "8/33 training complete\n",
            "9/33 training complete\n",
            "10/33 training complete\n",
            "11/33 training complete\n",
            "12/33 training complete\n",
            "13/33 training complete\n",
            "14/33 training complete\n",
            "15/33 training complete\n",
            "16/33 training complete\n",
            "17/33 training complete\n",
            "18/33 training complete\n",
            "19/33 training complete\n",
            "20/33 training complete\n",
            "21/33 training complete\n",
            "22/33 training complete\n",
            "23/33 training complete\n",
            "24/33 training complete\n",
            "25/33 training complete\n",
            "26/33 training complete\n",
            "27/33 training complete\n",
            "28/33 training complete\n",
            "29/33 training complete\n",
            "30/33 training complete\n",
            "31/33 training complete\n",
            "32/33 training complete\n",
            "33/33 training complete\n"
          ],
          "name": "stdout"
        }
      ]
    },
    {
      "cell_type": "code",
      "metadata": {
        "colab": {
          "base_uri": "https://localhost:8080/"
        },
        "id": "R-MylQ0OxCWn",
        "outputId": "7caa1419-8e35-43fc-c2e2-4f4e5a7984d6"
      },
      "source": [
        "time_per_variance = time_per_variance/60\r\n",
        "time_per_variance"
      ],
      "execution_count": null,
      "outputs": [
        {
          "output_type": "execute_result",
          "data": {
            "text/plain": [
              "array([0.00460968, 0.00454926, 0.00646654, 0.00877963, 0.01180015,\n",
              "       0.0145181 , 0.01732055, 0.02342465, 0.02969128, 0.03609342,\n",
              "       0.04244541, 0.05261477, 0.06172105, 0.07547354, 0.0862991 ,\n",
              "       0.15841006, 0.11857692, 0.13612839, 0.15895753, 0.1783187 ,\n",
              "       0.20742501, 0.23258515, 0.26948789, 0.30704133, 0.35168743,\n",
              "       0.4060457 , 0.47249214, 0.5382409 , 0.66184052, 0.77456634,\n",
              "       0.95047999, 1.27769004, 1.76220011])"
            ]
          },
          "metadata": {
            "tags": []
          },
          "execution_count": 6
        }
      ]
    },
    {
      "cell_type": "code",
      "metadata": {
        "colab": {
          "base_uri": "https://localhost:8080/"
        },
        "id": "9vvhEA9vxJp7",
        "outputId": "5d066adc-c4ea-4305-deea-1b4be64ea6d9"
      },
      "source": [
        "score_per_variance"
      ],
      "execution_count": null,
      "outputs": [
        {
          "output_type": "execute_result",
          "data": {
            "text/plain": [
              "array([0.2799375, 0.2799375, 0.3599375, 0.4948125, 0.5269375, 0.5643125,\n",
              "       0.594375 , 0.62525  , 0.634    , 0.64375  , 0.6479375, 0.646875 ,\n",
              "       0.653625 , 0.653125 , 0.6489375, 0.64475  , 0.646    , 0.64275  ,\n",
              "       0.644875 , 0.6430625, 0.63625  , 0.636    , 0.6365   , 0.634625 ,\n",
              "       0.6275625, 0.628375 , 0.6244375, 0.6240625, 0.6235   , 0.621    ,\n",
              "       0.6244375, 0.6158125, 0.616    ])"
            ]
          },
          "metadata": {
            "tags": []
          },
          "execution_count": 7
        }
      ]
    },
    {
      "cell_type": "code",
      "metadata": {
        "colab": {
          "base_uri": "https://localhost:8080/"
        },
        "id": "NNV6ZyUjxQ8h",
        "outputId": "22844ecd-895b-4052-a986-8da94446195c"
      },
      "source": [
        "component_per_variance"
      ],
      "execution_count": null,
      "outputs": [
        {
          "output_type": "execute_result",
          "data": {
            "text/plain": [
              "array([  1.,   1.,   2.,   3.,   4.,   5.,   6.,   8.,  10.,  12.,  14.,\n",
              "        17.,  20.,  24.,  27.,  32.,  36.,  41.,  47.,  53.,  60.,  68.,\n",
              "        77.,  87.,  98., 111., 127., 145., 168., 197., 237., 299., 430.])"
            ]
          },
          "metadata": {
            "tags": []
          },
          "execution_count": 8
        }
      ]
    },
    {
      "cell_type": "code",
      "metadata": {
        "id": "gh42A3SlxXLJ"
      },
      "source": [
        "pca = PCA(n_components=0.95)\r\n",
        "X_b = pca.fit_transform(X)"
      ],
      "execution_count": null,
      "outputs": []
    },
    {
      "cell_type": "code",
      "metadata": {
        "colab": {
          "base_uri": "https://localhost:8080/"
        },
        "id": "I_a2SvFDyBsW",
        "outputId": "20c67e6d-480f-4484-ce0e-db1e68ce4b21"
      },
      "source": [
        "pca.n_components"
      ],
      "execution_count": null,
      "outputs": [
        {
          "output_type": "execute_result",
          "data": {
            "text/plain": [
              "0.95"
            ]
          },
          "metadata": {
            "tags": []
          },
          "execution_count": 40
        }
      ]
    },
    {
      "cell_type": "code",
      "metadata": {
        "colab": {
          "base_uri": "https://localhost:8080/",
          "height": 311
        },
        "id": "rihu8vqs-9Cn",
        "outputId": "704ebb17-3c8a-46a4-a59d-6e8a7d0d2116"
      },
      "source": [
        "def plot_score_variance(score, clf):\r\n",
        "    best_score_feature = np.argmax(score)\r\n",
        "    plt.scatter(component_per_variance[best_score_feature], score[best_score_feature], c = 'g')\r\n",
        "    plt.text(component_per_variance[best_score_feature]+15, score[best_score_feature]-0.005, '{:.2f}'.format(score[best_score_feature]*100)+'%', color='k', horizontalalignment = 'left',verticalalignment='bottom')\r\n",
        "    plt.axvline(component_per_variance[best_score_feature], color='b', linestyle='--', linewidth=2)\r\n",
        "    plt.text(component_per_variance[best_score_feature]+10, 0.3, 'n_feature : {}'.format(best_score_feature), color='k', horizontalalignment = 'left',verticalalignment='bottom')\r\n",
        "    plt.plot(component_per_variance, score, '-r')\r\n",
        "    plt.title('Score per n_feature\\n({})'.format(clf))\r\n",
        "    plt.xlabel('n_feature')\r\n",
        "    plt.ylabel('Score')\r\n",
        "    \r\n",
        "plot_score_variance(score_per_variance ,'DecisionTreeClassifier')"
      ],
      "execution_count": null,
      "outputs": [
        {
          "output_type": "display_data",
          "data": {
            "image/png": "[encoded data removed]",
            "text/plain": [
              "<Figure size 432x288 with 1 Axes>"
            ]
          },
          "metadata": {
            "tags": [],
            "needs_background": "light"
          }
        }
      ]
    },
    {
      "cell_type": "code",
      "metadata": {
        "colab": {
          "base_uri": "https://localhost:8080/",
          "height": 311
        },
        "id": "5I_7oTeVGEvE",
        "outputId": "914652d5-c990-42a7-8002-f35c3d26745b"
      },
      "source": [
        "def plot_time_variance(time_per_variance, score_per_variance, clf) :\r\n",
        "    plt.plot(component_per_variance, time_per_variance)\r\n",
        "    best_score_feature = np.argmax(score_per_variance)\r\n",
        "    plt.scatter(component_per_variance[best_score_feature], time_per_variance[best_score_feature], c = 'g')\r\n",
        "    plt.text(component_per_variance[best_score_feature], time_per_variance[best_score_feature]+0.1, '{:.3f}'.format(time_per_variance[best_score_feature]), color='k', horizontalalignment = 'center',verticalalignment='bottom')\r\n",
        "    plt.scatter(component_per_variance[len(time_per_variance)-1], time_per_variance[len(time_per_variance)-1], c = 'r')\r\n",
        "    plt.text(component_per_variance[len(time_per_variance)-1], time_per_variance[-1]-0.1, '{:.3f}'.format(time_per_variance[-1]), color='k', horizontalalignment = 'center',verticalalignment='top')\r\n",
        "    plt.title('Score per n_feature\\n({})'.format(clf))\r\n",
        "    plt.xlabel('n_feature')\r\n",
        "    plt.ylabel('Duration Time (min)')\r\n",
        "\r\n",
        "plot_time_variance(time_per_variance, score_per_variance, 'DecisionTreeClassifier')"
      ],
      "execution_count": null,
      "outputs": [
        {
          "output_type": "display_data",
          "data": {
            "image/png": "[encoded data removed]",
            "text/plain": [
              "<Figure size 432x288 with 1 Axes>"
            ]
          },
          "metadata": {
            "tags": [],
            "needs_background": "light"
          }
        }
      ]
    },
    {
      "cell_type": "code",
      "metadata": {
        "colab": {
          "base_uri": "https://localhost:8080/",
          "height": 313
        },
        "id": "Qs40VNWAKQjQ",
        "outputId": "2b2e2900-302f-409e-f461-829400300c44"
      },
      "source": [
        "n_variance = np.linspace(0.03, 0.99, 33)\r\n",
        "plt.plot(n_variance, component_per_variance)\r\n",
        "plt.title('n_feature per variance')\r\n",
        "plt.xlabel('variance')\r\n",
        "plt.ylabel('n_feature')"
      ],
      "execution_count": null,
      "outputs": [
        {
          "output_type": "execute_result",
          "data": {
            "text/plain": [
              "Text(0, 0.5, 'n_feature')"
            ]
          },
          "metadata": {
            "tags": []
          },
          "execution_count": 17
        },
        {
          "output_type": "display_data",
          "data": {
            "image/png": "[encoded data removed]",
            "text/plain": [
              "<Figure size 432x288 with 1 Axes>"
            ]
          },
          "metadata": {
            "tags": [],
            "needs_background": "light"
          }
        }
      ]
    },
    {
      "cell_type": "code",
      "metadata": {
        "colab": {
          "base_uri": "https://localhost:8080/"
        },
        "id": "eDL0wSV3K2ec",
        "outputId": "25790c4e-4f50-4997-853a-0c706ff354a6"
      },
      "source": [
        "rnd_time_per_variance, rnd_score_per_variance, rnd_component_per_variance = get_time_score(X, y, RandomForestClassifier(random_state = 42))\r\n",
        "rnd_time_per_variance = rnd_time_per_variance/60"
      ],
      "execution_count": null,
      "outputs": [
        {
          "output_type": "stream",
          "text": [
            "1/33 training complete\n",
            "2/33 training complete\n",
            "3/33 training complete\n",
            "4/33 training complete\n",
            "5/33 training complete\n",
            "6/33 training complete\n",
            "7/33 training complete\n",
            "8/33 training complete\n",
            "9/33 training complete\n",
            "10/33 training complete\n",
            "11/33 training complete\n",
            "12/33 training complete\n",
            "13/33 training complete\n",
            "14/33 training complete\n",
            "15/33 training complete\n",
            "16/33 training complete\n",
            "17/33 training complete\n",
            "18/33 training complete\n",
            "19/33 training complete\n",
            "20/33 training complete\n",
            "21/33 training complete\n",
            "22/33 training complete\n",
            "23/33 training complete\n",
            "24/33 training complete\n",
            "25/33 training complete\n",
            "26/33 training complete\n",
            "27/33 training complete\n",
            "28/33 training complete\n",
            "29/33 training complete\n",
            "30/33 training complete\n",
            "31/33 training complete\n",
            "32/33 training complete\n",
            "33/33 training complete\n"
          ],
          "name": "stdout"
        }
      ]
    },
    {
      "cell_type": "code",
      "metadata": {
        "colab": {
          "base_uri": "https://localhost:8080/",
          "height": 311
        },
        "id": "3deuuL2hTDsm",
        "outputId": "0bae268a-e589-4c73-88bb-e823dc0a88e8"
      },
      "source": [
        "plot_score_variance(rnd_score_per_variance, 'RandomForestClassifier')"
      ],
      "execution_count": null,
      "outputs": [
        {
          "output_type": "display_data",
          "data": {
            "image/png": "[encoded data removed]",
            "text/plain": [
              "<Figure size 432x288 with 1 Axes>"
            ]
          },
          "metadata": {
            "tags": [],
            "needs_background": "light"
          }
        }
      ]
    },
    {
      "cell_type": "code",
      "metadata": {
        "colab": {
          "base_uri": "https://localhost:8080/",
          "height": 311
        },
        "id": "cYpp78YQTINz",
        "outputId": "e8ddcdcc-520e-4621-a219-f12bbfb5683d"
      },
      "source": [
        "plot_time_variance(rnd_time_per_variance, rnd_score_per_variance, 'RandomForestClassifier')"
      ],
      "execution_count": null,
      "outputs": [
        {
          "output_type": "display_data",
          "data": {
            "image/png": "[encoded data removed]",
            "text/plain": [
              "<Figure size 432x288 with 1 Axes>"
            ]
          },
          "metadata": {
            "tags": [],
            "needs_background": "light"
          }
        }
      ]
    },
    {
      "cell_type": "code",
      "metadata": {
        "colab": {
          "base_uri": "https://localhost:8080/"
        },
        "id": "1ru2wlebTRXr",
        "outputId": "7c47b77c-d06e-4005-cc6c-a5734ec14768"
      },
      "source": [
        "from sklearn.linear_model import LogisticRegression\r\n",
        "log_time_per_variance, log_score_per_variance, log_component_per_variance = get_time_score(X, y, LogisticRegression(max_iter = 7000, random_state = 42))\r\n",
        "log_time_per_variance = log_time_per_variance/60"
      ],
      "execution_count": null,
      "outputs": [
        {
          "output_type": "stream",
          "text": [
            "1/33 training complete\n",
            "2/33 training complete\n",
            "3/33 training complete\n",
            "4/33 training complete\n",
            "5/33 training complete\n",
            "6/33 training complete\n",
            "7/33 training complete\n",
            "8/33 training complete\n",
            "9/33 training complete\n",
            "10/33 training complete\n",
            "11/33 training complete\n",
            "12/33 training complete\n",
            "13/33 training complete\n",
            "14/33 training complete\n",
            "15/33 training complete\n",
            "16/33 training complete\n",
            "17/33 training complete\n",
            "18/33 training complete\n",
            "19/33 training complete\n",
            "20/33 training complete\n",
            "21/33 training complete\n",
            "22/33 training complete\n",
            "23/33 training complete\n"
          ],
          "name": "stdout"
        },
        {
          "output_type": "stream",
          "text": [
            "/usr/local/lib/python3.6/dist-packages/sklearn/linear_model/_logistic.py:940: ConvergenceWarning: lbfgs failed to converge (status=1):\n",
            "STOP: TOTAL NO. of ITERATIONS REACHED LIMIT.\n",
            "\n",
            "Increase the number of iterations (max_iter) or scale the data as shown in:\n",
            "    https://scikit-learn.org/stable/modules/preprocessing.html\n",
            "Please also refer to the documentation for alternative solver options:\n",
            "    https://scikit-learn.org/stable/modules/linear_model.html#logistic-regression\n",
            "  extra_warning_msg=_LOGISTIC_SOLVER_CONVERGENCE_MSG)\n"
          ],
          "name": "stderr"
        },
        {
          "output_type": "stream",
          "text": [
            "24/33 training complete\n",
            "25/33 training complete\n",
            "26/33 training complete\n",
            "27/33 training complete\n",
            "28/33 training complete\n",
            "29/33 training complete\n",
            "30/33 training complete\n",
            "31/33 training complete\n",
            "32/33 training complete\n",
            "33/33 training complete\n"
          ],
          "name": "stdout"
        }
      ]
    },
    {
      "cell_type": "code",
      "metadata": {
        "colab": {
          "base_uri": "https://localhost:8080/",
          "height": 311
        },
        "id": "VfohgA7t1Sek",
        "outputId": "24a0d921-f162-45c0-c404-dce5e5efc58a"
      },
      "source": [
        "plot_score_variance(log_score_per_variance, 'LogisticRegressor')"
      ],
      "execution_count": null,
      "outputs": [
        {
          "output_type": "display_data",
          "data": {
            "image/png": "[encoded data removed]",
            "text/plain": [
              "<Figure size 432x288 with 1 Axes>"
            ]
          },
          "metadata": {
            "tags": [],
            "needs_background": "light"
          }
        }
      ]
    },
    {
      "cell_type": "code",
      "metadata": {
        "colab": {
          "base_uri": "https://localhost:8080/",
          "height": 311
        },
        "id": "tLR1dbo51bzs",
        "outputId": "0bc957f2-bfbb-4419-b653-f829606d5319"
      },
      "source": [
        "plot_time_variance(log_time_per_variance, log_score_per_variance, 'LogisticRegressor')"
      ],
      "execution_count": null,
      "outputs": [
        {
          "output_type": "display_data",
          "data": {
            "image/png": "[encoded data removed]",
            "text/plain": [
              "<Figure size 432x288 with 1 Axes>"
            ]
          },
          "metadata": {
            "tags": [],
            "needs_background": "light"
          }
        }
      ]
    },
    {
      "cell_type": "code",
      "metadata": {
        "colab": {
          "base_uri": "https://localhost:8080/"
        },
        "id": "lJ2lgWhlGaiK",
        "outputId": "ff06da1c-d88e-45f5-98c2-af23c8e463db"
      },
      "source": [
        "log_time_per_variance"
      ],
      "execution_count": null,
      "outputs": [
        {
          "output_type": "execute_result",
          "data": {
            "text/plain": [
              "array([1.46618660e-06, 1.46027575e-06, 1.34992761e-06, 2.35397575e-06,\n",
              "       2.68986584e-06, 3.07143588e-06, 2.81040284e-06, 7.45978584e-06,\n",
              "       3.91240267e-06, 5.10247394e-06, 6.98788620e-06, 4.67884638e-06,\n",
              "       2.16693637e-06, 8.23018056e-06, 5.86469429e-06, 7.72300212e-06,\n",
              "       3.67431297e-06, 4.62645592e-06, 1.49861972e-05, 1.06088545e-05,\n",
              "       1.46112761e-05, 7.17434226e-06, 1.30673258e-05, 3.55154083e-05,\n",
              "       2.84369139e-05, 2.32698180e-05, 9.10811373e-06, 1.84494693e-05,\n",
              "       6.48579818e-06, 1.40366616e-05, 3.11510096e-05, 4.62958523e-05,\n",
              "       2.64392621e-05])"
            ]
          },
          "metadata": {
            "tags": []
          },
          "execution_count": 42
        }
      ]
    },
    {
      "cell_type": "code",
      "metadata": {
        "colab": {
          "base_uri": "https://localhost:8080/"
        },
        "id": "ZGkCkKugYfLI",
        "outputId": "05677646-d2a1-496b-d817-4024ce4d326a"
      },
      "source": [
        "from sklearn.linear_model import SGDClassifier\r\n",
        "sgd_time_per_variance, sgd_score_per_variance, sgd_component_per_variance = get_time_score(X, y, SGDClassifier(max_iter=5000, tol=1e-3, random_state = 42))"
      ],
      "execution_count": null,
      "outputs": [
        {
          "output_type": "stream",
          "text": [
            "1/33 training complete\n",
            "2/33 training complete\n",
            "3/33 training complete\n",
            "4/33 training complete\n",
            "5/33 training complete\n",
            "6/33 training complete\n",
            "7/33 training complete\n",
            "8/33 training complete\n",
            "9/33 training complete\n",
            "10/33 training complete\n",
            "11/33 training complete\n",
            "12/33 training complete\n",
            "13/33 training complete\n",
            "14/33 training complete\n",
            "15/33 training complete\n",
            "16/33 training complete\n",
            "17/33 training complete\n",
            "18/33 training complete\n",
            "19/33 training complete\n",
            "20/33 training complete\n",
            "21/33 training complete\n",
            "22/33 training complete\n",
            "23/33 training complete\n",
            "24/33 training complete\n",
            "25/33 training complete\n",
            "26/33 training complete\n",
            "27/33 training complete\n",
            "28/33 training complete\n",
            "29/33 training complete\n",
            "30/33 training complete\n",
            "31/33 training complete\n",
            "32/33 training complete\n",
            "33/33 training complete\n"
          ],
          "name": "stdout"
        }
      ]
    },
    {
      "cell_type": "code",
      "metadata": {
        "id": "uy2BGNEk0frV"
      },
      "source": [
        "sgd_time_per_variance = sgd_time_per_variance/60"
      ],
      "execution_count": null,
      "outputs": []
    },
    {
      "cell_type": "code",
      "metadata": {
        "colab": {
          "base_uri": "https://localhost:8080/",
          "height": 311
        },
        "id": "wetwgvJL1O09",
        "outputId": "05d3a337-30f9-4bae-97b2-14d012a7fef4"
      },
      "source": [
        "plot_score_variance(sgd_score_per_variance, 'SGDClassifier')"
      ],
      "execution_count": null,
      "outputs": [
        {
          "output_type": "display_data",
          "data": {
            "image/png": "[encoded data removed]",
            "text/plain": [
              "<Figure size 432x288 with 1 Axes>"
            ]
          },
          "metadata": {
            "tags": [],
            "needs_background": "light"
          }
        }
      ]
    },
    {
      "cell_type": "code",
      "metadata": {
        "colab": {
          "base_uri": "https://localhost:8080/",
          "height": 311
        },
        "id": "4khMtXDvGjap",
        "outputId": "fdcff963-1f23-4a29-fc98-8e1f2b760a6e"
      },
      "source": [
        "plot_time_variance(sgd_time_per_variance, sgd_score_per_variance, 'SGDClassifier')"
      ],
      "execution_count": null,
      "outputs": [
        {
          "output_type": "display_data",
          "data": {
            "image/png": "[encoded data removed]",
            "text/plain": [
              "<Figure size 432x288 with 1 Axes>"
            ]
          },
          "metadata": {
            "tags": [],
            "needs_background": "light"
          }
        }
      ]
    },
    {
      "cell_type": "code",
      "metadata": {
        "colab": {
          "base_uri": "https://localhost:8080/"
        },
        "id": "inz5fCtlGtMx",
        "outputId": "cdd23895-e580-4080-dcf4-7188b672b1f5"
      },
      "source": [
        "sgd_time_per_variance"
      ],
      "execution_count": null,
      "outputs": [
        {
          "output_type": "execute_result",
          "data": {
            "text/plain": [
              "array([0.35504018, 0.3552973 , 0.08300187, 0.07111403, 0.06440402,\n",
              "       0.06838872, 0.05548584, 0.06952935, 0.08210161, 0.09202111,\n",
              "       0.12006789, 0.15348575, 0.17684598, 0.16966839, 0.19556358,\n",
              "       0.23289688, 0.24025462, 0.28351998, 0.33492053, 0.37485183,\n",
              "       0.40289895, 0.45851544, 0.4886439 , 0.59805627, 0.66370853,\n",
              "       0.67981557, 0.80718826, 0.89786808, 0.98698557, 1.00811406,\n",
              "       1.37046235, 1.90657167, 2.50497452])"
            ]
          },
          "metadata": {
            "tags": []
          },
          "execution_count": 105
        }
      ]
    },
    {
      "cell_type": "code",
      "metadata": {
        "colab": {
          "base_uri": "https://localhost:8080/",
          "height": 283
        },
        "id": "JE9ct4X50o7K",
        "outputId": "1fe0a40a-c2a2-4b0d-cfd3-a8c86ad83705"
      },
      "source": [
        "plt.plot(component_per_variance, sgd_score_per_variance, c = 'r')\r\n",
        "plt.plot(component_per_variance, log_score_per_variance, c = 'b')\r\n",
        "plt.plot(component_per_variance, rnd_score_per_variance, c = 'g')\r\n",
        "plt.plot(component_per_variance, score_per_variance, c = 'k')\r\n",
        "plt.legend(['SGDClassifier','LogisticRegression', 'RandomForestClassifier', 'DecisionTreeClassifier'])"
      ],
      "execution_count": null,
      "outputs": [
        {
          "output_type": "execute_result",
          "data": {
            "text/plain": [
              "<matplotlib.legend.Legend at 0x7f7ea62a17f0>"
            ]
          },
          "metadata": {
            "tags": []
          },
          "execution_count": 112
        },
        {
          "output_type": "display_data",
          "data": {
            "image/png": "[encoded data removed]",
            "text/plain": [
              "<Figure size 432x288 with 1 Axes>"
            ]
          },
          "metadata": {
            "tags": [],
            "needs_background": "light"
          }
        }
      ]
    },
    {
      "cell_type": "code",
      "metadata": {
        "colab": {
          "base_uri": "https://localhost:8080/",
          "height": 283
        },
        "id": "i1yLnOEv1piW",
        "outputId": "123df905-e4eb-42ed-f38a-790c4deeca1e"
      },
      "source": [
        "plt.plot(component_per_variance, sgd_time_per_variance, c = 'r')\r\n",
        "plt.plot(component_per_variance, log_time_per_variance, c = 'b')\r\n",
        "plt.plot(component_per_variance, rnd_time_per_variance, c = 'g')\r\n",
        "plt.plot(component_per_variance, time_per_variance, c = 'k')\r\n",
        "plt.legend(['SGDClassifier','LogisticRegression', 'RandomForestClassifier', 'DecisionTreeClassifier'])"
      ],
      "execution_count": null,
      "outputs": [
        {
          "output_type": "execute_result",
          "data": {
            "text/plain": [
              "<matplotlib.legend.Legend at 0x7f7ea632f278>"
            ]
          },
          "metadata": {
            "tags": []
          },
          "execution_count": 113
        },
        {
          "output_type": "display_data",
          "data": {
            "image/png": "[encoded data removed]",
            "text/plain": [
              "<Figure size 432x288 with 1 Axes>"
            ]
          },
          "metadata": {
            "tags": [],
            "needs_background": "light"
          }
        }
      ]
    },
    {
      "cell_type": "code",
      "metadata": {
        "id": "P--nagF32BRB"
      },
      "source": [
        "for f, n in zip([rnd_score_per_variance, score_per_variance, log_score_per_variance, sgd_score_per_variance], ['rnd_score', 'dt_score', 'logistic_score', 'sgd_score']) :\r\n",
        "    np.save('/content/drive/MyDrive/Colab_Notebooks/quickdraw/{}.npy'.format(n), f)"
      ],
      "execution_count": null,
      "outputs": []
    },
    {
      "cell_type": "code",
      "metadata": {
        "id": "VEHUOz1Q3cac"
      },
      "source": [
        "for f, n in zip([rnd_time_per_variance, time_per_variance, log_time_per_variance, sgd_time_per_variance], ['rnd_time', 'dt_time', 'logistic_time', 'sgd_time']) :\r\n",
        "    np.save('/content/drive/MyDrive/Colab_Notebooks/quickdraw/{}.npy'.format(n), f)"
      ],
      "execution_count": null,
      "outputs": []
    },
    {
      "cell_type": "code",
      "metadata": {
        "colab": {
          "base_uri": "https://localhost:8080/"
        },
        "id": "iQPMWQH16n1j",
        "outputId": "37314b53-c7c7-4c4b-c80d-ab47aa16bb5b"
      },
      "source": [
        "X_sub, y_sub = make_ndarray(target_list=target_list, each_size=5000)"
      ],
      "execution_count": null,
      "outputs": [
        {
          "output_type": "stream",
          "text": [
            "ant is Complete\n",
            "bicycle is Complete\n",
            "bird is Complete\n",
            "butterfly is Complete\n",
            "camel is Complete\n",
            "clock is Complete\n",
            "cow is Complete\n",
            "diamond is Complete\n",
            "result shape : (40000, 784) & (40000,)\n"
          ],
          "name": "stdout"
        }
      ]
    },
    {
      "cell_type": "code",
      "metadata": {
        "id": "p9ETUVUq3mxT"
      },
      "source": [
        "from sklearn.model_selection import train_test_split, GridSearchCV\r\n",
        "from sklearn.ensemble import RandomForestClassifier\r\n",
        "import time\r\n",
        "\r\n",
        "def find_best_score_time(X, y, clf, param_grid) :\r\n",
        "    best_score = np.empty((19, ))\r\n",
        "    best_param = np.empty((19, ))\r\n",
        "    n_features = np.empty((19, ), dtype=int)\r\n",
        "    grid_time = np.empty((19, ), dtype=int)\r\n",
        "    component = np.linspace(0.05, 0.95, 19)\r\n",
        "    for index, n_components in enumerate(component) :\r\n",
        "        print('{0}/{1} PCA Completed'.format(index+1, len(component)))\r\n",
        "        pca = PCA(n_components=n_components, random_state=42)\r\n",
        "        X_reduced = pca.fit_transform(X)\r\n",
        "        n_features[index] = pca.n_components\r\n",
        "        start = time.time()\r\n",
        "        grid_search = GridSearchCV(clf, param_grid = param_grid, verbose = 2, cv = 2)\r\n",
        "        grid_search.fit(X, y)\r\n",
        "        best_score[index] = grid_search.best_score_\r\n",
        "        best_param[index] = grid_search.best_param_\r\n",
        "        grid_time[index] = grid_search.refit_time_\r\n",
        "        print('{0}/{1} Searching Completed'.format(index+1, len(component)))\r\n",
        "    return best_score, best_param, n_features, grid_time"
      ],
      "execution_count": null,
      "outputs": []
    },
    {
      "cell_type": "code",
      "metadata": {
        "colab": {
          "base_uri": "https://localhost:8080/"
        },
        "id": "WeGRF68j-Crb",
        "outputId": "631deaa4-0094-4277-9b04-b7ad7def5aa1"
      },
      "source": [
        "# for original data running GridSearchCV\r\n",
        "\r\n",
        "start = time.time()\r\n",
        "grid_clf = RandomForestClassifier(random_state=42)\r\n",
        "param_grid = {'n_estimators' : [50, 100, 150],\r\n",
        "              'max_depth' : [None, 2, 4, 6, 8],\r\n",
        "              'min_samples_split' : [2, 4, 6],\r\n",
        "              'min_samples_leaf' : [1, 2, 3, 4]}\r\n",
        "\r\n",
        "grid_search = GridSearchCV(grid_clf, param_grid = param_grid, verbose = 2, cv = 2, refit = True)\r\n",
        "grid_search.fit(X_sub, y_sub)\r\n",
        "daration_original = time.time()-start"
      ],
      "execution_count": null,
      "outputs": [
        {
          "output_type": "stream",
          "text": [
            "Fitting 2 folds for each of 180 candidates, totalling 360 fits\n",
            "[CV] max_depth=None, min_samples_leaf=1, min_samples_split=2, n_estimators=50 \n"
          ],
          "name": "stdout"
        },
        {
          "output_type": "stream",
          "text": [
            "[Parallel(n_jobs=1)]: Using backend SequentialBackend with 1 concurrent workers.\n"
          ],
          "name": "stderr"
        },
        {
          "output_type": "stream",
          "text": [
            "[CV]  max_depth=None, min_samples_leaf=1, min_samples_split=2, n_estimators=50, total=   9.9s\n",
            "[CV] max_depth=None, min_samples_leaf=1, min_samples_split=2, n_estimators=50 \n"
          ],
          "name": "stdout"
        },
        {
          "output_type": "stream",
          "text": [
            "[Parallel(n_jobs=1)]: Done   1 out of   1 | elapsed:    9.9s remaining:    0.0s\n"
          ],
          "name": "stderr"
        },
        {
          "output_type": "stream",
          "text": [
            "[CV]  max_depth=None, min_samples_leaf=1, min_samples_split=2, n_estimators=50, total=   9.8s\n",
            "[CV] max_depth=None, min_samples_leaf=1, min_samples_split=2, n_estimators=100 \n",
            "[CV]  max_depth=None, min_samples_leaf=1, min_samples_split=2, n_estimators=100, total=  19.4s\n",
            "[CV] max_depth=None, min_samples_leaf=1, min_samples_split=2, n_estimators=100 \n",
            "[CV]  max_depth=None, min_samples_leaf=1, min_samples_split=2, n_estimators=100, total=  19.6s\n",
            "[CV] max_depth=None, min_samples_leaf=1, min_samples_split=2, n_estimators=150 \n",
            "[CV]  max_depth=None, min_samples_leaf=1, min_samples_split=2, n_estimators=150, total=  29.1s\n",
            "[CV] max_depth=None, min_samples_leaf=1, min_samples_split=2, n_estimators=150 \n",
            "[CV]  max_depth=None, min_samples_leaf=1, min_samples_split=2, n_estimators=150, total=  29.0s\n",
            "[CV] max_depth=None, min_samples_leaf=1, min_samples_split=4, n_estimators=50 \n",
            "[CV]  max_depth=None, min_samples_leaf=1, min_samples_split=4, n_estimators=50, total=   9.6s\n",
            "[CV] max_depth=None, min_samples_leaf=1, min_samples_split=4, n_estimators=50 \n",
            "[CV]  max_depth=None, min_samples_leaf=1, min_samples_split=4, n_estimators=50, total=   9.7s\n",
            "[CV] max_depth=None, min_samples_leaf=1, min_samples_split=4, n_estimators=100 \n",
            "[CV]  max_depth=None, min_samples_leaf=1, min_samples_split=4, n_estimators=100, total=  19.2s\n",
            "[CV] max_depth=None, min_samples_leaf=1, min_samples_split=4, n_estimators=100 \n",
            "[CV]  max_depth=None, min_samples_leaf=1, min_samples_split=4, n_estimators=100, total=  19.2s\n",
            "[CV] max_depth=None, min_samples_leaf=1, min_samples_split=4, n_estimators=150 \n",
            "[CV]  max_depth=None, min_samples_leaf=1, min_samples_split=4, n_estimators=150, total=  28.4s\n",
            "[CV] max_depth=None, min_samples_leaf=1, min_samples_split=4, n_estimators=150 \n",
            "[CV]  max_depth=None, min_samples_leaf=1, min_samples_split=4, n_estimators=150, total=  28.5s\n",
            "[CV] max_depth=None, min_samples_leaf=1, min_samples_split=6, n_estimators=50 \n",
            "[CV]  max_depth=None, min_samples_leaf=1, min_samples_split=6, n_estimators=50, total=   9.5s\n",
            "[CV] max_depth=None, min_samples_leaf=1, min_samples_split=6, n_estimators=50 \n",
            "[CV]  max_depth=None, min_samples_leaf=1, min_samples_split=6, n_estimators=50, total=   9.4s\n",
            "[CV] max_depth=None, min_samples_leaf=1, min_samples_split=6, n_estimators=100 \n",
            "[CV]  max_depth=None, min_samples_leaf=1, min_samples_split=6, n_estimators=100, total=  18.8s\n",
            "[CV] max_depth=None, min_samples_leaf=1, min_samples_split=6, n_estimators=100 \n",
            "[CV]  max_depth=None, min_samples_leaf=1, min_samples_split=6, n_estimators=100, total=  18.9s\n",
            "[CV] max_depth=None, min_samples_leaf=1, min_samples_split=6, n_estimators=150 \n",
            "[CV]  max_depth=None, min_samples_leaf=1, min_samples_split=6, n_estimators=150, total=  28.1s\n",
            "[CV] max_depth=None, min_samples_leaf=1, min_samples_split=6, n_estimators=150 \n",
            "[CV]  max_depth=None, min_samples_leaf=1, min_samples_split=6, n_estimators=150, total=  28.0s\n",
            "[CV] max_depth=None, min_samples_leaf=2, min_samples_split=2, n_estimators=50 \n",
            "[CV]  max_depth=None, min_samples_leaf=2, min_samples_split=2, n_estimators=50, total=   9.2s\n",
            "[CV] max_depth=None, min_samples_leaf=2, min_samples_split=2, n_estimators=50 \n",
            "[CV]  max_depth=None, min_samples_leaf=2, min_samples_split=2, n_estimators=50, total=   9.3s\n",
            "[CV] max_depth=None, min_samples_leaf=2, min_samples_split=2, n_estimators=100 \n",
            "[CV]  max_depth=None, min_samples_leaf=2, min_samples_split=2, n_estimators=100, total=  18.4s\n",
            "[CV] max_depth=None, min_samples_leaf=2, min_samples_split=2, n_estimators=100 \n",
            "[CV]  max_depth=None, min_samples_leaf=2, min_samples_split=2, n_estimators=100, total=  18.6s\n",
            "[CV] max_depth=None, min_samples_leaf=2, min_samples_split=2, n_estimators=150 \n",
            "[CV]  max_depth=None, min_samples_leaf=2, min_samples_split=2, n_estimators=150, total=  27.5s\n",
            "[CV] max_depth=None, min_samples_leaf=2, min_samples_split=2, n_estimators=150 \n",
            "[CV]  max_depth=None, min_samples_leaf=2, min_samples_split=2, n_estimators=150, total=  27.6s\n",
            "[CV] max_depth=None, min_samples_leaf=2, min_samples_split=4, n_estimators=50 \n",
            "[CV]  max_depth=None, min_samples_leaf=2, min_samples_split=4, n_estimators=50, total=   9.4s\n",
            "[CV] max_depth=None, min_samples_leaf=2, min_samples_split=4, n_estimators=50 \n",
            "[CV]  max_depth=None, min_samples_leaf=2, min_samples_split=4, n_estimators=50, total=   9.3s\n",
            "[CV] max_depth=None, min_samples_leaf=2, min_samples_split=4, n_estimators=100 \n",
            "[CV]  max_depth=None, min_samples_leaf=2, min_samples_split=4, n_estimators=100, total=  18.3s\n",
            "[CV] max_depth=None, min_samples_leaf=2, min_samples_split=4, n_estimators=100 \n",
            "[CV]  max_depth=None, min_samples_leaf=2, min_samples_split=4, n_estimators=100, total=  18.4s\n",
            "[CV] max_depth=None, min_samples_leaf=2, min_samples_split=4, n_estimators=150 \n",
            "[CV]  max_depth=None, min_samples_leaf=2, min_samples_split=4, n_estimators=150, total=  27.3s\n",
            "[CV] max_depth=None, min_samples_leaf=2, min_samples_split=4, n_estimators=150 \n",
            "[CV]  max_depth=None, min_samples_leaf=2, min_samples_split=4, n_estimators=150, total=  27.5s\n",
            "[CV] max_depth=None, min_samples_leaf=2, min_samples_split=6, n_estimators=50 \n",
            "[CV]  max_depth=None, min_samples_leaf=2, min_samples_split=6, n_estimators=50, total=   9.1s\n",
            "[CV] max_depth=None, min_samples_leaf=2, min_samples_split=6, n_estimators=50 \n",
            "[CV]  max_depth=None, min_samples_leaf=2, min_samples_split=6, n_estimators=50, total=   9.1s\n",
            "[CV] max_depth=None, min_samples_leaf=2, min_samples_split=6, n_estimators=100 \n",
            "[CV]  max_depth=None, min_samples_leaf=2, min_samples_split=6, n_estimators=100, total=  18.1s\n",
            "[CV] max_depth=None, min_samples_leaf=2, min_samples_split=6, n_estimators=100 \n",
            "[CV]  max_depth=None, min_samples_leaf=2, min_samples_split=6, n_estimators=100, total=  18.1s\n",
            "[CV] max_depth=None, min_samples_leaf=2, min_samples_split=6, n_estimators=150 \n",
            "[CV]  max_depth=None, min_samples_leaf=2, min_samples_split=6, n_estimators=150, total=  27.3s\n",
            "[CV] max_depth=None, min_samples_leaf=2, min_samples_split=6, n_estimators=150 \n",
            "[CV]  max_depth=None, min_samples_leaf=2, min_samples_split=6, n_estimators=150, total=  27.0s\n",
            "[CV] max_depth=None, min_samples_leaf=3, min_samples_split=2, n_estimators=50 \n",
            "[CV]  max_depth=None, min_samples_leaf=3, min_samples_split=2, n_estimators=50, total=   8.9s\n",
            "[CV] max_depth=None, min_samples_leaf=3, min_samples_split=2, n_estimators=50 \n",
            "[CV]  max_depth=None, min_samples_leaf=3, min_samples_split=2, n_estimators=50, total=   8.9s\n",
            "[CV] max_depth=None, min_samples_leaf=3, min_samples_split=2, n_estimators=100 \n",
            "[CV]  max_depth=None, min_samples_leaf=3, min_samples_split=2, n_estimators=100, total=  17.6s\n",
            "[CV] max_depth=None, min_samples_leaf=3, min_samples_split=2, n_estimators=100 \n",
            "[CV]  max_depth=None, min_samples_leaf=3, min_samples_split=2, n_estimators=100, total=  17.6s\n",
            "[CV] max_depth=None, min_samples_leaf=3, min_samples_split=2, n_estimators=150 \n",
            "[CV]  max_depth=None, min_samples_leaf=3, min_samples_split=2, n_estimators=150, total=  26.3s\n",
            "[CV] max_depth=None, min_samples_leaf=3, min_samples_split=2, n_estimators=150 \n",
            "[CV]  max_depth=None, min_samples_leaf=3, min_samples_split=2, n_estimators=150, total=  26.3s\n",
            "[CV] max_depth=None, min_samples_leaf=3, min_samples_split=4, n_estimators=50 \n",
            "[CV]  max_depth=None, min_samples_leaf=3, min_samples_split=4, n_estimators=50, total=   9.0s\n",
            "[CV] max_depth=None, min_samples_leaf=3, min_samples_split=4, n_estimators=50 \n",
            "[CV]  max_depth=None, min_samples_leaf=3, min_samples_split=4, n_estimators=50, total=   8.8s\n",
            "[CV] max_depth=None, min_samples_leaf=3, min_samples_split=4, n_estimators=100 \n",
            "[CV]  max_depth=None, min_samples_leaf=3, min_samples_split=4, n_estimators=100, total=  17.6s\n",
            "[CV] max_depth=None, min_samples_leaf=3, min_samples_split=4, n_estimators=100 \n",
            "[CV]  max_depth=None, min_samples_leaf=3, min_samples_split=4, n_estimators=100, total=  17.6s\n",
            "[CV] max_depth=None, min_samples_leaf=3, min_samples_split=4, n_estimators=150 \n",
            "[CV]  max_depth=None, min_samples_leaf=3, min_samples_split=4, n_estimators=150, total=  26.3s\n",
            "[CV] max_depth=None, min_samples_leaf=3, min_samples_split=4, n_estimators=150 \n",
            "[CV]  max_depth=None, min_samples_leaf=3, min_samples_split=4, n_estimators=150, total=  26.4s\n",
            "[CV] max_depth=None, min_samples_leaf=3, min_samples_split=6, n_estimators=50 \n",
            "[CV]  max_depth=None, min_samples_leaf=3, min_samples_split=6, n_estimators=50, total=   8.9s\n",
            "[CV] max_depth=None, min_samples_leaf=3, min_samples_split=6, n_estimators=50 \n",
            "[CV]  max_depth=None, min_samples_leaf=3, min_samples_split=6, n_estimators=50, total=   9.0s\n",
            "[CV] max_depth=None, min_samples_leaf=3, min_samples_split=6, n_estimators=100 \n",
            "[CV]  max_depth=None, min_samples_leaf=3, min_samples_split=6, n_estimators=100, total=  17.7s\n",
            "[CV] max_depth=None, min_samples_leaf=3, min_samples_split=6, n_estimators=100 \n",
            "[CV]  max_depth=None, min_samples_leaf=3, min_samples_split=6, n_estimators=100, total=  17.7s\n",
            "[CV] max_depth=None, min_samples_leaf=3, min_samples_split=6, n_estimators=150 \n",
            "[CV]  max_depth=None, min_samples_leaf=3, min_samples_split=6, n_estimators=150, total=  26.3s\n",
            "[CV] max_depth=None, min_samples_leaf=3, min_samples_split=6, n_estimators=150 \n",
            "[CV]  max_depth=None, min_samples_leaf=3, min_samples_split=6, n_estimators=150, total=  26.3s\n",
            "[CV] max_depth=None, min_samples_leaf=4, min_samples_split=2, n_estimators=50 \n",
            "[CV]  max_depth=None, min_samples_leaf=4, min_samples_split=2, n_estimators=50, total=   8.6s\n",
            "[CV] max_depth=None, min_samples_leaf=4, min_samples_split=2, n_estimators=50 \n",
            "[CV]  max_depth=None, min_samples_leaf=4, min_samples_split=2, n_estimators=50, total=   8.6s\n",
            "[CV] max_depth=None, min_samples_leaf=4, min_samples_split=2, n_estimators=100 \n",
            "[CV]  max_depth=None, min_samples_leaf=4, min_samples_split=2, n_estimators=100, total=  17.0s\n",
            "[CV] max_depth=None, min_samples_leaf=4, min_samples_split=2, n_estimators=100 \n",
            "[CV]  max_depth=None, min_samples_leaf=4, min_samples_split=2, n_estimators=100, total=  17.0s\n",
            "[CV] max_depth=None, min_samples_leaf=4, min_samples_split=2, n_estimators=150 \n",
            "[CV]  max_depth=None, min_samples_leaf=4, min_samples_split=2, n_estimators=150, total=  25.4s\n",
            "[CV] max_depth=None, min_samples_leaf=4, min_samples_split=2, n_estimators=150 \n",
            "[CV]  max_depth=None, min_samples_leaf=4, min_samples_split=2, n_estimators=150, total=  25.4s\n",
            "[CV] max_depth=None, min_samples_leaf=4, min_samples_split=4, n_estimators=50 \n",
            "[CV]  max_depth=None, min_samples_leaf=4, min_samples_split=4, n_estimators=50, total=   8.5s\n",
            "[CV] max_depth=None, min_samples_leaf=4, min_samples_split=4, n_estimators=50 \n",
            "[CV]  max_depth=None, min_samples_leaf=4, min_samples_split=4, n_estimators=50, total=   8.6s\n",
            "[CV] max_depth=None, min_samples_leaf=4, min_samples_split=4, n_estimators=100 \n",
            "[CV]  max_depth=None, min_samples_leaf=4, min_samples_split=4, n_estimators=100, total=  17.0s\n",
            "[CV] max_depth=None, min_samples_leaf=4, min_samples_split=4, n_estimators=100 \n",
            "[CV]  max_depth=None, min_samples_leaf=4, min_samples_split=4, n_estimators=100, total=  17.0s\n",
            "[CV] max_depth=None, min_samples_leaf=4, min_samples_split=4, n_estimators=150 \n",
            "[CV]  max_depth=None, min_samples_leaf=4, min_samples_split=4, n_estimators=150, total=  25.4s\n",
            "[CV] max_depth=None, min_samples_leaf=4, min_samples_split=4, n_estimators=150 \n",
            "[CV]  max_depth=None, min_samples_leaf=4, min_samples_split=4, n_estimators=150, total=  25.5s\n",
            "[CV] max_depth=None, min_samples_leaf=4, min_samples_split=6, n_estimators=50 \n",
            "[CV]  max_depth=None, min_samples_leaf=4, min_samples_split=6, n_estimators=50, total=   8.5s\n",
            "[CV] max_depth=None, min_samples_leaf=4, min_samples_split=6, n_estimators=50 \n",
            "[CV]  max_depth=None, min_samples_leaf=4, min_samples_split=6, n_estimators=50, total=   8.6s\n",
            "[CV] max_depth=None, min_samples_leaf=4, min_samples_split=6, n_estimators=100 \n",
            "[CV]  max_depth=None, min_samples_leaf=4, min_samples_split=6, n_estimators=100, total=  17.0s\n",
            "[CV] max_depth=None, min_samples_leaf=4, min_samples_split=6, n_estimators=100 \n",
            "[CV]  max_depth=None, min_samples_leaf=4, min_samples_split=6, n_estimators=100, total=  17.0s\n",
            "[CV] max_depth=None, min_samples_leaf=4, min_samples_split=6, n_estimators=150 \n",
            "[CV]  max_depth=None, min_samples_leaf=4, min_samples_split=6, n_estimators=150, total=  25.4s\n",
            "[CV] max_depth=None, min_samples_leaf=4, min_samples_split=6, n_estimators=150 \n",
            "[CV]  max_depth=None, min_samples_leaf=4, min_samples_split=6, n_estimators=150, total=  25.6s\n",
            "[CV] max_depth=2, min_samples_leaf=1, min_samples_split=2, n_estimators=50 \n",
            "[CV]  max_depth=2, min_samples_leaf=1, min_samples_split=2, n_estimators=50, total=   1.7s\n",
            "[CV] max_depth=2, min_samples_leaf=1, min_samples_split=2, n_estimators=50 \n",
            "[CV]  max_depth=2, min_samples_leaf=1, min_samples_split=2, n_estimators=50, total=   1.7s\n",
            "[CV] max_depth=2, min_samples_leaf=1, min_samples_split=2, n_estimators=100 \n",
            "[CV]  max_depth=2, min_samples_leaf=1, min_samples_split=2, n_estimators=100, total=   3.3s\n",
            "[CV] max_depth=2, min_samples_leaf=1, min_samples_split=2, n_estimators=100 \n",
            "[CV]  max_depth=2, min_samples_leaf=1, min_samples_split=2, n_estimators=100, total=   3.3s\n",
            "[CV] max_depth=2, min_samples_leaf=1, min_samples_split=2, n_estimators=150 \n",
            "[CV]  max_depth=2, min_samples_leaf=1, min_samples_split=2, n_estimators=150, total=   4.8s\n",
            "[CV] max_depth=2, min_samples_leaf=1, min_samples_split=2, n_estimators=150 \n",
            "[CV]  max_depth=2, min_samples_leaf=1, min_samples_split=2, n_estimators=150, total=   4.9s\n",
            "[CV] max_depth=2, min_samples_leaf=1, min_samples_split=4, n_estimators=50 \n",
            "[CV]  max_depth=2, min_samples_leaf=1, min_samples_split=4, n_estimators=50, total=   1.7s\n",
            "[CV] max_depth=2, min_samples_leaf=1, min_samples_split=4, n_estimators=50 \n",
            "[CV]  max_depth=2, min_samples_leaf=1, min_samples_split=4, n_estimators=50, total=   1.7s\n",
            "[CV] max_depth=2, min_samples_leaf=1, min_samples_split=4, n_estimators=100 \n",
            "[CV]  max_depth=2, min_samples_leaf=1, min_samples_split=4, n_estimators=100, total=   3.3s\n",
            "[CV] max_depth=2, min_samples_leaf=1, min_samples_split=4, n_estimators=100 \n",
            "[CV]  max_depth=2, min_samples_leaf=1, min_samples_split=4, n_estimators=100, total=   3.3s\n",
            "[CV] max_depth=2, min_samples_leaf=1, min_samples_split=4, n_estimators=150 \n",
            "[CV]  max_depth=2, min_samples_leaf=1, min_samples_split=4, n_estimators=150, total=   4.9s\n",
            "[CV] max_depth=2, min_samples_leaf=1, min_samples_split=4, n_estimators=150 \n",
            "[CV]  max_depth=2, min_samples_leaf=1, min_samples_split=4, n_estimators=150, total=   4.9s\n",
            "[CV] max_depth=2, min_samples_leaf=1, min_samples_split=6, n_estimators=50 \n",
            "[CV]  max_depth=2, min_samples_leaf=1, min_samples_split=6, n_estimators=50, total=   1.7s\n",
            "[CV] max_depth=2, min_samples_leaf=1, min_samples_split=6, n_estimators=50 \n",
            "[CV]  max_depth=2, min_samples_leaf=1, min_samples_split=6, n_estimators=50, total=   1.7s\n",
            "[CV] max_depth=2, min_samples_leaf=1, min_samples_split=6, n_estimators=100 \n",
            "[CV]  max_depth=2, min_samples_leaf=1, min_samples_split=6, n_estimators=100, total=   3.3s\n",
            "[CV] max_depth=2, min_samples_leaf=1, min_samples_split=6, n_estimators=100 \n",
            "[CV]  max_depth=2, min_samples_leaf=1, min_samples_split=6, n_estimators=100, total=   3.3s\n",
            "[CV] max_depth=2, min_samples_leaf=1, min_samples_split=6, n_estimators=150 \n",
            "[CV]  max_depth=2, min_samples_leaf=1, min_samples_split=6, n_estimators=150, total=   4.8s\n",
            "[CV] max_depth=2, min_samples_leaf=1, min_samples_split=6, n_estimators=150 \n",
            "[CV]  max_depth=2, min_samples_leaf=1, min_samples_split=6, n_estimators=150, total=   4.9s\n",
            "[CV] max_depth=2, min_samples_leaf=2, min_samples_split=2, n_estimators=50 \n",
            "[CV]  max_depth=2, min_samples_leaf=2, min_samples_split=2, n_estimators=50, total=   1.7s\n",
            "[CV] max_depth=2, min_samples_leaf=2, min_samples_split=2, n_estimators=50 \n",
            "[CV]  max_depth=2, min_samples_leaf=2, min_samples_split=2, n_estimators=50, total=   1.7s\n",
            "[CV] max_depth=2, min_samples_leaf=2, min_samples_split=2, n_estimators=100 \n",
            "[CV]  max_depth=2, min_samples_leaf=2, min_samples_split=2, n_estimators=100, total=   3.3s\n",
            "[CV] max_depth=2, min_samples_leaf=2, min_samples_split=2, n_estimators=100 \n",
            "[CV]  max_depth=2, min_samples_leaf=2, min_samples_split=2, n_estimators=100, total=   3.3s\n",
            "[CV] max_depth=2, min_samples_leaf=2, min_samples_split=2, n_estimators=150 \n",
            "[CV]  max_depth=2, min_samples_leaf=2, min_samples_split=2, n_estimators=150, total=   4.8s\n",
            "[CV] max_depth=2, min_samples_leaf=2, min_samples_split=2, n_estimators=150 \n",
            "[CV]  max_depth=2, min_samples_leaf=2, min_samples_split=2, n_estimators=150, total=   4.9s\n",
            "[CV] max_depth=2, min_samples_leaf=2, min_samples_split=4, n_estimators=50 \n",
            "[CV]  max_depth=2, min_samples_leaf=2, min_samples_split=4, n_estimators=50, total=   1.8s\n",
            "[CV] max_depth=2, min_samples_leaf=2, min_samples_split=4, n_estimators=50 \n",
            "[CV]  max_depth=2, min_samples_leaf=2, min_samples_split=4, n_estimators=50, total=   1.7s\n",
            "[CV] max_depth=2, min_samples_leaf=2, min_samples_split=4, n_estimators=100 \n",
            "[CV]  max_depth=2, min_samples_leaf=2, min_samples_split=4, n_estimators=100, total=   3.3s\n",
            "[CV] max_depth=2, min_samples_leaf=2, min_samples_split=4, n_estimators=100 \n",
            "[CV]  max_depth=2, min_samples_leaf=2, min_samples_split=4, n_estimators=100, total=   3.3s\n",
            "[CV] max_depth=2, min_samples_leaf=2, min_samples_split=4, n_estimators=150 \n",
            "[CV]  max_depth=2, min_samples_leaf=2, min_samples_split=4, n_estimators=150, total=   4.8s\n",
            "[CV] max_depth=2, min_samples_leaf=2, min_samples_split=4, n_estimators=150 \n",
            "[CV]  max_depth=2, min_samples_leaf=2, min_samples_split=4, n_estimators=150, total=   4.8s\n",
            "[CV] max_depth=2, min_samples_leaf=2, min_samples_split=6, n_estimators=50 \n",
            "[CV]  max_depth=2, min_samples_leaf=2, min_samples_split=6, n_estimators=50, total=   1.7s\n",
            "[CV] max_depth=2, min_samples_leaf=2, min_samples_split=6, n_estimators=50 \n",
            "[CV]  max_depth=2, min_samples_leaf=2, min_samples_split=6, n_estimators=50, total=   1.7s\n",
            "[CV] max_depth=2, min_samples_leaf=2, min_samples_split=6, n_estimators=100 \n",
            "[CV]  max_depth=2, min_samples_leaf=2, min_samples_split=6, n_estimators=100, total=   3.3s\n",
            "[CV] max_depth=2, min_samples_leaf=2, min_samples_split=6, n_estimators=100 \n",
            "[CV]  max_depth=2, min_samples_leaf=2, min_samples_split=6, n_estimators=100, total=   3.3s\n",
            "[CV] max_depth=2, min_samples_leaf=2, min_samples_split=6, n_estimators=150 \n",
            "[CV]  max_depth=2, min_samples_leaf=2, min_samples_split=6, n_estimators=150, total=   4.9s\n",
            "[CV] max_depth=2, min_samples_leaf=2, min_samples_split=6, n_estimators=150 \n",
            "[CV]  max_depth=2, min_samples_leaf=2, min_samples_split=6, n_estimators=150, total=   4.8s\n",
            "[CV] max_depth=2, min_samples_leaf=3, min_samples_split=2, n_estimators=50 \n",
            "[CV]  max_depth=2, min_samples_leaf=3, min_samples_split=2, n_estimators=50, total=   1.7s\n",
            "[CV] max_depth=2, min_samples_leaf=3, min_samples_split=2, n_estimators=50 \n",
            "[CV]  max_depth=2, min_samples_leaf=3, min_samples_split=2, n_estimators=50, total=   1.7s\n",
            "[CV] max_depth=2, min_samples_leaf=3, min_samples_split=2, n_estimators=100 \n",
            "[CV]  max_depth=2, min_samples_leaf=3, min_samples_split=2, n_estimators=100, total=   3.4s\n",
            "[CV] max_depth=2, min_samples_leaf=3, min_samples_split=2, n_estimators=100 \n",
            "[CV]  max_depth=2, min_samples_leaf=3, min_samples_split=2, n_estimators=100, total=   3.3s\n",
            "[CV] max_depth=2, min_samples_leaf=3, min_samples_split=2, n_estimators=150 \n",
            "[CV]  max_depth=2, min_samples_leaf=3, min_samples_split=2, n_estimators=150, total=   4.9s\n",
            "[CV] max_depth=2, min_samples_leaf=3, min_samples_split=2, n_estimators=150 \n",
            "[CV]  max_depth=2, min_samples_leaf=3, min_samples_split=2, n_estimators=150, total=   4.8s\n",
            "[CV] max_depth=2, min_samples_leaf=3, min_samples_split=4, n_estimators=50 \n",
            "[CV]  max_depth=2, min_samples_leaf=3, min_samples_split=4, n_estimators=50, total=   1.7s\n",
            "[CV] max_depth=2, min_samples_leaf=3, min_samples_split=4, n_estimators=50 \n",
            "[CV]  max_depth=2, min_samples_leaf=3, min_samples_split=4, n_estimators=50, total=   1.8s\n",
            "[CV] max_depth=2, min_samples_leaf=3, min_samples_split=4, n_estimators=100 \n",
            "[CV]  max_depth=2, min_samples_leaf=3, min_samples_split=4, n_estimators=100, total=   3.3s\n",
            "[CV] max_depth=2, min_samples_leaf=3, min_samples_split=4, n_estimators=100 \n",
            "[CV]  max_depth=2, min_samples_leaf=3, min_samples_split=4, n_estimators=100, total=   3.3s\n",
            "[CV] max_depth=2, min_samples_leaf=3, min_samples_split=4, n_estimators=150 \n",
            "[CV]  max_depth=2, min_samples_leaf=3, min_samples_split=4, n_estimators=150, total=   4.9s\n",
            "[CV] max_depth=2, min_samples_leaf=3, min_samples_split=4, n_estimators=150 \n",
            "[CV]  max_depth=2, min_samples_leaf=3, min_samples_split=4, n_estimators=150, total=   4.8s\n",
            "[CV] max_depth=2, min_samples_leaf=3, min_samples_split=6, n_estimators=50 \n",
            "[CV]  max_depth=2, min_samples_leaf=3, min_samples_split=6, n_estimators=50, total=   1.7s\n",
            "[CV] max_depth=2, min_samples_leaf=3, min_samples_split=6, n_estimators=50 \n",
            "[CV]  max_depth=2, min_samples_leaf=3, min_samples_split=6, n_estimators=50, total=   1.7s\n",
            "[CV] max_depth=2, min_samples_leaf=3, min_samples_split=6, n_estimators=100 \n",
            "[CV]  max_depth=2, min_samples_leaf=3, min_samples_split=6, n_estimators=100, total=   3.3s\n",
            "[CV] max_depth=2, min_samples_leaf=3, min_samples_split=6, n_estimators=100 \n",
            "[CV]  max_depth=2, min_samples_leaf=3, min_samples_split=6, n_estimators=100, total=   3.3s\n",
            "[CV] max_depth=2, min_samples_leaf=3, min_samples_split=6, n_estimators=150 \n",
            "[CV]  max_depth=2, min_samples_leaf=3, min_samples_split=6, n_estimators=150, total=   4.9s\n",
            "[CV] max_depth=2, min_samples_leaf=3, min_samples_split=6, n_estimators=150 \n",
            "[CV]  max_depth=2, min_samples_leaf=3, min_samples_split=6, n_estimators=150, total=   4.8s\n",
            "[CV] max_depth=2, min_samples_leaf=4, min_samples_split=2, n_estimators=50 \n",
            "[CV]  max_depth=2, min_samples_leaf=4, min_samples_split=2, n_estimators=50, total=   1.7s\n",
            "[CV] max_depth=2, min_samples_leaf=4, min_samples_split=2, n_estimators=50 \n",
            "[CV]  max_depth=2, min_samples_leaf=4, min_samples_split=2, n_estimators=50, total=   1.7s\n",
            "[CV] max_depth=2, min_samples_leaf=4, min_samples_split=2, n_estimators=100 \n",
            "[CV]  max_depth=2, min_samples_leaf=4, min_samples_split=2, n_estimators=100, total=   3.3s\n",
            "[CV] max_depth=2, min_samples_leaf=4, min_samples_split=2, n_estimators=100 \n",
            "[CV]  max_depth=2, min_samples_leaf=4, min_samples_split=2, n_estimators=100, total=   3.4s\n",
            "[CV] max_depth=2, min_samples_leaf=4, min_samples_split=2, n_estimators=150 \n",
            "[CV]  max_depth=2, min_samples_leaf=4, min_samples_split=2, n_estimators=150, total=   4.8s\n",
            "[CV] max_depth=2, min_samples_leaf=4, min_samples_split=2, n_estimators=150 \n",
            "[CV]  max_depth=2, min_samples_leaf=4, min_samples_split=2, n_estimators=150, total=   4.8s\n",
            "[CV] max_depth=2, min_samples_leaf=4, min_samples_split=4, n_estimators=50 \n",
            "[CV]  max_depth=2, min_samples_leaf=4, min_samples_split=4, n_estimators=50, total=   1.7s\n",
            "[CV] max_depth=2, min_samples_leaf=4, min_samples_split=4, n_estimators=50 \n",
            "[CV]  max_depth=2, min_samples_leaf=4, min_samples_split=4, n_estimators=50, total=   1.7s\n",
            "[CV] max_depth=2, min_samples_leaf=4, min_samples_split=4, n_estimators=100 \n",
            "[CV]  max_depth=2, min_samples_leaf=4, min_samples_split=4, n_estimators=100, total=   3.3s\n",
            "[CV] max_depth=2, min_samples_leaf=4, min_samples_split=4, n_estimators=100 \n",
            "[CV]  max_depth=2, min_samples_leaf=4, min_samples_split=4, n_estimators=100, total=   3.3s\n",
            "[CV] max_depth=2, min_samples_leaf=4, min_samples_split=4, n_estimators=150 \n",
            "[CV]  max_depth=2, min_samples_leaf=4, min_samples_split=4, n_estimators=150, total=   4.8s\n",
            "[CV] max_depth=2, min_samples_leaf=4, min_samples_split=4, n_estimators=150 \n",
            "[CV]  max_depth=2, min_samples_leaf=4, min_samples_split=4, n_estimators=150, total=   4.9s\n",
            "[CV] max_depth=2, min_samples_leaf=4, min_samples_split=6, n_estimators=50 \n",
            "[CV]  max_depth=2, min_samples_leaf=4, min_samples_split=6, n_estimators=50, total=   1.7s\n",
            "[CV] max_depth=2, min_samples_leaf=4, min_samples_split=6, n_estimators=50 \n",
            "[CV]  max_depth=2, min_samples_leaf=4, min_samples_split=6, n_estimators=50, total=   1.7s\n",
            "[CV] max_depth=2, min_samples_leaf=4, min_samples_split=6, n_estimators=100 \n",
            "[CV]  max_depth=2, min_samples_leaf=4, min_samples_split=6, n_estimators=100, total=   3.3s\n",
            "[CV] max_depth=2, min_samples_leaf=4, min_samples_split=6, n_estimators=100 \n",
            "[CV]  max_depth=2, min_samples_leaf=4, min_samples_split=6, n_estimators=100, total=   3.3s\n",
            "[CV] max_depth=2, min_samples_leaf=4, min_samples_split=6, n_estimators=150 \n",
            "[CV]  max_depth=2, min_samples_leaf=4, min_samples_split=6, n_estimators=150, total=   4.8s\n",
            "[CV] max_depth=2, min_samples_leaf=4, min_samples_split=6, n_estimators=150 \n",
            "[CV]  max_depth=2, min_samples_leaf=4, min_samples_split=6, n_estimators=150, total=   4.9s\n",
            "[CV] max_depth=4, min_samples_leaf=1, min_samples_split=2, n_estimators=50 \n",
            "[CV]  max_depth=4, min_samples_leaf=1, min_samples_split=2, n_estimators=50, total=   3.1s\n",
            "[CV] max_depth=4, min_samples_leaf=1, min_samples_split=2, n_estimators=50 \n",
            "[CV]  max_depth=4, min_samples_leaf=1, min_samples_split=2, n_estimators=50, total=   3.1s\n",
            "[CV] max_depth=4, min_samples_leaf=1, min_samples_split=2, n_estimators=100 \n",
            "[CV]  max_depth=4, min_samples_leaf=1, min_samples_split=2, n_estimators=100, total=   6.1s\n",
            "[CV] max_depth=4, min_samples_leaf=1, min_samples_split=2, n_estimators=100 \n",
            "[CV]  max_depth=4, min_samples_leaf=1, min_samples_split=2, n_estimators=100, total=   5.9s\n",
            "[CV] max_depth=4, min_samples_leaf=1, min_samples_split=2, n_estimators=150 \n",
            "[CV]  max_depth=4, min_samples_leaf=1, min_samples_split=2, n_estimators=150, total=   9.0s\n",
            "[CV] max_depth=4, min_samples_leaf=1, min_samples_split=2, n_estimators=150 \n",
            "[CV]  max_depth=4, min_samples_leaf=1, min_samples_split=2, n_estimators=150, total=   8.8s\n",
            "[CV] max_depth=4, min_samples_leaf=1, min_samples_split=4, n_estimators=50 \n",
            "[CV]  max_depth=4, min_samples_leaf=1, min_samples_split=4, n_estimators=50, total=   3.0s\n",
            "[CV] max_depth=4, min_samples_leaf=1, min_samples_split=4, n_estimators=50 \n",
            "[CV]  max_depth=4, min_samples_leaf=1, min_samples_split=4, n_estimators=50, total=   3.0s\n",
            "[CV] max_depth=4, min_samples_leaf=1, min_samples_split=4, n_estimators=100 \n",
            "[CV]  max_depth=4, min_samples_leaf=1, min_samples_split=4, n_estimators=100, total=   6.0s\n",
            "[CV] max_depth=4, min_samples_leaf=1, min_samples_split=4, n_estimators=100 \n",
            "[CV]  max_depth=4, min_samples_leaf=1, min_samples_split=4, n_estimators=100, total=   6.0s\n",
            "[CV] max_depth=4, min_samples_leaf=1, min_samples_split=4, n_estimators=150 \n",
            "[CV]  max_depth=4, min_samples_leaf=1, min_samples_split=4, n_estimators=150, total=   8.9s\n",
            "[CV] max_depth=4, min_samples_leaf=1, min_samples_split=4, n_estimators=150 \n",
            "[CV]  max_depth=4, min_samples_leaf=1, min_samples_split=4, n_estimators=150, total=   9.0s\n",
            "[CV] max_depth=4, min_samples_leaf=1, min_samples_split=6, n_estimators=50 \n",
            "[CV]  max_depth=4, min_samples_leaf=1, min_samples_split=6, n_estimators=50, total=   3.0s\n",
            "[CV] max_depth=4, min_samples_leaf=1, min_samples_split=6, n_estimators=50 \n",
            "[CV]  max_depth=4, min_samples_leaf=1, min_samples_split=6, n_estimators=50, total=   3.1s\n",
            "[CV] max_depth=4, min_samples_leaf=1, min_samples_split=6, n_estimators=100 \n",
            "[CV]  max_depth=4, min_samples_leaf=1, min_samples_split=6, n_estimators=100, total=   6.0s\n",
            "[CV] max_depth=4, min_samples_leaf=1, min_samples_split=6, n_estimators=100 \n",
            "[CV]  max_depth=4, min_samples_leaf=1, min_samples_split=6, n_estimators=100, total=   6.0s\n",
            "[CV] max_depth=4, min_samples_leaf=1, min_samples_split=6, n_estimators=150 \n",
            "[CV]  max_depth=4, min_samples_leaf=1, min_samples_split=6, n_estimators=150, total=   8.9s\n",
            "[CV] max_depth=4, min_samples_leaf=1, min_samples_split=6, n_estimators=150 \n",
            "[CV]  max_depth=4, min_samples_leaf=1, min_samples_split=6, n_estimators=150, total=   8.9s\n",
            "[CV] max_depth=4, min_samples_leaf=2, min_samples_split=2, n_estimators=50 \n",
            "[CV]  max_depth=4, min_samples_leaf=2, min_samples_split=2, n_estimators=50, total=   3.1s\n",
            "[CV] max_depth=4, min_samples_leaf=2, min_samples_split=2, n_estimators=50 \n",
            "[CV]  max_depth=4, min_samples_leaf=2, min_samples_split=2, n_estimators=50, total=   3.1s\n",
            "[CV] max_depth=4, min_samples_leaf=2, min_samples_split=2, n_estimators=100 \n",
            "[CV]  max_depth=4, min_samples_leaf=2, min_samples_split=2, n_estimators=100, total=   6.0s\n",
            "[CV] max_depth=4, min_samples_leaf=2, min_samples_split=2, n_estimators=100 \n",
            "[CV]  max_depth=4, min_samples_leaf=2, min_samples_split=2, n_estimators=100, total=   6.0s\n",
            "[CV] max_depth=4, min_samples_leaf=2, min_samples_split=2, n_estimators=150 \n",
            "[CV]  max_depth=4, min_samples_leaf=2, min_samples_split=2, n_estimators=150, total=   9.1s\n",
            "[CV] max_depth=4, min_samples_leaf=2, min_samples_split=2, n_estimators=150 \n",
            "[CV]  max_depth=4, min_samples_leaf=2, min_samples_split=2, n_estimators=150, total=   8.9s\n",
            "[CV] max_depth=4, min_samples_leaf=2, min_samples_split=4, n_estimators=50 \n",
            "[CV]  max_depth=4, min_samples_leaf=2, min_samples_split=4, n_estimators=50, total=   3.1s\n",
            "[CV] max_depth=4, min_samples_leaf=2, min_samples_split=4, n_estimators=50 \n",
            "[CV]  max_depth=4, min_samples_leaf=2, min_samples_split=4, n_estimators=50, total=   3.1s\n",
            "[CV] max_depth=4, min_samples_leaf=2, min_samples_split=4, n_estimators=100 \n",
            "[CV]  max_depth=4, min_samples_leaf=2, min_samples_split=4, n_estimators=100, total=   5.9s\n",
            "[CV] max_depth=4, min_samples_leaf=2, min_samples_split=4, n_estimators=100 \n",
            "[CV]  max_depth=4, min_samples_leaf=2, min_samples_split=4, n_estimators=100, total=   6.0s\n",
            "[CV] max_depth=4, min_samples_leaf=2, min_samples_split=4, n_estimators=150 \n",
            "[CV]  max_depth=4, min_samples_leaf=2, min_samples_split=4, n_estimators=150, total=   8.9s\n",
            "[CV] max_depth=4, min_samples_leaf=2, min_samples_split=4, n_estimators=150 \n",
            "[CV]  max_depth=4, min_samples_leaf=2, min_samples_split=4, n_estimators=150, total=   8.9s\n",
            "[CV] max_depth=4, min_samples_leaf=2, min_samples_split=6, n_estimators=50 \n",
            "[CV]  max_depth=4, min_samples_leaf=2, min_samples_split=6, n_estimators=50, total=   3.1s\n",
            "[CV] max_depth=4, min_samples_leaf=2, min_samples_split=6, n_estimators=50 \n",
            "[CV]  max_depth=4, min_samples_leaf=2, min_samples_split=6, n_estimators=50, total=   3.1s\n",
            "[CV] max_depth=4, min_samples_leaf=2, min_samples_split=6, n_estimators=100 \n",
            "[CV]  max_depth=4, min_samples_leaf=2, min_samples_split=6, n_estimators=100, total=   6.0s\n",
            "[CV] max_depth=4, min_samples_leaf=2, min_samples_split=6, n_estimators=100 \n",
            "[CV]  max_depth=4, min_samples_leaf=2, min_samples_split=6, n_estimators=100, total=   6.0s\n",
            "[CV] max_depth=4, min_samples_leaf=2, min_samples_split=6, n_estimators=150 \n",
            "[CV]  max_depth=4, min_samples_leaf=2, min_samples_split=6, n_estimators=150, total=   8.9s\n",
            "[CV] max_depth=4, min_samples_leaf=2, min_samples_split=6, n_estimators=150 \n",
            "[CV]  max_depth=4, min_samples_leaf=2, min_samples_split=6, n_estimators=150, total=   8.9s\n",
            "[CV] max_depth=4, min_samples_leaf=3, min_samples_split=2, n_estimators=50 \n",
            "[CV]  max_depth=4, min_samples_leaf=3, min_samples_split=2, n_estimators=50, total=   3.2s\n",
            "[CV] max_depth=4, min_samples_leaf=3, min_samples_split=2, n_estimators=50 \n",
            "[CV]  max_depth=4, min_samples_leaf=3, min_samples_split=2, n_estimators=50, total=   3.1s\n",
            "[CV] max_depth=4, min_samples_leaf=3, min_samples_split=2, n_estimators=100 \n",
            "[CV]  max_depth=4, min_samples_leaf=3, min_samples_split=2, n_estimators=100, total=   6.0s\n",
            "[CV] max_depth=4, min_samples_leaf=3, min_samples_split=2, n_estimators=100 \n",
            "[CV]  max_depth=4, min_samples_leaf=3, min_samples_split=2, n_estimators=100, total=   6.0s\n",
            "[CV] max_depth=4, min_samples_leaf=3, min_samples_split=2, n_estimators=150 \n",
            "[CV]  max_depth=4, min_samples_leaf=3, min_samples_split=2, n_estimators=150, total=   9.0s\n",
            "[CV] max_depth=4, min_samples_leaf=3, min_samples_split=2, n_estimators=150 \n",
            "[CV]  max_depth=4, min_samples_leaf=3, min_samples_split=2, n_estimators=150, total=   8.9s\n",
            "[CV] max_depth=4, min_samples_leaf=3, min_samples_split=4, n_estimators=50 \n",
            "[CV]  max_depth=4, min_samples_leaf=3, min_samples_split=4, n_estimators=50, total=   3.2s\n",
            "[CV] max_depth=4, min_samples_leaf=3, min_samples_split=4, n_estimators=50 \n",
            "[CV]  max_depth=4, min_samples_leaf=3, min_samples_split=4, n_estimators=50, total=   3.1s\n",
            "[CV] max_depth=4, min_samples_leaf=3, min_samples_split=4, n_estimators=100 \n",
            "[CV]  max_depth=4, min_samples_leaf=3, min_samples_split=4, n_estimators=100, total=   6.0s\n",
            "[CV] max_depth=4, min_samples_leaf=3, min_samples_split=4, n_estimators=100 \n",
            "[CV]  max_depth=4, min_samples_leaf=3, min_samples_split=4, n_estimators=100, total=   6.0s\n",
            "[CV] max_depth=4, min_samples_leaf=3, min_samples_split=4, n_estimators=150 \n",
            "[CV]  max_depth=4, min_samples_leaf=3, min_samples_split=4, n_estimators=150, total=   8.9s\n",
            "[CV] max_depth=4, min_samples_leaf=3, min_samples_split=4, n_estimators=150 \n",
            "[CV]  max_depth=4, min_samples_leaf=3, min_samples_split=4, n_estimators=150, total=   8.9s\n",
            "[CV] max_depth=4, min_samples_leaf=3, min_samples_split=6, n_estimators=50 \n",
            "[CV]  max_depth=4, min_samples_leaf=3, min_samples_split=6, n_estimators=50, total=   3.1s\n",
            "[CV] max_depth=4, min_samples_leaf=3, min_samples_split=6, n_estimators=50 \n",
            "[CV]  max_depth=4, min_samples_leaf=3, min_samples_split=6, n_estimators=50, total=   3.1s\n",
            "[CV] max_depth=4, min_samples_leaf=3, min_samples_split=6, n_estimators=100 \n",
            "[CV]  max_depth=4, min_samples_leaf=3, min_samples_split=6, n_estimators=100, total=   6.0s\n",
            "[CV] max_depth=4, min_samples_leaf=3, min_samples_split=6, n_estimators=100 \n",
            "[CV]  max_depth=4, min_samples_leaf=3, min_samples_split=6, n_estimators=100, total=   6.0s\n",
            "[CV] max_depth=4, min_samples_leaf=3, min_samples_split=6, n_estimators=150 \n",
            "[CV]  max_depth=4, min_samples_leaf=3, min_samples_split=6, n_estimators=150, total=   8.9s\n",
            "[CV] max_depth=4, min_samples_leaf=3, min_samples_split=6, n_estimators=150 \n",
            "[CV]  max_depth=4, min_samples_leaf=3, min_samples_split=6, n_estimators=150, total=   8.9s\n",
            "[CV] max_depth=4, min_samples_leaf=4, min_samples_split=2, n_estimators=50 \n",
            "[CV]  max_depth=4, min_samples_leaf=4, min_samples_split=2, n_estimators=50, total=   3.1s\n",
            "[CV] max_depth=4, min_samples_leaf=4, min_samples_split=2, n_estimators=50 \n",
            "[CV]  max_depth=4, min_samples_leaf=4, min_samples_split=2, n_estimators=50, total=   3.1s\n",
            "[CV] max_depth=4, min_samples_leaf=4, min_samples_split=2, n_estimators=100 \n",
            "[CV]  max_depth=4, min_samples_leaf=4, min_samples_split=2, n_estimators=100, total=   6.0s\n",
            "[CV] max_depth=4, min_samples_leaf=4, min_samples_split=2, n_estimators=100 \n",
            "[CV]  max_depth=4, min_samples_leaf=4, min_samples_split=2, n_estimators=100, total=   6.0s\n",
            "[CV] max_depth=4, min_samples_leaf=4, min_samples_split=2, n_estimators=150 \n",
            "[CV]  max_depth=4, min_samples_leaf=4, min_samples_split=2, n_estimators=150, total=   9.1s\n",
            "[CV] max_depth=4, min_samples_leaf=4, min_samples_split=2, n_estimators=150 \n",
            "[CV]  max_depth=4, min_samples_leaf=4, min_samples_split=2, n_estimators=150, total=   8.9s\n",
            "[CV] max_depth=4, min_samples_leaf=4, min_samples_split=4, n_estimators=50 \n",
            "[CV]  max_depth=4, min_samples_leaf=4, min_samples_split=4, n_estimators=50, total=   3.1s\n",
            "[CV] max_depth=4, min_samples_leaf=4, min_samples_split=4, n_estimators=50 \n",
            "[CV]  max_depth=4, min_samples_leaf=4, min_samples_split=4, n_estimators=50, total=   3.1s\n",
            "[CV] max_depth=4, min_samples_leaf=4, min_samples_split=4, n_estimators=100 \n",
            "[CV]  max_depth=4, min_samples_leaf=4, min_samples_split=4, n_estimators=100, total=   6.0s\n",
            "[CV] max_depth=4, min_samples_leaf=4, min_samples_split=4, n_estimators=100 \n",
            "[CV]  max_depth=4, min_samples_leaf=4, min_samples_split=4, n_estimators=100, total=   6.0s\n",
            "[CV] max_depth=4, min_samples_leaf=4, min_samples_split=4, n_estimators=150 \n",
            "[CV]  max_depth=4, min_samples_leaf=4, min_samples_split=4, n_estimators=150, total=   8.9s\n",
            "[CV] max_depth=4, min_samples_leaf=4, min_samples_split=4, n_estimators=150 \n",
            "[CV]  max_depth=4, min_samples_leaf=4, min_samples_split=4, n_estimators=150, total=   8.9s\n",
            "[CV] max_depth=4, min_samples_leaf=4, min_samples_split=6, n_estimators=50 \n",
            "[CV]  max_depth=4, min_samples_leaf=4, min_samples_split=6, n_estimators=50, total=   3.1s\n",
            "[CV] max_depth=4, min_samples_leaf=4, min_samples_split=6, n_estimators=50 \n",
            "[CV]  max_depth=4, min_samples_leaf=4, min_samples_split=6, n_estimators=50, total=   3.1s\n",
            "[CV] max_depth=4, min_samples_leaf=4, min_samples_split=6, n_estimators=100 \n",
            "[CV]  max_depth=4, min_samples_leaf=4, min_samples_split=6, n_estimators=100, total=   6.0s\n",
            "[CV] max_depth=4, min_samples_leaf=4, min_samples_split=6, n_estimators=100 \n",
            "[CV]  max_depth=4, min_samples_leaf=4, min_samples_split=6, n_estimators=100, total=   6.0s\n",
            "[CV] max_depth=4, min_samples_leaf=4, min_samples_split=6, n_estimators=150 \n",
            "[CV]  max_depth=4, min_samples_leaf=4, min_samples_split=6, n_estimators=150, total=   8.9s\n",
            "[CV] max_depth=4, min_samples_leaf=4, min_samples_split=6, n_estimators=150 \n",
            "[CV]  max_depth=4, min_samples_leaf=4, min_samples_split=6, n_estimators=150, total=   8.9s\n",
            "[CV] max_depth=6, min_samples_leaf=1, min_samples_split=2, n_estimators=50 \n",
            "[CV]  max_depth=6, min_samples_leaf=1, min_samples_split=2, n_estimators=50, total=   4.4s\n",
            "[CV] max_depth=6, min_samples_leaf=1, min_samples_split=2, n_estimators=50 \n",
            "[CV]  max_depth=6, min_samples_leaf=1, min_samples_split=2, n_estimators=50, total=   4.4s\n",
            "[CV] max_depth=6, min_samples_leaf=1, min_samples_split=2, n_estimators=100 \n",
            "[CV]  max_depth=6, min_samples_leaf=1, min_samples_split=2, n_estimators=100, total=   8.7s\n",
            "[CV] max_depth=6, min_samples_leaf=1, min_samples_split=2, n_estimators=100 \n",
            "[CV]  max_depth=6, min_samples_leaf=1, min_samples_split=2, n_estimators=100, total=   8.7s\n",
            "[CV] max_depth=6, min_samples_leaf=1, min_samples_split=2, n_estimators=150 \n",
            "[CV]  max_depth=6, min_samples_leaf=1, min_samples_split=2, n_estimators=150, total=  13.0s\n",
            "[CV] max_depth=6, min_samples_leaf=1, min_samples_split=2, n_estimators=150 \n",
            "[CV]  max_depth=6, min_samples_leaf=1, min_samples_split=2, n_estimators=150, total=  13.0s\n",
            "[CV] max_depth=6, min_samples_leaf=1, min_samples_split=4, n_estimators=50 \n",
            "[CV]  max_depth=6, min_samples_leaf=1, min_samples_split=4, n_estimators=50, total=   4.5s\n",
            "[CV] max_depth=6, min_samples_leaf=1, min_samples_split=4, n_estimators=50 \n",
            "[CV]  max_depth=6, min_samples_leaf=1, min_samples_split=4, n_estimators=50, total=   4.4s\n",
            "[CV] max_depth=6, min_samples_leaf=1, min_samples_split=4, n_estimators=100 \n",
            "[CV]  max_depth=6, min_samples_leaf=1, min_samples_split=4, n_estimators=100, total=   8.7s\n",
            "[CV] max_depth=6, min_samples_leaf=1, min_samples_split=4, n_estimators=100 \n",
            "[CV]  max_depth=6, min_samples_leaf=1, min_samples_split=4, n_estimators=100, total=   8.7s\n",
            "[CV] max_depth=6, min_samples_leaf=1, min_samples_split=4, n_estimators=150 \n",
            "[CV]  max_depth=6, min_samples_leaf=1, min_samples_split=4, n_estimators=150, total=  13.2s\n",
            "[CV] max_depth=6, min_samples_leaf=1, min_samples_split=4, n_estimators=150 \n",
            "[CV]  max_depth=6, min_samples_leaf=1, min_samples_split=4, n_estimators=150, total=  13.0s\n",
            "[CV] max_depth=6, min_samples_leaf=1, min_samples_split=6, n_estimators=50 \n",
            "[CV]  max_depth=6, min_samples_leaf=1, min_samples_split=6, n_estimators=50, total=   4.4s\n",
            "[CV] max_depth=6, min_samples_leaf=1, min_samples_split=6, n_estimators=50 \n",
            "[CV]  max_depth=6, min_samples_leaf=1, min_samples_split=6, n_estimators=50, total=   4.4s\n",
            "[CV] max_depth=6, min_samples_leaf=1, min_samples_split=6, n_estimators=100 \n",
            "[CV]  max_depth=6, min_samples_leaf=1, min_samples_split=6, n_estimators=100, total=   8.8s\n",
            "[CV] max_depth=6, min_samples_leaf=1, min_samples_split=6, n_estimators=100 \n",
            "[CV]  max_depth=6, min_samples_leaf=1, min_samples_split=6, n_estimators=100, total=   8.7s\n",
            "[CV] max_depth=6, min_samples_leaf=1, min_samples_split=6, n_estimators=150 \n",
            "[CV]  max_depth=6, min_samples_leaf=1, min_samples_split=6, n_estimators=150, total=  13.0s\n",
            "[CV] max_depth=6, min_samples_leaf=1, min_samples_split=6, n_estimators=150 \n",
            "[CV]  max_depth=6, min_samples_leaf=1, min_samples_split=6, n_estimators=150, total=  13.0s\n",
            "[CV] max_depth=6, min_samples_leaf=2, min_samples_split=2, n_estimators=50 \n",
            "[CV]  max_depth=6, min_samples_leaf=2, min_samples_split=2, n_estimators=50, total=   4.5s\n",
            "[CV] max_depth=6, min_samples_leaf=2, min_samples_split=2, n_estimators=50 \n",
            "[CV]  max_depth=6, min_samples_leaf=2, min_samples_split=2, n_estimators=50, total=   4.4s\n",
            "[CV] max_depth=6, min_samples_leaf=2, min_samples_split=2, n_estimators=100 \n",
            "[CV]  max_depth=6, min_samples_leaf=2, min_samples_split=2, n_estimators=100, total=   8.7s\n",
            "[CV] max_depth=6, min_samples_leaf=2, min_samples_split=2, n_estimators=100 \n",
            "[CV]  max_depth=6, min_samples_leaf=2, min_samples_split=2, n_estimators=100, total=   8.7s\n",
            "[CV] max_depth=6, min_samples_leaf=2, min_samples_split=2, n_estimators=150 \n",
            "[CV]  max_depth=6, min_samples_leaf=2, min_samples_split=2, n_estimators=150, total=  13.1s\n",
            "[CV] max_depth=6, min_samples_leaf=2, min_samples_split=2, n_estimators=150 \n",
            "[CV]  max_depth=6, min_samples_leaf=2, min_samples_split=2, n_estimators=150, total=  13.1s\n",
            "[CV] max_depth=6, min_samples_leaf=2, min_samples_split=4, n_estimators=50 \n",
            "[CV]  max_depth=6, min_samples_leaf=2, min_samples_split=4, n_estimators=50, total=   4.4s\n",
            "[CV] max_depth=6, min_samples_leaf=2, min_samples_split=4, n_estimators=50 \n",
            "[CV]  max_depth=6, min_samples_leaf=2, min_samples_split=4, n_estimators=50, total=   4.4s\n",
            "[CV] max_depth=6, min_samples_leaf=2, min_samples_split=4, n_estimators=100 \n",
            "[CV]  max_depth=6, min_samples_leaf=2, min_samples_split=4, n_estimators=100, total=   8.8s\n",
            "[CV] max_depth=6, min_samples_leaf=2, min_samples_split=4, n_estimators=100 \n",
            "[CV]  max_depth=6, min_samples_leaf=2, min_samples_split=4, n_estimators=100, total=   8.8s\n",
            "[CV] max_depth=6, min_samples_leaf=2, min_samples_split=4, n_estimators=150 \n",
            "[CV]  max_depth=6, min_samples_leaf=2, min_samples_split=4, n_estimators=150, total=  13.0s\n",
            "[CV] max_depth=6, min_samples_leaf=2, min_samples_split=4, n_estimators=150 \n",
            "[CV]  max_depth=6, min_samples_leaf=2, min_samples_split=4, n_estimators=150, total=  13.1s\n",
            "[CV] max_depth=6, min_samples_leaf=2, min_samples_split=6, n_estimators=50 \n",
            "[CV]  max_depth=6, min_samples_leaf=2, min_samples_split=6, n_estimators=50, total=   4.4s\n",
            "[CV] max_depth=6, min_samples_leaf=2, min_samples_split=6, n_estimators=50 \n",
            "[CV]  max_depth=6, min_samples_leaf=2, min_samples_split=6, n_estimators=50, total=   4.4s\n",
            "[CV] max_depth=6, min_samples_leaf=2, min_samples_split=6, n_estimators=100 \n",
            "[CV]  max_depth=6, min_samples_leaf=2, min_samples_split=6, n_estimators=100, total=   8.7s\n",
            "[CV] max_depth=6, min_samples_leaf=2, min_samples_split=6, n_estimators=100 \n",
            "[CV]  max_depth=6, min_samples_leaf=2, min_samples_split=6, n_estimators=100, total=   8.7s\n",
            "[CV] max_depth=6, min_samples_leaf=2, min_samples_split=6, n_estimators=150 \n",
            "[CV]  max_depth=6, min_samples_leaf=2, min_samples_split=6, n_estimators=150, total=  13.0s\n",
            "[CV] max_depth=6, min_samples_leaf=2, min_samples_split=6, n_estimators=150 \n",
            "[CV]  max_depth=6, min_samples_leaf=2, min_samples_split=6, n_estimators=150, total=  13.2s\n",
            "[CV] max_depth=6, min_samples_leaf=3, min_samples_split=2, n_estimators=50 \n",
            "[CV]  max_depth=6, min_samples_leaf=3, min_samples_split=2, n_estimators=50, total=   4.5s\n",
            "[CV] max_depth=6, min_samples_leaf=3, min_samples_split=2, n_estimators=50 \n",
            "[CV]  max_depth=6, min_samples_leaf=3, min_samples_split=2, n_estimators=50, total=   4.4s\n",
            "[CV] max_depth=6, min_samples_leaf=3, min_samples_split=2, n_estimators=100 \n",
            "[CV]  max_depth=6, min_samples_leaf=3, min_samples_split=2, n_estimators=100, total=   8.7s\n",
            "[CV] max_depth=6, min_samples_leaf=3, min_samples_split=2, n_estimators=100 \n",
            "[CV]  max_depth=6, min_samples_leaf=3, min_samples_split=2, n_estimators=100, total=   8.7s\n",
            "[CV] max_depth=6, min_samples_leaf=3, min_samples_split=2, n_estimators=150 \n",
            "[CV]  max_depth=6, min_samples_leaf=3, min_samples_split=2, n_estimators=150, total=  13.0s\n",
            "[CV] max_depth=6, min_samples_leaf=3, min_samples_split=2, n_estimators=150 \n",
            "[CV]  max_depth=6, min_samples_leaf=3, min_samples_split=2, n_estimators=150, total=  13.0s\n",
            "[CV] max_depth=6, min_samples_leaf=3, min_samples_split=4, n_estimators=50 \n",
            "[CV]  max_depth=6, min_samples_leaf=3, min_samples_split=4, n_estimators=50, total=   4.4s\n",
            "[CV] max_depth=6, min_samples_leaf=3, min_samples_split=4, n_estimators=50 \n",
            "[CV]  max_depth=6, min_samples_leaf=3, min_samples_split=4, n_estimators=50, total=   4.4s\n",
            "[CV] max_depth=6, min_samples_leaf=3, min_samples_split=4, n_estimators=100 \n",
            "[CV]  max_depth=6, min_samples_leaf=3, min_samples_split=4, n_estimators=100, total=   8.7s\n",
            "[CV] max_depth=6, min_samples_leaf=3, min_samples_split=4, n_estimators=100 \n",
            "[CV]  max_depth=6, min_samples_leaf=3, min_samples_split=4, n_estimators=100, total=   8.7s\n",
            "[CV] max_depth=6, min_samples_leaf=3, min_samples_split=4, n_estimators=150 \n",
            "[CV]  max_depth=6, min_samples_leaf=3, min_samples_split=4, n_estimators=150, total=  13.1s\n",
            "[CV] max_depth=6, min_samples_leaf=3, min_samples_split=4, n_estimators=150 \n",
            "[CV]  max_depth=6, min_samples_leaf=3, min_samples_split=4, n_estimators=150, total=  13.0s\n",
            "[CV] max_depth=6, min_samples_leaf=3, min_samples_split=6, n_estimators=50 \n",
            "[CV]  max_depth=6, min_samples_leaf=3, min_samples_split=6, n_estimators=50, total=   4.4s\n",
            "[CV] max_depth=6, min_samples_leaf=3, min_samples_split=6, n_estimators=50 \n",
            "[CV]  max_depth=6, min_samples_leaf=3, min_samples_split=6, n_estimators=50, total=   4.4s\n",
            "[CV] max_depth=6, min_samples_leaf=3, min_samples_split=6, n_estimators=100 \n",
            "[CV]  max_depth=6, min_samples_leaf=3, min_samples_split=6, n_estimators=100, total=   8.8s\n",
            "[CV] max_depth=6, min_samples_leaf=3, min_samples_split=6, n_estimators=100 \n",
            "[CV]  max_depth=6, min_samples_leaf=3, min_samples_split=6, n_estimators=100, total=   8.7s\n",
            "[CV] max_depth=6, min_samples_leaf=3, min_samples_split=6, n_estimators=150 \n",
            "[CV]  max_depth=6, min_samples_leaf=3, min_samples_split=6, n_estimators=150, total=  13.0s\n",
            "[CV] max_depth=6, min_samples_leaf=3, min_samples_split=6, n_estimators=150 \n",
            "[CV]  max_depth=6, min_samples_leaf=3, min_samples_split=6, n_estimators=150, total=  13.0s\n",
            "[CV] max_depth=6, min_samples_leaf=4, min_samples_split=2, n_estimators=50 \n",
            "[CV]  max_depth=6, min_samples_leaf=4, min_samples_split=2, n_estimators=50, total=   4.4s\n",
            "[CV] max_depth=6, min_samples_leaf=4, min_samples_split=2, n_estimators=50 \n",
            "[CV]  max_depth=6, min_samples_leaf=4, min_samples_split=2, n_estimators=50, total=   4.4s\n",
            "[CV] max_depth=6, min_samples_leaf=4, min_samples_split=2, n_estimators=100 \n",
            "[CV]  max_depth=6, min_samples_leaf=4, min_samples_split=2, n_estimators=100, total=   8.7s\n",
            "[CV] max_depth=6, min_samples_leaf=4, min_samples_split=2, n_estimators=100 \n",
            "[CV]  max_depth=6, min_samples_leaf=4, min_samples_split=2, n_estimators=100, total=   8.7s\n",
            "[CV] max_depth=6, min_samples_leaf=4, min_samples_split=2, n_estimators=150 \n",
            "[CV]  max_depth=6, min_samples_leaf=4, min_samples_split=2, n_estimators=150, total=  13.1s\n",
            "[CV] max_depth=6, min_samples_leaf=4, min_samples_split=2, n_estimators=150 \n",
            "[CV]  max_depth=6, min_samples_leaf=4, min_samples_split=2, n_estimators=150, total=  13.1s\n",
            "[CV] max_depth=6, min_samples_leaf=4, min_samples_split=4, n_estimators=50 \n",
            "[CV]  max_depth=6, min_samples_leaf=4, min_samples_split=4, n_estimators=50, total=   4.5s\n",
            "[CV] max_depth=6, min_samples_leaf=4, min_samples_split=4, n_estimators=50 \n",
            "[CV]  max_depth=6, min_samples_leaf=4, min_samples_split=4, n_estimators=50, total=   4.4s\n",
            "[CV] max_depth=6, min_samples_leaf=4, min_samples_split=4, n_estimators=100 \n",
            "[CV]  max_depth=6, min_samples_leaf=4, min_samples_split=4, n_estimators=100, total=   8.7s\n",
            "[CV] max_depth=6, min_samples_leaf=4, min_samples_split=4, n_estimators=100 \n",
            "[CV]  max_depth=6, min_samples_leaf=4, min_samples_split=4, n_estimators=100, total=   8.7s\n",
            "[CV] max_depth=6, min_samples_leaf=4, min_samples_split=4, n_estimators=150 \n",
            "[CV]  max_depth=6, min_samples_leaf=4, min_samples_split=4, n_estimators=150, total=  13.2s\n",
            "[CV] max_depth=6, min_samples_leaf=4, min_samples_split=4, n_estimators=150 \n",
            "[CV]  max_depth=6, min_samples_leaf=4, min_samples_split=4, n_estimators=150, total=  13.0s\n",
            "[CV] max_depth=6, min_samples_leaf=4, min_samples_split=6, n_estimators=50 \n",
            "[CV]  max_depth=6, min_samples_leaf=4, min_samples_split=6, n_estimators=50, total=   4.4s\n",
            "[CV] max_depth=6, min_samples_leaf=4, min_samples_split=6, n_estimators=50 \n",
            "[CV]  max_depth=6, min_samples_leaf=4, min_samples_split=6, n_estimators=50, total=   4.5s\n",
            "[CV] max_depth=6, min_samples_leaf=4, min_samples_split=6, n_estimators=100 \n",
            "[CV]  max_depth=6, min_samples_leaf=4, min_samples_split=6, n_estimators=100, total=   8.7s\n",
            "[CV] max_depth=6, min_samples_leaf=4, min_samples_split=6, n_estimators=100 \n",
            "[CV]  max_depth=6, min_samples_leaf=4, min_samples_split=6, n_estimators=100, total=   8.7s\n",
            "[CV] max_depth=6, min_samples_leaf=4, min_samples_split=6, n_estimators=150 \n",
            "[CV]  max_depth=6, min_samples_leaf=4, min_samples_split=6, n_estimators=150, total=  13.2s\n",
            "[CV] max_depth=6, min_samples_leaf=4, min_samples_split=6, n_estimators=150 \n",
            "[CV]  max_depth=6, min_samples_leaf=4, min_samples_split=6, n_estimators=150, total=  12.9s\n",
            "[CV] max_depth=8, min_samples_leaf=1, min_samples_split=2, n_estimators=50 \n",
            "[CV]  max_depth=8, min_samples_leaf=1, min_samples_split=2, n_estimators=50, total=   5.8s\n",
            "[CV] max_depth=8, min_samples_leaf=1, min_samples_split=2, n_estimators=50 \n",
            "[CV]  max_depth=8, min_samples_leaf=1, min_samples_split=2, n_estimators=50, total=   5.8s\n",
            "[CV] max_depth=8, min_samples_leaf=1, min_samples_split=2, n_estimators=100 \n",
            "[CV]  max_depth=8, min_samples_leaf=1, min_samples_split=2, n_estimators=100, total=  11.4s\n",
            "[CV] max_depth=8, min_samples_leaf=1, min_samples_split=2, n_estimators=100 \n",
            "[CV]  max_depth=8, min_samples_leaf=1, min_samples_split=2, n_estimators=100, total=  11.4s\n",
            "[CV] max_depth=8, min_samples_leaf=1, min_samples_split=2, n_estimators=150 \n",
            "[CV]  max_depth=8, min_samples_leaf=1, min_samples_split=2, n_estimators=150, total=  17.0s\n",
            "[CV] max_depth=8, min_samples_leaf=1, min_samples_split=2, n_estimators=150 \n",
            "[CV]  max_depth=8, min_samples_leaf=1, min_samples_split=2, n_estimators=150, total=  16.9s\n",
            "[CV] max_depth=8, min_samples_leaf=1, min_samples_split=4, n_estimators=50 \n",
            "[CV]  max_depth=8, min_samples_leaf=1, min_samples_split=4, n_estimators=50, total=   5.8s\n",
            "[CV] max_depth=8, min_samples_leaf=1, min_samples_split=4, n_estimators=50 \n",
            "[CV]  max_depth=8, min_samples_leaf=1, min_samples_split=4, n_estimators=50, total=   5.8s\n",
            "[CV] max_depth=8, min_samples_leaf=1, min_samples_split=4, n_estimators=100 \n",
            "[CV]  max_depth=8, min_samples_leaf=1, min_samples_split=4, n_estimators=100, total=  11.5s\n",
            "[CV] max_depth=8, min_samples_leaf=1, min_samples_split=4, n_estimators=100 \n",
            "[CV]  max_depth=8, min_samples_leaf=1, min_samples_split=4, n_estimators=100, total=  11.3s\n",
            "[CV] max_depth=8, min_samples_leaf=1, min_samples_split=4, n_estimators=150 \n",
            "[CV]  max_depth=8, min_samples_leaf=1, min_samples_split=4, n_estimators=150, total=  17.1s\n",
            "[CV] max_depth=8, min_samples_leaf=1, min_samples_split=4, n_estimators=150 \n",
            "[CV]  max_depth=8, min_samples_leaf=1, min_samples_split=4, n_estimators=150, total=  17.0s\n",
            "[CV] max_depth=8, min_samples_leaf=1, min_samples_split=6, n_estimators=50 \n",
            "[CV]  max_depth=8, min_samples_leaf=1, min_samples_split=6, n_estimators=50, total=   5.8s\n",
            "[CV] max_depth=8, min_samples_leaf=1, min_samples_split=6, n_estimators=50 \n",
            "[CV]  max_depth=8, min_samples_leaf=1, min_samples_split=6, n_estimators=50, total=   5.8s\n",
            "[CV] max_depth=8, min_samples_leaf=1, min_samples_split=6, n_estimators=100 \n",
            "[CV]  max_depth=8, min_samples_leaf=1, min_samples_split=6, n_estimators=100, total=  11.4s\n",
            "[CV] max_depth=8, min_samples_leaf=1, min_samples_split=6, n_estimators=100 \n",
            "[CV]  max_depth=8, min_samples_leaf=1, min_samples_split=6, n_estimators=100, total=  11.4s\n",
            "[CV] max_depth=8, min_samples_leaf=1, min_samples_split=6, n_estimators=150 \n",
            "[CV]  max_depth=8, min_samples_leaf=1, min_samples_split=6, n_estimators=150, total=  17.0s\n",
            "[CV] max_depth=8, min_samples_leaf=1, min_samples_split=6, n_estimators=150 \n",
            "[CV]  max_depth=8, min_samples_leaf=1, min_samples_split=6, n_estimators=150, total=  17.1s\n",
            "[CV] max_depth=8, min_samples_leaf=2, min_samples_split=2, n_estimators=50 \n",
            "[CV]  max_depth=8, min_samples_leaf=2, min_samples_split=2, n_estimators=50, total=   5.8s\n",
            "[CV] max_depth=8, min_samples_leaf=2, min_samples_split=2, n_estimators=50 \n",
            "[CV]  max_depth=8, min_samples_leaf=2, min_samples_split=2, n_estimators=50, total=   5.8s\n",
            "[CV] max_depth=8, min_samples_leaf=2, min_samples_split=2, n_estimators=100 \n",
            "[CV]  max_depth=8, min_samples_leaf=2, min_samples_split=2, n_estimators=100, total=  11.3s\n",
            "[CV] max_depth=8, min_samples_leaf=2, min_samples_split=2, n_estimators=100 \n",
            "[CV]  max_depth=8, min_samples_leaf=2, min_samples_split=2, n_estimators=100, total=  11.4s\n",
            "[CV] max_depth=8, min_samples_leaf=2, min_samples_split=2, n_estimators=150 \n",
            "[CV]  max_depth=8, min_samples_leaf=2, min_samples_split=2, n_estimators=150, total=  17.0s\n",
            "[CV] max_depth=8, min_samples_leaf=2, min_samples_split=2, n_estimators=150 \n",
            "[CV]  max_depth=8, min_samples_leaf=2, min_samples_split=2, n_estimators=150, total=  17.0s\n",
            "[CV] max_depth=8, min_samples_leaf=2, min_samples_split=4, n_estimators=50 \n",
            "[CV]  max_depth=8, min_samples_leaf=2, min_samples_split=4, n_estimators=50, total=   5.7s\n",
            "[CV] max_depth=8, min_samples_leaf=2, min_samples_split=4, n_estimators=50 \n",
            "[CV]  max_depth=8, min_samples_leaf=2, min_samples_split=4, n_estimators=50, total=   5.8s\n",
            "[CV] max_depth=8, min_samples_leaf=2, min_samples_split=4, n_estimators=100 \n",
            "[CV]  max_depth=8, min_samples_leaf=2, min_samples_split=4, n_estimators=100, total=  11.4s\n",
            "[CV] max_depth=8, min_samples_leaf=2, min_samples_split=4, n_estimators=100 \n",
            "[CV]  max_depth=8, min_samples_leaf=2, min_samples_split=4, n_estimators=100, total=  11.3s\n",
            "[CV] max_depth=8, min_samples_leaf=2, min_samples_split=4, n_estimators=150 \n",
            "[CV]  max_depth=8, min_samples_leaf=2, min_samples_split=4, n_estimators=150, total=  17.0s\n",
            "[CV] max_depth=8, min_samples_leaf=2, min_samples_split=4, n_estimators=150 \n",
            "[CV]  max_depth=8, min_samples_leaf=2, min_samples_split=4, n_estimators=150, total=  17.0s\n",
            "[CV] max_depth=8, min_samples_leaf=2, min_samples_split=6, n_estimators=50 \n",
            "[CV]  max_depth=8, min_samples_leaf=2, min_samples_split=6, n_estimators=50, total=   5.8s\n",
            "[CV] max_depth=8, min_samples_leaf=2, min_samples_split=6, n_estimators=50 \n",
            "[CV]  max_depth=8, min_samples_leaf=2, min_samples_split=6, n_estimators=50, total=   5.8s\n",
            "[CV] max_depth=8, min_samples_leaf=2, min_samples_split=6, n_estimators=100 \n",
            "[CV]  max_depth=8, min_samples_leaf=2, min_samples_split=6, n_estimators=100, total=  11.4s\n",
            "[CV] max_depth=8, min_samples_leaf=2, min_samples_split=6, n_estimators=100 \n",
            "[CV]  max_depth=8, min_samples_leaf=2, min_samples_split=6, n_estimators=100, total=  11.3s\n",
            "[CV] max_depth=8, min_samples_leaf=2, min_samples_split=6, n_estimators=150 \n",
            "[CV]  max_depth=8, min_samples_leaf=2, min_samples_split=6, n_estimators=150, total=  16.9s\n",
            "[CV] max_depth=8, min_samples_leaf=2, min_samples_split=6, n_estimators=150 \n",
            "[CV]  max_depth=8, min_samples_leaf=2, min_samples_split=6, n_estimators=150, total=  17.0s\n",
            "[CV] max_depth=8, min_samples_leaf=3, min_samples_split=2, n_estimators=50 \n",
            "[CV]  max_depth=8, min_samples_leaf=3, min_samples_split=2, n_estimators=50, total=   5.7s\n",
            "[CV] max_depth=8, min_samples_leaf=3, min_samples_split=2, n_estimators=50 \n",
            "[CV]  max_depth=8, min_samples_leaf=3, min_samples_split=2, n_estimators=50, total=   5.7s\n",
            "[CV] max_depth=8, min_samples_leaf=3, min_samples_split=2, n_estimators=100 \n",
            "[CV]  max_depth=8, min_samples_leaf=3, min_samples_split=2, n_estimators=100, total=  11.3s\n",
            "[CV] max_depth=8, min_samples_leaf=3, min_samples_split=2, n_estimators=100 \n",
            "[CV]  max_depth=8, min_samples_leaf=3, min_samples_split=2, n_estimators=100, total=  11.4s\n",
            "[CV] max_depth=8, min_samples_leaf=3, min_samples_split=2, n_estimators=150 \n",
            "[CV]  max_depth=8, min_samples_leaf=3, min_samples_split=2, n_estimators=150, total=  16.8s\n",
            "[CV] max_depth=8, min_samples_leaf=3, min_samples_split=2, n_estimators=150 \n",
            "[CV]  max_depth=8, min_samples_leaf=3, min_samples_split=2, n_estimators=150, total=  17.0s\n",
            "[CV] max_depth=8, min_samples_leaf=3, min_samples_split=4, n_estimators=50 \n",
            "[CV]  max_depth=8, min_samples_leaf=3, min_samples_split=4, n_estimators=50, total=   5.7s\n",
            "[CV] max_depth=8, min_samples_leaf=3, min_samples_split=4, n_estimators=50 \n",
            "[CV]  max_depth=8, min_samples_leaf=3, min_samples_split=4, n_estimators=50, total=   5.8s\n",
            "[CV] max_depth=8, min_samples_leaf=3, min_samples_split=4, n_estimators=100 \n",
            "[CV]  max_depth=8, min_samples_leaf=3, min_samples_split=4, n_estimators=100, total=  11.5s\n",
            "[CV] max_depth=8, min_samples_leaf=3, min_samples_split=4, n_estimators=100 \n",
            "[CV]  max_depth=8, min_samples_leaf=3, min_samples_split=4, n_estimators=100, total=  11.6s\n",
            "[CV] max_depth=8, min_samples_leaf=3, min_samples_split=4, n_estimators=150 \n",
            "[CV]  max_depth=8, min_samples_leaf=3, min_samples_split=4, n_estimators=150, total=  16.9s\n",
            "[CV] max_depth=8, min_samples_leaf=3, min_samples_split=4, n_estimators=150 \n",
            "[CV]  max_depth=8, min_samples_leaf=3, min_samples_split=4, n_estimators=150, total=  16.9s\n",
            "[CV] max_depth=8, min_samples_leaf=3, min_samples_split=6, n_estimators=50 \n",
            "[CV]  max_depth=8, min_samples_leaf=3, min_samples_split=6, n_estimators=50, total=   5.8s\n",
            "[CV] max_depth=8, min_samples_leaf=3, min_samples_split=6, n_estimators=50 \n",
            "[CV]  max_depth=8, min_samples_leaf=3, min_samples_split=6, n_estimators=50, total=   5.8s\n",
            "[CV] max_depth=8, min_samples_leaf=3, min_samples_split=6, n_estimators=100 \n",
            "[CV]  max_depth=8, min_samples_leaf=3, min_samples_split=6, n_estimators=100, total=  11.3s\n",
            "[CV] max_depth=8, min_samples_leaf=3, min_samples_split=6, n_estimators=100 \n",
            "[CV]  max_depth=8, min_samples_leaf=3, min_samples_split=6, n_estimators=100, total=  11.4s\n",
            "[CV] max_depth=8, min_samples_leaf=3, min_samples_split=6, n_estimators=150 \n",
            "[CV]  max_depth=8, min_samples_leaf=3, min_samples_split=6, n_estimators=150, total=  16.9s\n",
            "[CV] max_depth=8, min_samples_leaf=3, min_samples_split=6, n_estimators=150 \n",
            "[CV]  max_depth=8, min_samples_leaf=3, min_samples_split=6, n_estimators=150, total=  16.9s\n",
            "[CV] max_depth=8, min_samples_leaf=4, min_samples_split=2, n_estimators=50 \n",
            "[CV]  max_depth=8, min_samples_leaf=4, min_samples_split=2, n_estimators=50, total=   5.7s\n",
            "[CV] max_depth=8, min_samples_leaf=4, min_samples_split=2, n_estimators=50 \n",
            "[CV]  max_depth=8, min_samples_leaf=4, min_samples_split=2, n_estimators=50, total=   5.7s\n",
            "[CV] max_depth=8, min_samples_leaf=4, min_samples_split=2, n_estimators=100 \n",
            "[CV]  max_depth=8, min_samples_leaf=4, min_samples_split=2, n_estimators=100, total=  11.5s\n",
            "[CV] max_depth=8, min_samples_leaf=4, min_samples_split=2, n_estimators=100 \n",
            "[CV]  max_depth=8, min_samples_leaf=4, min_samples_split=2, n_estimators=100, total=  11.3s\n",
            "[CV] max_depth=8, min_samples_leaf=4, min_samples_split=2, n_estimators=150 \n",
            "[CV]  max_depth=8, min_samples_leaf=4, min_samples_split=2, n_estimators=150, total=  16.9s\n",
            "[CV] max_depth=8, min_samples_leaf=4, min_samples_split=2, n_estimators=150 \n",
            "[CV]  max_depth=8, min_samples_leaf=4, min_samples_split=2, n_estimators=150, total=  16.9s\n",
            "[CV] max_depth=8, min_samples_leaf=4, min_samples_split=4, n_estimators=50 \n",
            "[CV]  max_depth=8, min_samples_leaf=4, min_samples_split=4, n_estimators=50, total=   5.7s\n",
            "[CV] max_depth=8, min_samples_leaf=4, min_samples_split=4, n_estimators=50 \n",
            "[CV]  max_depth=8, min_samples_leaf=4, min_samples_split=4, n_estimators=50, total=   5.7s\n",
            "[CV] max_depth=8, min_samples_leaf=4, min_samples_split=4, n_estimators=100 \n",
            "[CV]  max_depth=8, min_samples_leaf=4, min_samples_split=4, n_estimators=100, total=  11.3s\n",
            "[CV] max_depth=8, min_samples_leaf=4, min_samples_split=4, n_estimators=100 \n",
            "[CV]  max_depth=8, min_samples_leaf=4, min_samples_split=4, n_estimators=100, total=  11.3s\n",
            "[CV] max_depth=8, min_samples_leaf=4, min_samples_split=4, n_estimators=150 \n",
            "[CV]  max_depth=8, min_samples_leaf=4, min_samples_split=4, n_estimators=150, total=  17.1s\n",
            "[CV] max_depth=8, min_samples_leaf=4, min_samples_split=4, n_estimators=150 \n",
            "[CV]  max_depth=8, min_samples_leaf=4, min_samples_split=4, n_estimators=150, total=  17.0s\n",
            "[CV] max_depth=8, min_samples_leaf=4, min_samples_split=6, n_estimators=50 \n",
            "[CV]  max_depth=8, min_samples_leaf=4, min_samples_split=6, n_estimators=50, total=   5.7s\n",
            "[CV] max_depth=8, min_samples_leaf=4, min_samples_split=6, n_estimators=50 \n",
            "[CV]  max_depth=8, min_samples_leaf=4, min_samples_split=6, n_estimators=50, total=   5.7s\n",
            "[CV] max_depth=8, min_samples_leaf=4, min_samples_split=6, n_estimators=100 \n",
            "[CV]  max_depth=8, min_samples_leaf=4, min_samples_split=6, n_estimators=100, total=  11.3s\n",
            "[CV] max_depth=8, min_samples_leaf=4, min_samples_split=6, n_estimators=100 \n",
            "[CV]  max_depth=8, min_samples_leaf=4, min_samples_split=6, n_estimators=100, total=  11.3s\n",
            "[CV] max_depth=8, min_samples_leaf=4, min_samples_split=6, n_estimators=150 \n",
            "[CV]  max_depth=8, min_samples_leaf=4, min_samples_split=6, n_estimators=150, total=  17.1s\n",
            "[CV] max_depth=8, min_samples_leaf=4, min_samples_split=6, n_estimators=150 \n",
            "[CV]  max_depth=8, min_samples_leaf=4, min_samples_split=6, n_estimators=150, total=  17.0s\n"
          ],
          "name": "stdout"
        },
        {
          "output_type": "stream",
          "text": [
            "[Parallel(n_jobs=1)]: Done 360 out of 360 | elapsed: 56.9min finished\n"
          ],
          "name": "stderr"
        }
      ]
    },
    {
      "cell_type": "code",
      "metadata": {
        "colab": {
          "base_uri": "https://localhost:8080/"
        },
        "id": "sb-4Mu5UQ6v2",
        "outputId": "278de270-c31e-472a-d2b5-f400a69a6094"
      },
      "source": [
        "duration_time/60"
      ],
      "execution_count": null,
      "outputs": [
        {
          "output_type": "execute_result",
          "data": {
            "text/plain": [
              "57.91173794666926"
            ]
          },
          "metadata": {
            "tags": []
          },
          "execution_count": 24
        }
      ]
    },
    {
      "cell_type": "code",
      "metadata": {
        "colab": {
          "base_uri": "https://localhost:8080/"
        },
        "id": "qoB_RUT1RE4l",
        "outputId": "d230a806-392a-4b3a-84db-6dc2f80d02c3"
      },
      "source": [
        "grid_search.best_score_"
      ],
      "execution_count": null,
      "outputs": [
        {
          "output_type": "execute_result",
          "data": {
            "text/plain": [
              "0.774"
            ]
          },
          "metadata": {
            "tags": []
          },
          "execution_count": 28
        }
      ]
    },
    {
      "cell_type": "code",
      "metadata": {
        "colab": {
          "base_uri": "https://localhost:8080/"
        },
        "id": "ibyvNcD4Rtpb",
        "outputId": "a499d3e3-568a-4c6b-afd3-a11f8dc10197"
      },
      "source": [
        "pca_g = PCA(n_components=17)\r\n",
        "X_grid = pca_g.fit_transform(X_sub)\r\n",
        "X_grid.shape"
      ],
      "execution_count": null,
      "outputs": [
        {
          "output_type": "execute_result",
          "data": {
            "text/plain": [
              "(40000, 17)"
            ]
          },
          "metadata": {
            "tags": []
          },
          "execution_count": 42
        }
      ]
    },
    {
      "cell_type": "code",
      "metadata": {
        "colab": {
          "base_uri": "https://localhost:8080/"
        },
        "id": "_MMxnkifR1gJ",
        "outputId": "20b0b750-3233-4d59-f1ff-2b73d2a7ef20"
      },
      "source": [
        "# for reduced data running GridSearchCV\r\n",
        "\r\n",
        "start = time.time()\r\n",
        "grid_clf = RandomForestClassifier(random_state=42)\r\n",
        "param_grid = {'n_estimators' : [50, 100, 150],\r\n",
        "              'max_depth' : [None, 2, 4, 6, 8],\r\n",
        "              'min_samples_split' : [2, 4, 6],\r\n",
        "              'min_samples_leaf' : [1, 2, 3, 4]}\r\n",
        "\r\n",
        "grid_search_reduced = GridSearchCV(grid_clf, param_grid = param_grid, verbose = 2, cv = 2, refit = True)\r\n",
        "grid_search_reduced.fit(X_grid, y_sub)\r\n",
        "duration_time_reduced = time.time()-start"
      ],
      "execution_count": null,
      "outputs": [
        {
          "output_type": "stream",
          "text": [
            "Fitting 2 folds for each of 180 candidates, totalling 360 fits\n",
            "[CV] max_depth=None, min_samples_leaf=1, min_samples_split=2, n_estimators=50 \n"
          ],
          "name": "stdout"
        },
        {
          "output_type": "stream",
          "text": [
            "[Parallel(n_jobs=1)]: Using backend SequentialBackend with 1 concurrent workers.\n"
          ],
          "name": "stderr"
        },
        {
          "output_type": "stream",
          "text": [
            "[CV]  max_depth=None, min_samples_leaf=1, min_samples_split=2, n_estimators=50, total=   5.2s\n",
            "[CV] max_depth=None, min_samples_leaf=1, min_samples_split=2, n_estimators=50 \n"
          ],
          "name": "stdout"
        },
        {
          "output_type": "stream",
          "text": [
            "[Parallel(n_jobs=1)]: Done   1 out of   1 | elapsed:    5.2s remaining:    0.0s\n"
          ],
          "name": "stderr"
        },
        {
          "output_type": "stream",
          "text": [
            "[CV]  max_depth=None, min_samples_leaf=1, min_samples_split=2, n_estimators=50, total=   5.3s\n",
            "[CV] max_depth=None, min_samples_leaf=1, min_samples_split=2, n_estimators=100 \n",
            "[CV]  max_depth=None, min_samples_leaf=1, min_samples_split=2, n_estimators=100, total=  10.4s\n",
            "[CV] max_depth=None, min_samples_leaf=1, min_samples_split=2, n_estimators=100 \n",
            "[CV]  max_depth=None, min_samples_leaf=1, min_samples_split=2, n_estimators=100, total=  10.5s\n",
            "[CV] max_depth=None, min_samples_leaf=1, min_samples_split=2, n_estimators=150 \n",
            "[CV]  max_depth=None, min_samples_leaf=1, min_samples_split=2, n_estimators=150, total=  15.5s\n",
            "[CV] max_depth=None, min_samples_leaf=1, min_samples_split=2, n_estimators=150 \n",
            "[CV]  max_depth=None, min_samples_leaf=1, min_samples_split=2, n_estimators=150, total=  15.7s\n",
            "[CV] max_depth=None, min_samples_leaf=1, min_samples_split=4, n_estimators=50 \n",
            "[CV]  max_depth=None, min_samples_leaf=1, min_samples_split=4, n_estimators=50, total=   5.2s\n",
            "[CV] max_depth=None, min_samples_leaf=1, min_samples_split=4, n_estimators=50 \n",
            "[CV]  max_depth=None, min_samples_leaf=1, min_samples_split=4, n_estimators=50, total=   5.2s\n",
            "[CV] max_depth=None, min_samples_leaf=1, min_samples_split=4, n_estimators=100 \n",
            "[CV]  max_depth=None, min_samples_leaf=1, min_samples_split=4, n_estimators=100, total=  10.3s\n",
            "[CV] max_depth=None, min_samples_leaf=1, min_samples_split=4, n_estimators=100 \n",
            "[CV]  max_depth=None, min_samples_leaf=1, min_samples_split=4, n_estimators=100, total=  10.4s\n",
            "[CV] max_depth=None, min_samples_leaf=1, min_samples_split=4, n_estimators=150 \n",
            "[CV]  max_depth=None, min_samples_leaf=1, min_samples_split=4, n_estimators=150, total=  15.4s\n",
            "[CV] max_depth=None, min_samples_leaf=1, min_samples_split=4, n_estimators=150 \n",
            "[CV]  max_depth=None, min_samples_leaf=1, min_samples_split=4, n_estimators=150, total=  15.6s\n",
            "[CV] max_depth=None, min_samples_leaf=1, min_samples_split=6, n_estimators=50 \n",
            "[CV]  max_depth=None, min_samples_leaf=1, min_samples_split=6, n_estimators=50, total=   5.1s\n",
            "[CV] max_depth=None, min_samples_leaf=1, min_samples_split=6, n_estimators=50 \n",
            "[CV]  max_depth=None, min_samples_leaf=1, min_samples_split=6, n_estimators=50, total=   5.1s\n",
            "[CV] max_depth=None, min_samples_leaf=1, min_samples_split=6, n_estimators=100 \n",
            "[CV]  max_depth=None, min_samples_leaf=1, min_samples_split=6, n_estimators=100, total=  10.1s\n",
            "[CV] max_depth=None, min_samples_leaf=1, min_samples_split=6, n_estimators=100 \n",
            "[CV]  max_depth=None, min_samples_leaf=1, min_samples_split=6, n_estimators=100, total=  10.3s\n",
            "[CV] max_depth=None, min_samples_leaf=1, min_samples_split=6, n_estimators=150 \n",
            "[CV]  max_depth=None, min_samples_leaf=1, min_samples_split=6, n_estimators=150, total=  15.3s\n",
            "[CV] max_depth=None, min_samples_leaf=1, min_samples_split=6, n_estimators=150 \n",
            "[CV]  max_depth=None, min_samples_leaf=1, min_samples_split=6, n_estimators=150, total=  15.3s\n",
            "[CV] max_depth=None, min_samples_leaf=2, min_samples_split=2, n_estimators=50 \n",
            "[CV]  max_depth=None, min_samples_leaf=2, min_samples_split=2, n_estimators=50, total=   5.0s\n",
            "[CV] max_depth=None, min_samples_leaf=2, min_samples_split=2, n_estimators=50 \n",
            "[CV]  max_depth=None, min_samples_leaf=2, min_samples_split=2, n_estimators=50, total=   5.0s\n",
            "[CV] max_depth=None, min_samples_leaf=2, min_samples_split=2, n_estimators=100 \n",
            "[CV]  max_depth=None, min_samples_leaf=2, min_samples_split=2, n_estimators=100, total=  10.0s\n",
            "[CV] max_depth=None, min_samples_leaf=2, min_samples_split=2, n_estimators=100 \n",
            "[CV]  max_depth=None, min_samples_leaf=2, min_samples_split=2, n_estimators=100, total=  10.1s\n",
            "[CV] max_depth=None, min_samples_leaf=2, min_samples_split=2, n_estimators=150 \n",
            "[CV]  max_depth=None, min_samples_leaf=2, min_samples_split=2, n_estimators=150, total=  14.9s\n",
            "[CV] max_depth=None, min_samples_leaf=2, min_samples_split=2, n_estimators=150 \n",
            "[CV]  max_depth=None, min_samples_leaf=2, min_samples_split=2, n_estimators=150, total=  15.1s\n",
            "[CV] max_depth=None, min_samples_leaf=2, min_samples_split=4, n_estimators=50 \n",
            "[CV]  max_depth=None, min_samples_leaf=2, min_samples_split=4, n_estimators=50, total=   5.0s\n",
            "[CV] max_depth=None, min_samples_leaf=2, min_samples_split=4, n_estimators=50 \n",
            "[CV]  max_depth=None, min_samples_leaf=2, min_samples_split=4, n_estimators=50, total=   5.0s\n",
            "[CV] max_depth=None, min_samples_leaf=2, min_samples_split=4, n_estimators=100 \n",
            "[CV]  max_depth=None, min_samples_leaf=2, min_samples_split=4, n_estimators=100, total=  10.0s\n",
            "[CV] max_depth=None, min_samples_leaf=2, min_samples_split=4, n_estimators=100 \n",
            "[CV]  max_depth=None, min_samples_leaf=2, min_samples_split=4, n_estimators=100, total=  10.1s\n",
            "[CV] max_depth=None, min_samples_leaf=2, min_samples_split=4, n_estimators=150 \n",
            "[CV]  max_depth=None, min_samples_leaf=2, min_samples_split=4, n_estimators=150, total=  14.9s\n",
            "[CV] max_depth=None, min_samples_leaf=2, min_samples_split=4, n_estimators=150 \n",
            "[CV]  max_depth=None, min_samples_leaf=2, min_samples_split=4, n_estimators=150, total=  15.1s\n",
            "[CV] max_depth=None, min_samples_leaf=2, min_samples_split=6, n_estimators=50 \n",
            "[CV]  max_depth=None, min_samples_leaf=2, min_samples_split=6, n_estimators=50, total=   4.9s\n",
            "[CV] max_depth=None, min_samples_leaf=2, min_samples_split=6, n_estimators=50 \n",
            "[CV]  max_depth=None, min_samples_leaf=2, min_samples_split=6, n_estimators=50, total=   5.1s\n",
            "[CV] max_depth=None, min_samples_leaf=2, min_samples_split=6, n_estimators=100 \n",
            "[CV]  max_depth=None, min_samples_leaf=2, min_samples_split=6, n_estimators=100, total=   9.9s\n",
            "[CV] max_depth=None, min_samples_leaf=2, min_samples_split=6, n_estimators=100 \n",
            "[CV]  max_depth=None, min_samples_leaf=2, min_samples_split=6, n_estimators=100, total=  10.0s\n",
            "[CV] max_depth=None, min_samples_leaf=2, min_samples_split=6, n_estimators=150 \n",
            "[CV]  max_depth=None, min_samples_leaf=2, min_samples_split=6, n_estimators=150, total=  14.8s\n",
            "[CV] max_depth=None, min_samples_leaf=2, min_samples_split=6, n_estimators=150 \n",
            "[CV]  max_depth=None, min_samples_leaf=2, min_samples_split=6, n_estimators=150, total=  14.9s\n",
            "[CV] max_depth=None, min_samples_leaf=3, min_samples_split=2, n_estimators=50 \n",
            "[CV]  max_depth=None, min_samples_leaf=3, min_samples_split=2, n_estimators=50, total=   4.8s\n",
            "[CV] max_depth=None, min_samples_leaf=3, min_samples_split=2, n_estimators=50 \n",
            "[CV]  max_depth=None, min_samples_leaf=3, min_samples_split=2, n_estimators=50, total=   4.9s\n",
            "[CV] max_depth=None, min_samples_leaf=3, min_samples_split=2, n_estimators=100 \n",
            "[CV]  max_depth=None, min_samples_leaf=3, min_samples_split=2, n_estimators=100, total=   9.7s\n",
            "[CV] max_depth=None, min_samples_leaf=3, min_samples_split=2, n_estimators=100 \n",
            "[CV]  max_depth=None, min_samples_leaf=3, min_samples_split=2, n_estimators=100, total=   9.7s\n",
            "[CV] max_depth=None, min_samples_leaf=3, min_samples_split=2, n_estimators=150 \n",
            "[CV]  max_depth=None, min_samples_leaf=3, min_samples_split=2, n_estimators=150, total=  14.5s\n",
            "[CV] max_depth=None, min_samples_leaf=3, min_samples_split=2, n_estimators=150 \n",
            "[CV]  max_depth=None, min_samples_leaf=3, min_samples_split=2, n_estimators=150, total=  14.6s\n",
            "[CV] max_depth=None, min_samples_leaf=3, min_samples_split=4, n_estimators=50 \n",
            "[CV]  max_depth=None, min_samples_leaf=3, min_samples_split=4, n_estimators=50, total=   4.9s\n",
            "[CV] max_depth=None, min_samples_leaf=3, min_samples_split=4, n_estimators=50 \n",
            "[CV]  max_depth=None, min_samples_leaf=3, min_samples_split=4, n_estimators=50, total=   4.9s\n",
            "[CV] max_depth=None, min_samples_leaf=3, min_samples_split=4, n_estimators=100 \n",
            "[CV]  max_depth=None, min_samples_leaf=3, min_samples_split=4, n_estimators=100, total=   9.6s\n",
            "[CV] max_depth=None, min_samples_leaf=3, min_samples_split=4, n_estimators=100 \n",
            "[CV]  max_depth=None, min_samples_leaf=3, min_samples_split=4, n_estimators=100, total=   9.8s\n",
            "[CV] max_depth=None, min_samples_leaf=3, min_samples_split=4, n_estimators=150 \n",
            "[CV]  max_depth=None, min_samples_leaf=3, min_samples_split=4, n_estimators=150, total=  14.5s\n",
            "[CV] max_depth=None, min_samples_leaf=3, min_samples_split=4, n_estimators=150 \n",
            "[CV]  max_depth=None, min_samples_leaf=3, min_samples_split=4, n_estimators=150, total=  14.5s\n",
            "[CV] max_depth=None, min_samples_leaf=3, min_samples_split=6, n_estimators=50 \n",
            "[CV]  max_depth=None, min_samples_leaf=3, min_samples_split=6, n_estimators=50, total=   4.8s\n",
            "[CV] max_depth=None, min_samples_leaf=3, min_samples_split=6, n_estimators=50 \n",
            "[CV]  max_depth=None, min_samples_leaf=3, min_samples_split=6, n_estimators=50, total=   4.9s\n",
            "[CV] max_depth=None, min_samples_leaf=3, min_samples_split=6, n_estimators=100 \n",
            "[CV]  max_depth=None, min_samples_leaf=3, min_samples_split=6, n_estimators=100, total=   9.7s\n",
            "[CV] max_depth=None, min_samples_leaf=3, min_samples_split=6, n_estimators=100 \n",
            "[CV]  max_depth=None, min_samples_leaf=3, min_samples_split=6, n_estimators=100, total=   9.8s\n",
            "[CV] max_depth=None, min_samples_leaf=3, min_samples_split=6, n_estimators=150 \n",
            "[CV]  max_depth=None, min_samples_leaf=3, min_samples_split=6, n_estimators=150, total=  14.4s\n",
            "[CV] max_depth=None, min_samples_leaf=3, min_samples_split=6, n_estimators=150 \n",
            "[CV]  max_depth=None, min_samples_leaf=3, min_samples_split=6, n_estimators=150, total=  14.5s\n",
            "[CV] max_depth=None, min_samples_leaf=4, min_samples_split=2, n_estimators=50 \n",
            "[CV]  max_depth=None, min_samples_leaf=4, min_samples_split=2, n_estimators=50, total=   4.7s\n",
            "[CV] max_depth=None, min_samples_leaf=4, min_samples_split=2, n_estimators=50 \n",
            "[CV]  max_depth=None, min_samples_leaf=4, min_samples_split=2, n_estimators=50, total=   4.8s\n",
            "[CV] max_depth=None, min_samples_leaf=4, min_samples_split=2, n_estimators=100 \n",
            "[CV]  max_depth=None, min_samples_leaf=4, min_samples_split=2, n_estimators=100, total=   9.4s\n",
            "[CV] max_depth=None, min_samples_leaf=4, min_samples_split=2, n_estimators=100 \n",
            "[CV]  max_depth=None, min_samples_leaf=4, min_samples_split=2, n_estimators=100, total=   9.5s\n",
            "[CV] max_depth=None, min_samples_leaf=4, min_samples_split=2, n_estimators=150 \n",
            "[CV]  max_depth=None, min_samples_leaf=4, min_samples_split=2, n_estimators=150, total=  14.1s\n",
            "[CV] max_depth=None, min_samples_leaf=4, min_samples_split=2, n_estimators=150 \n",
            "[CV]  max_depth=None, min_samples_leaf=4, min_samples_split=2, n_estimators=150, total=  14.2s\n",
            "[CV] max_depth=None, min_samples_leaf=4, min_samples_split=4, n_estimators=50 \n",
            "[CV]  max_depth=None, min_samples_leaf=4, min_samples_split=4, n_estimators=50, total=   4.7s\n",
            "[CV] max_depth=None, min_samples_leaf=4, min_samples_split=4, n_estimators=50 \n",
            "[CV]  max_depth=None, min_samples_leaf=4, min_samples_split=4, n_estimators=50, total=   4.8s\n",
            "[CV] max_depth=None, min_samples_leaf=4, min_samples_split=4, n_estimators=100 \n",
            "[CV]  max_depth=None, min_samples_leaf=4, min_samples_split=4, n_estimators=100, total=   9.4s\n",
            "[CV] max_depth=None, min_samples_leaf=4, min_samples_split=4, n_estimators=100 \n",
            "[CV]  max_depth=None, min_samples_leaf=4, min_samples_split=4, n_estimators=100, total=   9.5s\n",
            "[CV] max_depth=None, min_samples_leaf=4, min_samples_split=4, n_estimators=150 \n",
            "[CV]  max_depth=None, min_samples_leaf=4, min_samples_split=4, n_estimators=150, total=  14.1s\n",
            "[CV] max_depth=None, min_samples_leaf=4, min_samples_split=4, n_estimators=150 \n",
            "[CV]  max_depth=None, min_samples_leaf=4, min_samples_split=4, n_estimators=150, total=  14.2s\n",
            "[CV] max_depth=None, min_samples_leaf=4, min_samples_split=6, n_estimators=50 \n",
            "[CV]  max_depth=None, min_samples_leaf=4, min_samples_split=6, n_estimators=50, total=   4.7s\n",
            "[CV] max_depth=None, min_samples_leaf=4, min_samples_split=6, n_estimators=50 \n",
            "[CV]  max_depth=None, min_samples_leaf=4, min_samples_split=6, n_estimators=50, total=   4.7s\n",
            "[CV] max_depth=None, min_samples_leaf=4, min_samples_split=6, n_estimators=100 \n",
            "[CV]  max_depth=None, min_samples_leaf=4, min_samples_split=6, n_estimators=100, total=   9.4s\n",
            "[CV] max_depth=None, min_samples_leaf=4, min_samples_split=6, n_estimators=100 \n",
            "[CV]  max_depth=None, min_samples_leaf=4, min_samples_split=6, n_estimators=100, total=   9.5s\n",
            "[CV] max_depth=None, min_samples_leaf=4, min_samples_split=6, n_estimators=150 \n",
            "[CV]  max_depth=None, min_samples_leaf=4, min_samples_split=6, n_estimators=150, total=  14.0s\n",
            "[CV] max_depth=None, min_samples_leaf=4, min_samples_split=6, n_estimators=150 \n",
            "[CV]  max_depth=None, min_samples_leaf=4, min_samples_split=6, n_estimators=150, total=  14.3s\n",
            "[CV] max_depth=2, min_samples_leaf=1, min_samples_split=2, n_estimators=50 \n",
            "[CV]  max_depth=2, min_samples_leaf=1, min_samples_split=2, n_estimators=50, total=   1.2s\n",
            "[CV] max_depth=2, min_samples_leaf=1, min_samples_split=2, n_estimators=50 \n",
            "[CV]  max_depth=2, min_samples_leaf=1, min_samples_split=2, n_estimators=50, total=   1.1s\n",
            "[CV] max_depth=2, min_samples_leaf=1, min_samples_split=2, n_estimators=100 \n",
            "[CV]  max_depth=2, min_samples_leaf=1, min_samples_split=2, n_estimators=100, total=   2.2s\n",
            "[CV] max_depth=2, min_samples_leaf=1, min_samples_split=2, n_estimators=100 \n",
            "[CV]  max_depth=2, min_samples_leaf=1, min_samples_split=2, n_estimators=100, total=   2.2s\n",
            "[CV] max_depth=2, min_samples_leaf=1, min_samples_split=2, n_estimators=150 \n",
            "[CV]  max_depth=2, min_samples_leaf=1, min_samples_split=2, n_estimators=150, total=   3.3s\n",
            "[CV] max_depth=2, min_samples_leaf=1, min_samples_split=2, n_estimators=150 \n",
            "[CV]  max_depth=2, min_samples_leaf=1, min_samples_split=2, n_estimators=150, total=   3.2s\n",
            "[CV] max_depth=2, min_samples_leaf=1, min_samples_split=4, n_estimators=50 \n",
            "[CV]  max_depth=2, min_samples_leaf=1, min_samples_split=4, n_estimators=50, total=   1.1s\n",
            "[CV] max_depth=2, min_samples_leaf=1, min_samples_split=4, n_estimators=50 \n",
            "[CV]  max_depth=2, min_samples_leaf=1, min_samples_split=4, n_estimators=50, total=   1.1s\n",
            "[CV] max_depth=2, min_samples_leaf=1, min_samples_split=4, n_estimators=100 \n",
            "[CV]  max_depth=2, min_samples_leaf=1, min_samples_split=4, n_estimators=100, total=   2.2s\n",
            "[CV] max_depth=2, min_samples_leaf=1, min_samples_split=4, n_estimators=100 \n",
            "[CV]  max_depth=2, min_samples_leaf=1, min_samples_split=4, n_estimators=100, total=   2.2s\n",
            "[CV] max_depth=2, min_samples_leaf=1, min_samples_split=4, n_estimators=150 \n",
            "[CV]  max_depth=2, min_samples_leaf=1, min_samples_split=4, n_estimators=150, total=   3.3s\n",
            "[CV] max_depth=2, min_samples_leaf=1, min_samples_split=4, n_estimators=150 \n",
            "[CV]  max_depth=2, min_samples_leaf=1, min_samples_split=4, n_estimators=150, total=   3.3s\n",
            "[CV] max_depth=2, min_samples_leaf=1, min_samples_split=6, n_estimators=50 \n",
            "[CV]  max_depth=2, min_samples_leaf=1, min_samples_split=6, n_estimators=50, total=   1.1s\n",
            "[CV] max_depth=2, min_samples_leaf=1, min_samples_split=6, n_estimators=50 \n",
            "[CV]  max_depth=2, min_samples_leaf=1, min_samples_split=6, n_estimators=50, total=   1.1s\n",
            "[CV] max_depth=2, min_samples_leaf=1, min_samples_split=6, n_estimators=100 \n",
            "[CV]  max_depth=2, min_samples_leaf=1, min_samples_split=6, n_estimators=100, total=   2.2s\n",
            "[CV] max_depth=2, min_samples_leaf=1, min_samples_split=6, n_estimators=100 \n",
            "[CV]  max_depth=2, min_samples_leaf=1, min_samples_split=6, n_estimators=100, total=   2.2s\n",
            "[CV] max_depth=2, min_samples_leaf=1, min_samples_split=6, n_estimators=150 \n",
            "[CV]  max_depth=2, min_samples_leaf=1, min_samples_split=6, n_estimators=150, total=   3.3s\n",
            "[CV] max_depth=2, min_samples_leaf=1, min_samples_split=6, n_estimators=150 \n",
            "[CV]  max_depth=2, min_samples_leaf=1, min_samples_split=6, n_estimators=150, total=   3.2s\n",
            "[CV] max_depth=2, min_samples_leaf=2, min_samples_split=2, n_estimators=50 \n",
            "[CV]  max_depth=2, min_samples_leaf=2, min_samples_split=2, n_estimators=50, total=   1.1s\n",
            "[CV] max_depth=2, min_samples_leaf=2, min_samples_split=2, n_estimators=50 \n",
            "[CV]  max_depth=2, min_samples_leaf=2, min_samples_split=2, n_estimators=50, total=   1.1s\n",
            "[CV] max_depth=2, min_samples_leaf=2, min_samples_split=2, n_estimators=100 \n",
            "[CV]  max_depth=2, min_samples_leaf=2, min_samples_split=2, n_estimators=100, total=   2.2s\n",
            "[CV] max_depth=2, min_samples_leaf=2, min_samples_split=2, n_estimators=100 \n",
            "[CV]  max_depth=2, min_samples_leaf=2, min_samples_split=2, n_estimators=100, total=   2.2s\n",
            "[CV] max_depth=2, min_samples_leaf=2, min_samples_split=2, n_estimators=150 \n",
            "[CV]  max_depth=2, min_samples_leaf=2, min_samples_split=2, n_estimators=150, total=   3.3s\n",
            "[CV] max_depth=2, min_samples_leaf=2, min_samples_split=2, n_estimators=150 \n",
            "[CV]  max_depth=2, min_samples_leaf=2, min_samples_split=2, n_estimators=150, total=   3.3s\n",
            "[CV] max_depth=2, min_samples_leaf=2, min_samples_split=4, n_estimators=50 \n",
            "[CV]  max_depth=2, min_samples_leaf=2, min_samples_split=4, n_estimators=50, total=   1.1s\n",
            "[CV] max_depth=2, min_samples_leaf=2, min_samples_split=4, n_estimators=50 \n",
            "[CV]  max_depth=2, min_samples_leaf=2, min_samples_split=4, n_estimators=50, total=   1.1s\n",
            "[CV] max_depth=2, min_samples_leaf=2, min_samples_split=4, n_estimators=100 \n",
            "[CV]  max_depth=2, min_samples_leaf=2, min_samples_split=4, n_estimators=100, total=   2.2s\n",
            "[CV] max_depth=2, min_samples_leaf=2, min_samples_split=4, n_estimators=100 \n",
            "[CV]  max_depth=2, min_samples_leaf=2, min_samples_split=4, n_estimators=100, total=   2.2s\n",
            "[CV] max_depth=2, min_samples_leaf=2, min_samples_split=4, n_estimators=150 \n",
            "[CV]  max_depth=2, min_samples_leaf=2, min_samples_split=4, n_estimators=150, total=   3.3s\n",
            "[CV] max_depth=2, min_samples_leaf=2, min_samples_split=4, n_estimators=150 \n",
            "[CV]  max_depth=2, min_samples_leaf=2, min_samples_split=4, n_estimators=150, total=   3.3s\n",
            "[CV] max_depth=2, min_samples_leaf=2, min_samples_split=6, n_estimators=50 \n",
            "[CV]  max_depth=2, min_samples_leaf=2, min_samples_split=6, n_estimators=50, total=   1.1s\n",
            "[CV] max_depth=2, min_samples_leaf=2, min_samples_split=6, n_estimators=50 \n",
            "[CV]  max_depth=2, min_samples_leaf=2, min_samples_split=6, n_estimators=50, total=   1.1s\n",
            "[CV] max_depth=2, min_samples_leaf=2, min_samples_split=6, n_estimators=100 \n",
            "[CV]  max_depth=2, min_samples_leaf=2, min_samples_split=6, n_estimators=100, total=   2.2s\n",
            "[CV] max_depth=2, min_samples_leaf=2, min_samples_split=6, n_estimators=100 \n",
            "[CV]  max_depth=2, min_samples_leaf=2, min_samples_split=6, n_estimators=100, total=   2.2s\n",
            "[CV] max_depth=2, min_samples_leaf=2, min_samples_split=6, n_estimators=150 \n",
            "[CV]  max_depth=2, min_samples_leaf=2, min_samples_split=6, n_estimators=150, total=   3.3s\n",
            "[CV] max_depth=2, min_samples_leaf=2, min_samples_split=6, n_estimators=150 \n",
            "[CV]  max_depth=2, min_samples_leaf=2, min_samples_split=6, n_estimators=150, total=   3.2s\n",
            "[CV] max_depth=2, min_samples_leaf=3, min_samples_split=2, n_estimators=50 \n",
            "[CV]  max_depth=2, min_samples_leaf=3, min_samples_split=2, n_estimators=50, total=   1.1s\n",
            "[CV] max_depth=2, min_samples_leaf=3, min_samples_split=2, n_estimators=50 \n",
            "[CV]  max_depth=2, min_samples_leaf=3, min_samples_split=2, n_estimators=50, total=   1.1s\n",
            "[CV] max_depth=2, min_samples_leaf=3, min_samples_split=2, n_estimators=100 \n",
            "[CV]  max_depth=2, min_samples_leaf=3, min_samples_split=2, n_estimators=100, total=   2.3s\n",
            "[CV] max_depth=2, min_samples_leaf=3, min_samples_split=2, n_estimators=100 \n",
            "[CV]  max_depth=2, min_samples_leaf=3, min_samples_split=2, n_estimators=100, total=   2.2s\n",
            "[CV] max_depth=2, min_samples_leaf=3, min_samples_split=2, n_estimators=150 \n",
            "[CV]  max_depth=2, min_samples_leaf=3, min_samples_split=2, n_estimators=150, total=   3.3s\n",
            "[CV] max_depth=2, min_samples_leaf=3, min_samples_split=2, n_estimators=150 \n",
            "[CV]  max_depth=2, min_samples_leaf=3, min_samples_split=2, n_estimators=150, total=   3.2s\n",
            "[CV] max_depth=2, min_samples_leaf=3, min_samples_split=4, n_estimators=50 \n",
            "[CV]  max_depth=2, min_samples_leaf=3, min_samples_split=4, n_estimators=50, total=   1.1s\n",
            "[CV] max_depth=2, min_samples_leaf=3, min_samples_split=4, n_estimators=50 \n",
            "[CV]  max_depth=2, min_samples_leaf=3, min_samples_split=4, n_estimators=50, total=   1.1s\n",
            "[CV] max_depth=2, min_samples_leaf=3, min_samples_split=4, n_estimators=100 \n",
            "[CV]  max_depth=2, min_samples_leaf=3, min_samples_split=4, n_estimators=100, total=   2.2s\n",
            "[CV] max_depth=2, min_samples_leaf=3, min_samples_split=4, n_estimators=100 \n",
            "[CV]  max_depth=2, min_samples_leaf=3, min_samples_split=4, n_estimators=100, total=   2.2s\n",
            "[CV] max_depth=2, min_samples_leaf=3, min_samples_split=4, n_estimators=150 \n",
            "[CV]  max_depth=2, min_samples_leaf=3, min_samples_split=4, n_estimators=150, total=   3.2s\n",
            "[CV] max_depth=2, min_samples_leaf=3, min_samples_split=4, n_estimators=150 \n",
            "[CV]  max_depth=2, min_samples_leaf=3, min_samples_split=4, n_estimators=150, total=   3.2s\n",
            "[CV] max_depth=2, min_samples_leaf=3, min_samples_split=6, n_estimators=50 \n",
            "[CV]  max_depth=2, min_samples_leaf=3, min_samples_split=6, n_estimators=50, total=   1.1s\n",
            "[CV] max_depth=2, min_samples_leaf=3, min_samples_split=6, n_estimators=50 \n",
            "[CV]  max_depth=2, min_samples_leaf=3, min_samples_split=6, n_estimators=50, total=   1.1s\n",
            "[CV] max_depth=2, min_samples_leaf=3, min_samples_split=6, n_estimators=100 \n",
            "[CV]  max_depth=2, min_samples_leaf=3, min_samples_split=6, n_estimators=100, total=   2.2s\n",
            "[CV] max_depth=2, min_samples_leaf=3, min_samples_split=6, n_estimators=100 \n",
            "[CV]  max_depth=2, min_samples_leaf=3, min_samples_split=6, n_estimators=100, total=   2.2s\n",
            "[CV] max_depth=2, min_samples_leaf=3, min_samples_split=6, n_estimators=150 \n",
            "[CV]  max_depth=2, min_samples_leaf=3, min_samples_split=6, n_estimators=150, total=   3.3s\n",
            "[CV] max_depth=2, min_samples_leaf=3, min_samples_split=6, n_estimators=150 \n",
            "[CV]  max_depth=2, min_samples_leaf=3, min_samples_split=6, n_estimators=150, total=   3.2s\n",
            "[CV] max_depth=2, min_samples_leaf=4, min_samples_split=2, n_estimators=50 \n",
            "[CV]  max_depth=2, min_samples_leaf=4, min_samples_split=2, n_estimators=50, total=   1.1s\n",
            "[CV] max_depth=2, min_samples_leaf=4, min_samples_split=2, n_estimators=50 \n",
            "[CV]  max_depth=2, min_samples_leaf=4, min_samples_split=2, n_estimators=50, total=   1.1s\n",
            "[CV] max_depth=2, min_samples_leaf=4, min_samples_split=2, n_estimators=100 \n",
            "[CV]  max_depth=2, min_samples_leaf=4, min_samples_split=2, n_estimators=100, total=   2.2s\n",
            "[CV] max_depth=2, min_samples_leaf=4, min_samples_split=2, n_estimators=100 \n",
            "[CV]  max_depth=2, min_samples_leaf=4, min_samples_split=2, n_estimators=100, total=   2.2s\n",
            "[CV] max_depth=2, min_samples_leaf=4, min_samples_split=2, n_estimators=150 \n",
            "[CV]  max_depth=2, min_samples_leaf=4, min_samples_split=2, n_estimators=150, total=   3.3s\n",
            "[CV] max_depth=2, min_samples_leaf=4, min_samples_split=2, n_estimators=150 \n",
            "[CV]  max_depth=2, min_samples_leaf=4, min_samples_split=2, n_estimators=150, total=   3.2s\n",
            "[CV] max_depth=2, min_samples_leaf=4, min_samples_split=4, n_estimators=50 \n",
            "[CV]  max_depth=2, min_samples_leaf=4, min_samples_split=4, n_estimators=50, total=   1.1s\n",
            "[CV] max_depth=2, min_samples_leaf=4, min_samples_split=4, n_estimators=50 \n",
            "[CV]  max_depth=2, min_samples_leaf=4, min_samples_split=4, n_estimators=50, total=   1.1s\n",
            "[CV] max_depth=2, min_samples_leaf=4, min_samples_split=4, n_estimators=100 \n",
            "[CV]  max_depth=2, min_samples_leaf=4, min_samples_split=4, n_estimators=100, total=   2.2s\n",
            "[CV] max_depth=2, min_samples_leaf=4, min_samples_split=4, n_estimators=100 \n",
            "[CV]  max_depth=2, min_samples_leaf=4, min_samples_split=4, n_estimators=100, total=   2.2s\n",
            "[CV] max_depth=2, min_samples_leaf=4, min_samples_split=4, n_estimators=150 \n",
            "[CV]  max_depth=2, min_samples_leaf=4, min_samples_split=4, n_estimators=150, total=   3.3s\n",
            "[CV] max_depth=2, min_samples_leaf=4, min_samples_split=4, n_estimators=150 \n",
            "[CV]  max_depth=2, min_samples_leaf=4, min_samples_split=4, n_estimators=150, total=   3.3s\n",
            "[CV] max_depth=2, min_samples_leaf=4, min_samples_split=6, n_estimators=50 \n",
            "[CV]  max_depth=2, min_samples_leaf=4, min_samples_split=6, n_estimators=50, total=   1.1s\n",
            "[CV] max_depth=2, min_samples_leaf=4, min_samples_split=6, n_estimators=50 \n",
            "[CV]  max_depth=2, min_samples_leaf=4, min_samples_split=6, n_estimators=50, total=   1.1s\n",
            "[CV] max_depth=2, min_samples_leaf=4, min_samples_split=6, n_estimators=100 \n",
            "[CV]  max_depth=2, min_samples_leaf=4, min_samples_split=6, n_estimators=100, total=   2.2s\n",
            "[CV] max_depth=2, min_samples_leaf=4, min_samples_split=6, n_estimators=100 \n",
            "[CV]  max_depth=2, min_samples_leaf=4, min_samples_split=6, n_estimators=100, total=   2.2s\n",
            "[CV] max_depth=2, min_samples_leaf=4, min_samples_split=6, n_estimators=150 \n",
            "[CV]  max_depth=2, min_samples_leaf=4, min_samples_split=6, n_estimators=150, total=   3.3s\n",
            "[CV] max_depth=2, min_samples_leaf=4, min_samples_split=6, n_estimators=150 \n",
            "[CV]  max_depth=2, min_samples_leaf=4, min_samples_split=6, n_estimators=150, total=   3.3s\n",
            "[CV] max_depth=4, min_samples_leaf=1, min_samples_split=2, n_estimators=50 \n",
            "[CV]  max_depth=4, min_samples_leaf=1, min_samples_split=2, n_estimators=50, total=   1.9s\n",
            "[CV] max_depth=4, min_samples_leaf=1, min_samples_split=2, n_estimators=50 \n",
            "[CV]  max_depth=4, min_samples_leaf=1, min_samples_split=2, n_estimators=50, total=   1.9s\n",
            "[CV] max_depth=4, min_samples_leaf=1, min_samples_split=2, n_estimators=100 \n",
            "[CV]  max_depth=4, min_samples_leaf=1, min_samples_split=2, n_estimators=100, total=   3.7s\n",
            "[CV] max_depth=4, min_samples_leaf=1, min_samples_split=2, n_estimators=100 \n",
            "[CV]  max_depth=4, min_samples_leaf=1, min_samples_split=2, n_estimators=100, total=   3.7s\n",
            "[CV] max_depth=4, min_samples_leaf=1, min_samples_split=2, n_estimators=150 \n",
            "[CV]  max_depth=4, min_samples_leaf=1, min_samples_split=2, n_estimators=150, total=   5.5s\n",
            "[CV] max_depth=4, min_samples_leaf=1, min_samples_split=2, n_estimators=150 \n",
            "[CV]  max_depth=4, min_samples_leaf=1, min_samples_split=2, n_estimators=150, total=   5.5s\n",
            "[CV] max_depth=4, min_samples_leaf=1, min_samples_split=4, n_estimators=50 \n",
            "[CV]  max_depth=4, min_samples_leaf=1, min_samples_split=4, n_estimators=50, total=   1.8s\n",
            "[CV] max_depth=4, min_samples_leaf=1, min_samples_split=4, n_estimators=50 \n",
            "[CV]  max_depth=4, min_samples_leaf=1, min_samples_split=4, n_estimators=50, total=   1.9s\n",
            "[CV] max_depth=4, min_samples_leaf=1, min_samples_split=4, n_estimators=100 \n",
            "[CV]  max_depth=4, min_samples_leaf=1, min_samples_split=4, n_estimators=100, total=   3.7s\n",
            "[CV] max_depth=4, min_samples_leaf=1, min_samples_split=4, n_estimators=100 \n",
            "[CV]  max_depth=4, min_samples_leaf=1, min_samples_split=4, n_estimators=100, total=   3.7s\n",
            "[CV] max_depth=4, min_samples_leaf=1, min_samples_split=4, n_estimators=150 \n",
            "[CV]  max_depth=4, min_samples_leaf=1, min_samples_split=4, n_estimators=150, total=   5.5s\n",
            "[CV] max_depth=4, min_samples_leaf=1, min_samples_split=4, n_estimators=150 \n",
            "[CV]  max_depth=4, min_samples_leaf=1, min_samples_split=4, n_estimators=150, total=   5.6s\n",
            "[CV] max_depth=4, min_samples_leaf=1, min_samples_split=6, n_estimators=50 \n",
            "[CV]  max_depth=4, min_samples_leaf=1, min_samples_split=6, n_estimators=50, total=   1.9s\n",
            "[CV] max_depth=4, min_samples_leaf=1, min_samples_split=6, n_estimators=50 \n",
            "[CV]  max_depth=4, min_samples_leaf=1, min_samples_split=6, n_estimators=50, total=   1.9s\n",
            "[CV] max_depth=4, min_samples_leaf=1, min_samples_split=6, n_estimators=100 \n",
            "[CV]  max_depth=4, min_samples_leaf=1, min_samples_split=6, n_estimators=100, total=   3.7s\n",
            "[CV] max_depth=4, min_samples_leaf=1, min_samples_split=6, n_estimators=100 \n",
            "[CV]  max_depth=4, min_samples_leaf=1, min_samples_split=6, n_estimators=100, total=   3.7s\n",
            "[CV] max_depth=4, min_samples_leaf=1, min_samples_split=6, n_estimators=150 \n",
            "[CV]  max_depth=4, min_samples_leaf=1, min_samples_split=6, n_estimators=150, total=   5.5s\n",
            "[CV] max_depth=4, min_samples_leaf=1, min_samples_split=6, n_estimators=150 \n",
            "[CV]  max_depth=4, min_samples_leaf=1, min_samples_split=6, n_estimators=150, total=   5.6s\n",
            "[CV] max_depth=4, min_samples_leaf=2, min_samples_split=2, n_estimators=50 \n",
            "[CV]  max_depth=4, min_samples_leaf=2, min_samples_split=2, n_estimators=50, total=   1.8s\n",
            "[CV] max_depth=4, min_samples_leaf=2, min_samples_split=2, n_estimators=50 \n",
            "[CV]  max_depth=4, min_samples_leaf=2, min_samples_split=2, n_estimators=50, total=   1.9s\n",
            "[CV] max_depth=4, min_samples_leaf=2, min_samples_split=2, n_estimators=100 \n",
            "[CV]  max_depth=4, min_samples_leaf=2, min_samples_split=2, n_estimators=100, total=   3.8s\n",
            "[CV] max_depth=4, min_samples_leaf=2, min_samples_split=2, n_estimators=100 \n",
            "[CV]  max_depth=4, min_samples_leaf=2, min_samples_split=2, n_estimators=100, total=   3.7s\n",
            "[CV] max_depth=4, min_samples_leaf=2, min_samples_split=2, n_estimators=150 \n",
            "[CV]  max_depth=4, min_samples_leaf=2, min_samples_split=2, n_estimators=150, total=   5.5s\n",
            "[CV] max_depth=4, min_samples_leaf=2, min_samples_split=2, n_estimators=150 \n",
            "[CV]  max_depth=4, min_samples_leaf=2, min_samples_split=2, n_estimators=150, total=   5.5s\n",
            "[CV] max_depth=4, min_samples_leaf=2, min_samples_split=4, n_estimators=50 \n",
            "[CV]  max_depth=4, min_samples_leaf=2, min_samples_split=4, n_estimators=50, total=   1.8s\n",
            "[CV] max_depth=4, min_samples_leaf=2, min_samples_split=4, n_estimators=50 \n",
            "[CV]  max_depth=4, min_samples_leaf=2, min_samples_split=4, n_estimators=50, total=   1.9s\n",
            "[CV] max_depth=4, min_samples_leaf=2, min_samples_split=4, n_estimators=100 \n",
            "[CV]  max_depth=4, min_samples_leaf=2, min_samples_split=4, n_estimators=100, total=   3.7s\n",
            "[CV] max_depth=4, min_samples_leaf=2, min_samples_split=4, n_estimators=100 \n",
            "[CV]  max_depth=4, min_samples_leaf=2, min_samples_split=4, n_estimators=100, total=   3.7s\n",
            "[CV] max_depth=4, min_samples_leaf=2, min_samples_split=4, n_estimators=150 \n",
            "[CV]  max_depth=4, min_samples_leaf=2, min_samples_split=4, n_estimators=150, total=   5.6s\n",
            "[CV] max_depth=4, min_samples_leaf=2, min_samples_split=4, n_estimators=150 \n",
            "[CV]  max_depth=4, min_samples_leaf=2, min_samples_split=4, n_estimators=150, total=   5.5s\n",
            "[CV] max_depth=4, min_samples_leaf=2, min_samples_split=6, n_estimators=50 \n",
            "[CV]  max_depth=4, min_samples_leaf=2, min_samples_split=6, n_estimators=50, total=   1.9s\n",
            "[CV] max_depth=4, min_samples_leaf=2, min_samples_split=6, n_estimators=50 \n",
            "[CV]  max_depth=4, min_samples_leaf=2, min_samples_split=6, n_estimators=50, total=   1.9s\n",
            "[CV] max_depth=4, min_samples_leaf=2, min_samples_split=6, n_estimators=100 \n",
            "[CV]  max_depth=4, min_samples_leaf=2, min_samples_split=6, n_estimators=100, total=   3.7s\n",
            "[CV] max_depth=4, min_samples_leaf=2, min_samples_split=6, n_estimators=100 \n",
            "[CV]  max_depth=4, min_samples_leaf=2, min_samples_split=6, n_estimators=100, total=   3.7s\n",
            "[CV] max_depth=4, min_samples_leaf=2, min_samples_split=6, n_estimators=150 \n",
            "[CV]  max_depth=4, min_samples_leaf=2, min_samples_split=6, n_estimators=150, total=   5.6s\n",
            "[CV] max_depth=4, min_samples_leaf=2, min_samples_split=6, n_estimators=150 \n",
            "[CV]  max_depth=4, min_samples_leaf=2, min_samples_split=6, n_estimators=150, total=   5.6s\n",
            "[CV] max_depth=4, min_samples_leaf=3, min_samples_split=2, n_estimators=50 \n",
            "[CV]  max_depth=4, min_samples_leaf=3, min_samples_split=2, n_estimators=50, total=   1.9s\n",
            "[CV] max_depth=4, min_samples_leaf=3, min_samples_split=2, n_estimators=50 \n",
            "[CV]  max_depth=4, min_samples_leaf=3, min_samples_split=2, n_estimators=50, total=   1.9s\n",
            "[CV] max_depth=4, min_samples_leaf=3, min_samples_split=2, n_estimators=100 \n",
            "[CV]  max_depth=4, min_samples_leaf=3, min_samples_split=2, n_estimators=100, total=   3.7s\n",
            "[CV] max_depth=4, min_samples_leaf=3, min_samples_split=2, n_estimators=100 \n",
            "[CV]  max_depth=4, min_samples_leaf=3, min_samples_split=2, n_estimators=100, total=   3.7s\n",
            "[CV] max_depth=4, min_samples_leaf=3, min_samples_split=2, n_estimators=150 \n",
            "[CV]  max_depth=4, min_samples_leaf=3, min_samples_split=2, n_estimators=150, total=   5.5s\n",
            "[CV] max_depth=4, min_samples_leaf=3, min_samples_split=2, n_estimators=150 \n",
            "[CV]  max_depth=4, min_samples_leaf=3, min_samples_split=2, n_estimators=150, total=   5.6s\n",
            "[CV] max_depth=4, min_samples_leaf=3, min_samples_split=4, n_estimators=50 \n",
            "[CV]  max_depth=4, min_samples_leaf=3, min_samples_split=4, n_estimators=50, total=   1.9s\n",
            "[CV] max_depth=4, min_samples_leaf=3, min_samples_split=4, n_estimators=50 \n",
            "[CV]  max_depth=4, min_samples_leaf=3, min_samples_split=4, n_estimators=50, total=   1.9s\n",
            "[CV] max_depth=4, min_samples_leaf=3, min_samples_split=4, n_estimators=100 \n",
            "[CV]  max_depth=4, min_samples_leaf=3, min_samples_split=4, n_estimators=100, total=   3.7s\n",
            "[CV] max_depth=4, min_samples_leaf=3, min_samples_split=4, n_estimators=100 \n",
            "[CV]  max_depth=4, min_samples_leaf=3, min_samples_split=4, n_estimators=100, total=   3.8s\n",
            "[CV] max_depth=4, min_samples_leaf=3, min_samples_split=4, n_estimators=150 \n",
            "[CV]  max_depth=4, min_samples_leaf=3, min_samples_split=4, n_estimators=150, total=   5.5s\n",
            "[CV] max_depth=4, min_samples_leaf=3, min_samples_split=4, n_estimators=150 \n",
            "[CV]  max_depth=4, min_samples_leaf=3, min_samples_split=4, n_estimators=150, total=   5.6s\n",
            "[CV] max_depth=4, min_samples_leaf=3, min_samples_split=6, n_estimators=50 \n",
            "[CV]  max_depth=4, min_samples_leaf=3, min_samples_split=6, n_estimators=50, total=   1.9s\n",
            "[CV] max_depth=4, min_samples_leaf=3, min_samples_split=6, n_estimators=50 \n",
            "[CV]  max_depth=4, min_samples_leaf=3, min_samples_split=6, n_estimators=50, total=   1.9s\n",
            "[CV] max_depth=4, min_samples_leaf=3, min_samples_split=6, n_estimators=100 \n",
            "[CV]  max_depth=4, min_samples_leaf=3, min_samples_split=6, n_estimators=100, total=   3.8s\n",
            "[CV] max_depth=4, min_samples_leaf=3, min_samples_split=6, n_estimators=100 \n",
            "[CV]  max_depth=4, min_samples_leaf=3, min_samples_split=6, n_estimators=100, total=   3.7s\n",
            "[CV] max_depth=4, min_samples_leaf=3, min_samples_split=6, n_estimators=150 \n",
            "[CV]  max_depth=4, min_samples_leaf=3, min_samples_split=6, n_estimators=150, total=   5.5s\n",
            "[CV] max_depth=4, min_samples_leaf=3, min_samples_split=6, n_estimators=150 \n",
            "[CV]  max_depth=4, min_samples_leaf=3, min_samples_split=6, n_estimators=150, total=   5.6s\n",
            "[CV] max_depth=4, min_samples_leaf=4, min_samples_split=2, n_estimators=50 \n",
            "[CV]  max_depth=4, min_samples_leaf=4, min_samples_split=2, n_estimators=50, total=   1.9s\n",
            "[CV] max_depth=4, min_samples_leaf=4, min_samples_split=2, n_estimators=50 \n",
            "[CV]  max_depth=4, min_samples_leaf=4, min_samples_split=2, n_estimators=50, total=   1.8s\n",
            "[CV] max_depth=4, min_samples_leaf=4, min_samples_split=2, n_estimators=100 \n",
            "[CV]  max_depth=4, min_samples_leaf=4, min_samples_split=2, n_estimators=100, total=   3.7s\n",
            "[CV] max_depth=4, min_samples_leaf=4, min_samples_split=2, n_estimators=100 \n",
            "[CV]  max_depth=4, min_samples_leaf=4, min_samples_split=2, n_estimators=100, total=   3.7s\n",
            "[CV] max_depth=4, min_samples_leaf=4, min_samples_split=2, n_estimators=150 \n",
            "[CV]  max_depth=4, min_samples_leaf=4, min_samples_split=2, n_estimators=150, total=   5.6s\n",
            "[CV] max_depth=4, min_samples_leaf=4, min_samples_split=2, n_estimators=150 \n",
            "[CV]  max_depth=4, min_samples_leaf=4, min_samples_split=2, n_estimators=150, total=   5.5s\n",
            "[CV] max_depth=4, min_samples_leaf=4, min_samples_split=4, n_estimators=50 \n",
            "[CV]  max_depth=4, min_samples_leaf=4, min_samples_split=4, n_estimators=50, total=   1.9s\n",
            "[CV] max_depth=4, min_samples_leaf=4, min_samples_split=4, n_estimators=50 \n",
            "[CV]  max_depth=4, min_samples_leaf=4, min_samples_split=4, n_estimators=50, total=   1.9s\n",
            "[CV] max_depth=4, min_samples_leaf=4, min_samples_split=4, n_estimators=100 \n",
            "[CV]  max_depth=4, min_samples_leaf=4, min_samples_split=4, n_estimators=100, total=   3.7s\n",
            "[CV] max_depth=4, min_samples_leaf=4, min_samples_split=4, n_estimators=100 \n",
            "[CV]  max_depth=4, min_samples_leaf=4, min_samples_split=4, n_estimators=100, total=   3.7s\n",
            "[CV] max_depth=4, min_samples_leaf=4, min_samples_split=4, n_estimators=150 \n",
            "[CV]  max_depth=4, min_samples_leaf=4, min_samples_split=4, n_estimators=150, total=   5.5s\n",
            "[CV] max_depth=4, min_samples_leaf=4, min_samples_split=4, n_estimators=150 \n",
            "[CV]  max_depth=4, min_samples_leaf=4, min_samples_split=4, n_estimators=150, total=   5.5s\n",
            "[CV] max_depth=4, min_samples_leaf=4, min_samples_split=6, n_estimators=50 \n",
            "[CV]  max_depth=4, min_samples_leaf=4, min_samples_split=6, n_estimators=50, total=   1.9s\n",
            "[CV] max_depth=4, min_samples_leaf=4, min_samples_split=6, n_estimators=50 \n",
            "[CV]  max_depth=4, min_samples_leaf=4, min_samples_split=6, n_estimators=50, total=   1.9s\n",
            "[CV] max_depth=4, min_samples_leaf=4, min_samples_split=6, n_estimators=100 \n",
            "[CV]  max_depth=4, min_samples_leaf=4, min_samples_split=6, n_estimators=100, total=   3.7s\n",
            "[CV] max_depth=4, min_samples_leaf=4, min_samples_split=6, n_estimators=100 \n",
            "[CV]  max_depth=4, min_samples_leaf=4, min_samples_split=6, n_estimators=100, total=   3.7s\n",
            "[CV] max_depth=4, min_samples_leaf=4, min_samples_split=6, n_estimators=150 \n",
            "[CV]  max_depth=4, min_samples_leaf=4, min_samples_split=6, n_estimators=150, total=   5.5s\n",
            "[CV] max_depth=4, min_samples_leaf=4, min_samples_split=6, n_estimators=150 \n",
            "[CV]  max_depth=4, min_samples_leaf=4, min_samples_split=6, n_estimators=150, total=   5.6s\n",
            "[CV] max_depth=6, min_samples_leaf=1, min_samples_split=2, n_estimators=50 \n",
            "[CV]  max_depth=6, min_samples_leaf=1, min_samples_split=2, n_estimators=50, total=   2.6s\n",
            "[CV] max_depth=6, min_samples_leaf=1, min_samples_split=2, n_estimators=50 \n",
            "[CV]  max_depth=6, min_samples_leaf=1, min_samples_split=2, n_estimators=50, total=   2.5s\n",
            "[CV] max_depth=6, min_samples_leaf=1, min_samples_split=2, n_estimators=100 \n",
            "[CV]  max_depth=6, min_samples_leaf=1, min_samples_split=2, n_estimators=100, total=   5.1s\n",
            "[CV] max_depth=6, min_samples_leaf=1, min_samples_split=2, n_estimators=100 \n",
            "[CV]  max_depth=6, min_samples_leaf=1, min_samples_split=2, n_estimators=100, total=   5.1s\n",
            "[CV] max_depth=6, min_samples_leaf=1, min_samples_split=2, n_estimators=150 \n",
            "[CV]  max_depth=6, min_samples_leaf=1, min_samples_split=2, n_estimators=150, total=   7.7s\n",
            "[CV] max_depth=6, min_samples_leaf=1, min_samples_split=2, n_estimators=150 \n",
            "[CV]  max_depth=6, min_samples_leaf=1, min_samples_split=2, n_estimators=150, total=   7.6s\n",
            "[CV] max_depth=6, min_samples_leaf=1, min_samples_split=4, n_estimators=50 \n",
            "[CV]  max_depth=6, min_samples_leaf=1, min_samples_split=4, n_estimators=50, total=   2.6s\n",
            "[CV] max_depth=6, min_samples_leaf=1, min_samples_split=4, n_estimators=50 \n",
            "[CV]  max_depth=6, min_samples_leaf=1, min_samples_split=4, n_estimators=50, total=   2.6s\n",
            "[CV] max_depth=6, min_samples_leaf=1, min_samples_split=4, n_estimators=100 \n",
            "[CV]  max_depth=6, min_samples_leaf=1, min_samples_split=4, n_estimators=100, total=   5.1s\n",
            "[CV] max_depth=6, min_samples_leaf=1, min_samples_split=4, n_estimators=100 \n",
            "[CV]  max_depth=6, min_samples_leaf=1, min_samples_split=4, n_estimators=100, total=   5.1s\n",
            "[CV] max_depth=6, min_samples_leaf=1, min_samples_split=4, n_estimators=150 \n",
            "[CV]  max_depth=6, min_samples_leaf=1, min_samples_split=4, n_estimators=150, total=   7.6s\n",
            "[CV] max_depth=6, min_samples_leaf=1, min_samples_split=4, n_estimators=150 \n",
            "[CV]  max_depth=6, min_samples_leaf=1, min_samples_split=4, n_estimators=150, total=   7.6s\n",
            "[CV] max_depth=6, min_samples_leaf=1, min_samples_split=6, n_estimators=50 \n",
            "[CV]  max_depth=6, min_samples_leaf=1, min_samples_split=6, n_estimators=50, total=   2.5s\n",
            "[CV] max_depth=6, min_samples_leaf=1, min_samples_split=6, n_estimators=50 \n",
            "[CV]  max_depth=6, min_samples_leaf=1, min_samples_split=6, n_estimators=50, total=   2.5s\n",
            "[CV] max_depth=6, min_samples_leaf=1, min_samples_split=6, n_estimators=100 \n",
            "[CV]  max_depth=6, min_samples_leaf=1, min_samples_split=6, n_estimators=100, total=   5.1s\n",
            "[CV] max_depth=6, min_samples_leaf=1, min_samples_split=6, n_estimators=100 \n",
            "[CV]  max_depth=6, min_samples_leaf=1, min_samples_split=6, n_estimators=100, total=   5.1s\n",
            "[CV] max_depth=6, min_samples_leaf=1, min_samples_split=6, n_estimators=150 \n",
            "[CV]  max_depth=6, min_samples_leaf=1, min_samples_split=6, n_estimators=150, total=   7.6s\n",
            "[CV] max_depth=6, min_samples_leaf=1, min_samples_split=6, n_estimators=150 \n",
            "[CV]  max_depth=6, min_samples_leaf=1, min_samples_split=6, n_estimators=150, total=   7.6s\n",
            "[CV] max_depth=6, min_samples_leaf=2, min_samples_split=2, n_estimators=50 \n",
            "[CV]  max_depth=6, min_samples_leaf=2, min_samples_split=2, n_estimators=50, total=   2.5s\n",
            "[CV] max_depth=6, min_samples_leaf=2, min_samples_split=2, n_estimators=50 \n",
            "[CV]  max_depth=6, min_samples_leaf=2, min_samples_split=2, n_estimators=50, total=   2.6s\n",
            "[CV] max_depth=6, min_samples_leaf=2, min_samples_split=2, n_estimators=100 \n",
            "[CV]  max_depth=6, min_samples_leaf=2, min_samples_split=2, n_estimators=100, total=   5.1s\n",
            "[CV] max_depth=6, min_samples_leaf=2, min_samples_split=2, n_estimators=100 \n",
            "[CV]  max_depth=6, min_samples_leaf=2, min_samples_split=2, n_estimators=100, total=   5.1s\n",
            "[CV] max_depth=6, min_samples_leaf=2, min_samples_split=2, n_estimators=150 \n",
            "[CV]  max_depth=6, min_samples_leaf=2, min_samples_split=2, n_estimators=150, total=   7.6s\n",
            "[CV] max_depth=6, min_samples_leaf=2, min_samples_split=2, n_estimators=150 \n",
            "[CV]  max_depth=6, min_samples_leaf=2, min_samples_split=2, n_estimators=150, total=   7.6s\n",
            "[CV] max_depth=6, min_samples_leaf=2, min_samples_split=4, n_estimators=50 \n",
            "[CV]  max_depth=6, min_samples_leaf=2, min_samples_split=4, n_estimators=50, total=   2.5s\n",
            "[CV] max_depth=6, min_samples_leaf=2, min_samples_split=4, n_estimators=50 \n",
            "[CV]  max_depth=6, min_samples_leaf=2, min_samples_split=4, n_estimators=50, total=   2.6s\n",
            "[CV] max_depth=6, min_samples_leaf=2, min_samples_split=4, n_estimators=100 \n",
            "[CV]  max_depth=6, min_samples_leaf=2, min_samples_split=4, n_estimators=100, total=   5.1s\n",
            "[CV] max_depth=6, min_samples_leaf=2, min_samples_split=4, n_estimators=100 \n",
            "[CV]  max_depth=6, min_samples_leaf=2, min_samples_split=4, n_estimators=100, total=   5.1s\n",
            "[CV] max_depth=6, min_samples_leaf=2, min_samples_split=4, n_estimators=150 \n",
            "[CV]  max_depth=6, min_samples_leaf=2, min_samples_split=4, n_estimators=150, total=   7.6s\n",
            "[CV] max_depth=6, min_samples_leaf=2, min_samples_split=4, n_estimators=150 \n",
            "[CV]  max_depth=6, min_samples_leaf=2, min_samples_split=4, n_estimators=150, total=   7.6s\n",
            "[CV] max_depth=6, min_samples_leaf=2, min_samples_split=6, n_estimators=50 \n",
            "[CV]  max_depth=6, min_samples_leaf=2, min_samples_split=6, n_estimators=50, total=   2.6s\n",
            "[CV] max_depth=6, min_samples_leaf=2, min_samples_split=6, n_estimators=50 \n",
            "[CV]  max_depth=6, min_samples_leaf=2, min_samples_split=6, n_estimators=50, total=   2.5s\n",
            "[CV] max_depth=6, min_samples_leaf=2, min_samples_split=6, n_estimators=100 \n",
            "[CV]  max_depth=6, min_samples_leaf=2, min_samples_split=6, n_estimators=100, total=   5.1s\n",
            "[CV] max_depth=6, min_samples_leaf=2, min_samples_split=6, n_estimators=100 \n",
            "[CV]  max_depth=6, min_samples_leaf=2, min_samples_split=6, n_estimators=100, total=   5.1s\n",
            "[CV] max_depth=6, min_samples_leaf=2, min_samples_split=6, n_estimators=150 \n",
            "[CV]  max_depth=6, min_samples_leaf=2, min_samples_split=6, n_estimators=150, total=   7.6s\n",
            "[CV] max_depth=6, min_samples_leaf=2, min_samples_split=6, n_estimators=150 \n",
            "[CV]  max_depth=6, min_samples_leaf=2, min_samples_split=6, n_estimators=150, total=   7.6s\n",
            "[CV] max_depth=6, min_samples_leaf=3, min_samples_split=2, n_estimators=50 \n",
            "[CV]  max_depth=6, min_samples_leaf=3, min_samples_split=2, n_estimators=50, total=   2.5s\n",
            "[CV] max_depth=6, min_samples_leaf=3, min_samples_split=2, n_estimators=50 \n",
            "[CV]  max_depth=6, min_samples_leaf=3, min_samples_split=2, n_estimators=50, total=   2.6s\n",
            "[CV] max_depth=6, min_samples_leaf=3, min_samples_split=2, n_estimators=100 \n",
            "[CV]  max_depth=6, min_samples_leaf=3, min_samples_split=2, n_estimators=100, total=   5.1s\n",
            "[CV] max_depth=6, min_samples_leaf=3, min_samples_split=2, n_estimators=100 \n",
            "[CV]  max_depth=6, min_samples_leaf=3, min_samples_split=2, n_estimators=100, total=   5.1s\n",
            "[CV] max_depth=6, min_samples_leaf=3, min_samples_split=2, n_estimators=150 \n",
            "[CV]  max_depth=6, min_samples_leaf=3, min_samples_split=2, n_estimators=150, total=   7.7s\n",
            "[CV] max_depth=6, min_samples_leaf=3, min_samples_split=2, n_estimators=150 \n",
            "[CV]  max_depth=6, min_samples_leaf=3, min_samples_split=2, n_estimators=150, total=   7.6s\n",
            "[CV] max_depth=6, min_samples_leaf=3, min_samples_split=4, n_estimators=50 \n",
            "[CV]  max_depth=6, min_samples_leaf=3, min_samples_split=4, n_estimators=50, total=   2.5s\n",
            "[CV] max_depth=6, min_samples_leaf=3, min_samples_split=4, n_estimators=50 \n",
            "[CV]  max_depth=6, min_samples_leaf=3, min_samples_split=4, n_estimators=50, total=   2.6s\n",
            "[CV] max_depth=6, min_samples_leaf=3, min_samples_split=4, n_estimators=100 \n",
            "[CV]  max_depth=6, min_samples_leaf=3, min_samples_split=4, n_estimators=100, total=   5.1s\n",
            "[CV] max_depth=6, min_samples_leaf=3, min_samples_split=4, n_estimators=100 \n",
            "[CV]  max_depth=6, min_samples_leaf=3, min_samples_split=4, n_estimators=100, total=   5.1s\n",
            "[CV] max_depth=6, min_samples_leaf=3, min_samples_split=4, n_estimators=150 \n",
            "[CV]  max_depth=6, min_samples_leaf=3, min_samples_split=4, n_estimators=150, total=   7.7s\n",
            "[CV] max_depth=6, min_samples_leaf=3, min_samples_split=4, n_estimators=150 \n",
            "[CV]  max_depth=6, min_samples_leaf=3, min_samples_split=4, n_estimators=150, total=   7.6s\n",
            "[CV] max_depth=6, min_samples_leaf=3, min_samples_split=6, n_estimators=50 \n",
            "[CV]  max_depth=6, min_samples_leaf=3, min_samples_split=6, n_estimators=50, total=   2.5s\n",
            "[CV] max_depth=6, min_samples_leaf=3, min_samples_split=6, n_estimators=50 \n",
            "[CV]  max_depth=6, min_samples_leaf=3, min_samples_split=6, n_estimators=50, total=   2.6s\n",
            "[CV] max_depth=6, min_samples_leaf=3, min_samples_split=6, n_estimators=100 \n",
            "[CV]  max_depth=6, min_samples_leaf=3, min_samples_split=6, n_estimators=100, total=   5.1s\n",
            "[CV] max_depth=6, min_samples_leaf=3, min_samples_split=6, n_estimators=100 \n",
            "[CV]  max_depth=6, min_samples_leaf=3, min_samples_split=6, n_estimators=100, total=   5.1s\n",
            "[CV] max_depth=6, min_samples_leaf=3, min_samples_split=6, n_estimators=150 \n",
            "[CV]  max_depth=6, min_samples_leaf=3, min_samples_split=6, n_estimators=150, total=   7.7s\n",
            "[CV] max_depth=6, min_samples_leaf=3, min_samples_split=6, n_estimators=150 \n",
            "[CV]  max_depth=6, min_samples_leaf=3, min_samples_split=6, n_estimators=150, total=   7.6s\n",
            "[CV] max_depth=6, min_samples_leaf=4, min_samples_split=2, n_estimators=50 \n",
            "[CV]  max_depth=6, min_samples_leaf=4, min_samples_split=2, n_estimators=50, total=   2.5s\n",
            "[CV] max_depth=6, min_samples_leaf=4, min_samples_split=2, n_estimators=50 \n",
            "[CV]  max_depth=6, min_samples_leaf=4, min_samples_split=2, n_estimators=50, total=   2.6s\n",
            "[CV] max_depth=6, min_samples_leaf=4, min_samples_split=2, n_estimators=100 \n",
            "[CV]  max_depth=6, min_samples_leaf=4, min_samples_split=2, n_estimators=100, total=   5.1s\n",
            "[CV] max_depth=6, min_samples_leaf=4, min_samples_split=2, n_estimators=100 \n",
            "[CV]  max_depth=6, min_samples_leaf=4, min_samples_split=2, n_estimators=100, total=   5.1s\n",
            "[CV] max_depth=6, min_samples_leaf=4, min_samples_split=2, n_estimators=150 \n",
            "[CV]  max_depth=6, min_samples_leaf=4, min_samples_split=2, n_estimators=150, total=   7.6s\n",
            "[CV] max_depth=6, min_samples_leaf=4, min_samples_split=2, n_estimators=150 \n",
            "[CV]  max_depth=6, min_samples_leaf=4, min_samples_split=2, n_estimators=150, total=   7.6s\n",
            "[CV] max_depth=6, min_samples_leaf=4, min_samples_split=4, n_estimators=50 \n",
            "[CV]  max_depth=6, min_samples_leaf=4, min_samples_split=4, n_estimators=50, total=   2.5s\n",
            "[CV] max_depth=6, min_samples_leaf=4, min_samples_split=4, n_estimators=50 \n",
            "[CV]  max_depth=6, min_samples_leaf=4, min_samples_split=4, n_estimators=50, total=   2.5s\n",
            "[CV] max_depth=6, min_samples_leaf=4, min_samples_split=4, n_estimators=100 \n",
            "[CV]  max_depth=6, min_samples_leaf=4, min_samples_split=4, n_estimators=100, total=   5.1s\n",
            "[CV] max_depth=6, min_samples_leaf=4, min_samples_split=4, n_estimators=100 \n",
            "[CV]  max_depth=6, min_samples_leaf=4, min_samples_split=4, n_estimators=100, total=   5.1s\n",
            "[CV] max_depth=6, min_samples_leaf=4, min_samples_split=4, n_estimators=150 \n",
            "[CV]  max_depth=6, min_samples_leaf=4, min_samples_split=4, n_estimators=150, total=   7.6s\n",
            "[CV] max_depth=6, min_samples_leaf=4, min_samples_split=4, n_estimators=150 \n",
            "[CV]  max_depth=6, min_samples_leaf=4, min_samples_split=4, n_estimators=150, total=   7.6s\n",
            "[CV] max_depth=6, min_samples_leaf=4, min_samples_split=6, n_estimators=50 \n",
            "[CV]  max_depth=6, min_samples_leaf=4, min_samples_split=6, n_estimators=50, total=   2.5s\n",
            "[CV] max_depth=6, min_samples_leaf=4, min_samples_split=6, n_estimators=50 \n",
            "[CV]  max_depth=6, min_samples_leaf=4, min_samples_split=6, n_estimators=50, total=   2.5s\n",
            "[CV] max_depth=6, min_samples_leaf=4, min_samples_split=6, n_estimators=100 \n",
            "[CV]  max_depth=6, min_samples_leaf=4, min_samples_split=6, n_estimators=100, total=   5.1s\n",
            "[CV] max_depth=6, min_samples_leaf=4, min_samples_split=6, n_estimators=100 \n",
            "[CV]  max_depth=6, min_samples_leaf=4, min_samples_split=6, n_estimators=100, total=   5.1s\n",
            "[CV] max_depth=6, min_samples_leaf=4, min_samples_split=6, n_estimators=150 \n",
            "[CV]  max_depth=6, min_samples_leaf=4, min_samples_split=6, n_estimators=150, total=   7.6s\n",
            "[CV] max_depth=6, min_samples_leaf=4, min_samples_split=6, n_estimators=150 \n",
            "[CV]  max_depth=6, min_samples_leaf=4, min_samples_split=6, n_estimators=150, total=   7.6s\n",
            "[CV] max_depth=8, min_samples_leaf=1, min_samples_split=2, n_estimators=50 \n",
            "[CV]  max_depth=8, min_samples_leaf=1, min_samples_split=2, n_estimators=50, total=   3.2s\n",
            "[CV] max_depth=8, min_samples_leaf=1, min_samples_split=2, n_estimators=50 \n",
            "[CV]  max_depth=8, min_samples_leaf=1, min_samples_split=2, n_estimators=50, total=   3.2s\n",
            "[CV] max_depth=8, min_samples_leaf=1, min_samples_split=2, n_estimators=100 \n",
            "[CV]  max_depth=8, min_samples_leaf=1, min_samples_split=2, n_estimators=100, total=   6.3s\n",
            "[CV] max_depth=8, min_samples_leaf=1, min_samples_split=2, n_estimators=100 \n",
            "[CV]  max_depth=8, min_samples_leaf=1, min_samples_split=2, n_estimators=100, total=   6.4s\n",
            "[CV] max_depth=8, min_samples_leaf=1, min_samples_split=2, n_estimators=150 \n",
            "[CV]  max_depth=8, min_samples_leaf=1, min_samples_split=2, n_estimators=150, total=   9.5s\n",
            "[CV] max_depth=8, min_samples_leaf=1, min_samples_split=2, n_estimators=150 \n",
            "[CV]  max_depth=8, min_samples_leaf=1, min_samples_split=2, n_estimators=150, total=   9.5s\n",
            "[CV] max_depth=8, min_samples_leaf=1, min_samples_split=4, n_estimators=50 \n",
            "[CV]  max_depth=8, min_samples_leaf=1, min_samples_split=4, n_estimators=50, total=   3.2s\n",
            "[CV] max_depth=8, min_samples_leaf=1, min_samples_split=4, n_estimators=50 \n",
            "[CV]  max_depth=8, min_samples_leaf=1, min_samples_split=4, n_estimators=50, total=   3.2s\n",
            "[CV] max_depth=8, min_samples_leaf=1, min_samples_split=4, n_estimators=100 \n",
            "[CV]  max_depth=8, min_samples_leaf=1, min_samples_split=4, n_estimators=100, total=   6.3s\n",
            "[CV] max_depth=8, min_samples_leaf=1, min_samples_split=4, n_estimators=100 \n",
            "[CV]  max_depth=8, min_samples_leaf=1, min_samples_split=4, n_estimators=100, total=   6.4s\n",
            "[CV] max_depth=8, min_samples_leaf=1, min_samples_split=4, n_estimators=150 \n",
            "[CV]  max_depth=8, min_samples_leaf=1, min_samples_split=4, n_estimators=150, total=   9.5s\n",
            "[CV] max_depth=8, min_samples_leaf=1, min_samples_split=4, n_estimators=150 \n",
            "[CV]  max_depth=8, min_samples_leaf=1, min_samples_split=4, n_estimators=150, total=   9.5s\n",
            "[CV] max_depth=8, min_samples_leaf=1, min_samples_split=6, n_estimators=50 \n",
            "[CV]  max_depth=8, min_samples_leaf=1, min_samples_split=6, n_estimators=50, total=   3.2s\n",
            "[CV] max_depth=8, min_samples_leaf=1, min_samples_split=6, n_estimators=50 \n",
            "[CV]  max_depth=8, min_samples_leaf=1, min_samples_split=6, n_estimators=50, total=   3.2s\n",
            "[CV] max_depth=8, min_samples_leaf=1, min_samples_split=6, n_estimators=100 \n",
            "[CV]  max_depth=8, min_samples_leaf=1, min_samples_split=6, n_estimators=100, total=   6.3s\n",
            "[CV] max_depth=8, min_samples_leaf=1, min_samples_split=6, n_estimators=100 \n",
            "[CV]  max_depth=8, min_samples_leaf=1, min_samples_split=6, n_estimators=100, total=   6.4s\n",
            "[CV] max_depth=8, min_samples_leaf=1, min_samples_split=6, n_estimators=150 \n",
            "[CV]  max_depth=8, min_samples_leaf=1, min_samples_split=6, n_estimators=150, total=   9.5s\n",
            "[CV] max_depth=8, min_samples_leaf=1, min_samples_split=6, n_estimators=150 \n",
            "[CV]  max_depth=8, min_samples_leaf=1, min_samples_split=6, n_estimators=150, total=   9.5s\n",
            "[CV] max_depth=8, min_samples_leaf=2, min_samples_split=2, n_estimators=50 \n",
            "[CV]  max_depth=8, min_samples_leaf=2, min_samples_split=2, n_estimators=50, total=   3.2s\n",
            "[CV] max_depth=8, min_samples_leaf=2, min_samples_split=2, n_estimators=50 \n",
            "[CV]  max_depth=8, min_samples_leaf=2, min_samples_split=2, n_estimators=50, total=   3.2s\n",
            "[CV] max_depth=8, min_samples_leaf=2, min_samples_split=2, n_estimators=100 \n",
            "[CV]  max_depth=8, min_samples_leaf=2, min_samples_split=2, n_estimators=100, total=   6.3s\n",
            "[CV] max_depth=8, min_samples_leaf=2, min_samples_split=2, n_estimators=100 \n",
            "[CV]  max_depth=8, min_samples_leaf=2, min_samples_split=2, n_estimators=100, total=   6.3s\n",
            "[CV] max_depth=8, min_samples_leaf=2, min_samples_split=2, n_estimators=150 \n",
            "[CV]  max_depth=8, min_samples_leaf=2, min_samples_split=2, n_estimators=150, total=   9.5s\n",
            "[CV] max_depth=8, min_samples_leaf=2, min_samples_split=2, n_estimators=150 \n",
            "[CV]  max_depth=8, min_samples_leaf=2, min_samples_split=2, n_estimators=150, total=   9.4s\n",
            "[CV] max_depth=8, min_samples_leaf=2, min_samples_split=4, n_estimators=50 \n",
            "[CV]  max_depth=8, min_samples_leaf=2, min_samples_split=4, n_estimators=50, total=   3.2s\n",
            "[CV] max_depth=8, min_samples_leaf=2, min_samples_split=4, n_estimators=50 \n",
            "[CV]  max_depth=8, min_samples_leaf=2, min_samples_split=4, n_estimators=50, total=   3.2s\n",
            "[CV] max_depth=8, min_samples_leaf=2, min_samples_split=4, n_estimators=100 \n",
            "[CV]  max_depth=8, min_samples_leaf=2, min_samples_split=4, n_estimators=100, total=   6.3s\n",
            "[CV] max_depth=8, min_samples_leaf=2, min_samples_split=4, n_estimators=100 \n",
            "[CV]  max_depth=8, min_samples_leaf=2, min_samples_split=4, n_estimators=100, total=   6.3s\n",
            "[CV] max_depth=8, min_samples_leaf=2, min_samples_split=4, n_estimators=150 \n",
            "[CV]  max_depth=8, min_samples_leaf=2, min_samples_split=4, n_estimators=150, total=   9.5s\n",
            "[CV] max_depth=8, min_samples_leaf=2, min_samples_split=4, n_estimators=150 \n",
            "[CV]  max_depth=8, min_samples_leaf=2, min_samples_split=4, n_estimators=150, total=   9.4s\n",
            "[CV] max_depth=8, min_samples_leaf=2, min_samples_split=6, n_estimators=50 \n",
            "[CV]  max_depth=8, min_samples_leaf=2, min_samples_split=6, n_estimators=50, total=   3.2s\n",
            "[CV] max_depth=8, min_samples_leaf=2, min_samples_split=6, n_estimators=50 \n",
            "[CV]  max_depth=8, min_samples_leaf=2, min_samples_split=6, n_estimators=50, total=   3.2s\n",
            "[CV] max_depth=8, min_samples_leaf=2, min_samples_split=6, n_estimators=100 \n",
            "[CV]  max_depth=8, min_samples_leaf=2, min_samples_split=6, n_estimators=100, total=   6.3s\n",
            "[CV] max_depth=8, min_samples_leaf=2, min_samples_split=6, n_estimators=100 \n",
            "[CV]  max_depth=8, min_samples_leaf=2, min_samples_split=6, n_estimators=100, total=   6.4s\n",
            "[CV] max_depth=8, min_samples_leaf=2, min_samples_split=6, n_estimators=150 \n",
            "[CV]  max_depth=8, min_samples_leaf=2, min_samples_split=6, n_estimators=150, total=   9.5s\n",
            "[CV] max_depth=8, min_samples_leaf=2, min_samples_split=6, n_estimators=150 \n",
            "[CV]  max_depth=8, min_samples_leaf=2, min_samples_split=6, n_estimators=150, total=   9.4s\n",
            "[CV] max_depth=8, min_samples_leaf=3, min_samples_split=2, n_estimators=50 \n",
            "[CV]  max_depth=8, min_samples_leaf=3, min_samples_split=2, n_estimators=50, total=   3.2s\n",
            "[CV] max_depth=8, min_samples_leaf=3, min_samples_split=2, n_estimators=50 \n",
            "[CV]  max_depth=8, min_samples_leaf=3, min_samples_split=2, n_estimators=50, total=   3.1s\n",
            "[CV] max_depth=8, min_samples_leaf=3, min_samples_split=2, n_estimators=100 \n",
            "[CV]  max_depth=8, min_samples_leaf=3, min_samples_split=2, n_estimators=100, total=   6.3s\n",
            "[CV] max_depth=8, min_samples_leaf=3, min_samples_split=2, n_estimators=100 \n",
            "[CV]  max_depth=8, min_samples_leaf=3, min_samples_split=2, n_estimators=100, total=   6.3s\n",
            "[CV] max_depth=8, min_samples_leaf=3, min_samples_split=2, n_estimators=150 \n",
            "[CV]  max_depth=8, min_samples_leaf=3, min_samples_split=2, n_estimators=150, total=   9.5s\n",
            "[CV] max_depth=8, min_samples_leaf=3, min_samples_split=2, n_estimators=150 \n",
            "[CV]  max_depth=8, min_samples_leaf=3, min_samples_split=2, n_estimators=150, total=   9.5s\n",
            "[CV] max_depth=8, min_samples_leaf=3, min_samples_split=4, n_estimators=50 \n",
            "[CV]  max_depth=8, min_samples_leaf=3, min_samples_split=4, n_estimators=50, total=   3.2s\n",
            "[CV] max_depth=8, min_samples_leaf=3, min_samples_split=4, n_estimators=50 \n",
            "[CV]  max_depth=8, min_samples_leaf=3, min_samples_split=4, n_estimators=50, total=   3.2s\n",
            "[CV] max_depth=8, min_samples_leaf=3, min_samples_split=4, n_estimators=100 \n",
            "[CV]  max_depth=8, min_samples_leaf=3, min_samples_split=4, n_estimators=100, total=   6.3s\n",
            "[CV] max_depth=8, min_samples_leaf=3, min_samples_split=4, n_estimators=100 \n",
            "[CV]  max_depth=8, min_samples_leaf=3, min_samples_split=4, n_estimators=100, total=   6.3s\n",
            "[CV] max_depth=8, min_samples_leaf=3, min_samples_split=4, n_estimators=150 \n",
            "[CV]  max_depth=8, min_samples_leaf=3, min_samples_split=4, n_estimators=150, total=   9.5s\n",
            "[CV] max_depth=8, min_samples_leaf=3, min_samples_split=4, n_estimators=150 \n",
            "[CV]  max_depth=8, min_samples_leaf=3, min_samples_split=4, n_estimators=150, total=   9.4s\n",
            "[CV] max_depth=8, min_samples_leaf=3, min_samples_split=6, n_estimators=50 \n",
            "[CV]  max_depth=8, min_samples_leaf=3, min_samples_split=6, n_estimators=50, total=   3.2s\n",
            "[CV] max_depth=8, min_samples_leaf=3, min_samples_split=6, n_estimators=50 \n",
            "[CV]  max_depth=8, min_samples_leaf=3, min_samples_split=6, n_estimators=50, total=   3.2s\n",
            "[CV] max_depth=8, min_samples_leaf=3, min_samples_split=6, n_estimators=100 \n",
            "[CV]  max_depth=8, min_samples_leaf=3, min_samples_split=6, n_estimators=100, total=   6.3s\n",
            "[CV] max_depth=8, min_samples_leaf=3, min_samples_split=6, n_estimators=100 \n",
            "[CV]  max_depth=8, min_samples_leaf=3, min_samples_split=6, n_estimators=100, total=   6.3s\n",
            "[CV] max_depth=8, min_samples_leaf=3, min_samples_split=6, n_estimators=150 \n",
            "[CV]  max_depth=8, min_samples_leaf=3, min_samples_split=6, n_estimators=150, total=   9.4s\n",
            "[CV] max_depth=8, min_samples_leaf=3, min_samples_split=6, n_estimators=150 \n",
            "[CV]  max_depth=8, min_samples_leaf=3, min_samples_split=6, n_estimators=150, total=   9.5s\n",
            "[CV] max_depth=8, min_samples_leaf=4, min_samples_split=2, n_estimators=50 \n",
            "[CV]  max_depth=8, min_samples_leaf=4, min_samples_split=2, n_estimators=50, total=   3.2s\n",
            "[CV] max_depth=8, min_samples_leaf=4, min_samples_split=2, n_estimators=50 \n",
            "[CV]  max_depth=8, min_samples_leaf=4, min_samples_split=2, n_estimators=50, total=   3.2s\n",
            "[CV] max_depth=8, min_samples_leaf=4, min_samples_split=2, n_estimators=100 \n",
            "[CV]  max_depth=8, min_samples_leaf=4, min_samples_split=2, n_estimators=100, total=   6.3s\n",
            "[CV] max_depth=8, min_samples_leaf=4, min_samples_split=2, n_estimators=100 \n",
            "[CV]  max_depth=8, min_samples_leaf=4, min_samples_split=2, n_estimators=100, total=   6.3s\n",
            "[CV] max_depth=8, min_samples_leaf=4, min_samples_split=2, n_estimators=150 \n",
            "[CV]  max_depth=8, min_samples_leaf=4, min_samples_split=2, n_estimators=150, total=   9.5s\n",
            "[CV] max_depth=8, min_samples_leaf=4, min_samples_split=2, n_estimators=150 \n",
            "[CV]  max_depth=8, min_samples_leaf=4, min_samples_split=2, n_estimators=150, total=   9.5s\n",
            "[CV] max_depth=8, min_samples_leaf=4, min_samples_split=4, n_estimators=50 \n",
            "[CV]  max_depth=8, min_samples_leaf=4, min_samples_split=4, n_estimators=50, total=   3.2s\n",
            "[CV] max_depth=8, min_samples_leaf=4, min_samples_split=4, n_estimators=50 \n",
            "[CV]  max_depth=8, min_samples_leaf=4, min_samples_split=4, n_estimators=50, total=   3.2s\n",
            "[CV] max_depth=8, min_samples_leaf=4, min_samples_split=4, n_estimators=100 \n",
            "[CV]  max_depth=8, min_samples_leaf=4, min_samples_split=4, n_estimators=100, total=   6.3s\n",
            "[CV] max_depth=8, min_samples_leaf=4, min_samples_split=4, n_estimators=100 \n",
            "[CV]  max_depth=8, min_samples_leaf=4, min_samples_split=4, n_estimators=100, total=   6.3s\n",
            "[CV] max_depth=8, min_samples_leaf=4, min_samples_split=4, n_estimators=150 \n",
            "[CV]  max_depth=8, min_samples_leaf=4, min_samples_split=4, n_estimators=150, total=   9.4s\n",
            "[CV] max_depth=8, min_samples_leaf=4, min_samples_split=4, n_estimators=150 \n",
            "[CV]  max_depth=8, min_samples_leaf=4, min_samples_split=4, n_estimators=150, total=   9.4s\n",
            "[CV] max_depth=8, min_samples_leaf=4, min_samples_split=6, n_estimators=50 \n",
            "[CV]  max_depth=8, min_samples_leaf=4, min_samples_split=6, n_estimators=50, total=   3.2s\n",
            "[CV] max_depth=8, min_samples_leaf=4, min_samples_split=6, n_estimators=50 \n",
            "[CV]  max_depth=8, min_samples_leaf=4, min_samples_split=6, n_estimators=50, total=   3.1s\n",
            "[CV] max_depth=8, min_samples_leaf=4, min_samples_split=6, n_estimators=100 \n",
            "[CV]  max_depth=8, min_samples_leaf=4, min_samples_split=6, n_estimators=100, total=   6.3s\n",
            "[CV] max_depth=8, min_samples_leaf=4, min_samples_split=6, n_estimators=100 \n",
            "[CV]  max_depth=8, min_samples_leaf=4, min_samples_split=6, n_estimators=100, total=   6.4s\n",
            "[CV] max_depth=8, min_samples_leaf=4, min_samples_split=6, n_estimators=150 \n",
            "[CV]  max_depth=8, min_samples_leaf=4, min_samples_split=6, n_estimators=150, total=   9.5s\n",
            "[CV] max_depth=8, min_samples_leaf=4, min_samples_split=6, n_estimators=150 \n",
            "[CV]  max_depth=8, min_samples_leaf=4, min_samples_split=6, n_estimators=150, total=   9.5s\n"
          ],
          "name": "stdout"
        },
        {
          "output_type": "stream",
          "text": [
            "[Parallel(n_jobs=1)]: Done 360 out of 360 | elapsed: 32.6min finished\n"
          ],
          "name": "stderr"
        }
      ]
    },
    {
      "cell_type": "code",
      "metadata": {
        "colab": {
          "base_uri": "https://localhost:8080/"
        },
        "id": "eqxs7YkHhrMr",
        "outputId": "6c27f170-148c-4532-a9d4-bc56bc0c5341"
      },
      "source": [
        "grid_search_reduced.best_score_"
      ],
      "execution_count": null,
      "outputs": [
        {
          "output_type": "execute_result",
          "data": {
            "text/plain": [
              "0.7706"
            ]
          },
          "metadata": {
            "tags": []
          },
          "execution_count": 45
        }
      ]
    },
    {
      "cell_type": "code",
      "metadata": {
        "colab": {
          "base_uri": "https://localhost:8080/",
          "height": 333
        },
        "id": "NheT2z95h2ua",
        "outputId": "4384bfe0-7c66-4d9e-9f93-7e8a4770b9f5"
      },
      "source": [
        "fig = plt.figure()\r\n",
        "fig.set_figheight(5)\r\n",
        "fig.set_figwidth(10)\r\n",
        "row = 2\r\n",
        "col = 4\r\n",
        "\r\n",
        "for index, name in enumerate(target_list) :\r\n",
        "    npy = np.load('/content/drive/MyDrive/Colab_Notebooks/quickdraw/{}.npy'.format(name))\r\n",
        "    sample = npy[0]\r\n",
        "    ax = fig.add_subplot(row, col, index+1)\r\n",
        "    ax.set_yticklabels('off')\r\n",
        "    ax.set_xticklabels('off')\r\n",
        "    ax.imshow(sample.reshape(28, 28), cmap = 'binary')\r\n",
        "    ax.set_title(name)\r\n",
        "fig.show()"
      ],
      "execution_count": null,
      "outputs": [
        {
          "output_type": "display_data",
          "data": {
            "image/png": "[encoded data removed]",
            "text/plain": [
              "<Figure size 720x360 with 8 Axes>"
            ]
          },
          "metadata": {
            "tags": [],
            "needs_background": "light"
          }
        }
      ]
    },
    {
      "cell_type": "code",
      "metadata": {
        "id": "eLT2mkqTvNiv"
      },
      "source": [
        "x_axis = ['Original', 'Reduced']\r\n",
        "duration = [duration_time/60, duration_time_reduced/60]\r\n",
        "score = [grid_search.best_score_, grid_search_reduced.best_score_]\r\n",
        "refit_time = [grid_search.refit_time_, grid_search_reduced.refit_time_]"
      ],
      "execution_count": null,
      "outputs": []
    },
    {
      "cell_type": "code",
      "metadata": {
        "colab": {
          "base_uri": "https://localhost:8080/",
          "height": 299
        },
        "id": "SEXRCeG-wG29",
        "outputId": "880072ae-4267-438b-bafd-b90ce93ad148"
      },
      "source": [
        "plt.bar(x_axis, duration, width = 0.5)\r\n",
        "plt.title('Difference of duration for GridSearchCV')\r\n",
        "plt.ylabel('Duration time (min)')\r\n",
        "plt.text(x_axis[0], duration[0], '{:.2f}'.format(duration[0])+'min', color='k', horizontalalignment = 'center',verticalalignment='bottom')\r\n",
        "plt.text(x_axis[1], duration[1], '{:.2f}'.format(duration[1])+'min', color='k', horizontalalignment = 'center',verticalalignment='bottom')"
      ],
      "execution_count": null,
      "outputs": [
        {
          "output_type": "execute_result",
          "data": {
            "text/plain": [
              "Text(Reduced, 33.164160311222076, '33.16min')"
            ]
          },
          "metadata": {
            "tags": []
          },
          "execution_count": 93
        },
        {
          "output_type": "display_data",
          "data": {
            "image/png": "[encoded data removed]",
            "text/plain": [
              "<Figure size 432x288 with 1 Axes>"
            ]
          },
          "metadata": {
            "tags": [],
            "needs_background": "light"
          }
        }
      ]
    },
    {
      "cell_type": "code",
      "metadata": {
        "colab": {
          "base_uri": "https://localhost:8080/",
          "height": 299
        },
        "id": "OIyuyc08xXX5",
        "outputId": "1c4da26b-f3d0-4b6c-d9a2-cb869ade3eec"
      },
      "source": [
        "plt.bar(x_axis, score, width = 0.5)\r\n",
        "plt.title('Difference of best score')\r\n",
        "plt.ylabel('Best score (min)')\r\n",
        "plt.text(x_axis[0], score[0], '{:.2f}'.format(score[0]*100)+'%', color='k', horizontalalignment = 'center',verticalalignment='bottom')\r\n",
        "plt.text(x_axis[1], score[1], '{:.2f}'.format(score[1]*100)+'%', color='k', horizontalalignment = 'center',verticalalignment='bottom')"
      ],
      "execution_count": null,
      "outputs": [
        {
          "output_type": "execute_result",
          "data": {
            "text/plain": [
              "Text(Reduced, 0.7706, '77.06%')"
            ]
          },
          "metadata": {
            "tags": []
          },
          "execution_count": 94
        },
        {
          "output_type": "display_data",
          "data": {
            "image/png": "[encoded data removed]",
            "text/plain": [
              "<Figure size 432x288 with 1 Axes>"
            ]
          },
          "metadata": {
            "tags": [],
            "needs_background": "light"
          }
        }
      ]
    },
    {
      "cell_type": "code",
      "metadata": {
        "colab": {
          "base_uri": "https://localhost:8080/",
          "height": 283
        },
        "id": "u3je_Y1nxetH",
        "outputId": "1c2bda19-5a72-48c6-a7a7-e798b4c0f5a9"
      },
      "source": [
        "plt.bar(x_axis, refit_time, width = 0.5)\r\n",
        "plt.ylabel('duration time (min)')"
      ],
      "execution_count": null,
      "outputs": [
        {
          "output_type": "execute_result",
          "data": {
            "text/plain": [
              "Text(0, 0.5, 'duration time (min)')"
            ]
          },
          "metadata": {
            "tags": []
          },
          "execution_count": 80
        },
        {
          "output_type": "display_data",
          "data": {
            "image/png": "[encoded data removed]",
            "text/plain": [
              "<Figure size 432x288 with 1 Axes>"
            ]
          },
          "metadata": {
            "tags": [],
            "needs_background": "light"
          }
        }
      ]
    },
    {
      "cell_type": "code",
      "metadata": {
        "colab": {
          "base_uri": "https://localhost:8080/"
        },
        "id": "9vY13HWRxp89",
        "outputId": "fa117fe4-6ecd-40b4-dde1-838df816e967"
      },
      "source": [
        "print(refit_time)"
      ],
      "execution_count": null,
      "outputs": [
        {
          "output_type": "stream",
          "text": [
            "[59.836910009384155, 33.768964529037476]\n"
          ],
          "name": "stdout"
        }
      ]
    },
    {
      "cell_type": "code",
      "metadata": {
        "colab": {
          "base_uri": "https://localhost:8080/"
        },
        "id": "CRfb4FkoxtYR",
        "outputId": "d75da3f8-c455-4717-c965-fb2815f5d9dd"
      },
      "source": [
        "np.linspace(0.03, 0.99, 33)"
      ],
      "execution_count": null,
      "outputs": [
        {
          "output_type": "execute_result",
          "data": {
            "text/plain": [
              "array([0.03, 0.06, 0.09, 0.12, 0.15, 0.18, 0.21, 0.24, 0.27, 0.3 , 0.33,\n",
              "       0.36, 0.39, 0.42, 0.45, 0.48, 0.51, 0.54, 0.57, 0.6 , 0.63, 0.66,\n",
              "       0.69, 0.72, 0.75, 0.78, 0.81, 0.84, 0.87, 0.9 , 0.93, 0.96, 0.99])"
            ]
          },
          "metadata": {
            "tags": []
          },
          "execution_count": 95
        }
      ]
    },
    {
      "cell_type": "code",
      "metadata": {
        "id": "3GP4S7wpy3Cg"
      },
      "source": [
        "from sklearn.model_selection import train_test_split\r\n",
        "from sklearn.metrics import confusion_matrix, classification_report"
      ],
      "execution_count": null,
      "outputs": []
    },
    {
      "cell_type": "code",
      "metadata": {
        "id": "PPnlH0U-zFHb"
      },
      "source": [
        "X_train, X_test, y_train, y_test = train_test_split(X, y, test_size = 0.2, random_state = 42)"
      ],
      "execution_count": null,
      "outputs": []
    },
    {
      "cell_type": "code",
      "metadata": {
        "colab": {
          "base_uri": "https://localhost:8080/"
        },
        "id": "XM0BoHhdzRAF",
        "outputId": "97f00f7b-1ee0-4e01-b7d7-6ce9fe62e733"
      },
      "source": [
        "X_train.shape"
      ],
      "execution_count": null,
      "outputs": [
        {
          "output_type": "execute_result",
          "data": {
            "text/plain": [
              "(64000, 784)"
            ]
          },
          "metadata": {
            "tags": []
          },
          "execution_count": 98
        }
      ]
    },
    {
      "cell_type": "code",
      "metadata": {
        "colab": {
          "base_uri": "https://localhost:8080/"
        },
        "id": "DXkvOrjvzSc9",
        "outputId": "6dff683a-efc4-457c-e0eb-2036cfdaf735"
      },
      "source": [
        "X_reduced = pca_g.fit_transform(X)\r\n",
        "X_reduced.shape"
      ],
      "execution_count": null,
      "outputs": [
        {
          "output_type": "execute_result",
          "data": {
            "text/plain": [
              "(80000, 17)"
            ]
          },
          "metadata": {
            "tags": []
          },
          "execution_count": 99
        }
      ]
    },
    {
      "cell_type": "code",
      "metadata": {
        "colab": {
          "base_uri": "https://localhost:8080/"
        },
        "id": "ds61Po7fzg_L",
        "outputId": "bc04e649-921d-460b-e3f8-e65e999678e8"
      },
      "source": [
        "X_train_reduced, X_test_reduced, y_train, y_test = train_test_split(X_reduced, y, test_size = 0.2, random_state = 42)\r\n",
        "X_train_reduced.shape"
      ],
      "execution_count": null,
      "outputs": [
        {
          "output_type": "execute_result",
          "data": {
            "text/plain": [
              "(64000, 17)"
            ]
          },
          "metadata": {
            "tags": []
          },
          "execution_count": 100
        }
      ]
    },
    {
      "cell_type": "code",
      "metadata": {
        "colab": {
          "base_uri": "https://localhost:8080/"
        },
        "id": "x5PZxrcSzsnJ",
        "outputId": "9d0dc0df-8698-4c88-b568-d1abc9630395"
      },
      "source": [
        "grid_search.best_params_"
      ],
      "execution_count": null,
      "outputs": [
        {
          "output_type": "execute_result",
          "data": {
            "text/plain": [
              "{'max_depth': None,\n",
              " 'min_samples_leaf': 1,\n",
              " 'min_samples_split': 2,\n",
              " 'n_estimators': 150}"
            ]
          },
          "metadata": {
            "tags": []
          },
          "execution_count": 101
        }
      ]
    },
    {
      "cell_type": "code",
      "metadata": {
        "id": "GOr6M-_2zoHU"
      },
      "source": [
        "rnd_clf = RandomForestClassifier(n_estimators=150, min_samples_leaf=1, min_samples_split=2, max_depth=None, random_state = 42)\r\n",
        "rnd_clf.fit(X_train, y_train)\r\n",
        "cf_original = confusion_matrix(y_test, rnd_clf.predict(X_test))"
      ],
      "execution_count": null,
      "outputs": []
    },
    {
      "cell_type": "code",
      "metadata": {
        "colab": {
          "base_uri": "https://localhost:8080/",
          "height": 309
        },
        "id": "gjCcYJyc08kk",
        "outputId": "50b0372d-103f-4555-98c5-aebf2b89ae7e"
      },
      "source": [
        "plt.matshow(cf_original, cmap = 'binary')\r\n",
        "plt.title('Confusion Matrix - Original', position=(0.5, 1.08))"
      ],
      "execution_count": 113,
      "outputs": [
        {
          "output_type": "execute_result",
          "data": {
            "text/plain": [
              "Text(0.5, 1.08, 'Confusion Matrix - Original')"
            ]
          },
          "metadata": {
            "tags": []
          },
          "execution_count": 113
        },
        {
          "output_type": "display_data",
          "data": {
            "image/png": "[encoded data removed]",
            "text/plain": [
              "<Figure size 288x288 with 1 Axes>"
            ]
          },
          "metadata": {
            "tags": [],
            "needs_background": "light"
          }
        }
      ]
    },
    {
      "cell_type": "code",
      "metadata": {
        "colab": {
          "base_uri": "https://localhost:8080/"
        },
        "id": "Jouazjme1rvB",
        "outputId": "e3e799f8-7320-4d23-9986-389343f0c935"
      },
      "source": [
        "grid_search_reduced.best_params_"
      ],
      "execution_count": 114,
      "outputs": [
        {
          "output_type": "execute_result",
          "data": {
            "text/plain": [
              "{'max_depth': None,\n",
              " 'min_samples_leaf': 1,\n",
              " 'min_samples_split': 2,\n",
              " 'n_estimators': 150}"
            ]
          },
          "metadata": {
            "tags": []
          },
          "execution_count": 114
        }
      ]
    },
    {
      "cell_type": "code",
      "metadata": {
        "id": "zqtnYdmt1oMg"
      },
      "source": [
        "rnd_clf_reduced = RandomForestClassifier(n_estimators=150, min_samples_leaf=1, min_samples_split=2, max_depth=None, random_state=42)\r\n",
        "rnd_clf_reduced.fit(X_train, y_train)\r\n",
        "cf_reduced = confusion_matrix(y_test, rnd_clf_reduced.predict(X_test))"
      ],
      "execution_count": 115,
      "outputs": []
    },
    {
      "cell_type": "code",
      "metadata": {
        "colab": {
          "base_uri": "https://localhost:8080/",
          "height": 309
        },
        "id": "2WzR32Ig173b",
        "outputId": "9686250c-f826-4e12-ce8f-e578f01bc8dc"
      },
      "source": [
        "plt.matshow(cf_reduced, cmap = 'binary')\r\n",
        "plt.title('Confusion Matrix - Reduced', position=(0.5, 1.08))"
      ],
      "execution_count": 116,
      "outputs": [
        {
          "output_type": "execute_result",
          "data": {
            "text/plain": [
              "Text(0.5, 1.08, 'Confusion Matrix - Reduced')"
            ]
          },
          "metadata": {
            "tags": []
          },
          "execution_count": 116
        },
        {
          "output_type": "display_data",
          "data": {
            "image/png": "[encoded data removed]",
            "text/plain": [
              "<Figure size 288x288 with 1 Axes>"
            ]
          },
          "metadata": {
            "tags": [],
            "needs_background": "light"
          }
        }
      ]
    },
    {
      "cell_type": "code",
      "metadata": {
        "colab": {
          "base_uri": "https://localhost:8080/"
        },
        "id": "cjRYNbXv2dFL",
        "outputId": "4b93445d-c1bd-41f0-94d6-6c81f3c123ea"
      },
      "source": [
        "X_sub.shape"
      ],
      "execution_count": 117,
      "outputs": [
        {
          "output_type": "execute_result",
          "data": {
            "text/plain": [
              "(40000, 784)"
            ]
          },
          "metadata": {
            "tags": []
          },
          "execution_count": 117
        }
      ]
    },
    {
      "cell_type": "code",
      "metadata": {
        "id": "oqmdTLtC32hw"
      },
      "source": [
        ""
      ],
      "execution_count": null,
      "outputs": []
    }
  ]
}