{
  "nbformat": 4,
  "nbformat_minor": 0,
  "metadata": {
    "colab": {
      "name": "SVM_Classifier.ipynb",
      "provenance": [],
      "toc_visible": true,
      "mount_file_id": "18-S2YJiGwLrRtqDugtTNenRwHLXbNgAg",
      "authorship_tag": "ABX9TyMH+nYG4kE9BtCDg+2MHJ0A",
      "include_colab_link": true
    },
    "kernelspec": {
      "name": "python3",
      "display_name": "Python 3"
    },
    "accelerator": "GPU"
  },
  "cells": [
    {
      "cell_type": "markdown",
      "metadata": {
        "id": "view-in-github",
        "colab_type": "text"
      },
      "source": [
        "<a href=\"https://colab.research.google.com/github/ykykyk112/machine_learning/blob/main/SVM_Classifier.ipynb\" target=\"_parent\"><img src=\"https://colab.research.google.com/assets/colab-badge.svg\" alt=\"Open In Colab\"/></a>"
      ]
    },
    {
      "cell_type": "code",
      "metadata": {
        "id": "onOYictGVGrA"
      },
      "source": [
        "import sklearn\r\n",
        "import numpy as np\r\n",
        "import matplotlib.pyplot as plt\r\n",
        "from sklearn.svm import SVC\r\n",
        "import cv2\r\n",
        "from google.colab import drive\r\n",
        "from PIL import Image"
      ],
      "execution_count": 1,
      "outputs": []
    },
    {
      "cell_type": "code",
      "metadata": {
        "id": "VXQpyNsMVnzJ",
        "colab": {
          "base_uri": "https://localhost:8080/",
          "height": 125
        },
        "outputId": "09495abb-021b-43ee-e1ce-072aca5b23a3"
      },
      "source": [
        "mnist = fetch_openml('mnist_784')\r\n",
        "mnist.DESCR"
      ],
      "execution_count": null,
      "outputs": [
        {
          "output_type": "execute_result",
          "data": {
            "application/vnd.google.colaboratory.intrinsic+json": {
              "type": "string"
            },
            "text/plain": [
              "\"**Author**: Yann LeCun, Corinna Cortes, Christopher J.C. Burges  \\n**Source**: [MNIST Website](http://yann.lecun.com/exdb/mnist/) - Date unknown  \\n**Please cite**:  \\n\\nThe MNIST database of handwritten digits with 784 features, raw data available at: http://yann.lecun.com/exdb/mnist/. It can be split in a training set of the first 60,000 examples, and a test set of 10,000 examples  \\n\\nIt is a subset of a larger set available from NIST. The digits have been size-normalized and centered in a fixed-size image. It is a good database for people who want to try learning techniques and pattern recognition methods on real-world data while spending minimal efforts on preprocessing and formatting. The original black and white (bilevel) images from NIST were size normalized to fit in a 20x20 pixel box while preserving their aspect ratio. The resulting images contain grey levels as a result of the anti-aliasing technique used by the normalization algorithm. the images were centered in a 28x28 image by computing the center of mass of the pixels, and translating the image so as to position this point at the center of the 28x28 field.  \\n\\nWith some classification methods (particularly template-based methods, such as SVM and K-nearest neighbors), the error rate improves when the digits are centered by bounding box rather than center of mass. If you do this kind of pre-processing, you should report it in your publications. The MNIST database was constructed from NIST's NIST originally designated SD-3 as their training set and SD-1 as their test set. However, SD-3 is much cleaner and easier to recognize than SD-1. The reason for this can be found on the fact that SD-3 was collected among Census Bureau employees, while SD-1 was collected among high-school students. Drawing sensible conclusions from learning experiments requires that the result be independent of the choice of training set and test among the complete set of samples. Therefore it was necessary to build a new database by mixing NIST's datasets.  \\n\\nThe MNIST training set is composed of 30,000 patterns from SD-3 and 30,000 patterns from SD-1. Our test set was composed of 5,000 patterns from SD-3 and 5,000 patterns from SD-1. The 60,000 pattern training set contained examples from approximately 250 writers. We made sure that the sets of writers of the training set and test set were disjoint. SD-1 contains 58,527 digit images written by 500 different writers. In contrast to SD-3, where blocks of data from each writer appeared in sequence, the data in SD-1 is scrambled. Writer identities for SD-1 is available and we used this information to unscramble the writers. We then split SD-1 in two: characters written by the first 250 writers went into our new training set. The remaining 250 writers were placed in our test set. Thus we had two sets with nearly 30,000 examples each. The new training set was completed with enough examples from SD-3, starting at pattern # 0, to make a full set of 60,000 training patterns. Similarly, the new test set was completed with SD-3 examples starting at pattern # 35,000 to make a full set with 60,000 test patterns. Only a subset of 10,000 test images (5,000 from SD-1 and 5,000 from SD-3) is available on this site. The full 60,000 sample training set is available.\\n\\nDownloaded from openml.org.\""
            ]
          },
          "metadata": {
            "tags": []
          },
          "execution_count": 2
        }
      ]
    },
    {
      "cell_type": "code",
      "metadata": {
        "id": "OwR_a1qpZIDq"
      },
      "source": [
        "X = mnist['data']\r\n",
        "y = mnist['target']"
      ],
      "execution_count": null,
      "outputs": []
    },
    {
      "cell_type": "code",
      "metadata": {
        "id": "W3OoYQWvPiux"
      },
      "source": [
        "# dataset upzip code\r\n",
        "#!unzip /content/drive/MyDrive/Colab_Notebooks/image/Test_set.zip -d /content/drive/MyDrive/Colab_Notebooks/image\r\n",
        "#!unzip /content/drive/MyDrive/Colab_Notebooks/image/Training_set.zip -d /content/drive/MyDrive/Colab_Notebooks/image"
      ],
      "execution_count": null,
      "outputs": []
    },
    {
      "cell_type": "code",
      "metadata": {
        "id": "pthqL3M4ZNNp",
        "colab": {
          "base_uri": "https://localhost:8080/"
        },
        "outputId": "414ecc2c-fc4c-4abd-f7e6-981ffe015cb7"
      },
      "source": [
        "print(X.shape)\r\n",
        "image = X[0].reshape(28, 28)\r\n",
        "image.shape"
      ],
      "execution_count": null,
      "outputs": [
        {
          "output_type": "stream",
          "text": [
            "(70000, 784)\n"
          ],
          "name": "stdout"
        },
        {
          "output_type": "execute_result",
          "data": {
            "text/plain": [
              "(28, 28)"
            ]
          },
          "metadata": {
            "tags": []
          },
          "execution_count": 5
        }
      ]
    },
    {
      "cell_type": "code",
      "metadata": {
        "id": "4qlloQlAZs0w",
        "colab": {
          "base_uri": "https://localhost:8080/",
          "height": 265
        },
        "outputId": "c9e32fb8-0f41-4de8-ea30-c757f10ffcd5"
      },
      "source": [
        "plt.imshow(image, cmap = 'binary')\r\n",
        "plt.show()"
      ],
      "execution_count": null,
      "outputs": [
        {
          "output_type": "display_data",
          "data": {
            "image/png": "[encoded data removed]",
            "text/plain": [
              "<Figure size 432x288 with 1 Axes>"
            ]
          },
          "metadata": {
            "tags": [],
            "needs_background": "light"
          }
        }
      ]
    },
    {
      "cell_type": "code",
      "metadata": {
        "id": "QKXOtTtOfrO8",
        "colab": {
          "base_uri": "https://localhost:8080/"
        },
        "outputId": "6df9cb65-68ee-46bc-eda3-367d1245fcd8"
      },
      "source": [
        "print(type(y))"
      ],
      "execution_count": null,
      "outputs": [
        {
          "output_type": "stream",
          "text": [
            "<class 'numpy.ndarray'>\n"
          ],
          "name": "stdout"
        }
      ]
    },
    {
      "cell_type": "code",
      "metadata": {
        "colab": {
          "base_uri": "https://localhost:8080/"
        },
        "id": "Jgkx4OhdhPiL",
        "outputId": "bc871102-5c3b-4445-dcd0-1cf901fe5a8d"
      },
      "source": [
        "y.shape"
      ],
      "execution_count": null,
      "outputs": [
        {
          "output_type": "execute_result",
          "data": {
            "text/plain": [
              "(70000,)"
            ]
          },
          "metadata": {
            "tags": []
          },
          "execution_count": 8
        }
      ]
    },
    {
      "cell_type": "code",
      "metadata": {
        "id": "blgSBMJIST7x"
      },
      "source": [
        "test = cv2.imread('/content/drive/MyDrive/Colab_Notebooks/image/Test_set/Avocado/000.jpg', cv2.IMREAD_COLOR)\r\n",
        "nonetype = type(test)"
      ],
      "execution_count": 2,
      "outputs": []
    },
    {
      "cell_type": "code",
      "metadata": {
        "id": "riNua8p06T9F",
        "colab": {
          "base_uri": "https://localhost:8080/"
        },
        "outputId": "5e00f7b5-3a8a-4ff7-9b3e-47a65654096f"
      },
      "source": [
        "fruit_name = ['Avocado', 'Banana', 'Blueberry', 'Chestnut', 'Corn', 'Kiwi', 'Lemon', 'Mango', 'Orange', 'Peach', 'Pear', 'Strawberry']\r\n",
        "path_for_test = '/content/drive/MyDrive/Colab_Notebooks/image/Test_set/'\r\n",
        "path_for_training = '/content/drive/MyDrive/Colab_Notebooks/image/Training_set/'\r\n",
        "\r\n",
        "# test_data = cv2.imread('/content/drive/MyDrive/Colab_Notebooks/image/Test_set/Avocado/001.jpg', cv2.IMREAD_COLOR)\r\n",
        "# test_data = test_data.reshape(1, 10000, 3)\r\n",
        "# training_data = cv2.cv2.imread('/content/drive/MyDrive/Colab_Notebooks/image/Training_set/Avocado/001.jpg', cv2.IMREAD_COLOR)\r\n",
        "\r\n",
        "# for name in fruit_name :\r\n",
        "#     folder = '/content/drive/MyDrive/Colab_Notebooks/image/Test_set/{}/'.format(name)\r\n",
        "#     for i in range(300) :\r\n",
        "#         file_name = folder+'{:03d}.jpg'.format(i+1)\r\n",
        "#         image = cv2.imread(file_name, cv2.IMREAD_COLOR)\r\n",
        "#         if type(image) is nonetype :\r\n",
        "#             print('{0} 종료'.format(name))\r\n",
        "#             break\r\n",
        "#         image_scaled = image/255\r\n",
        "#         image_reshaped = image_scaled.reshape(1, 10000, 3)\r\n",
        "#         test_data = np.append(test_data, image_reshaped, axis = 0)\r\n",
        "#     print('for {0} - {1} complete'.format(name, i))\r\n",
        "\r\n",
        "def make_ndarray(path, fruit_name) :\r\n",
        "    first = True\r\n",
        "    for index, name in enumerate(fruit_name) :\r\n",
        "        folder = path + '{}/'.format(name)\r\n",
        "        for i in range(500) :\r\n",
        "            file_name = folder+'{:03d}.jpg'.format(i+1)\r\n",
        "            if first :\r\n",
        "                input_image = cv2.imread(file_name, cv2.IMREAD_COLOR)\r\n",
        "                image_set = input_image.reshape(1, 100, 100, 3)\r\n",
        "                data_set = input_image/255\r\n",
        "                data_set = data_set.reshape(1, 10000, 3)\r\n",
        "                label_set = np.array([str(index)])\r\n",
        "                first = False\r\n",
        "                if type(input_image) is nonetype :\r\n",
        "                    print('return -1')\r\n",
        "                    return\r\n",
        "            else :\r\n",
        "                input_image = cv2.imread(file_name, cv2.IMREAD_COLOR)\r\n",
        "                if type(input_image) is nonetype :\r\n",
        "                    print('{0} 종료'.format(name))\r\n",
        "                    break\r\n",
        "                for_image_set = input_image.reshape(1, 100, 100, 3)\r\n",
        "                image_set = np.append(image_set, for_image_set, axis = 0)\r\n",
        "                image_scaled = input_image/255\r\n",
        "                image_reshaped = image_scaled.reshape(1, 10000, 3)\r\n",
        "                data_set = np.append(data_set, image_reshaped, axis = 0)\r\n",
        "                arr = np.array([str(index)])\r\n",
        "                label_set = np.append(label_set, arr, axis = 0)\r\n",
        "        print('for {0} - {1} complete'.format(name, i))\r\n",
        "        print(\"data set's shape : {}\".format(data_set.shape))\r\n",
        "    return data_set, image_set, label_set\r\n",
        "\r\n",
        "test_data, test_image, test_label = make_ndarray(path_for_test, fruit_name)\r\n",
        "training_data, training_image, training_label = make_ndarray(path_for_training, fruit_name)"
      ],
      "execution_count": null,
      "outputs": [
        {
          "output_type": "stream",
          "text": [
            "Avocado 종료\n",
            "for Avocado - 143 complete\n",
            "data set's shape : (143, 10000, 3)\n",
            "Banana 종료\n",
            "for Banana - 166 complete\n",
            "data set's shape : (309, 10000, 3)\n",
            "Blueberry 종료\n",
            "for Blueberry - 154 complete\n",
            "data set's shape : (463, 10000, 3)\n",
            "Chestnut 종료\n",
            "for Chestnut - 153 complete\n",
            "data set's shape : (616, 10000, 3)\n",
            "Corn 종료\n",
            "for Corn - 150 complete\n",
            "data set's shape : (766, 10000, 3)\n",
            "Kiwi 종료\n",
            "for Kiwi - 156 complete\n",
            "data set's shape : (922, 10000, 3)\n",
            "Lemon 종료\n",
            "for Lemon - 164 complete\n",
            "data set's shape : (1086, 10000, 3)\n",
            "Mango 종료\n",
            "for Mango - 166 complete\n",
            "data set's shape : (1252, 10000, 3)\n",
            "Orange 종료\n",
            "for Orange - 160 complete\n",
            "data set's shape : (1412, 10000, 3)\n",
            "Peach 종료\n",
            "for Peach - 164 complete\n",
            "data set's shape : (1576, 10000, 3)\n",
            "Pear 종료\n",
            "for Pear - 164 complete\n",
            "data set's shape : (1740, 10000, 3)\n",
            "Strawberry 종료\n",
            "for Strawberry - 164 complete\n",
            "data set's shape : (1904, 10000, 3)\n",
            "Avocado 종료\n",
            "for Avocado - 427 complete\n",
            "data set's shape : (427, 10000, 3)\n",
            "Banana 종료\n",
            "for Banana - 490 complete\n",
            "data set's shape : (917, 10000, 3)\n",
            "Blueberry 종료\n",
            "for Blueberry - 462 complete\n",
            "data set's shape : (1379, 10000, 3)\n",
            "Chestnut 종료\n",
            "for Chestnut - 450 complete\n",
            "data set's shape : (1829, 10000, 3)\n",
            "Corn 종료\n",
            "for Corn - 450 complete\n",
            "data set's shape : (2279, 10000, 3)\n",
            "Kiwi 종료\n",
            "for Kiwi - 466 complete\n",
            "data set's shape : (2745, 10000, 3)\n",
            "Lemon 종료\n",
            "for Lemon - 492 complete\n",
            "data set's shape : (3237, 10000, 3)\n",
            "Mango 종료\n",
            "for Mango - 490 complete\n",
            "data set's shape : (3727, 10000, 3)\n",
            "Orange 종료\n",
            "for Orange - 479 complete\n",
            "data set's shape : (4206, 10000, 3)\n",
            "Peach 종료\n",
            "for Peach - 492 complete\n",
            "data set's shape : (4698, 10000, 3)\n",
            "Pear 종료\n",
            "for Pear - 492 complete\n",
            "data set's shape : (5190, 10000, 3)\n",
            "Strawberry 종료\n",
            "for Strawberry - 492 complete\n",
            "data set's shape : (5682, 10000, 3)\n"
          ],
          "name": "stdout"
        }
      ]
    },
    {
      "cell_type": "code",
      "metadata": {
        "colab": {
          "base_uri": "https://localhost:8080/"
        },
        "id": "Whq9zeY_gv70",
        "outputId": "9c2aefb7-6bef-4631-e20b-02cd132e98c0"
      },
      "source": [
        "X_test = np.load('/content/drive/MyDrive/Colab_Notebooks/image/test_data_shuffled.npy')\r\n",
        "X_train = np.load('/content/drive/MyDrive/Colab_Notebooks/image/training_data_shuffled.npy')\r\n",
        "y_test = np.load('/content/drive/MyDrive/Colab_Notebooks/image/test_label_shuffled.npy')\r\n",
        "y_train = np.load('/content/drive/MyDrive/Colab_Notebooks/image/training_label_shuffled.npy')\r\n",
        "image_test = np.load('/content/drive/MyDrive/Colab_Notebooks/image/test_image_shuffled.npy')\r\n",
        "image_training = np.load('/content/drive/MyDrive/Colab_Notebooks/image/training_image_shuffled.npy')\r\n",
        "\r\n",
        "print(X_test.shape)\r\n",
        "print(X_train.shape)"
      ],
      "execution_count": 4,
      "outputs": [
        {
          "output_type": "stream",
          "text": [
            "(1904, 10000, 3)\n",
            "(5682, 10000, 3)\n"
          ],
          "name": "stdout"
        }
      ]
    },
    {
      "cell_type": "code",
      "metadata": {
        "colab": {
          "base_uri": "https://localhost:8080/"
        },
        "id": "ekP7EWYien-S",
        "outputId": "8ec0b261-b121-4494-80af-f2c5ecb9572a"
      },
      "source": [
        "fruit_name = ['Avocado', 'Banana', 'Blueberry', 'Chestnut', 'Corn', 'Kiwi', 'Lemon', 'Mango', 'Orange', 'Peach', 'Pear', 'Strawberry']\r\n",
        "first = True\r\n",
        "for index, name in enumerate(fruit_name) :\r\n",
        "    if first :\r\n",
        "        target = np.array([str(index)])\r\n",
        "        first = False\r\n",
        "    else :\r\n",
        "        arr = np.array([str(index)])\r\n",
        "        target = np.append(target, arr, axis = 0)\r\n",
        "print(target.shape)\r\n",
        "print(target)\r\n",
        "print(y.shape)\r\n",
        "\r\n",
        "S = np.arange(target.shape[0])\r\n",
        "np.random.shuffle(S)\r\n",
        "\r\n",
        "target = target[S]\r\n",
        "print(target)\r\n",
        "\r\n",
        "def shuffle_data_label(data, label) :\r\n",
        "    idx = np.arange(data.shape[0])\r\n",
        "    np.random.shuffle(idx)\r\n",
        "    data = data[idx]\r\n",
        "    label = label[idx]\r\n",
        "    return data, shuffle_data_label\r\n",
        "\r\n"
      ],
      "execution_count": null,
      "outputs": [
        {
          "output_type": "stream",
          "text": [
            "(12,)\n",
            "['0' '1' '2' '3' '4' '5' '6' '7' '8' '9' '10' '11']\n",
            "(70000,)\n",
            "['2' '0' '7' '10' '6' '3' '9' '4' '11' '1' '8' '5']\n"
          ],
          "name": "stdout"
        }
      ]
    },
    {
      "cell_type": "code",
      "metadata": {
        "id": "tZrLYkkktxzT"
      },
      "source": [
        "def shuffle_ndarray(data, image, label) :\r\n",
        "    idx = np.arange(data.shape[0])\r\n",
        "    np.random.shuffle(idx)\r\n",
        "    data = data[idx]\r\n",
        "    image = image[idx]\r\n",
        "    label = label[idx]\r\n",
        "    return data, image, label\r\n",
        "\r\n",
        "test_data_shuffled, test_image_shuffled, test_label_shuffled = shuffle_ndarray(test_data, test_image, test_label)\r\n",
        "training_data_shuffled, training_image_shuffled, training_label_shuffled = shuffle_ndarray(training_data, training_image, training_label)"
      ],
      "execution_count": null,
      "outputs": []
    },
    {
      "cell_type": "code",
      "metadata": {
        "colab": {
          "base_uri": "https://localhost:8080/"
        },
        "id": "LK7f7pCP5FR2",
        "outputId": "baa08892-bc4c-4ad1-a97b-9453fb385830"
      },
      "source": [
        "print(test_data_shuffled.shape, test_image_shuffled.shape, test_label_shuffled.shape)\r\n",
        "print(training_data_shuffled.shape, training_image_shuffled.shape, training_label_shuffled.shape)"
      ],
      "execution_count": null,
      "outputs": [
        {
          "output_type": "stream",
          "text": [
            "(1904, 10000, 3) (1904, 100, 100, 3) (1904,)\n",
            "(5682, 10000, 3) (5682, 100, 100, 3) (5682,)\n"
          ],
          "name": "stdout"
        }
      ]
    },
    {
      "cell_type": "code",
      "metadata": {
        "id": "GUt9HOo25aPJ"
      },
      "source": [
        "np.save('/content/drive/MyDrive/Colab_Notebooks/image/test_data_shuffled', test_data_shuffled)\r\n",
        "np.save('/content/drive/MyDrive/Colab_Notebooks/image/test_image_shuffled', test_image_shuffled)\r\n",
        "np.save('/content/drive/MyDrive/Colab_Notebooks/image/test_label_shuffled', test_label_shuffled)\r\n",
        "np.save('/content/drive/MyDrive/Colab_Notebooks/image/training_data_shuffled', training_data_shuffled)\r\n",
        "np.save('/content/drive/MyDrive/Colab_Notebooks/image/training_image_shuffled', training_image_shuffled)\r\n",
        "np.save('/content/drive/MyDrive/Colab_Notebooks/image/training_label_shuffled', training_label_shuffled)"
      ],
      "execution_count": null,
      "outputs": []
    },
    {
      "cell_type": "code",
      "metadata": {
        "colab": {
          "base_uri": "https://localhost:8080/"
        },
        "id": "n65Mcm3w9gwW",
        "outputId": "353930b2-3ba2-40d7-e7d3-789dfb281dca"
      },
      "source": [
        "test_data_reshaped = test_data_shuffled.reshape(1904, 30000)\r\n",
        "training_data_reshaped = training_data_shuffled.reshape(5682, 30000)\r\n",
        "print(test_data_reshaped.shape)\r\n",
        "print(training_data_reshaped.shape)"
      ],
      "execution_count": null,
      "outputs": [
        {
          "output_type": "stream",
          "text": [
            "(1904, 30000)\n",
            "(5682, 30000)\n"
          ],
          "name": "stdout"
        }
      ]
    },
    {
      "cell_type": "code",
      "metadata": {
        "colab": {
          "base_uri": "https://localhost:8080/"
        },
        "id": "ClnKDO1Z7Aan",
        "outputId": "0df346ed-b405-4402-d0ce-b761327e3f22"
      },
      "source": [
        "from sklearn.svm import SVC\r\n",
        "linear_svc = SVC(kernel = 'linear', random_state=42)\r\n",
        "rbf_svc = SVC(kernel = 'rbf', random_state=42)\r\n",
        "poly_svc = SVC(kernel = 'poly', random_state=42)\r\n",
        "sigmoid_svc = SVC(kernel = 'sigmoid', random_state=42)\r\n",
        "\r\n",
        "linear_svc.fit(training_data_reshaped, training_label_shuffled)\r\n",
        "rbf_svc.fit(training_data_reshaped, training_label_shuffled)\r\n",
        "poly_svc.fit(training_data_reshaped, training_label_shuffled)\r\n",
        "sigmoid_svc.fit(training_data_reshaped, training_label_shuffled)"
      ],
      "execution_count": null,
      "outputs": [
        {
          "output_type": "execute_result",
          "data": {
            "text/plain": [
              "SVC(C=1.0, break_ties=False, cache_size=200, class_weight=None, coef0=0.0,\n",
              "    decision_function_shape='ovr', degree=3, gamma='scale', kernel='sigmoid',\n",
              "    max_iter=-1, probability=False, random_state=42, shrinking=True, tol=0.001,\n",
              "    verbose=False)"
            ]
          },
          "metadata": {
            "tags": []
          },
          "execution_count": 104
        }
      ]
    },
    {
      "cell_type": "code",
      "metadata": {
        "colab": {
          "base_uri": "https://localhost:8080/"
        },
        "id": "2OBCmpsrBmNz",
        "outputId": "ade163d5-5cec-47c0-da3b-576c2fbd71e8"
      },
      "source": [
        "from sklearn.metrics import accuracy_score\r\n",
        "pred_linear = linear_svc.predict(test_data_reshaped)\r\n",
        "pred_rbf = rbf_svc.predict(test_data_reshaped)\r\n",
        "pred_poly = poly_svc.predict(test_data_reshaped)\r\n",
        "pred_sigmoid = sigmoid_svc.predict(test_data_reshaped)\r\n",
        "\r\n",
        "linear_score = accuracy_score(pred_linear, test_label_shuffled)\r\n",
        "rbf_score = accuracy_score(pred_rbf, test_label_shuffled)\r\n",
        "poly_score = accuracy_score(pred_poly, test_label_shuffled)\r\n",
        "sigmoid_score = accuracy_score(pred_sigmoid, test_label_shuffled)\r\n",
        "\r\n",
        "print(linear_score)\r\n",
        "print(rbf_score)\r\n",
        "print(poly_score)\r\n",
        "print(sigmoid_score)"
      ],
      "execution_count": null,
      "outputs": [
        {
          "output_type": "stream",
          "text": [
            "0.9464285714285714\n",
            "0.9364495798319328\n",
            "0.9480042016806722\n",
            "0.045168067226890755\n"
          ],
          "name": "stdout"
        }
      ]
    },
    {
      "cell_type": "code",
      "metadata": {
        "colab": {
          "base_uri": "https://localhost:8080/"
        },
        "id": "_CFu1DmWCHd3",
        "outputId": "02ba385c-f675-427c-ef41-33d046622d87"
      },
      "source": [
        "from sklearn.metrics import confusion_matrix\r\n",
        "cf = confusion_matrix(test_label_shuffled, pred_data)\r\n",
        "print(cf)"
      ],
      "execution_count": null,
      "outputs": [
        {
          "output_type": "stream",
          "text": [
            "[[141   0   0   0   0   0   0   0   0   2   0   0]\n",
            " [  0 150   0   0   0   0  16   0   0   0   0   0]\n",
            " [  0   0 154   0   0   0   0   4   6   0   0   0]\n",
            " [  0  19   0 145   0   0   0   0   0   0   0   0]\n",
            " [  0   0   0   0 154   0   0   0   0   0   0   0]\n",
            " [  0   0   0   0   0 153   0   0   0   0   0   0]\n",
            " [  0   0  11   0   0   0 103   7  29   0   0   0]\n",
            " [  0   0   6   0   0   0   0 150   0   0   0   0]\n",
            " [  0   0   0   0   0   0   0   0 164   0   0   0]\n",
            " [  0   0   0   0   0   0   0   0   0 166   0   0]\n",
            " [  0   0   0   0   0   0   0   0   0   0 160   0]\n",
            " [  0   0   0   0   0   0   0   4   0   0   0 160]]\n"
          ],
          "name": "stdout"
        }
      ]
    },
    {
      "cell_type": "code",
      "metadata": {
        "colab": {
          "base_uri": "https://localhost:8080/",
          "height": 264
        },
        "id": "vWk8GqunFfE4",
        "outputId": "bc154175-1333-49b3-bac0-25b6506be37d"
      },
      "source": [
        "def plot_image(image, label) :\r\n",
        "    fruit_map = {'0':'Avocado', '1':'Banana', '2':'Blueberry', '3':'Chestnut', '4':'Corn', '5':'Kiwi', '6':'Lemon', \r\n",
        "                 '7':'Mango', '8':'Orange', '9':'Peach', '10':'Pear', '11':'Strawberry'}\r\n",
        "    plt.imshow(image)\r\n",
        "    plt.axis('off')\r\n",
        "    plt.title('{}'.format(fruit_map[label]))\r\n",
        "    plt.show()\r\n",
        "\r\n",
        "sample = test_data_reshaped[9]\r\n",
        "sample_image = test_image_shuffled[9]\r\n",
        "sample_label = test_label_shuffled[9]\r\n",
        "\r\n",
        "sample_image_cvt = cv2.cvtColor(sample_image, cv2.COLOR_BGR2RGB)\r\n",
        "plot_image(sample_image_cvt, sample_label)"
      ],
      "execution_count": null,
      "outputs": [
        {
          "output_type": "display_data",
          "data": {
            "image/png": "[encoded data removed]",
            "text/plain": [
              "<Figure size 432x288 with 1 Axes>"
            ]
          },
          "metadata": {
            "tags": [],
            "needs_background": "light"
          }
        }
      ]
    },
    {
      "cell_type": "code",
      "metadata": {
        "id": "ILh0xamOItPZ"
      },
      "source": [
        "from sklearn.preprocessing import StandardScaler\r\n",
        "X_test = X_test.reshape(X_test.shape[0], 30000)\r\n",
        "X_train = X_train.reshape(X_train.shape[0], 30000)\r\n",
        "std_scaler = StandardScaler()\r\n",
        "X_test_scaled = std_scaler.fit_transform(X_test)\r\n",
        "X_train_scaled = std_scaler.fit_transform(X_train)"
      ],
      "execution_count": 8,
      "outputs": []
    },
    {
      "cell_type": "code",
      "metadata": {
        "colab": {
          "base_uri": "https://localhost:8080/"
        },
        "id": "_O0dIU4OJdLK",
        "outputId": "45e9a97f-9831-48ae-f15d-0b385535f91b"
      },
      "source": [
        "from sklearn.svm import SVC\r\n",
        "svm_clf = SVC(kernel = 'poly', random_state=42, C = 1, probability=True)\r\n",
        "svm_clf.fit(X_train, y_train)"
      ],
      "execution_count": 26,
      "outputs": [
        {
          "output_type": "execute_result",
          "data": {
            "text/plain": [
              "SVC(C=1, break_ties=False, cache_size=200, class_weight=None, coef0=0.0,\n",
              "    decision_function_shape='ovr', degree=3, gamma='scale', kernel='poly',\n",
              "    max_iter=-1, probability=True, random_state=42, shrinking=True, tol=0.001,\n",
              "    verbose=False)"
            ]
          },
          "metadata": {
            "tags": []
          },
          "execution_count": 26
        }
      ]
    },
    {
      "cell_type": "code",
      "metadata": {
        "colab": {
          "base_uri": "https://localhost:8080/"
        },
        "id": "oUhPRw5YKc0H",
        "outputId": "cc3ac670-6fed-4ac6-d4b9-2bccf78be798"
      },
      "source": [
        "from sklearn.metrics import accuracy_score, confusion_matrix\r\n",
        "y_pred = svm_clf.predict(X_test)\r\n",
        "score = accuracy_score(y_pred, y_test)\r\n",
        "print(score)"
      ],
      "execution_count": 27,
      "outputs": [
        {
          "output_type": "stream",
          "text": [
            "0.9480042016806722\n"
          ],
          "name": "stdout"
        }
      ]
    },
    {
      "cell_type": "code",
      "metadata": {
        "colab": {
          "base_uri": "https://localhost:8080/"
        },
        "id": "tr_dIyNlYODU",
        "outputId": "c0023381-8907-42fa-87f2-6e2b2d952171"
      },
      "source": [
        "y_pred_proba = svm_clf.predict_proba(X_test)\r\n",
        "print(y_pred_proba)"
      ],
      "execution_count": 28,
      "outputs": [
        {
          "output_type": "stream",
          "text": [
            "[[6.80227172e-05 5.48668790e-04 3.52914113e-03 ... 1.08231265e-04\n",
            "  8.05554311e-05 3.06693740e-04]\n",
            " [5.15510177e-02 3.75650910e-04 3.03123732e-04 ... 1.25908111e-03\n",
            "  1.31410728e-04 5.15018331e-04]\n",
            " [9.57290077e-03 2.16658486e-04 1.12726671e-03 ... 1.10624151e-03\n",
            "  2.79313441e-03 9.54860188e-01]\n",
            " ...\n",
            " [2.87458264e-04 2.14267256e-04 2.70290201e-04 ... 3.55915077e-04\n",
            "  9.93474358e-01 3.32699758e-03]\n",
            " [7.33957563e-03 2.64484979e-04 1.32871736e-03 ... 1.25790979e-03\n",
            "  2.20485978e-03 9.51016027e-01]\n",
            " [1.68608180e-01 2.19311517e-04 4.95084054e-04 ... 1.62522806e-03\n",
            "  1.74978035e-04 4.84989913e-04]]\n"
          ],
          "name": "stdout"
        }
      ]
    },
    {
      "cell_type": "code",
      "metadata": {
        "colab": {
          "base_uri": "https://localhost:8080/"
        },
        "id": "R5bONXybci0p",
        "outputId": "1d43aa90-473d-4a90-e499-665823da9fec"
      },
      "source": [
        "cf = confusion_matrix(y_test, y_pred)\r\n",
        "cf"
      ],
      "execution_count": 32,
      "outputs": [
        {
          "output_type": "execute_result",
          "data": {
            "text/plain": [
              "array([[143,   0,   0,   0,   0,   0,   0,   0,   0,   0,   0,   0],\n",
              "       [  0, 144,   0,   0,   0,   0,  22,   0,   0,   0,   0,   0],\n",
              "       [  0,   0, 164,   0,   0,   0,   0,   0,   0,   0,   0,   0],\n",
              "       [  0,   0,   0, 164,   0,   0,   0,   0,   0,   0,   0,   0],\n",
              "       [  0,   0,   0,   0, 154,   0,   0,   0,   0,   0,   0,   0],\n",
              "       [  6,   0,   0,   0,   0, 147,   0,   0,   0,   0,   0,   0],\n",
              "       [  0,   0,  15,   0,   0,   0,  79,   0,  56,   0,   0,   0],\n",
              "       [  0,   0,   0,   0,   0,   0,   0, 156,   0,   0,   0,   0],\n",
              "       [  0,   0,   0,   0,   0,   0,   0,   0, 164,   0,   0,   0],\n",
              "       [  0,   0,   0,   0,   0,   0,   0,   0,   0, 166,   0,   0],\n",
              "       [  0,   0,   0,   0,   0,   0,   0,   0,   0,   0, 160,   0],\n",
              "       [  0,   0,   0,   0,   0,   0,   0,   0,   0,   0,   0, 164]])"
            ]
          },
          "metadata": {
            "tags": []
          },
          "execution_count": 32
        }
      ]
    },
    {
      "cell_type": "markdown",
      "metadata": {
        "id": "INLzBpH1lcDs"
      },
      "source": [
        "# 새 섹션"
      ]
    }
  ]
}