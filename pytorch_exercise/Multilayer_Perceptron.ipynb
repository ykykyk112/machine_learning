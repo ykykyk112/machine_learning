{
 "cells": [
  {
   "cell_type": "code",
   "execution_count": 1,
   "metadata": {
    "id": "N1bGbl_N3RoX"
   },
   "outputs": [],
   "source": [
    "import torch\n",
    "from torch import nn, optim\n",
    "from torch.nn import functional as F\n",
    "import matplotlib.pyplot as plt\n",
    "import numpy as np\n",
    "from torch.utils.data import DataLoader, random_split\n",
    "from torchvision import datasets, transforms\n",
    "from tqdm import tqdm"
   ]
  },
  {
   "cell_type": "code",
   "execution_count": 2,
   "metadata": {
    "colab": {
     "base_uri": "https://localhost:8080/"
    },
    "id": "wVoOcy1k4eAX",
    "outputId": "15b228fa-de03-44a4-ea2a-03f4037bdfce"
   },
   "outputs": [
    {
     "data": {
      "text/plain": [
       "False"
      ]
     },
     "execution_count": 2,
     "metadata": {},
     "output_type": "execute_result"
    }
   ],
   "source": [
    "torch.cuda.is_available()"
   ]
  },
  {
   "cell_type": "code",
   "execution_count": 6,
   "metadata": {
    "id": "sCr6BQv445wN"
   },
   "outputs": [],
   "source": [
    "transform = transforms.Compose([transforms.ToTensor(), transforms.Normalize((0.5, 0.5, 0.5), (0.5, 0.5, 0.5))])"
   ]
  },
  {
   "cell_type": "code",
   "execution_count": 7,
   "metadata": {
    "id": "SiKJqCCZ5tXc"
   },
   "outputs": [
    {
     "name": "stdout",
     "output_type": "stream",
     "text": [
      "Files already downloaded and verified\n",
      "Files already downloaded and verified\n"
     ]
    }
   ],
   "source": [
    "train_set = datasets.CIFAR10(root='./data', download=True, train=True, transform=transform)\n",
    "test_set = datasets.CIFAR10(root='./data', download=True, train=False, transform=transform)"
   ]
  },
  {
   "cell_type": "code",
   "execution_count": 8,
   "metadata": {
    "colab": {
     "base_uri": "https://localhost:8080/"
    },
    "id": "5jaMtV-R5-eN",
    "outputId": "a8e7a7bf-d394-40c8-9aae-9f9c09c1001e"
   },
   "outputs": [
    {
     "name": "stdout",
     "output_type": "stream",
     "text": [
      "number of training set : 50000\n",
      "number of test set : 10000\n"
     ]
    }
   ],
   "source": [
    "print('number of training set :', len(train_set))\n",
    "print('number of test set :', len(test_set))"
   ]
  },
  {
   "cell_type": "code",
   "execution_count": 12,
   "metadata": {
    "id": "w38TNbjG6AZ1"
   },
   "outputs": [],
   "source": [
    "train_loader = DataLoader(dataset = train_set, batch_size=50, shuffle=True, num_workers=2)\n",
    "test_loader = DataLoader(dataset = test_set, batch_size=50, shuffle=True, num_workers=2)"
   ]
  },
  {
   "cell_type": "code",
   "execution_count": 28,
   "metadata": {
    "id": "SXCgF-Go6hq-"
   },
   "outputs": [],
   "source": [
    "class NewModel(nn.Module):\n",
    "    def __init__(self, D_in, H_1, H_2, H_3, D_out):\n",
    "        super(NewModel, self).__init__()\n",
    "        self.layer1 = nn.Linear(D_in, H_1)\n",
    "        self.layer2 = nn.Linear(H_1, H_2)\n",
    "        self.layer3 = nn.Linear(H_2, H_3)\n",
    "        self.layer4 = nn.Linear(H_3, D_out)\n",
    "\n",
    "    def forward(self, x):\n",
    "        x = F.relu(self.layer1(x))\n",
    "        x = F.relu(self.layer2(x))\n",
    "        x = F.relu(self.layer3(x))\n",
    "        x = self.layer4(x)\n",
    "        return x"
   ]
  },
  {
   "cell_type": "code",
   "execution_count": 14,
   "metadata": {
    "colab": {
     "base_uri": "https://localhost:8080/"
    },
    "id": "WEy2wt9N6oaE",
    "outputId": "6b42edd7-ebc4-4d0f-8247-84fefffa00ce"
   },
   "outputs": [
    {
     "data": {
      "text/plain": [
       "torch.Size([50, 3, 32, 32])"
      ]
     },
     "execution_count": 14,
     "metadata": {},
     "output_type": "execute_result"
    }
   ],
   "source": [
    "train_iter = iter(train_loader)\n",
    "image, label = train_iter.next()\n",
    "image.shape"
   ]
  },
  {
   "cell_type": "code",
   "execution_count": 29,
   "metadata": {
    "id": "WVDPqH8m7wJM"
   },
   "outputs": [],
   "source": [
    "model = NewModel(32*32*3, 240, 125, 64, 10)"
   ]
  },
  {
   "cell_type": "code",
   "execution_count": 30,
   "metadata": {
    "id": "O3FvGTFz79Zs"
   },
   "outputs": [],
   "source": [
    "running_loss_history = []\n",
    "running_correct_history = []\n",
    "valid_loss_history = []\n",
    "valid_correct_history = []"
   ]
  },
  {
   "cell_type": "code",
   "execution_count": 31,
   "metadata": {
    "id": "REI4N89Y8bKl"
   },
   "outputs": [],
   "source": [
    "criterion = nn.CrossEntropyLoss()"
   ]
  },
  {
   "cell_type": "code",
   "execution_count": 32,
   "metadata": {
    "id": "Arwbqjzu8j9S"
   },
   "outputs": [],
   "source": [
    "optimizer = optim.Adam(params=model.parameters(), lr = 0.001)"
   ]
  },
  {
   "cell_type": "code",
   "execution_count": 33,
   "metadata": {
    "colab": {
     "base_uri": "https://localhost:8080/"
    },
    "id": "VOnLg3sI8HkE",
    "outputId": "5befa27c-12e8-461d-b5d2-2eaa857eb061"
   },
   "outputs": [
    {
     "name": "stderr",
     "output_type": "stream",
     "text": [
      "\n",
      "  0%|                                                                                           | 0/12 [00:00<?, ?it/s]\u001b[A\n",
      "  8%|██████▉                                                                            | 1/12 [00:18<03:27, 18.90s/it]\u001b[A"
     ]
    },
    {
     "name": "stdout",
     "output_type": "stream",
     "text": [
      "1 epoch / train_loss : 1.6560101, train_score : 20.5340004, valid_loss : 1.5003944, valid_score : 23.5550003\n"
     ]
    },
    {
     "name": "stderr",
     "output_type": "stream",
     "text": [
      "\n",
      " 17%|█████████████▊                                                                     | 2/12 [00:38<03:10, 19.02s/it]\u001b[A"
     ]
    },
    {
     "name": "stdout",
     "output_type": "stream",
     "text": [
      "2 epoch / train_loss : 1.4420790, train_score : 24.5879993, valid_loss : 1.4333233, valid_score : 25.2099991\n"
     ]
    },
    {
     "name": "stderr",
     "output_type": "stream",
     "text": [
      "\n",
      " 25%|████████████████████▊                                                              | 3/12 [00:57<02:51, 19.06s/it]\u001b[A"
     ]
    },
    {
     "name": "stdout",
     "output_type": "stream",
     "text": [
      "3 epoch / train_loss : 1.3361039, train_score : 26.4880009, valid_loss : 1.3591628, valid_score : 26.0149994\n"
     ]
    },
    {
     "name": "stderr",
     "output_type": "stream",
     "text": [
      "\n",
      " 33%|███████████████████████████▋                                                       | 4/12 [01:16<02:33, 19.24s/it]\u001b[A"
     ]
    },
    {
     "name": "stdout",
     "output_type": "stream",
     "text": [
      "4 epoch / train_loss : 1.2504265, train_score : 27.9580002, valid_loss : 1.3671460, valid_score : 25.9950008\n"
     ]
    },
    {
     "name": "stderr",
     "output_type": "stream",
     "text": [
      "\n",
      " 42%|██████████████████████████████████▌                                                | 5/12 [01:35<02:14, 19.24s/it]\u001b[A"
     ]
    },
    {
     "name": "stdout",
     "output_type": "stream",
     "text": [
      "5 epoch / train_loss : 1.1807034, train_score : 29.1130009, valid_loss : 1.3500409, valid_score : 26.7350006\n"
     ]
    },
    {
     "name": "stderr",
     "output_type": "stream",
     "text": [
      "\n",
      " 50%|█████████████████████████████████████████▌                                         | 6/12 [01:54<01:54, 19.16s/it]\u001b[A"
     ]
    },
    {
     "name": "stdout",
     "output_type": "stream",
     "text": [
      "6 epoch / train_loss : 1.1159534, train_score : 30.2150002, valid_loss : 1.3764688, valid_score : 26.5100002\n"
     ]
    },
    {
     "name": "stderr",
     "output_type": "stream",
     "text": [
      "\n",
      " 58%|████████████████████████████████████████████████▍                                  | 7/12 [02:14<01:35, 19.16s/it]\u001b[A"
     ]
    },
    {
     "name": "stdout",
     "output_type": "stream",
     "text": [
      "7 epoch / train_loss : 1.0566204, train_score : 31.2430000, valid_loss : 1.3402088, valid_score : 26.9500008\n"
     ]
    },
    {
     "name": "stderr",
     "output_type": "stream",
     "text": [
      "\n",
      " 67%|███████████████████████████████████████████████████████▎                           | 8/12 [02:33<01:16, 19.18s/it]\u001b[A"
     ]
    },
    {
     "name": "stdout",
     "output_type": "stream",
     "text": [
      "8 epoch / train_loss : 1.0012941, train_score : 32.1150017, valid_loss : 1.3756384, valid_score : 26.6949997\n"
     ]
    },
    {
     "name": "stderr",
     "output_type": "stream",
     "text": [
      "\n",
      " 75%|██████████████████████████████████████████████████████████████▎                    | 9/12 [02:52<00:57, 19.25s/it]\u001b[A"
     ]
    },
    {
     "name": "stdout",
     "output_type": "stream",
     "text": [
      "9 epoch / train_loss : 0.9531477, train_score : 32.9799995, valid_loss : 1.4031681, valid_score : 27.1550007\n"
     ]
    },
    {
     "name": "stderr",
     "output_type": "stream",
     "text": [
      "\n",
      " 83%|████████████████████████████████████████████████████████████████████▎             | 10/12 [03:11<00:38, 19.20s/it]\u001b[A"
     ]
    },
    {
     "name": "stdout",
     "output_type": "stream",
     "text": [
      "10 epoch / train_loss : 0.8987771, train_score : 33.8790016, valid_loss : 1.4443576, valid_score : 26.7350006\n"
     ]
    },
    {
     "name": "stderr",
     "output_type": "stream",
     "text": [
      "\n",
      " 92%|███████████████████████████████████████████████████████████████████████████▏      | 11/12 [03:30<00:19, 19.21s/it]\u001b[A"
     ]
    },
    {
     "name": "stdout",
     "output_type": "stream",
     "text": [
      "11 epoch / train_loss : 0.8502778, train_score : 34.8429985, valid_loss : 1.4578679, valid_score : 26.9699993\n"
     ]
    },
    {
     "name": "stderr",
     "output_type": "stream",
     "text": [
      "\n",
      "100%|██████████████████████████████████████████████████████████████████████████████████| 12/12 [03:50<00:00, 19.17s/it]\u001b[A"
     ]
    },
    {
     "name": "stdout",
     "output_type": "stream",
     "text": [
      "12 epoch / train_loss : 0.8120222, train_score : 35.5070000, valid_loss : 1.4733335, valid_score : 27.1399994\n"
     ]
    },
    {
     "name": "stderr",
     "output_type": "stream",
     "text": [
      "\n"
     ]
    }
   ],
   "source": [
    "epoch = 12\n",
    "for i in tqdm(range(epoch)):\n",
    "    \n",
    "    running_loss, valid_loss = 0.0, 0.0\n",
    "    running_correct, valid_correct = 0.0, 0.0\n",
    "\n",
    "    for train_input, train_label in train_loader:\n",
    "        train_input = train_input.view(train_input.shape[0], -1)\n",
    "        train_output = model.forward(train_input)\n",
    "        # caculating loss\n",
    "        loss = criterion(train_output, train_label)\n",
    "        # initialize gradient\n",
    "        optimizer.zero_grad()\n",
    "        # backpropagation\n",
    "        loss.backward()\n",
    "        # update weight\n",
    "        optimizer.step()\n",
    "        _, running_pred = torch.max(train_output, 1)\n",
    "        # get total loss, total correction in one epoch\n",
    "        running_loss += loss.item()\n",
    "        running_correct += torch.sum(running_pred == train_label.data)\n",
    "    \n",
    "    avg_running_loss = running_loss/len(train_loader)\n",
    "    running_loss_history.append(avg_running_loss)\n",
    "\n",
    "    avg_running_correct = running_correct/len(train_loader)\n",
    "    running_correct_history.append(avg_running_correct)\n",
    "\n",
    "    with torch.no_grad():\n",
    "        for valid_input, valid_label in test_loader:\n",
    "            valid_input = valid_input.view(valid_input.shape[0], -1)\n",
    "            valid_output = model(valid_input)\n",
    "            v_loss = criterion(valid_output, valid_label)\n",
    "            _, valid_pred = torch.max(valid_output, 1)\n",
    "\n",
    "            valid_loss += v_loss.item()\n",
    "            valid_correct += torch.sum(valid_pred == valid_label.data)\n",
    "\n",
    "        avg_valid_loss = valid_loss/len(test_loader)\n",
    "        valid_loss_history.append(avg_valid_loss)\n",
    "\n",
    "        avg_valid_correct = valid_correct/len(test_loader)\n",
    "        valid_correct_history.append(avg_valid_correct)\n",
    "    \n",
    "    print('{0} epoch / train_loss : {1:.7f}, train_score : {2:.7f}, valid_loss : {3:.7f}, valid_score : {4:.7f}'.format(i+1, avg_running_loss, avg_running_correct, avg_valid_loss, avg_valid_correct))"
   ]
  },
  {
   "cell_type": "code",
   "execution_count": 35,
   "metadata": {
    "colab": {
     "base_uri": "https://localhost:8080/",
     "height": 283
    },
    "id": "ov0vNOyvAScO",
    "outputId": "570c2d62-cbe0-4369-8413-1858863e69f2"
   },
   "outputs": [
    {
     "data": {
      "text/plain": [
       "<matplotlib.legend.Legend at 0x1cb4f0fa9d0>"
      ]
     },
     "execution_count": 35,
     "metadata": {},
     "output_type": "execute_result"
    },
    {
     "data": {
      "image/png": "[encoded data removed]",
      "text/plain": [
       "<Figure size 432x288 with 1 Axes>"
      ]
     },
     "metadata": {
      "needs_background": "light"
     },
     "output_type": "display_data"
    }
   ],
   "source": [
    "plt.plot(running_loss_history, label = 'training loss')\n",
    "plt.plot(valid_loss_history, label = 'validation loss')\n",
    "plt.legend()"
   ]
  },
  {
   "cell_type": "code",
   "execution_count": 36,
   "metadata": {
    "colab": {
     "base_uri": "https://localhost:8080/",
     "height": 283
    },
    "id": "36tG0ZIaBDK2",
    "outputId": "1a8a47d5-f139-4940-f1e7-a5b4dd26458e"
   },
   "outputs": [
    {
     "data": {
      "text/plain": [
       "<matplotlib.legend.Legend at 0x1cb4f4701f0>"
      ]
     },
     "execution_count": 36,
     "metadata": {},
     "output_type": "execute_result"
    },
    {
     "data": {
      "image/png": "[encoded data removed]",
      "text/plain": [
       "<Figure size 432x288 with 1 Axes>"
      ]
     },
     "metadata": {
      "needs_background": "light"
     },
     "output_type": "display_data"
    }
   ],
   "source": [
    "plt.plot(running_correct_history, label = 'training score')\n",
    "plt.plot(valid_correct_history, label = 'validation score')\n",
    "plt.legend()"
   ]
  },
  {
   "cell_type": "code",
   "execution_count": null,
   "metadata": {
    "id": "2pwsSVkNMTIf"
   },
   "outputs": [],
   "source": [
    "is_cuda = torch.cuda.is_available()\n",
    "device = torch.device('cuda' if is_cuda else 'cpu')"
   ]
  },
  {
   "cell_type": "code",
   "execution_count": null,
   "metadata": {
    "colab": {
     "base_uri": "https://localhost:8080/"
    },
    "id": "IZGpsUNUMkQ7",
    "outputId": "31d789f3-6259-4d69-f586-751e55b1dd6e"
   },
   "outputs": [],
   "source": [
    "is_cuda"
   ]
  },
  {
   "cell_type": "code",
   "execution_count": null,
   "metadata": {
    "colab": {
     "base_uri": "https://localhost:8080/"
    },
    "id": "sFpUUQqaMnZq",
    "outputId": "77da75e8-3573-4ebe-90a9-c366b932cefb"
   },
   "outputs": [],
   "source": [
    "device"
   ]
  },
  {
   "cell_type": "code",
   "execution_count": null,
   "metadata": {
    "id": "MI2tlp57M-5i"
   },
   "outputs": [],
   "source": [
    "model = model.to(device)"
   ]
  },
  {
   "cell_type": "code",
   "execution_count": null,
   "metadata": {
    "id": "BmpVlek1QaW_"
   },
   "outputs": [],
   "source": [
    "optimizer2 = optim.Adam(model.parameters(), lr = 0.001)\n",
    "criterion = nn.CrossEntropyLoss()"
   ]
  },
  {
   "cell_type": "code",
   "execution_count": null,
   "metadata": {
    "colab": {
     "base_uri": "https://localhost:8080/"
    },
    "id": "TNmJ35ewO528",
    "outputId": "65c8bc82-007c-48ba-8006-c0a3cf22ebca"
   },
   "outputs": [],
   "source": [
    "epoch = 12\n",
    "for i in tqdm(range(epoch)):\n",
    "    \n",
    "    running_loss, valid_loss = 0.0, 0.0\n",
    "    running_correct, valid_correct = 0.0, 0.0\n",
    "\n",
    "    for train_input, train_label in train_loader:\n",
    "        train_input, train_label = train_input.to(device), train_label.to(device)\n",
    "        train_input = train_input.view(train_input.shape[0], -1)\n",
    "        train_output = model.forward(train_input)\n",
    "        # caculating loss\n",
    "        loss = criterion(train_output, train_label)\n",
    "        # initialize gradient\n",
    "        optimizer2.zero_grad()\n",
    "        # backpropagation\n",
    "        loss.backward()\n",
    "        # update weight\n",
    "        optimizer2.step()\n",
    "        _, running_pred = torch.max(train_output, 1)\n",
    "        # get total loss, total correction in one epoch\n",
    "        running_loss += loss.item()\n",
    "        running_correct += torch.sum(running_pred == train_label.data)\n",
    "    \n",
    "    avg_running_loss = running_loss/len(train_loader)\n",
    "    running_loss_history.append(avg_running_loss)\n",
    "\n",
    "    avg_running_correct = running_correct/len(train_loader)\n",
    "    running_correct_history.append(avg_running_correct)\n",
    "\n",
    "    with torch.no_grad():\n",
    "        for valid_input, valid_label in test_loader:\n",
    "            valid_input, valid_label = valid_input.to(device), valid_label.to(device)\n",
    "            valid_input = valid_input.view(valid_input.shape[0], -1)\n",
    "            valid_output = model(valid_input)\n",
    "            v_loss = criterion(valid_output, valid_label)\n",
    "            _, valid_pred = torch.max(valid_output, 1)\n",
    "\n",
    "            valid_loss += v_loss.item()\n",
    "            valid_correct += torch.sum(valid_pred == valid_label.data)\n",
    "\n",
    "        avg_valid_loss = valid_loss/len(test_loader)\n",
    "        valid_loss_history.append(avg_valid_loss)\n",
    "\n",
    "        avg_valid_correct = valid_correct/len(test_loader)\n",
    "        valid_correct_history.append(avg_valid_correct)\n",
    "    \n",
    "    print('{0} epoch / train_loss : {1:.7f}, train_score : {2:.7f}, valid_loss : {3:.7f}, valid_score : {4:.7f}'.format(i+1, avg_running_loss, avg_running_correct, avg_valid_loss, avg_valid_correct))"
   ]
  },
  {
   "cell_type": "code",
   "execution_count": null,
   "metadata": {
    "colab": {
     "base_uri": "https://localhost:8080/",
     "height": 283
    },
    "id": "PbTqj8_IPRzN",
    "outputId": "00eaa531-7630-4628-ffa7-1d8fe833f76e"
   },
   "outputs": [],
   "source": [
    "plt.plot(running_loss_history, label = 'training loss')\n",
    "plt.plot(valid_loss_history, label = 'validation loss')\n",
    "plt.legend()"
   ]
  },
  {
   "cell_type": "code",
   "execution_count": null,
   "metadata": {
    "colab": {
     "base_uri": "https://localhost:8080/",
     "height": 283
    },
    "id": "q2lkVggyWaOY",
    "outputId": "4ed7f37e-84d2-497d-9aad-97d47445e558"
   },
   "outputs": [],
   "source": [
    "plt.plot(running_correct_history, label = 'training score')\n",
    "plt.plot(valid_correct_history, label = 'validation score')\n",
    "plt.legend()"
   ]
  },
  {
   "cell_type": "code",
   "execution_count": null,
   "metadata": {
    "colab": {
     "base_uri": "https://localhost:8080/"
    },
    "id": "qQOPLhlRWcrn",
    "outputId": "d1ceadd0-f99d-4d85-a497-96639af1962c"
   },
   "outputs": [],
   "source": [
    "torch.cuda.current_device()"
   ]
  },
  {
   "cell_type": "code",
   "execution_count": null,
   "metadata": {
    "colab": {
     "base_uri": "https://localhost:8080/"
    },
    "id": "Y3LwYMCPWoum",
    "outputId": "5db94f0b-d681-4b55-bb57-c7c75ef4ce1d"
   },
   "outputs": [],
   "source": [
    "torch.cuda.device_count()"
   ]
  },
  {
   "cell_type": "code",
   "execution_count": null,
   "metadata": {
    "colab": {
     "base_uri": "https://localhost:8080/",
     "height": 35
    },
    "id": "W8JyvjGuWtqn",
    "outputId": "78b1a9b9-b36c-4021-8950-863d1582c04b"
   },
   "outputs": [],
   "source": [
    "torch.cuda.get_device_name(0)"
   ]
  },
  {
   "cell_type": "code",
   "execution_count": null,
   "metadata": {
    "colab": {
     "base_uri": "https://localhost:8080/"
    },
    "id": "4DVN9CotWyF2",
    "outputId": "f9e049d5-1dc4-434a-c9b0-e03d703de411"
   },
   "outputs": [],
   "source": [
    "torch.cuda.get_device_capability(0)"
   ]
  },
  {
   "cell_type": "code",
   "execution_count": 70,
   "metadata": {},
   "outputs": [
    {
     "name": "stdout",
     "output_type": "stream",
     "text": [
      "ant is Complete\n",
      "bicycle is Complete\n",
      "bird is Complete\n",
      "butterfly is Complete\n",
      "camel is Complete\n",
      "clock is Complete\n",
      "cow is Complete\n",
      "diamond is Complete\n",
      "result shape : (80000, 784) & (80000,)\n"
     ]
    }
   ],
   "source": [
    "def make_ndarray(target_list, each_size) :\n",
    "    # 784 means bitmap size\n",
    "    data = np.empty((len(target_list)*each_size, 784))\n",
    "    target = np.empty((len(target_list)*each_size))\n",
    "    for label, filename in enumerate(target_list) :\n",
    "        npy = np.load('./{}.npy'.format(filename))\n",
    "        tmp = np.arange(npy.shape[0])\n",
    "        idx = np.random.choice(tmp, each_size, replace=False)\n",
    "        data[label*each_size:(label+1)*each_size] = npy[idx]\n",
    "        target[label*each_size:(label+1)*each_size] = label\n",
    "        print('{} is Complete'.format(filename))\n",
    "    s_idx = np.arange(target.shape[0])\n",
    "    np.random.shuffle(s_idx)\n",
    "    data = data[s_idx]\n",
    "    target = target[s_idx]\n",
    "    print('result shape : {0} & {1}'.format(data.shape, target.shape))\n",
    "    return data, target\n",
    "\n",
    "target_list = ['ant', 'bicycle', 'bird', 'butterfly', 'camel', 'clock', 'cow', 'diamond']\n",
    "data, target = make_ndarray(target_list=target_list, each_size=10000)"
   ]
  },
  {
   "cell_type": "code",
   "execution_count": 71,
   "metadata": {},
   "outputs": [
    {
     "data": {
      "text/plain": [
       "numpy.ndarray"
      ]
     },
     "execution_count": 71,
     "metadata": {},
     "output_type": "execute_result"
    }
   ],
   "source": [
    "# data = torch.Tensor(data).float()\n",
    "type(data)"
   ]
  },
  {
   "cell_type": "code",
   "execution_count": 72,
   "metadata": {},
   "outputs": [
    {
     "data": {
      "text/plain": [
       "numpy.ndarray"
      ]
     },
     "execution_count": 72,
     "metadata": {},
     "output_type": "execute_result"
    }
   ],
   "source": [
    "# target = torch.Tensor(target).float()\n",
    "type(target)"
   ]
  },
  {
   "cell_type": "code",
   "execution_count": 57,
   "metadata": {},
   "outputs": [],
   "source": [
    "class Custom_Dataset(Dataset):\n",
    "    \n",
    "    def __init__(self, file_list, each_size = 10000, transform = None):\n",
    "        self.file_list = file_list\n",
    "        self.transform = transform\n",
    "        self.data_len = each_size*len(file_list)\n",
    "        self.data = \n",
    "    \n",
    "    def __len__(self):\n",
    "        return self.data_len\n",
    "        \n",
    "    def __getitem__(self, idx):\n",
    "        return self.data[idx]"
   ]
  },
  {
   "cell_type": "code",
   "execution_count": 77,
   "metadata": {},
   "outputs": [
    {
     "data": {
      "text/plain": [
       "array([ 0.00000000e+00,  0.00000000e+00,  0.00000000e+00,  0.00000000e+00,\n",
       "        0.00000000e+00,  0.00000000e+00,  0.00000000e+00,  0.00000000e+00,\n",
       "        0.00000000e+00,  0.00000000e+00,  0.00000000e+00,  0.00000000e+00,\n",
       "        0.00000000e+00,  0.00000000e+00,  0.00000000e+00,  0.00000000e+00,\n",
       "        0.00000000e+00,  0.00000000e+00,  0.00000000e+00,  0.00000000e+00,\n",
       "        0.00000000e+00,  0.00000000e+00,  0.00000000e+00,  0.00000000e+00,\n",
       "        0.00000000e+00,  0.00000000e+00,  0.00000000e+00,  0.00000000e+00,\n",
       "        0.00000000e+00, -2.50986249e-02, -4.74331975e-02, -6.92232569e-02,\n",
       "       -9.30600482e-02, -1.16966903e-01, -1.37029214e-01, -1.56637242e-01,\n",
       "       -1.77539744e-01, -2.00796350e-01, -2.24978638e-01,  1.41184753e-01,\n",
       "        4.21084714e+00,  4.27193595e+00,  4.47989908e+00,  4.09906534e+00,\n",
       "        3.20043353e+00,  1.02683535e+00, -2.25481320e-01, -2.03928461e-01,\n",
       "       -1.84805921e-01, -1.66271040e-01, -1.44405252e-01, -1.20377475e-01,\n",
       "       -9.39051476e-02, -6.36418284e-02, -3.32742456e-02,  0.00000000e+00,\n",
       "        0.00000000e+00, -5.62545281e-02, -9.35304084e-02, -1.31719722e-01,\n",
       "       -1.66023175e-01, -2.00929470e-01, -2.36565766e-01, -2.71676944e-01,\n",
       "       -3.08011885e-01, -3.44406661e-01, -2.03491627e-01,  2.29706629e+00,\n",
       "        2.80820744e+00,  2.71296009e+00,  2.70614378e+00,  2.76749273e+00,\n",
       "        2.90062190e+00,  3.07083691e+00,  1.78750370e+00, -1.84014903e-01,\n",
       "       -3.08620525e-01, -2.74496812e-01, -2.38474597e-01, -2.03768577e-01,\n",
       "       -1.66423082e-01, -1.22255721e-01, -7.24854696e-02,  0.00000000e+00,\n",
       "        0.00000000e+00, -9.41135380e-02, -1.51916037e-01, -2.02597499e-01,\n",
       "       -2.51745576e-01, -3.00424145e-01, -3.48935753e-01, -3.95871091e-01,\n",
       "       -4.35210209e-01, -4.37965026e-01,  1.76472251e+00,  2.63948476e+00,\n",
       "        9.10007011e-01,  8.09543561e-01,  1.07802147e+00,  1.12633038e+00,\n",
       "        2.61590576e-01,  1.28033346e+00,  2.74644942e+00,  1.74742786e+00,\n",
       "       -4.30746487e-01, -3.91488648e-01, -3.44068947e-01, -2.98731663e-01,\n",
       "       -2.51615609e-01, -1.93015134e-01, -1.21588341e-01,  0.00000000e+00,\n",
       "        0.00000000e+00, -1.39336524e-01, -2.17049775e-01, -2.86465708e-01,\n",
       "       -3.45048198e-01, -4.04713394e-01, -4.59998294e-01, -4.99360471e-01,\n",
       "       -5.16283146e-01,  8.09938526e-01,  2.61324560e+00,  6.77106387e-01,\n",
       "       -1.07912274e-01,  2.48254292e+00,  2.55935787e+00,  2.60672792e+00,\n",
       "        3.18631373e-01, -5.11164321e-01,  8.69306694e-01,  2.53201032e+00,\n",
       "        1.70657135e+00,  8.24535593e-01, -1.46012310e-01, -3.97036408e-01,\n",
       "       -3.42659597e-01, -2.70170477e-01, -1.78278955e-01,  0.00000000e+00,\n",
       "        0.00000000e+00, -1.90998441e-01, -2.91290791e-01, -3.81060758e-01,\n",
       "       -4.53975245e-01, -5.21192771e-01, -5.67038028e-01, -5.83717071e-01,\n",
       "       -4.84770546e-01,  2.11280313e+00,  1.60536241e+00, -5.55280992e-01,\n",
       "       -3.35726915e-01,  1.91269122e+00,  1.04355670e+00,  6.15610434e-01,\n",
       "       -5.49714555e-01, -5.51743949e-01, -5.38947607e-01,  2.19306601e+00,\n",
       "        2.12585343e+00,  2.25653022e+00,  2.19005171e+00,  2.82141072e-01,\n",
       "       -4.44865734e-01, -3.52349589e-01, -2.37266908e-01,  0.00000000e+00,\n",
       "        0.00000000e+00, -2.44259021e-01, -3.76077054e-01, -4.91010554e-01,\n",
       "       -5.70161001e-01, -6.28808575e-01, -6.50980625e-01, -6.43721057e-01,\n",
       "        1.47914940e-01,  2.25902274e+00,  1.56426928e-01, -6.08996504e-01,\n",
       "       -6.29876881e-01, -6.44552695e-01, -6.34072137e-01, -6.14363218e-01,\n",
       "       -6.03647103e-01, -6.01334067e-01, -4.87832654e-01,  1.85072656e+00,\n",
       "        1.93223378e+00,  2.02681407e+00,  1.81411404e+00,  1.50233426e-01,\n",
       "       -5.54822004e-01, -4.40993058e-01, -2.95066654e-01,  0.00000000e+00,\n",
       "        0.00000000e+00, -3.00197617e-01, -4.65635095e-01, -6.07161101e-01,\n",
       "       -6.79578612e-01, -7.11362210e-01, -7.06665715e-01, -6.88826051e-01,\n",
       "        1.40232765e-01,  2.08570600e+00, -1.60448012e-01, -6.75029593e-01,\n",
       "       -7.06503234e-01, -7.24597460e-01, -7.10474470e-01, -6.84473435e-01,\n",
       "       -6.68939475e-01, -6.64517904e-01,  2.93161364e-01,  1.99444553e+00,\n",
       "        1.75345441e+00,  1.46725911e-01, -6.74393932e-01, -7.14539578e-01,\n",
       "       -6.63250275e-01, -5.30816543e-01, -3.51808676e-01,  0.00000000e+00,\n",
       "        0.00000000e+00, -3.52824570e-01, -5.56115615e-01, -7.19126500e-01,\n",
       "       -7.62849832e-01, -7.60580865e-01, -7.44668648e-01, -7.31470926e-01,\n",
       "       -1.67119523e-01,  1.90652315e+00,  1.84780824e-01, -7.51998038e-01,\n",
       "       -7.92773733e-01, -8.16536594e-01, -7.97893573e-01, -7.64268941e-01,\n",
       "       -7.42680852e-01, -7.32891666e-01, -7.22529927e-01,  1.55552854e+00,\n",
       "        9.47191629e-01, -7.64552151e-01, -7.79681729e-01, -7.82093404e-01,\n",
       "       -7.59461302e-01, -6.12013883e-01, -4.01259758e-01,  0.00000000e+00,\n",
       "        0.00000000e+00, -4.02541181e-01, -6.41849406e-01, -8.05654722e-01,\n",
       "       -8.08466600e-01, -7.85377701e-01, -7.70571935e-01, -7.66427300e-01,\n",
       "       -7.65104562e-01,  1.34989772e+00,  1.14790697e+00, -8.16175199e-01,\n",
       "       -8.64334876e-01, -8.90081661e-01, -8.68968225e-01, -8.30281598e-01,\n",
       "       -8.01908030e-01, -7.83777944e-01, -4.76840401e-01,  1.78163614e+00,\n",
       "        2.38232673e-01, -7.90882768e-01, -8.03543040e-01, -8.24115933e-01,\n",
       "       -8.29784648e-01, -6.80183973e-01, -4.40000366e-01,  0.00000000e+00,\n",
       "        0.00000000e+00, -4.44417902e-01, -7.12264605e-01, -8.66690391e-01,\n",
       "       -8.29980573e-01, -8.05501497e-01, -7.95125496e-01, -7.94128781e-01,\n",
       "       -7.90682997e-01,  2.69947861e-01,  1.70319273e+00, -4.54955024e-01,\n",
       "       -8.90829831e-01, -9.14831341e-01, -8.91756068e-01, -8.51316343e-01,\n",
       "       -8.20982682e-01, -8.01204917e-01,  2.27149251e-01,  1.73362621e+00,\n",
       "       -4.50385553e-01, -8.13850398e-01, -8.21030039e-01, -8.37111006e-01,\n",
       "       -8.63584199e-01, -7.24998313e-01, -4.66902223e-01,  0.00000000e+00,\n",
       "        0.00000000e+00, -4.78239836e-01, -7.62101923e-01, -8.99949086e-01,\n",
       "       -8.44560942e-01, -8.30962320e-01, -8.25307706e-01, -8.17821986e-01,\n",
       "       -8.03424546e-01, -2.53605136e-01,  1.69366503e+00, -2.05205108e-01,\n",
       "       -8.78354698e-01, -8.97307250e-01, -8.71271624e-01, -8.33905095e-01,\n",
       "       -8.04254995e-01, -7.62758697e-01,  1.34610508e+00,  1.13154927e+00,\n",
       "       -8.34662096e-01, -8.49845603e-01, -8.49618193e-01, -8.42943939e-01,\n",
       "       -8.70722503e-01, -7.45152044e-01, -4.82336364e-01,  0.00000000e+00,\n",
       "        0.00000000e+00, -5.05374033e-01, -7.88447492e-01, -9.08225179e-01,\n",
       "       -8.55747666e-01, -2.35519241e-01,  3.02281659e-01,  3.18151205e-01,\n",
       "        3.66465230e-01,  8.35082860e-01,  1.71895608e+00, -2.93898273e-01,\n",
       "       -8.49565675e-01, -8.64082609e-01, -8.39988033e-01, -8.06708224e-01,\n",
       "       -7.86579421e-01,  1.38572271e-01,  1.70572782e+00, -1.33132367e-01,\n",
       "       -8.71146548e-01, -8.90282601e-01, -8.81083970e-01, -8.49808813e-01,\n",
       "       -8.61826501e-01, -7.51681260e-01, -4.92094138e-01,  0.00000000e+00,\n",
       "        0.00000000e+00, -5.20295566e-01, -7.99630574e-01, -8.94624848e-01,\n",
       "       -7.99783066e-01,  1.53163701e+00,  1.57374907e+00,  1.59493745e+00,\n",
       "        1.64183401e+00,  1.58023066e+00,  9.56461117e-01, -6.81837609e-01,\n",
       "       -8.29294162e-01, -8.39926562e-01, -8.22225518e-01, -7.96454538e-01,\n",
       "       -4.94474771e-01,  1.42723312e+00,  1.13714663e+00, -8.58170110e-01,\n",
       "       -8.95905139e-01, -9.08317417e-01, -8.83155307e-01, -8.36961728e-01,\n",
       "       -8.45239037e-01, -7.53525697e-01, -4.99719167e-01,  0.00000000e+00,\n",
       "        0.00000000e+00, -5.23125935e-01, -7.96204336e-01, -8.68900384e-01,\n",
       "       -8.16125529e-01,  3.71537076e-01,  1.58123753e+00,  8.07473194e-01,\n",
       "       -2.21182711e-01, -8.06313430e-01, -7.98134912e-01, -8.08444364e-01,\n",
       "       -8.28681900e-01, -8.33612057e-01,  4.33137019e-01,  1.73812256e-02,\n",
       "        1.39403491e+00,  1.50236580e+00, -3.94007420e-01, -8.79326943e-01,\n",
       "       -9.05474887e-01, -8.94198013e-01, -8.47461278e-01, -7.94151819e-01,\n",
       "       -8.21867574e-01, -7.52365035e-01, -5.00643450e-01,  0.00000000e+00,\n",
       "        0.00000000e+00, -5.19943875e-01, -7.80946763e-01, -8.29120372e-01,\n",
       "       -7.58949380e-01, -7.87754631e-01,  2.82704980e-01,  1.36806531e+00,\n",
       "        1.59307001e+00,  1.42144475e+00,  1.19496398e+00,  9.67586797e-01,\n",
       "        8.11852572e-01,  6.46760846e-01,  1.61676674e+00,  1.64043375e+00,\n",
       "        1.42587944e+00, -4.12222268e-01, -8.64156526e-01, -8.87125045e-01,\n",
       "       -8.85978821e-01, -8.46400312e-01, -7.84985207e-01, -7.36873521e-01,\n",
       "       -7.87834426e-01, -7.41571561e-01, -4.96325784e-01,  0.00000000e+00,\n",
       "        0.00000000e+00, -5.05153897e-01, -7.47285152e-01, -7.80520840e-01,\n",
       "       -7.00127635e-01, -7.24721855e-01, -7.79369270e-01, -7.68087031e-01,\n",
       "        2.70684343e-03,  1.56983615e+00,  1.23872771e+00,  1.00539553e+00,\n",
       "        1.15931938e+00,  1.31855707e+00,  1.63512710e+00,  1.04765607e+00,\n",
       "       -5.59616375e-01, -8.52097386e-01, -8.63657574e-01, -8.62618006e-01,\n",
       "       -8.33230273e-01, -7.78230334e-01, -7.18900885e-01, -6.86172019e-01,\n",
       "       -7.51072725e-01, -7.11858467e-01, -4.77734532e-01,  0.00000000e+00,\n",
       "        0.00000000e+00, -4.70261395e-01, -6.95757721e-01, -7.35254079e-01,\n",
       "       -6.57940492e-01, -6.72340328e-01, -7.17776710e-01, -7.72733939e-01,\n",
       "       -3.38610922e-01,  1.62074467e+00, -8.72985910e-02, -8.42745630e-01,\n",
       "       -8.24233887e-01, -8.10691696e-01,  1.57997878e+00,  4.73372393e-01,\n",
       "       -8.32917462e-01, -8.44451565e-01, -8.43344759e-01, -8.16847373e-01,\n",
       "       -7.68668785e-01, -7.12206198e-01, -6.67336035e-01, -6.52985447e-01,\n",
       "       -7.13980950e-01, -6.60627597e-01, -4.40220842e-01,  0.00000000e+00,\n",
       "        0.00000000e+00, -4.14903747e-01, -6.25685381e-01, -6.94810387e-01,\n",
       "       -6.41618466e-01, -6.41544819e-01, -6.70120013e-01, -7.17790566e-01,\n",
       "        2.33387738e-01,  1.68699973e+00, -5.59827867e-01, -8.16993479e-01,\n",
       "       -7.93790049e-01, -7.76320970e-01,  1.63988818e+00,  5.15368152e-01,\n",
       "       -8.05674925e-01, -8.17581263e-01, -8.08170395e-01, -7.68175260e-01,\n",
       "       -7.15775212e-01, -6.70304816e-01, -6.41155395e-01, -6.38312096e-01,\n",
       "       -6.70979415e-01, -5.89962348e-01, -3.86908955e-01,  0.00000000e+00,\n",
       "        0.00000000e+00, -3.48201395e-01, -5.40370438e-01, -6.40130738e-01,\n",
       "       -6.34302974e-01, -6.33552555e-01, -6.44048080e-01, -6.73600495e-01,\n",
       "        8.67021984e-01,  1.57951513e+00, -7.81414577e-01, -7.77316942e-01,\n",
       "       -7.55946847e-01, -5.15508649e-01,  1.78755207e+00,  6.26818862e-01,\n",
       "       -7.68770607e-01, -7.68885895e-01, -7.50793027e-01, -7.15503716e-01,\n",
       "       -6.77258909e-01, -6.45637257e-01, -6.32169723e-01, -6.20895608e-01,\n",
       "       -6.11482811e-01, -5.04414913e-01, -3.21344365e-01,  0.00000000e+00,\n",
       "        0.00000000e+00, -2.80272779e-01, -4.43276529e-01, -5.62080904e-01,\n",
       "       -6.05211673e-01, -6.21441302e-01, -6.23998671e-01, -6.24662445e-01,\n",
       "        1.90926008e+00,  1.62963828e+00, -7.17880710e-01, -7.24545465e-01,\n",
       "       -7.13639484e-01,  4.84397365e-01,  1.94202689e+00,  1.46844839e+00,\n",
       "       -7.14036887e-01, -7.06721721e-01, -6.84341247e-01, -6.58660083e-01,\n",
       "       -6.37575074e-01, -6.24582601e-01, -6.10119442e-01, -5.81182828e-01,\n",
       "       -5.26961645e-01, -4.11144030e-01, -2.52244831e-01,  0.00000000e+00,\n",
       "        0.00000000e+00, -2.15278927e-01, -3.48651189e-01, -4.63611535e-01,\n",
       "       -5.38327436e-01, -5.86243144e-01, -5.05884652e-01,  1.57437832e+00,\n",
       "        2.27494323e+00,  1.97870011e+00, -6.30528918e-01, -6.58308535e-01,\n",
       "        3.73002819e-02,  2.03483088e+00,  2.01361026e+00,  2.08760189e+00,\n",
       "        4.77346228e-01, -6.31649638e-01, -6.12141467e-01, -5.98127442e-01,\n",
       "       -5.93768950e-01, -5.85029243e-01, -5.59780937e-01, -5.04666660e-01,\n",
       "       -4.29906066e-01, -3.19375736e-01, -1.92353665e-01,  0.00000000e+00,\n",
       "        0.00000000e+00, -1.56273080e-01, -2.62682994e-01, -3.60111634e-01,\n",
       "       -4.40463486e-01, -5.07963196e-01,  1.09371476e+00,  2.44295215e+00,\n",
       "        1.98692806e+00,  2.45488882e+00,  4.17821362e-01, -5.89192672e-01,\n",
       "        1.52865639e+00,  1.79789951e+00, -4.30267449e-01,  1.34187305e+00,\n",
       "        2.27227064e+00,  6.43685817e-02, -5.44255271e-01, -5.41176386e-01,\n",
       "       -5.38747686e-01, -5.20373111e-01, -4.74330251e-01, -4.07522319e-01,\n",
       "       -3.31436650e-01, -2.38032817e-01, -1.40580758e-01,  0.00000000e+00,\n",
       "        0.00000000e+00, -1.09887032e-01, -1.90783100e-01, -2.67074573e-01,\n",
       "       -3.35082105e-01,  4.03674892e-01,  2.88123757e+00,  2.51709407e+00,\n",
       "        1.49160398e+00,  1.95565420e+00,  2.20185013e+00, -6.62085897e-02,\n",
       "        2.41693961e+00,  7.20717681e-01, -5.52275879e-01, -3.94807442e-01,\n",
       "        2.09076796e+00,  2.31167726e+00, -2.40794138e-01, -4.83853396e-01,\n",
       "       -4.66009173e-01, -4.27793410e-01, -3.71377904e-01, -3.07086329e-01,\n",
       "       -2.42106365e-01, -1.70881618e-01, -9.76441156e-02,  0.00000000e+00,\n",
       "        0.00000000e+00, -7.04004555e-02, -1.29232363e-01, -1.87197560e-01,\n",
       "       -8.15372273e-02,  3.72543620e+00,  3.30828870e+00,  2.19513713e+00,\n",
       "        2.50736372e+00,  3.60163749e-01,  2.80019486e+00,  9.44546802e-01,\n",
       "        1.22945453e+00, -3.54457445e-01, -5.19985995e-01, -5.04787790e-01,\n",
       "        9.75334791e-02,  2.78418264e+00,  2.04078864e+00, -3.79883157e-01,\n",
       "       -3.68336305e-01, -3.19803427e-01, -2.67153873e-01, -2.16739094e-01,\n",
       "       -1.67301693e-01, -1.15089998e-01, -6.37273499e-02,  0.00000000e+00,\n",
       "        0.00000000e+00, -4.21111458e-02, -7.89184335e-02, -1.16887444e-01,\n",
       "        3.67808627e+00,  6.89550697e+00,  1.26481817e+00,  1.76768211e+00,\n",
       "        4.16884538e+00,  4.48446595e-02,  2.22863697e+00,  2.13099299e+00,\n",
       "       -4.36865491e-01, -4.51728737e-01, -4.48318818e-01, -4.26582023e-01,\n",
       "       -3.94427865e-01,  1.00397717e+00,  3.90044630e+00,  3.09933351e-01,\n",
       "       -2.44795353e-01, -2.06291080e-01, -1.69865736e-01, -1.36195626e-01,\n",
       "       -1.03727016e-01, -6.93397079e-02, -3.65345211e-02,  0.00000000e+00,\n",
       "        0.00000000e+00, -1.85713614e-02, -3.93615835e-02, -6.24511034e-02,\n",
       "        5.29247654e+00,  9.83263767e+00, -1.29082062e-01,  8.42728305e-01,\n",
       "        7.03639670e+00, -1.13014458e-02,  3.68962860e-01,  7.19089867e-01,\n",
       "       -2.97441844e-01, -3.17508482e-01, -3.12701345e-01, -2.88060839e-01,\n",
       "       -2.55153895e-01, -2.19869248e-01,  5.51935615e-01, -1.57933736e-01,\n",
       "       -1.34127598e-01, -1.13399168e-01, -9.50356246e-02, -7.41100494e-02,\n",
       "       -5.34988338e-02, -3.40863772e-02, -1.69497414e-02,  0.00000000e+00,\n",
       "        0.00000000e+00,  0.00000000e+00,  0.00000000e+00,  0.00000000e+00,\n",
       "        0.00000000e+00,  0.00000000e+00,  0.00000000e+00,  0.00000000e+00,\n",
       "        0.00000000e+00,  0.00000000e+00,  0.00000000e+00,  0.00000000e+00,\n",
       "        0.00000000e+00,  0.00000000e+00,  0.00000000e+00,  0.00000000e+00,\n",
       "        0.00000000e+00,  0.00000000e+00,  0.00000000e+00,  0.00000000e+00,\n",
       "        0.00000000e+00,  0.00000000e+00,  0.00000000e+00,  0.00000000e+00,\n",
       "        0.00000000e+00,  0.00000000e+00,  0.00000000e+00,  0.00000000e+00])"
      ]
     },
     "execution_count": 77,
     "metadata": {},
     "output_type": "execute_result"
    }
   ],
   "source": [
    "from sklearn.preprocessing import StandardScaler\n",
    "std_scaler = StandardScaler()\n",
    "std_scaler.fit(data)\n",
    "data_scaled = std_scaler.transform(data)"
   ]
  },
  {
   "cell_type": "code",
   "execution_count": 172,
   "metadata": {},
   "outputs": [],
   "source": [
    "X = torch.Tensor(data_scaled)\n",
    "y = torch.Tensor(target).long()"
   ]
  },
  {
   "cell_type": "code",
   "execution_count": 173,
   "metadata": {},
   "outputs": [
    {
     "name": "stdout",
     "output_type": "stream",
     "text": [
      "<class 'torch.Tensor'>\n",
      "<class 'torch.Tensor'>\n"
     ]
    }
   ],
   "source": [
    "print(type(X))\n",
    "print(type(y))"
   ]
  },
  {
   "cell_type": "code",
   "execution_count": 174,
   "metadata": {},
   "outputs": [],
   "source": [
    "from sklearn.model_selection import train_test_split\n",
    "X_train, X_test, y_train, y_test = train_test_split(X, y, test_size = 0.2, random_state = 42)"
   ]
  },
  {
   "cell_type": "code",
   "execution_count": 175,
   "metadata": {},
   "outputs": [],
   "source": [
    "from torch.utils.data import TensorDataset"
   ]
  },
  {
   "cell_type": "code",
   "execution_count": 176,
   "metadata": {},
   "outputs": [],
   "source": [
    "train_data = TensorDataset(X_train, y_train)\n",
    "test_data = TensorDataset(X_test, y_test)"
   ]
  },
  {
   "cell_type": "code",
   "execution_count": 177,
   "metadata": {},
   "outputs": [],
   "source": [
    "train_loader = DataLoader(train_data, batch_size = 100, shuffle = True, num_workers = 2)\n",
    "test_loader = DataLoader(test_data, batch_size = 100, shuffle = True, num_workers = 2)"
   ]
  },
  {
   "cell_type": "code",
   "execution_count": 178,
   "metadata": {},
   "outputs": [
    {
     "data": {
      "text/plain": [
       "torch.Size([100, 784])"
      ]
     },
     "execution_count": 178,
     "metadata": {},
     "output_type": "execute_result"
    }
   ],
   "source": [
    "dataiter = iter(train_loader)\n",
    "batch_image, batch_label = dataiter.next()\n",
    "batch_image.shape"
   ]
  },
  {
   "cell_type": "code",
   "execution_count": 107,
   "metadata": {},
   "outputs": [],
   "source": [
    "temp_image = batch_image[3]\n",
    "temp_label = batch_label[3]"
   ]
  },
  {
   "cell_type": "code",
   "execution_count": 108,
   "metadata": {},
   "outputs": [],
   "source": [
    "def show_image(img, label) :\n",
    "    np_img = img.numpy().reshape(28, 28)\n",
    "    plt.imshow(np_img, cmap = 'binary')\n",
    "    plt.title(label)"
   ]
  },
  {
   "cell_type": "code",
   "execution_count": 109,
   "metadata": {},
   "outputs": [
    {
     "data": {
      "image/png": "[encoded data removed]",
      "text/plain": [
       "<Figure size 432x288 with 1 Axes>"
      ]
     },
     "metadata": {
      "needs_background": "light"
     },
     "output_type": "display_data"
    }
   ],
   "source": [
    "show_image(temp_image, temp_label)"
   ]
  },
  {
   "cell_type": "code",
   "execution_count": 220,
   "metadata": {},
   "outputs": [],
   "source": [
    "class Quickdraw_model(nn.Module):\n",
    "    \n",
    "    def __init__(self, D_in, H_1, H_2, D_out):\n",
    "        super(Quickdraw_model, self).__init__()\n",
    "        self.layer1 = nn.Linear(D_in, H_1)\n",
    "        self.layer2 = nn.Linear(H_1, H_2)\n",
    "        self.layer3 = nn.Linear(H_2, D_out)\n",
    "        \n",
    "    def forward(self, x):\n",
    "        hidden_1 = F.relu(self.layer1(x))\n",
    "        hidden_2 = F.relu(self.layer2(hidden_1))\n",
    "        out_before = self.layer3(hidden_2)\n",
    "        output = F.softmax(out_before, dim = 1)\n",
    "        return output"
   ]
  },
  {
   "cell_type": "code",
   "execution_count": 205,
   "metadata": {},
   "outputs": [
    {
     "data": {
      "image/png": "[encoded data removed]",
      "text/plain": [
       "<Figure size 432x288 with 1 Axes>"
      ]
     },
     "metadata": {
      "needs_background": "light"
     },
     "output_type": "display_data"
    }
   ],
   "source": [
    "show_image(torch.Tensor(data[0]), target[0])"
   ]
  },
  {
   "cell_type": "code",
   "execution_count": 221,
   "metadata": {},
   "outputs": [],
   "source": [
    "qd_model = Quickdraw_model(28*28, 125, 64, 8)"
   ]
  },
  {
   "cell_type": "code",
   "execution_count": 240,
   "metadata": {},
   "outputs": [],
   "source": [
    "train_loss_history = []\n",
    "test_loss_history = []\n",
    "train_accuracy_history = []\n",
    "test_accuracy_history = []"
   ]
  },
  {
   "cell_type": "code",
   "execution_count": 241,
   "metadata": {},
   "outputs": [],
   "source": [
    "epoch = 15"
   ]
  },
  {
   "cell_type": "code",
   "execution_count": 242,
   "metadata": {},
   "outputs": [],
   "source": [
    "criterion = nn.CrossEntropyLoss()"
   ]
  },
  {
   "cell_type": "code",
   "execution_count": 247,
   "metadata": {},
   "outputs": [],
   "source": [
    "optimizer = optim.Adam(qd_model.parameters(), lr = 0.0005)"
   ]
  },
  {
   "cell_type": "code",
   "execution_count": 248,
   "metadata": {},
   "outputs": [
    {
     "name": "stdout",
     "output_type": "stream",
     "text": [
      "loss1/ tr_ls : 1.3461501, tr_ac : 92.7843781, ts_ls : 1.4380106, ts_ac : 83.5374985\n",
      "loss2/ tr_ls : 1.3432241, tr_ac : 93.0718765, ts_ls : 1.4379434, ts_ac : 83.5187531\n",
      "loss3/ tr_ls : 1.3422827, tr_ac : 93.1624985, ts_ls : 1.4365637, ts_ac : 83.6875000\n",
      "loss4/ tr_ls : 1.3416283, tr_ac : 93.2312469, ts_ls : 1.4389209, ts_ac : 83.3750000\n",
      "loss5/ tr_ls : 1.3413006, tr_ac : 93.2609406, ts_ls : 1.4374304, ts_ac : 83.5999985\n",
      "loss6/ tr_ls : 1.3401232, tr_ac : 93.3843765, ts_ls : 1.4361117, ts_ac : 83.7562485\n",
      "loss7/ tr_ls : 1.3403174, tr_ac : 93.3625031, ts_ls : 1.4379596, ts_ac : 83.4937515\n",
      "loss8/ tr_ls : 1.3396394, tr_ac : 93.4328156, ts_ls : 1.4367725, ts_ac : 83.6250000\n",
      "loss9/ tr_ls : 1.3390902, tr_ac : 93.4968719, ts_ls : 1.4359322, ts_ac : 83.7562485\n",
      "loss10/ tr_ls : 1.3386119, tr_ac : 93.5343781, ts_ls : 1.4385544, ts_ac : 83.4437485\n",
      "loss11/ tr_ls : 1.3388957, tr_ac : 93.5000000, ts_ls : 1.4373415, ts_ac : 83.5937500\n",
      "loss12/ tr_ls : 1.3385066, tr_ac : 93.5500031, ts_ls : 1.4378879, ts_ac : 83.5437469\n",
      "loss13/ tr_ls : 1.3384020, tr_ac : 93.5671844, ts_ls : 1.4380595, ts_ac : 83.5374985\n",
      "loss14/ tr_ls : 1.3378473, tr_ac : 93.6265640, ts_ls : 1.4367709, ts_ac : 83.6562500\n",
      "loss15/ tr_ls : 1.3371642, tr_ac : 93.6781235, ts_ls : 1.4379224, ts_ac : 83.5312500\n"
     ]
    }
   ],
   "source": [
    "for i in range(epoch) :\n",
    "    \n",
    "    train_loss, test_loss = 0.0, 0.0\n",
    "    train_accuracy, test_accuracy = 0.0, 0.0\n",
    "    \n",
    "    for train_image, train_label in train_loader:\n",
    "        train_output = qd_model.forward(train_image)\n",
    "        # Get batch loss\n",
    "        t_loss = criterion(train_output, train_label)\n",
    "        # Initializing weight\n",
    "        optimizer.zero_grad()\n",
    "        # Backpropagation\n",
    "        t_loss.backward()\n",
    "        # Update weight\n",
    "        optimizer.step()\n",
    "        _, t_pred = torch.max(train_output, 1)\n",
    "        \n",
    "        train_loss += t_loss.item()\n",
    "        train_accuracy += torch.sum(t_pred==train_label.data)\n",
    "        \n",
    "    avg_train_loss = train_loss/len(train_loader)\n",
    "    train_loss_history.append(avg_train_loss)\n",
    "    \n",
    "    avg_train_accuracy = train_accuracy/len(train_loader)    \n",
    "    train_accuracy_history.append(avg_train_accuracy)\n",
    "    \n",
    "    with torch.no_grad():\n",
    "        for test_image, test_label in test_loader:\n",
    "            test_output = qd_model.forward(test_image)\n",
    "            v_loss = criterion(test_output, test_label)\n",
    "            _, v_pred = torch.max(test_output, 1)\n",
    "            \n",
    "            test_loss += v_loss.item()\n",
    "            test_accuracy += torch.sum(v_pred == test_label.data)\n",
    "        \n",
    "        avg_test_loss = test_loss/len(test_loader)\n",
    "        test_loss_history.append(avg_test_loss)\n",
    "        \n",
    "        avg_test_accuracy = test_accuracy/len(test_loader)\n",
    "        test_accuracy_history.append(avg_test_accuracy)\n",
    "    \n",
    "    print('loss{0}/ tr_ls : {1:.7f}, tr_ac : {2:.7f}, ts_ls : {3:.7f}, ts_ac : {4:.7f}'.format(i+1, avg_train_loss, avg_train_accuracy, avg_test_loss, avg_test_accuracy))"
   ]
  },
  {
   "cell_type": "code",
   "execution_count": 249,
   "metadata": {},
   "outputs": [
    {
     "data": {
      "text/plain": [
       "<matplotlib.legend.Legend at 0x1cb6213a190>"
      ]
     },
     "execution_count": 249,
     "metadata": {},
     "output_type": "execute_result"
    },
    {
     "data": {
      "image/png": "[encoded data removed]",
      "text/plain": [
       "<Figure size 432x288 with 1 Axes>"
      ]
     },
     "metadata": {
      "needs_background": "light"
     },
     "output_type": "display_data"
    }
   ],
   "source": [
    "plt.plot(train_loss_history, label = 'train_loss')\n",
    "plt.plot(test_loss_history, label = 'test_loss')\n",
    "plt.legend()"
   ]
  },
  {
   "cell_type": "code",
   "execution_count": 250,
   "metadata": {},
   "outputs": [
    {
     "data": {
      "text/plain": [
       "<matplotlib.legend.Legend at 0x1cb61f40790>"
      ]
     },
     "execution_count": 250,
     "metadata": {},
     "output_type": "execute_result"
    },
    {
     "data": {
      "image/png": "[encoded data removed]",
      "text/plain": [
       "<Figure size 432x288 with 1 Axes>"
      ]
     },
     "metadata": {
      "needs_background": "light"
     },
     "output_type": "display_data"
    }
   ],
   "source": [
    "plt.plot(train_accuracy_history, label = 'train_score')\n",
    "plt.plot(test_accuracy_history, label = 'test_score')\n",
    "plt.legend()"
   ]
  },
  {
   "cell_type": "code",
   "execution_count": null,
   "metadata": {},
   "outputs": [],
   "source": []
  }
 ],
 "metadata": {
  "accelerator": "GPU",
  "colab": {
   "name": "MLP.ipynb",
   "provenance": []
  },
  "kernelspec": {
   "display_name": "Python 3",
   "language": "python",
   "name": "python3"
  },
  "language_info": {
   "codemirror_mode": {
    "name": "ipython",
    "version": 3
   },
   "file_extension": ".py",
   "mimetype": "text/x-python",
   "name": "python",
   "nbconvert_exporter": "python",
   "pygments_lexer": "ipython3",
   "version": "3.8.8"
  }
 },
 "nbformat": 4,
 "nbformat_minor": 1
}
